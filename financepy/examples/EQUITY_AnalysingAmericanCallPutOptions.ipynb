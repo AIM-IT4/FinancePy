{
 "cells": [
  {
   "cell_type": "markdown",
   "metadata": {},
   "source": [
    "# ANALYSIS OF AMERICAN-STYLE CALL AND PUT OPTIONS"
   ]
  },
  {
   "cell_type": "markdown",
   "metadata": {},
   "source": [
    "In this notebook I show how you can analyse Vanilla European Call and Put Equity options"
   ]
  },
  {
   "cell_type": "code",
   "execution_count": 1,
   "metadata": {},
   "outputs": [],
   "source": [
    "import sys\n",
    "sys.path.append(\"..\")\n",
    "sys.path.append(\"..\\\\..\")"
   ]
  },
  {
   "cell_type": "code",
   "execution_count": 2,
   "metadata": {},
   "outputs": [],
   "source": [
    "import numpy as np\n",
    "import matplotlib.pyplot as plt"
   ]
  },
  {
   "cell_type": "code",
   "execution_count": 3,
   "metadata": {},
   "outputs": [],
   "source": [
    "from financepy.finutils.FinDate import FinDate\n",
    "from financepy.products.equities.FinOption import FinOptionTypes\n",
    "from financepy.products.equities.FinVanillaOption import FinVanillaOption\n",
    "from financepy.products.equities.FinAmericanOption import FinAmericanOption\n",
    "from financepy.products.equities.FinEquityModelTypes import FinEquityModelBlackScholes\n",
    "from financepy.market.curves.FinFlatCurve import FinFlatCurve"
   ]
  },
  {
   "cell_type": "markdown",
   "metadata": {},
   "source": [
    "## Creating the Option"
   ]
  },
  {
   "cell_type": "markdown",
   "metadata": {},
   "source": [
    "We need to set up the option details - what you would find in the Term Sheet."
   ]
  },
  {
   "cell_type": "code",
   "execution_count": 4,
   "metadata": {},
   "outputs": [],
   "source": [
    "expiryDate = FinDate(1, 7, 2015)\n",
    "strikePrice = 100.0"
   ]
  },
  {
   "cell_type": "markdown",
   "metadata": {},
   "source": [
    "We now create the European and an American option with the SAME payoff. This is just an initial test that they are the same."
   ]
  },
  {
   "cell_type": "code",
   "execution_count": 5,
   "metadata": {},
   "outputs": [],
   "source": [
    "europeanOption = FinVanillaOption(expiryDate, strikePrice, FinOptionTypes.EUROPEAN_PUT)"
   ]
  },
  {
   "cell_type": "code",
   "execution_count": 6,
   "metadata": {},
   "outputs": [],
   "source": [
    "americanOption = FinAmericanOption(expiryDate, strikePrice, FinOptionTypes.AMERICAN_PUT) "
   ]
  },
  {
   "cell_type": "markdown",
   "metadata": {},
   "source": [
    "## Valuation"
   ]
  },
  {
   "cell_type": "markdown",
   "metadata": {},
   "source": [
    "To do a valuation we need to specify the date and set the market inputs"
   ]
  },
  {
   "cell_type": "code",
   "execution_count": 7,
   "metadata": {},
   "outputs": [],
   "source": [
    "valueDate = FinDate(1, 1, 2015)\n",
    "stockPrice = 100\n",
    "dividendYield = 0.01\n",
    "interestRate = 0.05\n",
    "discountCurve = FinFlatCurve(valueDate, interestRate, 1)"
   ]
  },
  {
   "cell_type": "markdown",
   "metadata": {},
   "source": [
    "The valuation model we use is Black-Scholes which is passed in as a Black-Scholes model object. It is created as follows."
   ]
  },
  {
   "cell_type": "code",
   "execution_count": 8,
   "metadata": {},
   "outputs": [],
   "source": [
    "volatility = 0.30\n",
    "model = FinEquityModelBlackScholes(volatility)"
   ]
  },
  {
   "cell_type": "markdown",
   "metadata": {},
   "source": [
    "The valuation is as follows"
   ]
  },
  {
   "cell_type": "code",
   "execution_count": 16,
   "metadata": {},
   "outputs": [
    {
     "name": "stdout",
     "output_type": "stream",
     "text": [
      "European Option Value:   7.37525897\n",
      "American Option Value:   7.55365011\n"
     ]
    }
   ],
   "source": [
    "europeanValue = europeanOption.value(valueDate, stockPrice, discountCurve, dividendYield, model)\n",
    "print(\"European Option Value: %12.8f\" %europeanValue)\n",
    "americanValue = americanOption.value(valueDate, stockPrice, discountCurve, dividendYield, model, 500)\n",
    "print(\"American Option Value: %12.8f\" %americanValue['value'])"
   ]
  },
  {
   "cell_type": "markdown",
   "metadata": {},
   "source": [
    "The American option is slightly more expensive."
   ]
  },
  {
   "cell_type": "markdown",
   "metadata": {},
   "source": [
    "Note that the American Call Option returns a dictionary of values"
   ]
  },
  {
   "cell_type": "code",
   "execution_count": 17,
   "metadata": {},
   "outputs": [
    {
     "data": {
      "text/plain": [
       "{'value': 7.553650113049471,\n",
       " 'delta': -0.4344232970341507,\n",
       " 'gamma': 0.019558069086755267,\n",
       " 'theta': -6.747272611273832}"
      ]
     },
     "execution_count": 17,
     "metadata": {},
     "output_type": "execute_result"
    }
   ],
   "source": [
    "americanValue"
   ]
  },
  {
   "cell_type": "markdown",
   "metadata": {},
   "source": [
    "We can also compute these directly"
   ]
  },
  {
   "cell_type": "code",
   "execution_count": 18,
   "metadata": {},
   "outputs": [
    {
     "data": {
      "text/plain": [
       "-0.43294553371708844"
      ]
     },
     "execution_count": 18,
     "metadata": {},
     "output_type": "execute_result"
    }
   ],
   "source": [
    "americanOption.delta(valueDate, stockPrice, discountCurve, dividendYield, model)"
   ]
  },
  {
   "cell_type": "code",
   "execution_count": 19,
   "metadata": {},
   "outputs": [
    {
     "data": {
      "text/plain": [
       "0.017700538919029896"
      ]
     },
     "execution_count": 19,
     "metadata": {},
     "output_type": "execute_result"
    }
   ],
   "source": [
    "americanOption.gamma(valueDate, stockPrice, discountCurve, dividendYield, model)"
   ]
  },
  {
   "cell_type": "code",
   "execution_count": 20,
   "metadata": {},
   "outputs": [
    {
     "data": {
      "text/plain": [
       "-8.645971469928323"
      ]
     },
     "execution_count": 20,
     "metadata": {},
     "output_type": "execute_result"
    }
   ],
   "source": [
    "americanOption.theta(valueDate, stockPrice, discountCurve, dividendYield, model)"
   ]
  },
  {
   "cell_type": "code",
   "execution_count": 21,
   "metadata": {},
   "outputs": [
    {
     "data": {
      "text/plain": [
       "27.413653926622317"
      ]
     },
     "execution_count": 21,
     "metadata": {},
     "output_type": "execute_result"
    }
   ],
   "source": [
    "americanOption.vega(valueDate, stockPrice, discountCurve, dividendYield, model)"
   ]
  },
  {
   "cell_type": "code",
   "execution_count": 22,
   "metadata": {},
   "outputs": [
    {
     "data": {
      "text/plain": [
       "-18.27207117093721"
      ]
     },
     "execution_count": 22,
     "metadata": {},
     "output_type": "execute_result"
    }
   ],
   "source": [
    "americanOption.rho(valueDate, stockPrice, discountCurve, dividendYield, model)"
   ]
  },
  {
   "cell_type": "markdown",
   "metadata": {},
   "source": [
    "Now let's see the value (if any) of the American exercise"
   ]
  },
  {
   "cell_type": "markdown",
   "metadata": {},
   "source": [
    "### Spot Price Dependency"
   ]
  },
  {
   "cell_type": "markdown",
   "metadata": {},
   "source": [
    "We can examine how the option value depends on the spot price"
   ]
  },
  {
   "cell_type": "code",
   "execution_count": 16,
   "metadata": {},
   "outputs": [],
   "source": [
    "stockPrices = np.linspace(60,140,100)\n",
    "euroValues = []\n",
    "amerValues = []\n",
    "\n",
    "for stockPrice in stockPrices:\n",
    "    europeanValue = europeanOption.value(valueDate, stockPrice, discountCurve, dividendYield, model)\n",
    "    americanValue = americanOption.value(valueDate, stockPrice, discountCurve, dividendYield, model)\n",
    "    euroValues.append(europeanValue)\n",
    "    amerValues.append(americanValue['value'])"
   ]
  },
  {
   "cell_type": "code",
   "execution_count": 17,
   "metadata": {},
   "outputs": [
    {
     "data": {
      "image/png": "[encoded data removed]",
      "text/plain": [
       "<Figure size 720x432 with 1 Axes>"
      ]
     },
     "metadata": {
      "needs_background": "light"
     },
     "output_type": "display_data"
    }
   ],
   "source": [
    "plt.figure(figsize=(10,6))\n",
    "plt.plot(stockPrices,euroValues, label=\"European Put Option Prices\")\n",
    "plt.plot(stockPrices,amerValues, label=\"American Put Option Prices\")\n",
    "plt.xlabel(\"Stock Prices\")\n",
    "plt.ylabel(\"Value\")\n",
    "plt.legend()\n",
    "plt.grid()"
   ]
  },
  {
   "cell_type": "markdown",
   "metadata": {},
   "source": [
    "### Volatility Dependency"
   ]
  },
  {
   "cell_type": "markdown",
   "metadata": {},
   "source": [
    "## Convergence Testing"
   ]
  },
  {
   "cell_type": "markdown",
   "metadata": {},
   "source": [
    "I will compare pricing a European call option using Black-Scholes to pricing the same option on the Binomial Tree since one is exact."
   ]
  },
  {
   "cell_type": "code",
   "execution_count": 44,
   "metadata": {},
   "outputs": [],
   "source": [
    "expiryDate = FinDate(1, 7, 2015)\n",
    "payoffType = FinOptionTypes.EUROPEAN_CALL\n",
    "strikePrice = 100.0"
   ]
  },
  {
   "cell_type": "code",
   "execution_count": 45,
   "metadata": {},
   "outputs": [],
   "source": [
    "europeanCallOptionAnalytical = FinVanillaOption(expiryDate, strikePrice, payoffType)\n",
    "europeanCallOptionTree = FinAmericanOption(expiryDate, strikePrice, payoffType)"
   ]
  },
  {
   "cell_type": "markdown",
   "metadata": {},
   "source": [
    "Market Inputs"
   ]
  },
  {
   "cell_type": "code",
   "execution_count": 46,
   "metadata": {},
   "outputs": [],
   "source": [
    "valueDate = FinDate(1, 1, 2015)\n",
    "stockPrice = 100.0\n",
    "dividendYield = 0.0\n",
    "interestRate = 0.05\n",
    "discountCurve = FinFlatCurve(valueDate, interestRate, 1)\n",
    "volatility = 0.30\n",
    "model = FinEquityModelBlackScholes(volatility)"
   ]
  },
  {
   "cell_type": "markdown",
   "metadata": {},
   "source": [
    "Want to see how the price difference depends on the number of steps on the tree."
   ]
  },
  {
   "cell_type": "code",
   "execution_count": 47,
   "metadata": {},
   "outputs": [],
   "source": [
    "numStepsList = [100, 200, 300, 400, 500, 600, 700, 800, 900, 1000, 1500, 2000]"
   ]
  },
  {
   "cell_type": "code",
   "execution_count": 48,
   "metadata": {},
   "outputs": [],
   "source": [
    "treeValues = []\n",
    "analyticalValues = []\n",
    "diffs = []\n",
    "for numSteps in numStepsList:\n",
    "        value1 = europeanCallOptionAnalytical.value(valueDate, stockPrice, discountCurve, dividendYield, model)\n",
    "        value2 = europeanCallOptionTree.value(valueDate, stockPrice, discountCurve, dividendYield, model, numSteps)\n",
    "        analyticalValues.append(value1)\n",
    "        treeValues.append(value2['value'])\n",
    "        diffs.append(value1 - value2['value'])"
   ]
  },
  {
   "cell_type": "code",
   "execution_count": 49,
   "metadata": {},
   "outputs": [
    {
     "data": {
      "image/png": "[encoded data removed]",
      "text/plain": [
       "<Figure size 720x432 with 1 Axes>"
      ]
     },
     "metadata": {
      "needs_background": "light"
     },
     "output_type": "display_data"
    }
   ],
   "source": [
    "plt.figure(figsize=(10,6))\n",
    "#plt.plot(numStepsList, treeValues, label='Binomial Tree')\n",
    "#plt.plot(numStepsList, analyticalValues, label='Analytical')\n",
    "plt.plot(numStepsList, diffs, label='Diff', marker='o')\n",
    "plt.xlabel(\"NumStepsPerYear\")\n",
    "plt.ylabel(\"Difference\")\n",
    "plt.legend()\n",
    "plt.grid()"
   ]
  },
  {
   "cell_type": "markdown",
   "metadata": {},
   "source": [
    "The convergence is very good. With 100 time steps the error is in the 4th decimal place. "
   ]
  },
  {
   "cell_type": "markdown",
   "metadata": {},
   "source": [
    "Copyright (c) 2019, Dominic O'Kane "
   ]
  }
 ],
 "metadata": {
  "kernelspec": {
   "display_name": "Python 3",
   "language": "python",
   "name": "python3"
  },
  "language_info": {
   "codemirror_mode": {
    "name": "ipython",
    "version": 3
   },
   "file_extension": ".py",
   "mimetype": "text/x-python",
   "name": "python",
   "nbconvert_exporter": "python",
   "pygments_lexer": "ipython3",
   "version": "3.7.4"
  }
 },
 "nbformat": 4,
 "nbformat_minor": 2
}
