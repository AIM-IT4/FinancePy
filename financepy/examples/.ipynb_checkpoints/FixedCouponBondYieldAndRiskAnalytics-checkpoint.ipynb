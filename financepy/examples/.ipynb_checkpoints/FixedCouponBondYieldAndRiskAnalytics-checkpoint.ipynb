{
 "cells": [
  {
   "cell_type": "markdown",
   "metadata": {},
   "source": [
    "# FIXED COUPON BOND YIELD AND RISK ANALYTICS\n",
    "BLOOMBERG US TREASURY EXAMPLE"
   ]
  },
  {
   "cell_type": "code",
   "execution_count": 1,
   "metadata": {},
   "outputs": [],
   "source": [
    "import sys\n",
    "sys.path.append(\"..\")\n",
    "sys.path.append(\"..\\\\..\")"
   ]
  },
  {
   "cell_type": "code",
   "execution_count": 2,
   "metadata": {},
   "outputs": [],
   "source": [
    "from financepy.finutils.FinError import FinError\n",
    "from financepy.finutils.FinFrequency import FinFrequencyTypes\n",
    "from financepy.finutils.FinDayCount import FinDayCountTypes\n",
    "from financepy.finutils.FinDate import FinDate\n",
    "from financepy.products.bonds.FinBond import FinBond, FinYieldConventions"
   ]
  },
  {
   "cell_type": "code",
   "execution_count": 3,
   "metadata": {},
   "outputs": [],
   "source": [
    "maturityDate = FinDate(2027, 5, 15)\n",
    "coupon = 0.02375\n",
    "freqType = FinFrequencyTypes.SEMI_ANNUAL\n",
    "accrualType = FinDayCountTypes.ACT_ACT_ICMA\n",
    "face = 100.0 # By setting the face to 100 we expect a price of par to be 100.0"
   ]
  },
  {
   "cell_type": "code",
   "execution_count": 4,
   "metadata": {},
   "outputs": [],
   "source": [
    "bond = FinBond(maturityDate, coupon, freqType, accrualType, face)"
   ]
  },
  {
   "cell_type": "code",
   "execution_count": 5,
   "metadata": {},
   "outputs": [],
   "source": [
    "cleanPrice = 99.780842  # if face is 1 then this must be 0.99780842"
   ]
  },
  {
   "cell_type": "markdown",
   "metadata": {},
   "source": [
    "You can get information about the bond using the print method."
   ]
  },
  {
   "cell_type": "code",
   "execution_count": 6,
   "metadata": {},
   "outputs": [
    {
     "name": "stdout",
     "output_type": "stream",
     "text": [
      "Maturity Date: SAT 15 MAY 2027\n",
      "Coupon: 0.02375\n",
      "Frequency: FinFrequencyTypes.SEMI_ANNUAL\n",
      "Accrual Type: FinDayCountTypes.ACT_ACT_ICMA\n",
      "Face: 100.0\n"
     ]
    }
   ],
   "source": [
    "bond.print()"
   ]
  },
  {
   "cell_type": "markdown",
   "metadata": {},
   "source": [
    "## Bond Cash Flows"
   ]
  },
  {
   "cell_type": "markdown",
   "metadata": {},
   "source": [
    "We first need to set the settlement date of the bond. "
   ]
  },
  {
   "cell_type": "code",
   "execution_count": 7,
   "metadata": {},
   "outputs": [],
   "source": [
    "settlementDate = FinDate(2017, 7, 21)"
   ]
  },
  {
   "cell_type": "code",
   "execution_count": 8,
   "metadata": {},
   "outputs": [
    {
     "name": "stdout",
     "output_type": "stream",
     "text": [
      "WED 15 NOV 2017 , 1.1875\n",
      "TUE 15 MAY 2018 , 1.1875\n",
      "THU 15 NOV 2018 , 1.1875\n",
      "WED 15 MAY 2019 , 1.1875\n",
      "FRI 15 NOV 2019 , 1.1875\n",
      "FRI 15 MAY 2020 , 1.1875\n",
      "SUN 15 NOV 2020 , 1.1875\n",
      "SAT 15 MAY 2021 , 1.1875\n",
      "MON 15 NOV 2021 , 1.1875\n",
      "SUN 15 MAY 2022 , 1.1875\n",
      "TUE 15 NOV 2022 , 1.1875\n",
      "MON 15 MAY 2023 , 1.1875\n",
      "WED 15 NOV 2023 , 1.1875\n",
      "WED 15 MAY 2024 , 1.1875\n",
      "FRI 15 NOV 2024 , 1.1875\n",
      "THU 15 MAY 2025 , 1.1875\n",
      "SAT 15 NOV 2025 , 1.1875\n",
      "FRI 15 MAY 2026 , 1.1875\n",
      "SUN 15 NOV 2026 , 1.1875\n",
      "SAT 15 MAY 2027 , 101.1875\n"
     ]
    }
   ],
   "source": [
    "bond.printFlows(settlementDate)"
   ]
  },
  {
   "cell_type": "markdown",
   "metadata": {},
   "source": [
    "The convention is to use these dates for yield calculations even if some fall on weekends."
   ]
  },
  {
   "cell_type": "markdown",
   "metadata": {},
   "source": [
    "## Bond Yield Measures"
   ]
  },
  {
   "cell_type": "markdown",
   "metadata": {},
   "source": [
    "Current yield is the coupon over the price"
   ]
  },
  {
   "cell_type": "code",
   "execution_count": 9,
   "metadata": {},
   "outputs": [
    {
     "data": {
      "text/plain": [
       "2.380216434734034"
      ]
     },
     "execution_count": 9,
     "metadata": {},
     "output_type": "execute_result"
    }
   ],
   "source": [
    "bond.currentYield(cleanPrice)*100"
   ]
  },
  {
   "cell_type": "markdown",
   "metadata": {},
   "source": [
    "Yield to maturity using UK convention"
   ]
  },
  {
   "cell_type": "code",
   "execution_count": 10,
   "metadata": {},
   "outputs": [
    {
     "data": {
      "text/plain": [
       "0.02399999968488985"
      ]
     },
     "execution_count": 10,
     "metadata": {},
     "output_type": "execute_result"
    }
   ],
   "source": [
    "bond.yieldToMaturity(settlementDate, cleanPrice, FinYieldConventions.UK_DMO)"
   ]
  },
  {
   "cell_type": "markdown",
   "metadata": {},
   "source": [
    "Yield to maturity using US Street convention"
   ]
  },
  {
   "cell_type": "code",
   "execution_count": 11,
   "metadata": {},
   "outputs": [
    {
     "data": {
      "text/plain": [
       "0.02399999968488985"
      ]
     },
     "execution_count": 11,
     "metadata": {},
     "output_type": "execute_result"
    }
   ],
   "source": [
    "bond.yieldToMaturity(settlementDate, cleanPrice, FinYieldConventions.US_STREET)"
   ]
  },
  {
   "cell_type": "markdown",
   "metadata": {},
   "source": [
    "Yield to maturity using US Treasury convention"
   ]
  },
  {
   "cell_type": "code",
   "execution_count": 12,
   "metadata": {},
   "outputs": [
    {
     "data": {
      "text/plain": [
       "0.02399810254873616"
      ]
     },
     "execution_count": 12,
     "metadata": {},
     "output_type": "execute_result"
    }
   ],
   "source": [
    "bond.yieldToMaturity(settlementDate, cleanPrice, FinYieldConventions.US_TREASURY)"
   ]
  },
  {
   "cell_type": "markdown",
   "metadata": {},
   "source": [
    "## Accrued Interest"
   ]
  },
  {
   "cell_type": "markdown",
   "metadata": {},
   "source": [
    "For consistency let's fix the yield calculation convention to be US Treasury"
   ]
  },
  {
   "cell_type": "code",
   "execution_count": 13,
   "metadata": {},
   "outputs": [],
   "source": [
    "yieldConvention = FinYieldConventions.US_TREASURY"
   ]
  },
  {
   "cell_type": "code",
   "execution_count": 20,
   "metadata": {},
   "outputs": [],
   "source": [
    "ytm = bond.yieldToMaturity(settlementDate, cleanPrice, yieldConvention)"
   ]
  },
  {
   "cell_type": "markdown",
   "metadata": {},
   "source": [
    "Full price is the clean price plus accrued interest"
   ]
  },
  {
   "cell_type": "code",
   "execution_count": 21,
   "metadata": {},
   "outputs": [
    {
     "name": "stdout",
     "output_type": "stream",
     "text": [
      "Full Price =  100.21324689131528\n"
     ]
    }
   ],
   "source": [
    "print(\"Full Price = \", bond.fullPriceFromYield(settlementDate, ytm, yieldConvention))"
   ]
  },
  {
   "cell_type": "code",
   "execution_count": 22,
   "metadata": {},
   "outputs": [
    {
     "name": "stdout",
     "output_type": "stream",
     "text": [
      "Clean Price =  99.78084200001094\n"
     ]
    }
   ],
   "source": [
    "print(\"Clean Price = \", bond.cleanPriceFromYield(settlementDate, ytm, yieldConvention))"
   ]
  },
  {
   "cell_type": "markdown",
   "metadata": {},
   "source": [
    "Accrued interest is accrued from previous coupon date to settlement date"
   ]
  },
  {
   "cell_type": "code",
   "execution_count": 23,
   "metadata": {},
   "outputs": [
    {
     "name": "stdout",
     "output_type": "stream",
     "text": [
      "Previous coupon date is  MON 15 MAY 2017\n"
     ]
    }
   ],
   "source": [
    "print(\"Previous coupon date is \", bond._pcd)"
   ]
  },
  {
   "cell_type": "code",
   "execution_count": 24,
   "metadata": {},
   "outputs": [
    {
     "name": "stdout",
     "output_type": "stream",
     "text": [
      "Settlement date is  FRI 21 JUL 2017\n"
     ]
    }
   ],
   "source": [
    "print(\"Settlement date is \", settlementDate)"
   ]
  },
  {
   "cell_type": "markdown",
   "metadata": {},
   "source": [
    "The amount of accrued interest is "
   ]
  },
  {
   "cell_type": "code",
   "execution_count": 25,
   "metadata": {},
   "outputs": [
    {
     "name": "stdout",
     "output_type": "stream",
     "text": [
      "Accrued =  0.4324048913043478\n"
     ]
    }
   ],
   "source": [
    "print(\"Accrued = \", bond._accrued)"
   ]
  },
  {
   "cell_type": "markdown",
   "metadata": {},
   "source": [
    "This is based on the following number of days of accrual"
   ]
  },
  {
   "cell_type": "code",
   "execution_count": 26,
   "metadata": {},
   "outputs": [
    {
     "name": "stdout",
     "output_type": "stream",
     "text": [
      "Accrued Days =  67\n"
     ]
    }
   ],
   "source": [
    "print(\"Accrued Days = \", bond._accruedDays)"
   ]
  },
  {
   "cell_type": "markdown",
   "metadata": {},
   "source": [
    "## Bond Risk Measures"
   ]
  },
  {
   "cell_type": "markdown",
   "metadata": {},
   "source": [
    "The bond dollar duration is the actual derivative with respect to the yield. It is the bond price change for a 1bp drop in the yield-to-maturity divided by 1bp."
   ]
  },
  {
   "cell_type": "code",
   "execution_count": 27,
   "metadata": {},
   "outputs": [
    {
     "name": "stdout",
     "output_type": "stream",
     "text": [
      "Dollar Duration =  869.2156078895863\n"
     ]
    }
   ],
   "source": [
    "duration = bond.dollarDuration(settlementDate, ytm, yieldConvention)\n",
    "print(\"Dollar Duration = \", duration)"
   ]
  },
  {
   "cell_type": "markdown",
   "metadata": {},
   "source": [
    "Modified Duration divides the dollar duration by the full price of the bond"
   ]
  },
  {
   "cell_type": "code",
   "execution_count": 28,
   "metadata": {},
   "outputs": [
    {
     "name": "stdout",
     "output_type": "stream",
     "text": [
      "Modified Duration =  8.673659769075046\n"
     ]
    }
   ],
   "source": [
    "modifiedDuration = bond.modifiedDuration(settlementDate, ytm, yieldConvention)\n",
    "print(\"Modified Duration = \", modifiedDuration)"
   ]
  },
  {
   "cell_type": "markdown",
   "metadata": {},
   "source": [
    "Macauley Duration multiplies the dollar duration by (1+y/f) and divides by the full price"
   ]
  },
  {
   "cell_type": "code",
   "execution_count": 29,
   "metadata": {},
   "outputs": [
    {
     "name": "stdout",
     "output_type": "stream",
     "text": [
      "Macauley Duration =  8.777735457380603\n"
     ]
    }
   ],
   "source": [
    "macauleyDuration = bond.macauleyDuration(settlementDate, ytm, yieldConvention)\n",
    "print(\"Macauley Duration = \", macauleyDuration)"
   ]
  },
  {
   "cell_type": "markdown",
   "metadata": {},
   "source": [
    "Convexity is the second derivative of the bond price with respect to the yield-to-maturity"
   ]
  },
  {
   "cell_type": "code",
   "execution_count": 30,
   "metadata": {},
   "outputs": [
    {
     "name": "stdout",
     "output_type": "stream",
     "text": [
      "Convexity =  0.8513814656357104\n"
     ]
    }
   ],
   "source": [
    "conv = bond.convexityFromYield(settlementDate, ytm, yieldConvention)\n",
    "print(\"Convexity = \", conv)"
   ]
  },
  {
   "cell_type": "markdown",
   "metadata": {},
   "source": [
    "# Vectorisation of Functions"
   ]
  },
  {
   "cell_type": "code",
   "execution_count": 31,
   "metadata": {},
   "outputs": [],
   "source": [
    "import numpy as np"
   ]
  },
  {
   "cell_type": "code",
   "execution_count": 32,
   "metadata": {},
   "outputs": [],
   "source": [
    "ylds = np.linspace(-0.02,0.10,20)"
   ]
  },
  {
   "cell_type": "code",
   "execution_count": 33,
   "metadata": {},
   "outputs": [
    {
     "data": {
      "text/plain": [
       "array([148.15603478, 139.91300734, 132.17746129, 124.91627687,\n",
       "       118.09860164, 111.69568844, 105.68074544, 100.02879722,\n",
       "        94.71655625,  89.72230372,  85.02577918,  80.60807828,\n",
       "        76.45155795,  72.53974844,  68.85727186,  65.38976648,\n",
       "        62.12381659,  59.04688736,  56.14726436,  53.41399745])"
      ]
     },
     "execution_count": 33,
     "metadata": {},
     "output_type": "execute_result"
    }
   ],
   "source": [
    "bond.fullPriceFromYield(settlementDate, ylds, yieldConvention)"
   ]
  },
  {
   "cell_type": "code",
   "execution_count": 34,
   "metadata": {},
   "outputs": [
    {
     "data": {
      "text/plain": [
       "array([1347.16507095, 1264.06536911, 1186.39818492, 1113.7910246 ,\n",
       "       1045.89805504,  982.39811798,  922.99289776,  867.40523035,\n",
       "        815.37754233,  766.67040958,  721.061226  ,  678.34297369,\n",
       "        638.32308655,  600.82239987,  565.67417923,  532.72322253,\n",
       "        501.82502936,  472.84503251,  445.65788684,  420.14681102])"
      ]
     },
     "execution_count": 34,
     "metadata": {},
     "output_type": "execute_result"
    }
   ],
   "source": [
    "bond.dollarDuration(settlementDate, ylds, yieldConvention)"
   ]
  },
  {
   "cell_type": "code",
   "execution_count": 35,
   "metadata": {},
   "outputs": [
    {
     "data": {
      "text/plain": [
       "array([9.09288017, 9.03465227, 8.97579794, 8.9163002 , 8.85614258,\n",
       "       8.79530922, 8.73378489, 8.67155514, 8.60860629, 8.5449256 ,\n",
       "       8.48050124, 8.41532249, 8.34937971, 8.28266451, 8.21516978,\n",
       "       8.14688981, 8.07782034, 8.00795865, 7.93730366, 7.86585598])"
      ]
     },
     "execution_count": 35,
     "metadata": {},
     "output_type": "execute_result"
    }
   ],
   "source": [
    "bond.modifiedDuration(settlementDate, ylds, yieldConvention)"
   ]
  },
  {
   "cell_type": "code",
   "execution_count": 36,
   "metadata": {},
   "outputs": [
    {
     "data": {
      "text/plain": [
       "array([9.00195137, 8.97283623, 8.94272921, 8.91160741, 8.87944822,\n",
       "       8.84622943, 8.81192928, 8.77652659, 8.74000081, 8.70233212,\n",
       "       8.66350153, 8.62349099, 8.58228346, 8.53986304, 8.49621507,\n",
       "       8.45132622, 8.40518464, 8.35778   , 8.30910367, 8.25914877])"
      ]
     },
     "execution_count": 36,
     "metadata": {},
     "output_type": "execute_result"
    }
   ],
   "source": [
    "bond.macauleyDuration(settlementDate, ylds, yieldConvention)"
   ]
  },
  {
   "cell_type": "code",
   "execution_count": 37,
   "metadata": {},
   "outputs": [
    {
     "data": {
      "text/plain": [
       "array([0.91851187, 0.90893473, 0.89934022, 0.88972675, 0.88009282,\n",
       "       0.870437  , 0.86075804, 0.8510547 , 0.84132595, 0.83157086,\n",
       "       0.82178858, 0.81197849, 0.80214008, 0.79227295, 0.78237694,\n",
       "       0.77245201, 0.7624983 , 0.75251616, 0.74250607, 0.73246876])"
      ]
     },
     "execution_count": 37,
     "metadata": {},
     "output_type": "execute_result"
    }
   ],
   "source": [
    "bond.convexityFromYield(settlementDate, ylds, yieldConvention)"
   ]
  },
  {
   "cell_type": "code",
   "execution_count": 38,
   "metadata": {},
   "outputs": [],
   "source": [
    "cleanPrices = np.linspace(90.0,110,10)"
   ]
  },
  {
   "cell_type": "code",
   "execution_count": 39,
   "metadata": {},
   "outputs": [
    {
     "data": {
      "text/plain": [
       "array([0.03592432, 0.0330905 , 0.03033296, 0.02764783, 0.02503153,\n",
       "       0.02248073, 0.01999233, 0.01756345, 0.0151914 , 0.01287366])"
      ]
     },
     "execution_count": 39,
     "metadata": {},
     "output_type": "execute_result"
    }
   ],
   "source": [
    "bond.yieldToMaturity(settlementDate, cleanPrices, FinYieldConventions.UK_DMO)"
   ]
  }
 ],
 "metadata": {
  "kernelspec": {
   "display_name": "Python 3",
   "language": "python",
   "name": "python3"
  },
  "language_info": {
   "codemirror_mode": {
    "name": "ipython",
    "version": 3
   },
   "file_extension": ".py",
   "mimetype": "text/x-python",
   "name": "python",
   "nbconvert_exporter": "python",
   "pygments_lexer": "ipython3",
   "version": "3.7.4"
  }
 },
 "nbformat": 4,
 "nbformat_minor": 2
}
