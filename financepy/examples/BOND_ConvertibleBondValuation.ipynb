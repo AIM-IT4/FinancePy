{
 "cells": [
  {
   "cell_type": "markdown",
   "metadata": {},
   "source": [
    "# Convertible Bond Valuation"
   ]
  },
  {
   "cell_type": "code",
   "execution_count": 1,
   "metadata": {},
   "outputs": [],
   "source": [
    "import sys\n",
    "sys.path.append(\"..\")\n",
    "sys.path.append(\"..\\\\..\")"
   ]
  },
  {
   "cell_type": "code",
   "execution_count": 2,
   "metadata": {},
   "outputs": [],
   "source": [
    "from importlib import reload"
   ]
  },
  {
   "cell_type": "code",
   "execution_count": 3,
   "metadata": {},
   "outputs": [],
   "source": [
    "import numpy as np\n",
    "import matplotlib.pyplot as plt"
   ]
  },
  {
   "cell_type": "code",
   "execution_count": 4,
   "metadata": {},
   "outputs": [],
   "source": [
    "from financepy.products.bonds.FinConvertibleBond import FinConvertibleBond\n",
    "from financepy.finutils.FinDate import FinDate\n",
    "from financepy.finutils.FinFrequency import FinFrequencyTypes\n",
    "from financepy.finutils.FinCalendar import FinCalendarTypes\n",
    "from financepy.finutils.FinDayCount import FinDayCountTypes\n",
    "from financepy.finutils.FinCalendar import FinDayAdjustTypes, FinDateGenRuleTypes\n",
    "from financepy.market.curves.FinFlatCurve import FinFlatCurve\n",
    "from financepy.finutils.FinSchedule import FinSchedule"
   ]
  },
  {
   "cell_type": "markdown",
   "metadata": {},
   "source": [
    "## Creating the Convertible Bond"
   ]
  },
  {
   "cell_type": "code",
   "execution_count": 5,
   "metadata": {},
   "outputs": [],
   "source": [
    "startConvertDate = FinDate(20, 12, 2019)\n",
    "maturityDate = FinDate(20, 3, 2023)\n",
    "face = 100.0 \n",
    "conversionRatio = 5.0  # Number of shares for face amount\n",
    "coupon = 0.0575\n",
    "frequencyType = FinFrequencyTypes.SEMI_ANNUAL\n",
    "accrualBasis = FinDayCountTypes.ACT_365_FIXED"
   ]
  },
  {
   "cell_type": "markdown",
   "metadata": {},
   "source": [
    "## Valuation"
   ]
  },
  {
   "cell_type": "markdown",
   "metadata": {},
   "source": [
    "### No Calls and Puts"
   ]
  },
  {
   "cell_type": "code",
   "execution_count": 6,
   "metadata": {},
   "outputs": [],
   "source": [
    "settlementDate = FinDate(31, 12, 2019)"
   ]
  },
  {
   "cell_type": "code",
   "execution_count": 7,
   "metadata": {},
   "outputs": [],
   "source": [
    "dividendSchedule = FinSchedule(settlementDate, maturityDate).flows()[1:]\n",
    "dividendYields = [0.01] * len(dividendSchedule)"
   ]
  },
  {
   "cell_type": "code",
   "execution_count": 30,
   "metadata": {},
   "outputs": [],
   "source": [
    "stockPrice = 20\n",
    "stockVolatility = 0.30\n",
    "rate = 0.0375\n",
    "discountCurve = FinFlatCurve(settlementDate, rate, 1)\n",
    "creditSpread = 0.02\n",
    "recoveryRate = 0.5\n",
    "numStepsPerYear = 100"
   ]
  },
  {
   "cell_type": "code",
   "execution_count": 31,
   "metadata": {},
   "outputs": [],
   "source": [
    "callPrice = 10000 # Make call uneconomic so it does not impact pricing\n",
    "callDates = [FinDate(20, 3, 2020), FinDate(20, 3, 2021), FinDate(20, 3, 2022)]\n",
    "callPrices = [callPrice, callPrice, callPrice]"
   ]
  },
  {
   "cell_type": "code",
   "execution_count": 32,
   "metadata": {},
   "outputs": [],
   "source": [
    "putPrice = 0.0 # Make call uneconomic so it does not impact pricing\n",
    "putDates = [FinDate(20, 3, 2020), FinDate(20, 3, 2021), FinDate(20, 3, 2022)]\n",
    "putPrices = [putPrice, putPrice, putPrice]"
   ]
  },
  {
   "cell_type": "code",
   "execution_count": 33,
   "metadata": {},
   "outputs": [],
   "source": [
    "bond = FinConvertibleBond(maturityDate, coupon, frequencyType, startConvertDate, conversionRatio,\n",
    "                          callDates, callPrices, putDates, putPrices, accrualBasis, face)"
   ]
  },
  {
   "cell_type": "markdown",
   "metadata": {},
   "source": [
    "Peform the valuation"
   ]
  },
  {
   "cell_type": "code",
   "execution_count": 34,
   "metadata": {},
   "outputs": [
    {
     "data": {
      "text/plain": [
       "{'cbprice': 125.40612491584183,\n",
       " 'bond': 101.49138121192846,\n",
       " 'delta': 3.6311762193117416,\n",
       " 'gamma': 2.736764837048754,\n",
       " 'theta': 170.17965629393188}"
      ]
     },
     "execution_count": 34,
     "metadata": {},
     "output_type": "execute_result"
    }
   ],
   "source": [
    "bond.value(settlementDate, stockPrice, stockVolatility, dividendSchedule, dividendYields,\n",
    "           discountCurve, creditSpread, recoveryRate, numStepsPerYear)"
   ]
  },
  {
   "cell_type": "markdown",
   "metadata": {},
   "source": [
    "'cbrice' is the bond price. 'bond' is the price of the bond alone without any conversion option"
   ]
  },
  {
   "cell_type": "markdown",
   "metadata": {},
   "source": [
    "## Impact of Calls"
   ]
  },
  {
   "cell_type": "code",
   "execution_count": 42,
   "metadata": {},
   "outputs": [],
   "source": [
    "callPrice = 110.0\n",
    "callPrices = [callPrice, callPrice, callPrice]"
   ]
  },
  {
   "cell_type": "markdown",
   "metadata": {},
   "source": [
    "Need to recreate the convertible bond."
   ]
  },
  {
   "cell_type": "code",
   "execution_count": 43,
   "metadata": {},
   "outputs": [],
   "source": [
    "bond = FinConvertibleBond(maturityDate, coupon, frequencyType, startConvertDate, conversionRatio,\n",
    "                          callDates, callPrices, putDates, putPrices, accrualBasis, face)"
   ]
  },
  {
   "cell_type": "code",
   "execution_count": 44,
   "metadata": {},
   "outputs": [
    {
     "data": {
      "text/plain": [
       "{'cbprice': 109.92013214243772,\n",
       " 'bond': 101.49138121192846,\n",
       " 'delta': 1.2259713224677258,\n",
       " 'gamma': 4.247967725642335,\n",
       " 'theta': 67.3924135278653}"
      ]
     },
     "execution_count": 44,
     "metadata": {},
     "output_type": "execute_result"
    }
   ],
   "source": [
    "bond.value(settlementDate, stockPrice, stockVolatility, dividendSchedule, dividendYields,\n",
    "           discountCurve, creditSpread, recoveryRate, numStepsPerYear)"
   ]
  },
  {
   "cell_type": "markdown",
   "metadata": {},
   "source": [
    "## Stock Price Sensitivity"
   ]
  },
  {
   "cell_type": "markdown",
   "metadata": {},
   "source": [
    "As the stock price goes up, the conversion options becomes more valuable"
   ]
  },
  {
   "cell_type": "code",
   "execution_count": 45,
   "metadata": {},
   "outputs": [
    {
     "name": "stdout",
     "output_type": "stream",
     "text": [
      "  StockPx     CB Price   Bond Price        Delta\n",
      "     0.00     101.4914     101.4914       0.0000\n",
      "     4.00     101.4921     101.4914       0.0017\n",
      "     8.00     101.7381     101.4914       0.1978\n",
      "    12.00     103.5986     101.4914       0.7412\n",
      "    16.00     107.1775     101.4914       0.7920\n",
      "    20.00     109.9201     101.4914       1.2260\n",
      "    24.00     121.3883     101.4914       4.2749\n",
      "    28.00     140.4348     101.4914       4.9797\n",
      "    32.00     160.4156     101.4914       4.9999\n",
      "    36.00     180.4155     101.4914       5.0000\n",
      "    40.00     200.4155     101.4914       5.0000\n"
     ]
    }
   ],
   "source": [
    "stockPrices = np.linspace(0,40,11)\n",
    "print(\"%9s %12s %12s %12s\"% (\"StockPx\", \"CB Price\", \"Bond Price\", \"Delta\"))\n",
    "for stockPrice in stockPrices:\n",
    "    res = bond.value(settlementDate, stockPrice, stockVolatility, dividendSchedule, dividendYields,\n",
    "                     discountCurve, creditSpread, recoveryRate, numStepsPerYear)\n",
    "    print(\"%9.2f %12.4f %12.4f %12.4f\"% (stockPrice, res['cbprice'], res['bond'], res['delta']))"
   ]
  },
  {
   "cell_type": "markdown",
   "metadata": {},
   "source": [
    "As expected the price rises with increasing stock price as the conversion option is more valuable"
   ]
  },
  {
   "cell_type": "markdown",
   "metadata": {},
   "source": [
    "## Convergence Testing"
   ]
  },
  {
   "cell_type": "code",
   "execution_count": 46,
   "metadata": {},
   "outputs": [
    {
     "name": "stdout",
     "output_type": "stream",
     "text": [
      " Steps/Yr     CB Price   Bond Price        Delta\n",
      "     5.00     110.0000     101.4730       0.0000\n",
      "    10.00     113.2999     101.4823       2.7891\n",
      "    20.00     113.6008     101.4873       2.8905\n",
      "    30.00     113.6987     101.4890       2.9253\n",
      "    40.00     113.7638     101.4898       2.9194\n",
      "    50.00     113.7962     101.4903       2.9182\n",
      "    60.00     113.8204     101.4907       2.9147\n",
      "    70.00     113.9720     101.4909       2.9185\n",
      "    80.00     113.9715     101.4911       2.9175\n",
      "    90.00     114.0750     101.4913       2.9199\n",
      "   100.00     114.0649     101.4914       2.9185\n",
      "   200.00     114.0976     101.4919       2.9230\n",
      "   500.00     114.0999     101.4922       2.9253\n"
     ]
    }
   ],
   "source": [
    "stockPrice = 22.0\n",
    "stockVolatility = 0.30\n",
    "\n",
    "print(\"%9s %12s %12s %12s\"% (\"Steps/Yr\", \"CB Price\", \"Bond Price\", \"Delta\"))\n",
    "for numStepsPerYear in [5,10,20,30,40,50,60,70,80,90,100,200,500]:\n",
    "    res = bond.value(settlementDate, stockPrice, stockVolatility, dividendSchedule, dividendYields,\n",
    "                     discountCurve, creditSpread, recoveryRate, numStepsPerYear)\n",
    "    print(\"%9.2f %12.4f %12.4f %12.4f\"% (numStepsPerYear, res['cbprice'], res['bond'], res['delta']))"
   ]
  },
  {
   "cell_type": "code",
   "execution_count": null,
   "metadata": {},
   "outputs": [],
   "source": []
  }
 ],
 "metadata": {
  "kernelspec": {
   "display_name": "Python 3",
   "language": "python",
   "name": "python3"
  },
  "language_info": {
   "codemirror_mode": {
    "name": "ipython",
    "version": 3
   },
   "file_extension": ".py",
   "mimetype": "text/x-python",
   "name": "python",
   "nbconvert_exporter": "python",
   "pygments_lexer": "ipython3",
   "version": "3.7.4"
  }
 },
 "nbformat": 4,
 "nbformat_minor": 2
}
