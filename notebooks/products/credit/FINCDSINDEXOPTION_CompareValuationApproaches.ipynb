{
 "cells": [
  {
   "cell_type": "markdown",
   "metadata": {},
   "source": [
    "# Creating and Valuing a CDS Index Option"
   ]
  },
  {
   "cell_type": "markdown",
   "metadata": {},
   "source": [
    "This notebook does the valuation of an option on a CDS index using Anderson's method and an Adjusted Black Method. For details see Modelling Singlename and Multiname Credit Derivatives by D.O'Kane."
   ]
  },
  {
   "cell_type": "code",
   "execution_count": 2,
   "metadata": {},
   "outputs": [],
   "source": [
    "import numpy as np\n",
    "import matplotlib.pyplot as plt"
   ]
  },
  {
   "cell_type": "code",
   "execution_count": 3,
   "metadata": {},
   "outputs": [
    {
     "name": "stdout",
     "output_type": "stream",
     "text": [
      "####################################################################\n",
      "# FINANCEPY BETA Version 0.185 - This build:  24 Oct 2020 at 20:12 #\n",
      "#      This software is distributed FREE & WITHOUT ANY WARRANTY    #\n",
      "# For info and disclaimer - https://github.com/domokane/FinancePy  #\n",
      "#      Send any bug reports or comments to quant@financepy.com     #\n",
      "####################################################################\n",
      "\n"
     ]
    }
   ],
   "source": [
    "from financepy.finutils import *\n",
    "from financepy.products.funding import *\n",
    "from financepy.products.credit import *"
   ]
  },
  {
   "cell_type": "code",
   "execution_count": 5,
   "metadata": {},
   "outputs": [],
   "source": [
    "valuationDate = FinDate(1, 8, 2007)\n",
    "stepInDate = valuationDate.addWeekDays(0)\n",
    "valuationDate = stepInDate\n",
    "settlementDate = stepInDate"
   ]
  },
  {
   "cell_type": "markdown",
   "metadata": {},
   "source": [
    "## Build Libor Curve"
   ]
  },
  {
   "cell_type": "code",
   "execution_count": 14,
   "metadata": {},
   "outputs": [],
   "source": [
    "dcType = FinDayCountTypes.THIRTY_E_360_ISDA\n",
    "depos = []\n",
    "depo = FinIborDeposit(settlementDate, \"1D\", 0.0500, dcType); depos.append(depo)\n",
    "\n",
    "fixedFreq = FinFrequencyTypes.SEMI_ANNUAL\n",
    "swapType = FinSwapTypes.PAY\n",
    "swap1 = FinIborSwap(settlementDate,\"1Y\",swapType,0.0502,fixedFreq,dcType)\n",
    "swap2 = FinIborSwap(settlementDate,\"2Y\",swapType,0.0502,fixedFreq,dcType)\n",
    "swap3 = FinIborSwap(settlementDate,\"3Y\",swapType,0.0501,fixedFreq,dcType)\n",
    "swap4 = FinIborSwap(settlementDate,\"4Y\",swapType,0.0502,fixedFreq,dcType)\n",
    "swap5 = FinIborSwap(settlementDate,\"5Y\",swapType,0.0501,fixedFreq,dcType)\n",
    "swaps = [swap1,swap2,swap3,swap4,swap5]\n",
    "\n",
    "liborCurve = FinIborSingleCurve(valuationDate, depos, [], swaps)"
   ]
  },
  {
   "cell_type": "code",
   "execution_count": 8,
   "metadata": {},
   "outputs": [],
   "source": [
    "cdsMaturity3Y = valuationDate.nextCDSDate(36)\n",
    "cdsMaturity5Y = valuationDate.nextCDSDate(60)\n",
    "cdsMaturity7Y = valuationDate.nextCDSDate(84)\n",
    "cdsMaturity10Y = valuationDate.nextCDSDate(120)"
   ]
  },
  {
   "cell_type": "markdown",
   "metadata": {},
   "source": [
    "## Load the Underlying CDS Index Portfolio"
   ]
  },
  {
   "cell_type": "code",
   "execution_count": 9,
   "metadata": {},
   "outputs": [],
   "source": [
    "f = open('.//data//CDX_NA_IG_S7_SPREADS.csv', 'r')\n",
    "data = f.readlines()\n",
    "issuerCurves = []\n",
    "\n",
    "numCredits = len(data) - 1  # The file has a header\n",
    "\n",
    "for row in data[1:]:\n",
    "    splitRow = row.split(\",\")\n",
    "    creditName = splitRow[0]\n",
    "    spd3Y = float(splitRow[1]) / 10000.0\n",
    "    spd5Y = float(splitRow[2]) / 10000.0\n",
    "    spd7Y = float(splitRow[3]) / 10000.0\n",
    "    spd10Y = float(splitRow[4]) / 10000.0\n",
    "    recoveryRate = float(splitRow[5])\n",
    "\n",
    "    cds3Y = FinCDS(stepInDate, cdsMaturity3Y, spd3Y)\n",
    "    cds5Y = FinCDS(stepInDate, cdsMaturity5Y, spd5Y)\n",
    "    cds7Y = FinCDS(stepInDate, cdsMaturity7Y, spd7Y)\n",
    "    cds10Y = FinCDS(stepInDate, cdsMaturity10Y, spd10Y)\n",
    "    cdsContracts = [cds3Y, cds5Y, cds7Y, cds10Y]\n",
    "\n",
    "    issuerCurve = FinCDSCurve(valuationDate, cdsContracts, liborCurve, recoveryRate)\n",
    "    issuerCurves.append(issuerCurve)"
   ]
  },
  {
   "cell_type": "markdown",
   "metadata": {},
   "source": [
    "## Term Structure of CDS Index Market"
   ]
  },
  {
   "cell_type": "markdown",
   "metadata": {},
   "source": [
    "We now set up the term structure of CDS Index trades and start by setting up the maturity dates of the index"
   ]
  },
  {
   "cell_type": "code",
   "execution_count": 10,
   "metadata": {},
   "outputs": [],
   "source": [
    "indexMaturity3Y = FinDate(20,12,2009)\n",
    "indexMaturity5Y = FinDate(20,12,2011)\n",
    "indexMaturity7Y = FinDate(20,12,2013)\n",
    "indexMaturity10Y = FinDate(20,12,2016)"
   ]
  },
  {
   "cell_type": "markdown",
   "metadata": {},
   "source": [
    "Now we set their upfronts and coupons"
   ]
  },
  {
   "cell_type": "code",
   "execution_count": 11,
   "metadata": {},
   "outputs": [],
   "source": [
    "indexUpfronts = [0.0, 0.0, 0.0, 0.0]\n",
    "indexMaturityDates = [indexMaturity3Y, indexMaturity5Y, indexMaturity7Y, indexMaturity10Y]\n",
    "indexRecovery = 0.40"
   ]
  },
  {
   "cell_type": "markdown",
   "metadata": {},
   "source": [
    "## Setting up the Index Option"
   ]
  },
  {
   "cell_type": "code",
   "execution_count": 12,
   "metadata": {},
   "outputs": [],
   "source": [
    "expiryDate = FinDate(1,2,2008)\n",
    "maturityDate = FinDate(20,12,2011)\n",
    "notional = 10000\n",
    "volatility = 0.50\n",
    "indexCoupon = 0.004\n",
    "tolerance = 1e-6"
   ]
  },
  {
   "cell_type": "markdown",
   "metadata": {},
   "source": [
    "## Comparison of Anderson versus Adjusted Black Model"
   ]
  },
  {
   "cell_type": "code",
   "execution_count": 13,
   "metadata": {},
   "outputs": [
    {
     "name": "stdout",
     "output_type": "stream",
     "text": [
      "STRIKE    INDEX      PAY    RECEIVER      G(K)       X         EXPH       ABPAY       ABREC\n",
      "20.000   20.000     16.168      6.204    -70.746      22.90     -60.53      16.19       6.11\n",
      "30.000   20.000      4.074     28.784    -35.261      22.89     -60.59       4.07      28.63\n",
      "40.000   20.000      0.896     60.061      0.000      22.87     -60.65       0.91      59.84\n",
      "50.000   20.000      0.191     93.595     35.038      22.85     -60.71       0.20      93.23\n",
      "60.000   20.000      0.044    127.471     69.854      22.84     -60.77       0.05     126.89\n",
      "20.000   30.000     50.475      0.887    -70.746      34.40     -19.91      50.54       0.84\n",
      "30.000   30.000     24.149      9.206    -35.261      34.39     -19.94      24.18       9.15\n",
      "40.000   30.000      9.809     29.293      0.000      34.38     -19.97       9.89      29.26\n",
      "50.000   30.000      3.683     57.376     35.038      34.37     -20.00       3.75      57.24\n",
      "60.000   30.000      1.340     89.026     69.854      34.37     -20.03       1.39      88.72\n",
      "20.000   40.000     89.052      0.120    -70.746      45.91      20.42      89.16       0.11\n",
      "30.000   40.000     56.841      2.526    -35.261      45.91      20.42      56.84       2.49\n",
      "40.000   40.000     32.066     12.148      0.000      45.91      20.42      32.10      12.18\n",
      "50.000   40.000     16.519     30.781     35.038      45.91      20.42      16.63      30.86\n",
      "60.000   40.000      8.092     56.318     69.854      45.91      20.42       8.20      56.30\n",
      "20.000   50.000    128.090      0.017    -70.746      57.47      60.54     128.13       0.01\n",
      "30.000   50.000     94.152      0.666    -35.261      57.48      60.57      94.03       0.65\n",
      "40.000   50.000     63.754      4.637      0.000      57.49      60.60      63.58       4.65\n",
      "50.000   50.000     39.970     15.004     35.038      57.49      60.63      39.95      15.20\n",
      "60.000   50.000     23.750     32.719     69.854      57.50      60.66      23.78      32.94\n",
      "20.000   60.000    167.255      0.002    -70.746      69.14     100.70     166.92       0.00\n",
      "30.000   60.000    132.866      0.172    -35.261      69.15     100.76     132.32       0.17\n",
      "40.000   60.000    100.039      1.685      0.000      69.17     100.82      99.38       1.72\n",
      "50.000   60.000     71.166      6.934     35.038      69.19     100.88      70.56       7.10\n",
      "60.000   60.000     48.055     17.729     69.854      69.20     100.94      47.73      18.20\n"
     ]
    }
   ],
   "source": [
    "print(\"STRIKE    INDEX      PAY    RECEIVER      G(K)       X         EXPH       ABPAY       ABREC\")\n",
    "\n",
    "for index in np.linspace(20, 60, 5):\n",
    "    \n",
    "    # Create a flat CDS index curve\n",
    "    cdsContracts = []\n",
    "    for dt in indexMaturityDates:\n",
    "        cds = FinCDS(valuationDate, dt, index / 10000.0)\n",
    "        cdsContracts.append(cds)\n",
    "\n",
    "    # Build the flat CDS index curve\n",
    "    indexCurve = FinCDSCurve(valuationDate, cdsContracts, liborCurve, indexRecovery)\n",
    "\n",
    "    # Now we need to set up the underlying curves and adjust them\n",
    "    indexSpreads = [index / 10000.0] * 4\n",
    "\n",
    "    indexPortfolio = FinCDSIndexPortfolio()\n",
    "    adjustedIssuerCurves = indexPortfolio.hazardRateAdjustIntrinsic(valuationDate, \n",
    "                                                                    issuerCurves, \n",
    "                                                                    indexSpreads, \n",
    "                                                                    indexUpfronts,\n",
    "                                                                    indexMaturityDates, \n",
    "                                                                    indexRecovery, \n",
    "                                                                    tolerance)        \n",
    "        \n",
    "    for strike in np.linspace(20, 60, 5):    \n",
    "\n",
    "        option = FinCDSIndexOption(expiryDate,\n",
    "                                   maturityDate, \n",
    "                                   indexCoupon, \n",
    "                                   strike / 10000.0, \n",
    "                                   notional)\n",
    "        \n",
    "        v_pay_1, v_rec_1, strikeValue, mu, expH = option.valueAnderson(valuationDate, \n",
    "                                                                       adjustedIssuerCurves, \n",
    "                                                                       indexRecovery,\n",
    "                                                                       volatility)\n",
    "\n",
    "        v_pay_2, v_rec_2 = option.valueAdjustedBlack(valuationDate,\n",
    "                                                     indexCurve, \n",
    "                                                     indexRecovery, \n",
    "                                                     liborCurve,\n",
    "                                                     volatility)\n",
    "            \n",
    "        print(\"%6.3f   %6.3f   %8.3f   %8.3f   %8.3f   %8.2f   %8.2f   %8.2f   %8.2f\" % \n",
    "              (strike, index, v_pay_1, v_rec_1, strikeValue, mu, expH, v_pay_2, v_rec_2 ))"
   ]
  },
  {
   "cell_type": "code",
   "execution_count": 11,
   "metadata": {},
   "outputs": [
    {
     "name": "stdout",
     "output_type": "stream",
     "text": [
      "OBJECT TYPE: FinCDSIndexOption\n",
      "EXPIRY DATE: FRI 01 FEB 2008\n",
      "MATURITY DATE: TUE 20 DEC 2011\n",
      "INDEX COUPON: 40.0bp\n",
      "NOTIONAL: 10000\n",
      "LONG PROTECTION: True\n",
      "FREQUENCY: FinFrequencyTypes.QUARTERLY\n",
      "DAYCOUNT: FinDayCountTypes.ACT_360\n",
      "CALENDAR: FinCalendarTypes.WEEKEND\n",
      "BUSDAYRULE: FinBusDayAdjustTypes.FOLLOWING\n",
      "DATEGENRULE: FinDateGenRuleTypes.BACKWARD\n",
      "\n"
     ]
    }
   ],
   "source": [
    "print(option)"
   ]
  },
  {
   "cell_type": "markdown",
   "metadata": {},
   "source": [
    "Copyright (c) 2020 Dominic O'Kane"
   ]
  }
 ],
 "metadata": {
  "kernelspec": {
   "display_name": "Python 3",
   "language": "python",
   "name": "python3"
  },
  "language_info": {
   "codemirror_mode": {
    "name": "ipython",
    "version": 3
   },
   "file_extension": ".py",
   "mimetype": "text/x-python",
   "name": "python",
   "nbconvert_exporter": "python",
   "pygments_lexer": "ipython3",
   "version": "3.7.6"
  }
 },
 "nbformat": 4,
 "nbformat_minor": 2
}
