{
 "cells": [
  {
   "cell_type": "markdown",
   "metadata": {},
   "source": [
    "# Determining the Fair Spread of a CDS Tranche"
   ]
  },
  {
   "cell_type": "markdown",
   "metadata": {},
   "source": [
    "An analysis of pricing a CDS Index using its intrinsic value"
   ]
  },
  {
   "cell_type": "code",
   "execution_count": 1,
   "metadata": {},
   "outputs": [],
   "source": [
    "import numpy as np\n",
    "import matplotlib.pyplot as plt"
   ]
  },
  {
   "cell_type": "code",
   "execution_count": 2,
   "metadata": {},
   "outputs": [
    {
     "name": "stdout",
     "output_type": "stream",
     "text": [
      "####################################################################\n",
      "# FINANCEPY BETA Version 0.185 - This build:  19 Nov 2020 at 22:37 #\n",
      "#      This software is distributed FREE & WITHOUT ANY WARRANTY    #\n",
      "# For info and disclaimer - https://github.com/domokane/FinancePy  #\n",
      "#      Send any bug reports or comments to quant@financepy.com     #\n",
      "####################################################################\n",
      "\n"
     ]
    }
   ],
   "source": [
    "from financepy.finutils import *\n",
    "from financepy.products.funding import *\n",
    "from financepy.products.credit import *"
   ]
  },
  {
   "cell_type": "code",
   "execution_count": 15,
   "metadata": {},
   "outputs": [],
   "source": [
    "valuationDate = FinDate(2, 8, 2007)\n",
    "settlementDate = valuationDate.addWeekDays(1)"
   ]
  },
  {
   "cell_type": "markdown",
   "metadata": {},
   "source": [
    "## Build Ibor Curve"
   ]
  },
  {
   "cell_type": "code",
   "execution_count": 16,
   "metadata": {},
   "outputs": [],
   "source": [
    "dcType = FinDayCountTypes.THIRTY_E_360_ISDA\n",
    "depos = []\n",
    "depo = FinIborDeposit(valuationDate, \"1D\", 0.0500, dcType); depos.append(depo)\n",
    "depo = FinIborDeposit(settlementDate, \"1D\", 0.0500, dcType); depos.append(depo)\n",
    "\n",
    "fixedFreq = FinFrequencyTypes.SEMI_ANNUAL\n",
    "swapType = FinSwapTypes.PAY\n",
    "swap1 = FinIborSwap(settlementDate,\"1Y\",swapType,0.0502,fixedFreq,dcType)\n",
    "swap2 = FinIborSwap(settlementDate,\"2Y\",swapType,0.0502,fixedFreq,dcType)\n",
    "swap3 = FinIborSwap(settlementDate,\"3Y\",swapType,0.0501,fixedFreq,dcType)\n",
    "swap4 = FinIborSwap(settlementDate,\"4Y\",swapType,0.0502,fixedFreq,dcType)\n",
    "swap5 = FinIborSwap(settlementDate,\"5Y\",swapType,0.0501,fixedFreq,dcType)\n",
    "swaps = [swap1,swap2,swap3,swap4,swap5]\n",
    "\n",
    "liborCurve = FinIborSingleCurve(valuationDate, depos, [], swaps)"
   ]
  },
  {
   "cell_type": "markdown",
   "metadata": {},
   "source": [
    "We treat an index as a CDS contract with a flat CDS curve at the CDS index spread for the same maturity"
   ]
  },
  {
   "cell_type": "markdown",
   "metadata": {},
   "source": [
    "## Create the Underlying CDS Index Portfolio"
   ]
  },
  {
   "cell_type": "code",
   "execution_count": 18,
   "metadata": {},
   "outputs": [],
   "source": [
    "stepInDate = valuationDate.addWeekDays(1)\n",
    "valuationDate = stepInDate"
   ]
  },
  {
   "cell_type": "code",
   "execution_count": 19,
   "metadata": {},
   "outputs": [],
   "source": [
    "maturity3Y = valuationDate.nextCDSDate(36)\n",
    "maturity5Y = valuationDate.nextCDSDate(60)\n",
    "maturity7Y = valuationDate.nextCDSDate(84)\n",
    "maturity10Y = valuationDate.nextCDSDate(120)"
   ]
  },
  {
   "cell_type": "markdown",
   "metadata": {},
   "source": [
    "### Heterogeneous Curves"
   ]
  },
  {
   "cell_type": "code",
   "execution_count": 20,
   "metadata": {},
   "outputs": [
    {
     "ename": "FinError",
     "evalue": "Ibor curve does not have same valuation date as Issuer curve.",
     "output_type": "error",
     "traceback": [
      "\u001b[1;31m---------------------------------------------------------------------------\u001b[0m",
      "\u001b[1;31mFinError\u001b[0m                                  Traceback (most recent call last)",
      "\u001b[1;32m<ipython-input-20-866491354f89>\u001b[0m in \u001b[0;36m<module>\u001b[1;34m\u001b[0m\n\u001b[0;32m     17\u001b[0m     \u001b[0mcds10Y\u001b[0m \u001b[1;33m=\u001b[0m \u001b[0mFinCDS\u001b[0m\u001b[1;33m(\u001b[0m\u001b[0mstepInDate\u001b[0m\u001b[1;33m,\u001b[0m \u001b[0mmaturity10Y\u001b[0m\u001b[1;33m,\u001b[0m \u001b[0mspd10Y\u001b[0m\u001b[1;33m)\u001b[0m\u001b[1;33m\u001b[0m\u001b[1;33m\u001b[0m\u001b[0m\n\u001b[0;32m     18\u001b[0m     \u001b[0mcdsContracts\u001b[0m \u001b[1;33m=\u001b[0m \u001b[1;33m[\u001b[0m\u001b[0mcds3Y\u001b[0m\u001b[1;33m,\u001b[0m \u001b[0mcds5Y\u001b[0m\u001b[1;33m,\u001b[0m \u001b[0mcds7Y\u001b[0m\u001b[1;33m,\u001b[0m \u001b[0mcds10Y\u001b[0m\u001b[1;33m]\u001b[0m\u001b[1;33m\u001b[0m\u001b[1;33m\u001b[0m\u001b[0m\n\u001b[1;32m---> 19\u001b[1;33m     \u001b[0missuerCurve\u001b[0m \u001b[1;33m=\u001b[0m \u001b[0mFinCDSCurve\u001b[0m\u001b[1;33m(\u001b[0m\u001b[0mvaluationDate\u001b[0m\u001b[1;33m,\u001b[0m \u001b[0mcdsContracts\u001b[0m\u001b[1;33m,\u001b[0m \u001b[0mliborCurve\u001b[0m\u001b[1;33m,\u001b[0m \u001b[0mrecoveryRate\u001b[0m\u001b[1;33m)\u001b[0m\u001b[1;33m\u001b[0m\u001b[1;33m\u001b[0m\u001b[0m\n\u001b[0m\u001b[0;32m     20\u001b[0m     \u001b[0mheteroIssuerCurves\u001b[0m\u001b[1;33m.\u001b[0m\u001b[0mappend\u001b[0m\u001b[1;33m(\u001b[0m\u001b[0missuerCurve\u001b[0m\u001b[1;33m)\u001b[0m\u001b[1;33m\u001b[0m\u001b[1;33m\u001b[0m\u001b[0m\n",
      "\u001b[1;32m~\\AppData\\Roaming\\Python\\Python38\\site-packages\\financepy\\products\\credit\\FinCDSCurve.py\u001b[0m in \u001b[0;36m__init__\u001b[1;34m(self, valuationDate, cdsContracts, liborCurve, recoveryRate, useCache, interpolationMethod)\u001b[0m\n\u001b[0;32m     58\u001b[0m \u001b[1;33m\u001b[0m\u001b[0m\n\u001b[0;32m     59\u001b[0m         \u001b[1;32mif\u001b[0m \u001b[0mvaluationDate\u001b[0m \u001b[1;33m!=\u001b[0m \u001b[0mliborCurve\u001b[0m\u001b[1;33m.\u001b[0m\u001b[0m_valuationDate\u001b[0m\u001b[1;33m:\u001b[0m\u001b[1;33m\u001b[0m\u001b[1;33m\u001b[0m\u001b[0m\n\u001b[1;32m---> 60\u001b[1;33m             \u001b[1;32mraise\u001b[0m \u001b[0mFinError\u001b[0m\u001b[1;33m(\u001b[0m\u001b[1;34m\"Ibor curve does not have same valuation date as Issuer curve.\"\u001b[0m\u001b[1;33m)\u001b[0m\u001b[1;33m\u001b[0m\u001b[1;33m\u001b[0m\u001b[0m\n\u001b[0m\u001b[0;32m     61\u001b[0m \u001b[1;33m\u001b[0m\u001b[0m\n\u001b[0;32m     62\u001b[0m         \u001b[0mself\u001b[0m\u001b[1;33m.\u001b[0m\u001b[0m_valuationDate\u001b[0m \u001b[1;33m=\u001b[0m \u001b[0mvaluationDate\u001b[0m\u001b[1;33m\u001b[0m\u001b[1;33m\u001b[0m\u001b[0m\n",
      "\u001b[1;31mFinError\u001b[0m: Ibor curve does not have same valuation date as Issuer curve."
     ]
    }
   ],
   "source": [
    "f = open('.//data//CDX_NA_IG_S7_SPREADS.csv', 'r')\n",
    "data = f.readlines()\n",
    "heteroIssuerCurves = []\n",
    "\n",
    "numCredits = len(data) - 1  # The file has a header\n",
    "\n",
    "for row in data[1:]:\n",
    "    splitRow = row.split(\",\")\n",
    "    spd3Y = float(splitRow[1]) / 10000.0\n",
    "    spd5Y = float(splitRow[2]) / 10000.0\n",
    "    spd7Y = float(splitRow[3]) / 10000.0\n",
    "    spd10Y = float(splitRow[4]) / 10000.0\n",
    "    recoveryRate = float(splitRow[5])\n",
    "    cds3Y = FinCDS(stepInDate, maturity3Y, spd3Y)\n",
    "    cds5Y = FinCDS(stepInDate, maturity5Y, spd5Y)\n",
    "    cds7Y = FinCDS(stepInDate, maturity7Y, spd7Y)\n",
    "    cds10Y = FinCDS(stepInDate, maturity10Y, spd10Y)\n",
    "    cdsContracts = [cds3Y, cds5Y, cds7Y, cds10Y]\n",
    "    issuerCurve = FinCDSCurve(valuationDate, cdsContracts, liborCurve, recoveryRate)\n",
    "    heteroIssuerCurves.append(issuerCurve)"
   ]
  },
  {
   "cell_type": "code",
   "execution_count": null,
   "metadata": {},
   "outputs": [],
   "source": []
  },
  {
   "cell_type": "markdown",
   "metadata": {},
   "source": [
    "### Homogeneous Curves "
   ]
  },
  {
   "cell_type": "markdown",
   "metadata": {},
   "source": [
    "Calculate the average spread of the heterogeneous portfolio"
   ]
  },
  {
   "cell_type": "code",
   "execution_count": 8,
   "metadata": {},
   "outputs": [],
   "source": [
    "homoIssuerCurves = []\n",
    "numCredits = 125\n",
    "recoveryRate = 0.40 "
   ]
  },
  {
   "cell_type": "code",
   "execution_count": 9,
   "metadata": {},
   "outputs": [],
   "source": [
    "cdsIndex = FinCDSIndexPortfolio()"
   ]
  },
  {
   "cell_type": "code",
   "execution_count": 10,
   "metadata": {},
   "outputs": [
    {
     "ename": "ZeroDivisionError",
     "evalue": "float division by zero",
     "output_type": "error",
     "traceback": [
      "\u001b[1;31m---------------------------------------------------------------------------\u001b[0m",
      "\u001b[1;31mZeroDivisionError\u001b[0m                         Traceback (most recent call last)",
      "\u001b[1;32m<ipython-input-10-1ef2ddc16426>\u001b[0m in \u001b[0;36m<module>\u001b[1;34m\u001b[0m\n\u001b[1;32m----> 1\u001b[1;33m \u001b[0mspd3Y\u001b[0m \u001b[1;33m=\u001b[0m \u001b[0mcdsIndex\u001b[0m\u001b[1;33m.\u001b[0m\u001b[0mintrinsicSpread\u001b[0m\u001b[1;33m(\u001b[0m\u001b[0mvaluationDate\u001b[0m\u001b[1;33m,\u001b[0m \u001b[0mstepInDate\u001b[0m\u001b[1;33m,\u001b[0m \u001b[0mmaturity3Y\u001b[0m\u001b[1;33m,\u001b[0m \u001b[0mheteroIssuerCurves\u001b[0m\u001b[1;33m)\u001b[0m\u001b[1;33m\u001b[0m\u001b[1;33m\u001b[0m\u001b[0m\n\u001b[0m\u001b[0;32m      2\u001b[0m \u001b[0mspd5Y\u001b[0m \u001b[1;33m=\u001b[0m \u001b[0mcdsIndex\u001b[0m\u001b[1;33m.\u001b[0m\u001b[0mintrinsicSpread\u001b[0m\u001b[1;33m(\u001b[0m\u001b[0mvaluationDate\u001b[0m\u001b[1;33m,\u001b[0m \u001b[0mstepInDate\u001b[0m\u001b[1;33m,\u001b[0m \u001b[0mmaturity5Y\u001b[0m\u001b[1;33m,\u001b[0m \u001b[0mheteroIssuerCurves\u001b[0m\u001b[1;33m)\u001b[0m\u001b[1;33m\u001b[0m\u001b[1;33m\u001b[0m\u001b[0m\n\u001b[0;32m      3\u001b[0m \u001b[0mspd7Y\u001b[0m \u001b[1;33m=\u001b[0m \u001b[0mcdsIndex\u001b[0m\u001b[1;33m.\u001b[0m\u001b[0mintrinsicSpread\u001b[0m\u001b[1;33m(\u001b[0m\u001b[0mvaluationDate\u001b[0m\u001b[1;33m,\u001b[0m \u001b[0mstepInDate\u001b[0m\u001b[1;33m,\u001b[0m \u001b[0mmaturity7Y\u001b[0m\u001b[1;33m,\u001b[0m \u001b[0mheteroIssuerCurves\u001b[0m\u001b[1;33m)\u001b[0m\u001b[1;33m\u001b[0m\u001b[1;33m\u001b[0m\u001b[0m\n\u001b[0;32m      4\u001b[0m \u001b[0mspd10Y\u001b[0m \u001b[1;33m=\u001b[0m \u001b[0mcdsIndex\u001b[0m\u001b[1;33m.\u001b[0m\u001b[0mintrinsicSpread\u001b[0m\u001b[1;33m(\u001b[0m\u001b[0mvaluationDate\u001b[0m\u001b[1;33m,\u001b[0m \u001b[0mstepInDate\u001b[0m\u001b[1;33m,\u001b[0m \u001b[0mmaturity10Y\u001b[0m\u001b[1;33m,\u001b[0m \u001b[0mheteroIssuerCurves\u001b[0m\u001b[1;33m)\u001b[0m\u001b[1;33m\u001b[0m\u001b[1;33m\u001b[0m\u001b[0m\n",
      "\u001b[1;32m~\\AppData\\Roaming\\Python\\Python38\\site-packages\\financepy\\products\\credit\\FinCDSIndexPortfolio.py\u001b[0m in \u001b[0;36mintrinsicSpread\u001b[1;34m(self, valuationDate, stepInDate, maturityDate, issuerCurves)\u001b[0m\n\u001b[0;32m    114\u001b[0m         the premium legs if all premium legs paid the same spread. '''\n\u001b[0;32m    115\u001b[0m \u001b[1;33m\u001b[0m\u001b[0m\n\u001b[1;32m--> 116\u001b[1;33m         intrinsicProtPV = self.intrinsicProtectionLegPV(valuationDate,\n\u001b[0m\u001b[0;32m    117\u001b[0m                                                         \u001b[0mstepInDate\u001b[0m\u001b[1;33m,\u001b[0m\u001b[1;33m\u001b[0m\u001b[1;33m\u001b[0m\u001b[0m\n\u001b[0;32m    118\u001b[0m                                                         \u001b[0mmaturityDate\u001b[0m\u001b[1;33m,\u001b[0m\u001b[1;33m\u001b[0m\u001b[1;33m\u001b[0m\u001b[0m\n",
      "\u001b[1;32m~\\AppData\\Roaming\\Python\\Python38\\site-packages\\financepy\\products\\credit\\FinCDSIndexPortfolio.py\u001b[0m in \u001b[0;36mintrinsicProtectionLegPV\u001b[1;34m(self, valuationDate, stepInDate, maturityDate, issuerCurves)\u001b[0m\n\u001b[0;32m    100\u001b[0m             \u001b[0mintrinsicProtPV\u001b[0m \u001b[1;33m+=\u001b[0m \u001b[0mprotectionPV\u001b[0m\u001b[1;33m\u001b[0m\u001b[1;33m\u001b[0m\u001b[0m\n\u001b[0;32m    101\u001b[0m \u001b[1;33m\u001b[0m\u001b[0m\n\u001b[1;32m--> 102\u001b[1;33m         \u001b[0mintrinsicProtPV\u001b[0m \u001b[1;33m/=\u001b[0m \u001b[0mnumCredits\u001b[0m\u001b[1;33m\u001b[0m\u001b[1;33m\u001b[0m\u001b[0m\n\u001b[0m\u001b[0;32m    103\u001b[0m         \u001b[1;32mreturn\u001b[0m \u001b[0mintrinsicProtPV\u001b[0m\u001b[1;33m\u001b[0m\u001b[1;33m\u001b[0m\u001b[0m\n\u001b[0;32m    104\u001b[0m \u001b[1;33m\u001b[0m\u001b[0m\n",
      "\u001b[1;31mZeroDivisionError\u001b[0m: float division by zero"
     ]
    }
   ],
   "source": [
    "spd3Y = cdsIndex.intrinsicSpread(valuationDate, stepInDate, maturity3Y, heteroIssuerCurves)\n",
    "spd5Y = cdsIndex.intrinsicSpread(valuationDate, stepInDate, maturity5Y, heteroIssuerCurves)\n",
    "spd7Y = cdsIndex.intrinsicSpread(valuationDate, stepInDate, maturity7Y, heteroIssuerCurves)\n",
    "spd10Y = cdsIndex.intrinsicSpread(valuationDate, stepInDate, maturity10Y, heteroIssuerCurves)"
   ]
  },
  {
   "cell_type": "code",
   "execution_count": 11,
   "metadata": {},
   "outputs": [
    {
     "name": "stdout",
     "output_type": "stream",
     "text": [
      "Homogeneous curve 3Y: 19.678938015074632\n",
      "Homogeneous curve 5Y: 35.53929671797469\n",
      "Homogeneous curve 7Y: 49.012038203742264\n",
      "Homogeneous curve 10Y: 61.41424224609254\n"
     ]
    }
   ],
   "source": [
    "print(\"Homogeneous curve 3Y:\", spd3Y*10000)\n",
    "print(\"Homogeneous curve 5Y:\", spd5Y*10000)\n",
    "print(\"Homogeneous curve 7Y:\", spd7Y*10000)\n",
    "print(\"Homogeneous curve 10Y:\", spd10Y*10000)"
   ]
  },
  {
   "cell_type": "code",
   "execution_count": 12,
   "metadata": {},
   "outputs": [],
   "source": [
    "for row in range(0,numCredits):\n",
    "    cds3Y = FinCDS(stepInDate, maturity3Y, spd3Y)\n",
    "    cds5Y = FinCDS(stepInDate, maturity5Y, spd5Y)\n",
    "    cds7Y = FinCDS(stepInDate, maturity7Y, spd7Y)\n",
    "    cds10Y = FinCDS(stepInDate, maturity10Y, spd10Y)\n",
    "    cdsContracts = [cds3Y, cds5Y, cds7Y, cds10Y]\n",
    "    issuerCurve = FinCDSCurve(valuationDate, cdsContracts, liborCurve, recoveryRate)\n",
    "    homoIssuerCurves.append(issuerCurve)"
   ]
  },
  {
   "cell_type": "markdown",
   "metadata": {},
   "source": [
    "## Define the Tranches"
   ]
  },
  {
   "cell_type": "code",
   "execution_count": 13,
   "metadata": {},
   "outputs": [],
   "source": [
    "trancheMaturity = maturity5Y\n",
    "tranche1 = FinCDSTranche(valuationDate, trancheMaturity, 0.00, 0.03)\n",
    "tranche2 = FinCDSTranche(valuationDate, trancheMaturity, 0.03, 0.06)\n",
    "tranche3 = FinCDSTranche(valuationDate, trancheMaturity, 0.06, 0.09)\n",
    "tranche4 = FinCDSTranche(valuationDate, trancheMaturity, 0.09, 0.12)\n",
    "tranche5 = FinCDSTranche(valuationDate, trancheMaturity, 0.12, 0.22)\n",
    "tranche6 = FinCDSTranche(valuationDate, trancheMaturity, 0.22, 0.60)\n",
    "tranche7 = FinCDSTranche(valuationDate, trancheMaturity, 0.00, 0.60)\n",
    "tranche8 = FinCDSTranche(valuationDate, trancheMaturity, 0.00, 1.00)"
   ]
  },
  {
   "cell_type": "code",
   "execution_count": 14,
   "metadata": {},
   "outputs": [],
   "source": [
    "tranches = [tranche1, tranche2, tranche3, tranche4, tranche5, tranche6, tranche7, tranche8]"
   ]
  },
  {
   "cell_type": "code",
   "execution_count": 15,
   "metadata": {},
   "outputs": [],
   "source": [
    "corr1 = 0.30\n",
    "corr2 = 0.30\n",
    "upfront = 0.0\n",
    "spd = 0.0"
   ]
  },
  {
   "cell_type": "markdown",
   "metadata": {},
   "source": [
    "## Homogeneous Portfolio Results"
   ]
  },
  {
   "cell_type": "code",
   "execution_count": 23,
   "metadata": {},
   "outputs": [
    {
     "name": "stdout",
     "output_type": "stream",
     "text": [
      "                                            Method NumPts        K1        K2     SPD(BPS)\n",
      "              FinLossDistributionBuilder.RECURSION    50   0.00000   3.00000   875.325604\n",
      "      FinLossDistributionBuilder.ADJUSTED_BINOMIAL    50   0.00000   3.00000   875.325604\n",
      "               FinLossDistributionBuilder.GAUSSIAN    50   0.00000   3.00000   904.330891\n",
      "                    FinLossDistributionBuilder.LHP    50   0.00000   3.00000   914.620727\n",
      "=============================================================================================\n",
      "              FinLossDistributionBuilder.RECURSION    50   3.00000   6.00000   239.832446\n",
      "      FinLossDistributionBuilder.ADJUSTED_BINOMIAL    50   3.00000   6.00000   239.832446\n",
      "               FinLossDistributionBuilder.GAUSSIAN    50   3.00000   6.00000   215.984201\n",
      "                    FinLossDistributionBuilder.LHP    50   3.00000   6.00000   227.066383\n",
      "=============================================================================================\n",
      "              FinLossDistributionBuilder.RECURSION    50   6.00000   9.00000   102.272545\n",
      "      FinLossDistributionBuilder.ADJUSTED_BINOMIAL    50   6.00000   9.00000   102.272545\n",
      "               FinLossDistributionBuilder.GAUSSIAN    50   6.00000   9.00000    88.634162\n",
      "                    FinLossDistributionBuilder.LHP    50   6.00000   9.00000    95.063966\n",
      "=============================================================================================\n",
      "              FinLossDistributionBuilder.RECURSION    50   9.00000  12.00000    49.297216\n",
      "      FinLossDistributionBuilder.ADJUSTED_BINOMIAL    50   9.00000  12.00000    49.297216\n",
      "               FinLossDistributionBuilder.GAUSSIAN    50   9.00000  12.00000    41.454068\n",
      "                    FinLossDistributionBuilder.LHP    50   9.00000  12.00000    45.216424\n",
      "=============================================================================================\n",
      "              FinLossDistributionBuilder.RECURSION    50  12.00000  22.00000    14.049520\n",
      "      FinLossDistributionBuilder.ADJUSTED_BINOMIAL    50  12.00000  22.00000    14.049520\n",
      "               FinLossDistributionBuilder.GAUSSIAN    50  12.00000  22.00000    11.285060\n",
      "                    FinLossDistributionBuilder.LHP    50  12.00000  22.00000    12.658820\n",
      "=============================================================================================\n",
      "              FinLossDistributionBuilder.RECURSION    50  22.00000  60.00000     0.490834\n",
      "      FinLossDistributionBuilder.ADJUSTED_BINOMIAL    50  22.00000  60.00000     0.490834\n",
      "               FinLossDistributionBuilder.GAUSSIAN    50  22.00000  60.00000     0.343542\n",
      "                    FinLossDistributionBuilder.LHP    50  22.00000  60.00000     0.419488\n",
      "=============================================================================================\n",
      "              FinLossDistributionBuilder.RECURSION    50   0.00000  60.00000    59.253276\n",
      "      FinLossDistributionBuilder.ADJUSTED_BINOMIAL    50   0.00000  60.00000    59.253276\n",
      "               FinLossDistributionBuilder.GAUSSIAN    50   0.00000  60.00000    57.754299\n",
      "                    FinLossDistributionBuilder.LHP    50   0.00000  60.00000    59.253261\n",
      "=============================================================================================\n",
      "              FinLossDistributionBuilder.RECURSION    50   0.00000 100.00000    35.399268\n",
      "      FinLossDistributionBuilder.ADJUSTED_BINOMIAL    50   0.00000 100.00000    35.399268\n",
      "               FinLossDistributionBuilder.GAUSSIAN    50   0.00000 100.00000    34.511226\n",
      "                    FinLossDistributionBuilder.LHP    50   0.00000 100.00000    35.399260\n",
      "=============================================================================================\n"
     ]
    }
   ],
   "source": [
    "print(\"%50s %5s %9s %9s %12s\"% (\"Method\", \"NumPts\", \"K1\", \"K2\", \"SPD(BPS)\"))\n",
    "for tranche in tranches:\n",
    "    for method in FinLossDistributionBuilder:\n",
    "        for numPoints in [50]:\n",
    "            v = tranche.valueBC(valuationDate,homoIssuerCurves,upfront,spd,corr1,corr2,numPoints,method)\n",
    "            print(\"%50s %5d %9.5f %9.5f %12.6f\"% (method, numPoints, tranche._k1*100, tranche._k2*100, v[3] * 10000))\n",
    "    print(\"=============================================================================================\")"
   ]
  },
  {
   "cell_type": "markdown",
   "metadata": {},
   "source": [
    "## Heterogeneous Portfolio Results"
   ]
  },
  {
   "cell_type": "code",
   "execution_count": 24,
   "metadata": {
    "scrolled": false
   },
   "outputs": [
    {
     "name": "stdout",
     "output_type": "stream",
     "text": [
      "                                            Method NumPts        K1        K2     SPD(BPS)\n",
      "              FinLossDistributionBuilder.RECURSION    50    0.00000   3.00000   949.850066\n",
      "      FinLossDistributionBuilder.ADJUSTED_BINOMIAL    50    0.00000   3.00000   949.784856\n",
      "               FinLossDistributionBuilder.GAUSSIAN    50    0.00000   3.00000   981.250094\n",
      "                    FinLossDistributionBuilder.LHP    50    0.00000   3.00000   915.005898\n",
      "=============================================================================================\n",
      "              FinLossDistributionBuilder.RECURSION    50    3.00000   6.00000   231.169571\n",
      "      FinLossDistributionBuilder.ADJUSTED_BINOMIAL    50    3.00000   6.00000   231.257011\n",
      "               FinLossDistributionBuilder.GAUSSIAN    50    3.00000   6.00000   202.506649\n",
      "                    FinLossDistributionBuilder.LHP    50    3.00000   6.00000   227.073497\n",
      "=============================================================================================\n",
      "              FinLossDistributionBuilder.RECURSION    50    6.00000   9.00000    87.342857\n",
      "      FinLossDistributionBuilder.ADJUSTED_BINOMIAL    50    6.00000   9.00000    87.397408\n",
      "               FinLossDistributionBuilder.GAUSSIAN    50    6.00000   9.00000    72.645330\n",
      "                    FinLossDistributionBuilder.LHP    50    6.00000   9.00000    95.055389\n",
      "=============================================================================================\n",
      "              FinLossDistributionBuilder.RECURSION    50    9.00000  12.00000    37.553910\n",
      "      FinLossDistributionBuilder.ADJUSTED_BINOMIAL    50    9.00000  12.00000    37.409896\n",
      "               FinLossDistributionBuilder.GAUSSIAN    50    9.00000  12.00000    30.035418\n",
      "                    FinLossDistributionBuilder.LHP    50    9.00000  12.00000    45.209085\n",
      "=============================================================================================\n",
      "              FinLossDistributionBuilder.RECURSION    50   12.00000  22.00000     8.961127\n",
      "      FinLossDistributionBuilder.ADJUSTED_BINOMIAL    50   12.00000  22.00000     8.976749\n",
      "               FinLossDistributionBuilder.GAUSSIAN    50   12.00000  22.00000     6.777253\n",
      "                    FinLossDistributionBuilder.LHP    50   12.00000  22.00000    12.655720\n",
      "=============================================================================================\n",
      "              FinLossDistributionBuilder.RECURSION    50   22.00000  60.00000     0.213219\n",
      "      FinLossDistributionBuilder.ADJUSTED_BINOMIAL    50   22.00000  60.00000     0.213319\n",
      "               FinLossDistributionBuilder.GAUSSIAN    50   22.00000  60.00000     0.136207\n",
      "                    FinLossDistributionBuilder.LHP    50   22.00000  60.00000     0.419326\n",
      "=============================================================================================\n",
      "              FinLossDistributionBuilder.RECURSION    50    0.00000  60.00000    59.254744\n",
      "      FinLossDistributionBuilder.ADJUSTED_BINOMIAL    50    0.00000  60.00000    59.254744\n",
      "               FinLossDistributionBuilder.GAUSSIAN    50    0.00000  60.00000    57.736936\n",
      "                    FinLossDistributionBuilder.LHP    50    0.00000  60.00000    59.254711\n",
      "=============================================================================================\n",
      "              FinLossDistributionBuilder.RECURSION    50    0.00000 100.00000    35.399807\n",
      "      FinLossDistributionBuilder.ADJUSTED_BINOMIAL    50    0.00000 100.00000    35.399807\n",
      "               FinLossDistributionBuilder.GAUSSIAN    50    0.00000 100.00000    34.500961\n",
      "                    FinLossDistributionBuilder.LHP    50    0.00000 100.00000    35.399790\n",
      "=============================================================================================\n"
     ]
    }
   ],
   "source": [
    "print(\"%50s %5s %9s %9s %12s\"% (\"Method\", \"NumPts\", \"K1\", \"K2\", \"SPD(BPS)\"))\n",
    "\n",
    "for tranche in tranches:\n",
    "    for method in FinLossDistributionBuilder:\n",
    "        for numPoints in [50]:\n",
    "            v = tranche.valueBC(valuationDate,heteroIssuerCurves,upfront,spd,corr1,corr2,numPoints,method)\n",
    "            print(\"%50s %5d  %9.5f %9.5f %12.6f\"% (method, numPoints, tranche._k1*100, tranche._k2*100, v[3] * 10000))\n",
    "    print(\"=============================================================================================\")"
   ]
  },
  {
   "cell_type": "markdown",
   "metadata": {},
   "source": [
    "Copyright (c) 2020 Dominic O'Kane"
   ]
  }
 ],
 "metadata": {
  "kernelspec": {
   "display_name": "Python 3",
   "language": "python",
   "name": "python3"
  },
  "language_info": {
   "codemirror_mode": {
    "name": "ipython",
    "version": 3
   },
   "file_extension": ".py",
   "mimetype": "text/x-python",
   "name": "python",
   "nbconvert_exporter": "python",
   "pygments_lexer": "ipython3",
   "version": "3.8.5"
  }
 },
 "nbformat": 4,
 "nbformat_minor": 2
}
