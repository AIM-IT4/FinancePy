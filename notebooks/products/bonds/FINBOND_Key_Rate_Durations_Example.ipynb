{
 "cells": [
  {
   "attachments": {},
   "cell_type": "markdown",
   "metadata": {},
   "source": [
    "## <p style=\"text-align:center\">Bond Key Rate Durations calculation in FinancePy</p>\n"
   ]
  },
  {
   "cell_type": "code",
   "execution_count": 1,
   "metadata": {},
   "outputs": [
    {
     "name": "stdout",
     "output_type": "stream",
     "text": [
      "####################################################################\n",
      "# FINANCEPY BETA Version 0.270 - This build:  10 Apr 2023 at 20:31 #\n",
      "#      This software is distributed FREE & WITHOUT ANY WARRANTY    #\n",
      "#  Report bugs as issues at https://github.com/domokane/FinancePy  #\n",
      "####################################################################\n",
      "\n"
     ]
    }
   ],
   "source": [
    "\n",
    "from financepy.utils.date import Date\n",
    "from financepy.utils.day_count import DayCountTypes\n",
    "from financepy.utils.frequency import FrequencyTypes\n",
    "from financepy.products.bonds import *\n",
    "from financepy.market.curves import *"
   ]
  },
  {
   "attachments": {},
   "cell_type": "markdown",
   "metadata": {},
   "source": [
    "Modified duration measures a bond's overall price sensitivity to interest rate changes, while key rate durations measure sensitivity at specific points on the yield curve. "
   ]
  },
  {
   "cell_type": "code",
   "execution_count": 2,
   "metadata": {},
   "outputs": [
    {
     "data": {
      "text/plain": [
       "OBJECT TYPE: Bond\n",
       "ISSUE DATE: 31-JUL-2022\n",
       "MATURITY DATE: 31-JUL-2027\n",
       "COUPON (%): 2.75\n",
       "FREQUENCY: FrequencyTypes.SEMI_ANNUAL\n",
       "ACCRUAL TYPE: DayCountTypes.ACT_ACT_ICMA\n",
       "FACE AMOUNT: 100.0"
      ]
     },
     "execution_count": 2,
     "metadata": {},
     "output_type": "execute_result"
    }
   ],
   "source": [
    "# First, let's create a bond object.\n",
    "\n",
    "\n",
    "accrual_type, frequencyType, settlementDays, exDiv, calendar = get_bond_market_conventions(\n",
    "    BondMarkets.UNITED_STATES)\n",
    "\n",
    "# interest accrues on this date. Original issue date is 01/08/2022\n",
    "issue_date = Date(31, 7, 2022)\n",
    "maturity_date = Date(31, 7, 2027)\n",
    "cpn = 2.75/100\n",
    "bond = Bond(issue_date, maturity_date, cpn, frequencyType, accrual_type)\n",
    "settlement_date = Date(20, 3, 2023)  # next settle date for this bond\n",
    "bond\n"
   ]
  },
  {
   "attachments": {},
   "cell_type": "markdown",
   "metadata": {},
   "source": [
    "Below is a screenshot from Bloomberg for this bonds key rate durations. For reference, ISIN is US91282CFB28, and Cusip is 91282CFB2\n",
    "Please note that, Key rate durations analytics on Bloomberg standard terminal are available only for last data. So, if you want to replicate, you can view it's last data and change the settlement_date above."
   ]
  },
  {
   "attachments": {},
   "cell_type": "markdown",
   "metadata": {},
   "source": [
    "![Alt text](data/bg_key_rate_durations.png)\n",
    "\n",
    "Data taken on 17 March 2023\n"
   ]
  },
  {
   "attachments": {},
   "cell_type": "markdown",
   "metadata": {},
   "source": [
    "Key rate durations method of the Bond class takes two mandatory parameters: settlement_date (or valuation date) and Yield to maturity. Optionally, we can provide our own key rate tenors (in years) and our own shift value. \n",
    "Shift value defaults to 0.0001 and is used to shift the key rate of a corresponding tenor to assess the change in bond price.\n",
    "Default key rate tenors are 0.25, 0.5, 1, 2, 3, 4, 5, 7, 10, 20, 30"
   ]
  },
  {
   "cell_type": "code",
   "execution_count": 3,
   "metadata": {},
   "outputs": [],
   "source": [
    "# the method returns a tuple of key_rate_tenors, key_rate_durations\n",
    "\n",
    "# US Government Equivalent yield on Bloomberg as of 17 March 2023\n",
    "ytm = 3.803140/100\n",
    "\n",
    "# settlement date is the date on which the bond is traded or valued\n",
    "\n",
    "key_rate_tenors, key_rate_durations = bond.key_rate_durations(settlement_date, ytm)"
   ]
  },
  {
   "cell_type": "code",
   "execution_count": 4,
   "metadata": {},
   "outputs": [
    {
     "name": "stdout",
     "output_type": "stream",
     "text": [
      "0.25 >>> 0.002773\n",
      "0.5 >>> 0.005383\n",
      "1.0 >>> 0.023423\n",
      "2.0 >>> 0.051905\n",
      "3.0 >>> 0.075023\n",
      "4.0 >>> 2.502754\n",
      "5.0 >>> 1.379869\n",
      "7.0 >>> 0.0\n",
      "10.0 >>> 0.0\n",
      "20.0 >>> 0.0\n",
      "30.0 >>> 0.0\n"
     ]
    }
   ],
   "source": [
    "for tenor, krd in zip(key_rate_tenors, key_rate_durations):\n",
    "    print(tenor, \">>>\", round(krd,6))   "
   ]
  },
  {
   "cell_type": "code",
   "execution_count": 5,
   "metadata": {},
   "outputs": [
    {
     "name": "stdout",
     "output_type": "stream",
     "text": [
      "Modified duration  4.047346488726142\n",
      "Sum of key rate durations  4.041129255598644\n"
     ]
    }
   ],
   "source": [
    "# Modified duration of a bond and sum of the key rate duration should be close to each other.\n",
    "\n",
    "mod_dur = bond.modified_duration(settlement_date, ytm)\n",
    "sum_of_krds = sum(key_rate_durations)\n",
    "\n",
    "print(\"Modified duration \", mod_dur)\n",
    "print(\"Sum of key rate durations \", sum_of_krds)"
   ]
  },
  {
   "attachments": {},
   "cell_type": "markdown",
   "metadata": {},
   "source": [
    "<p style=\"text-align:right\">prepared by github.com/sagayev </p>"
   ]
  },
  {
   "cell_type": "code",
   "execution_count": null,
   "metadata": {},
   "outputs": [],
   "source": []
  }
 ],
 "metadata": {
  "kernelspec": {
   "display_name": ".venv",
   "language": "python",
   "name": "python3"
  },
  "language_info": {
   "codemirror_mode": {
    "name": "ipython",
    "version": 3
   },
   "file_extension": ".py",
   "mimetype": "text/x-python",
   "name": "python",
   "nbconvert_exporter": "python",
   "pygments_lexer": "ipython3",
   "version": "3.10.10"
  },
  "orig_nbformat": 4,
  "vscode": {
   "interpreter": {
    "hash": "447c22abb44fbec4f8164066ec5ba3812e1ec25af46c330de6bd5c3b87ef1b5b"
   }
  }
 },
 "nbformat": 4,
 "nbformat_minor": 2
}
