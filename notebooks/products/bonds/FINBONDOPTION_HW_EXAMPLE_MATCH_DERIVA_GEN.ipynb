{
 "cells": [
  {
   "cell_type": "markdown",
   "metadata": {},
   "source": [
    "# Bond Option Comparison with DerivaGem Function 17"
   ]
  },
  {
   "cell_type": "markdown",
   "metadata": {},
   "source": [
    "Value an option on a coupon paying bond using the Hull-White in response to a question."
   ]
  },
  {
   "cell_type": "code",
   "execution_count": 1,
   "metadata": {},
   "outputs": [],
   "source": [
    "import numpy as np\n",
    "import matplotlib.pyplot as plt\n",
    "import time"
   ]
  },
  {
   "cell_type": "code",
   "execution_count": 1,
   "metadata": {},
   "outputs": [
    {
     "name": "stdout",
     "output_type": "stream",
     "text": [
      "####################################################################\n",
      "# FINANCEPY BETA Version 0.200 - This build:  09 Jul 2021 at 15:18 #\n",
      "# **** NEW PEP8 COMPLIANT VERSION -- PLEASE UPDATE YOUR CODE  **** #\n",
      "#      This software is distributed FREE & WITHOUT ANY WARRANTY    #\n",
      "# For info and disclaimer - https://github.com/domokane/FinancePy  #\n",
      "#      Send any bug reports or comments to quant@financepy.com     #\n",
      "####################################################################\n",
      "\n"
     ]
    }
   ],
   "source": [
    "from financepy.utils import *\n",
    "from financepy.market.curves import *\n",
    "from financepy.models.hw_tree import HWTree\n",
    "from financepy.products.bonds import *"
   ]
  },
  {
   "cell_type": "markdown",
   "metadata": {},
   "source": [
    "## Set up the Discount Curve"
   ]
  },
  {
   "cell_type": "code",
   "execution_count": 43,
   "metadata": {},
   "outputs": [],
   "source": [
    "settlement_date = Date(1, 12, 2019)"
   ]
  },
  {
   "cell_type": "markdown",
   "metadata": {},
   "source": [
    "Set up discount curve"
   ]
  },
  {
   "cell_type": "code",
   "execution_count": 91,
   "metadata": {},
   "outputs": [],
   "source": [
    "rate = 0.05\n",
    "dcType = DayCountTypes.ACT_ACT_ISDA\n",
    "fixedFreq = FrequencyTypes.SEMI_ANNUAL\n",
    "discount_curve = DiscountCurveFlat(settlement_date, rate, fixedFreq, dcType)"
   ]
  },
  {
   "cell_type": "markdown",
   "metadata": {},
   "source": [
    "## Set up the Bond Option"
   ]
  },
  {
   "cell_type": "markdown",
   "metadata": {},
   "source": [
    "First create the bond"
   ]
  },
  {
   "cell_type": "code",
   "execution_count": 92,
   "metadata": {},
   "outputs": [],
   "source": [
    "issue_date = Date(1,12,2018)\n",
    "maturity_date = issue_date.add_tenor(\"10Y\")\n",
    "coupon = 0.05\n",
    "frequencyType = FrequencyTypes.SEMI_ANNUAL\n",
    "accrual_type = DayCountTypes.THIRTY_360_BOND\n",
    "bond = Bond(issue_date, maturity_date, coupon, frequencyType, accrual_type)"
   ]
  },
  {
   "cell_type": "markdown",
   "metadata": {},
   "source": [
    "Let's first price the bond on the libor curve"
   ]
  },
  {
   "cell_type": "code",
   "execution_count": 93,
   "metadata": {},
   "outputs": [
    {
     "name": "stdout",
     "output_type": "stream",
     "text": [
      "Fixed Income Clean Price:   100.000\n",
      "Fixed Income Full  Price:   102.500\n"
     ]
    }
   ],
   "source": [
    "cp = bond.clean_price_from_discount_curve(settlement_date, discount_curve)\n",
    "fp = bond.full_price_from_discount_curve(settlement_date, discount_curve)\n",
    "print(\"Fixed Income Clean Price: %9.3f\"% cp)\n",
    "print(\"Fixed Income Full  Price: %9.3f\"% fp)"
   ]
  },
  {
   "cell_type": "code",
   "execution_count": 94,
   "metadata": {},
   "outputs": [
    {
     "data": {
      "text/plain": [
       "01-DEC-2019"
      ]
     },
     "execution_count": 94,
     "metadata": {},
     "output_type": "execute_result"
    }
   ],
   "source": [
    "settlement_date"
   ]
  },
  {
   "cell_type": "code",
   "execution_count": 95,
   "metadata": {},
   "outputs": [
    {
     "name": "stdout",
     "output_type": "stream",
     "text": [
      " 01-DEC-2019          2.50 \n",
      " 01-JUN-2020          2.50 \n",
      " 01-DEC-2020          2.50 \n",
      " 01-JUN-2021          2.50 \n",
      " 01-DEC-2021          2.50 \n",
      " 01-JUN-2022          2.50 \n",
      " 01-DEC-2022          2.50 \n",
      " 01-JUN-2023          2.50 \n",
      " 01-DEC-2023          2.50 \n",
      " 01-JUN-2024          2.50 \n",
      " 01-DEC-2024          2.50 \n",
      " 01-JUN-2025          2.50 \n",
      " 01-DEC-2025          2.50 \n",
      " 01-JUN-2026          2.50 \n",
      " 01-DEC-2026          2.50 \n",
      " 01-JUN-2027          2.50 \n",
      " 01-DEC-2027          2.50 \n",
      " 01-JUN-2028          2.50 \n",
      " 01-DEC-2028        102.50 \n"
     ]
    }
   ],
   "source": [
    "bond.print_flows(settlement_date)"
   ]
  },
  {
   "cell_type": "markdown",
   "metadata": {},
   "source": [
    "# Create the Bond Options"
   ]
  },
  {
   "cell_type": "markdown",
   "metadata": {},
   "source": [
    "Then define and create the option"
   ]
  },
  {
   "cell_type": "code",
   "execution_count": 96,
   "metadata": {},
   "outputs": [],
   "source": [
    "expiry_date = settlement_date.add_tenor(\"18m\")\n",
    "strike_price = 100.0\n",
    "face_amount = 100.0"
   ]
  },
  {
   "cell_type": "code",
   "execution_count": 97,
   "metadata": {},
   "outputs": [],
   "source": [
    "europeanCallBondOption = BondOption(bond, expiry_date, strike_price, face_amount, FinOptionTypes.EUROPEAN_CALL)\n",
    "americanCallBondOption = BondOption(bond, expiry_date, strike_price, face_amount, FinOptionTypes.AMERICAN_CALL)"
   ]
  },
  {
   "cell_type": "markdown",
   "metadata": {},
   "source": [
    "Consider the forward bond price."
   ]
  },
  {
   "cell_type": "code",
   "execution_count": 98,
   "metadata": {},
   "outputs": [
    {
     "name": "stdout",
     "output_type": "stream",
     "text": [
      "Fixed Income Clean Price:    99.993\n",
      "Fixed Income Full  Price:   102.493\n"
     ]
    }
   ],
   "source": [
    "cp = bond.clean_price_from_discount_curve(expiry_date, discount_curve)\n",
    "fp = bond.full_price_from_discount_curve(expiry_date, discount_curve)\n",
    "print(\"Fixed Income Clean Price: %9.3f\"% cp)\n",
    "print(\"Fixed Income Full  Price: %9.3f\"% fp)"
   ]
  },
  {
   "cell_type": "markdown",
   "metadata": {},
   "source": [
    "Set the model parameters, start with zero vol."
   ]
  },
  {
   "cell_type": "code",
   "execution_count": 108,
   "metadata": {},
   "outputs": [],
   "source": [
    "num_steps = 1000"
   ]
  },
  {
   "cell_type": "code",
   "execution_count": 109,
   "metadata": {},
   "outputs": [],
   "source": [
    "sigma = 0.0125\n",
    "a = 0.1\n",
    "modelHW = HWTree(sigma, a, num_steps)"
   ]
  },
  {
   "cell_type": "code",
   "execution_count": 110,
   "metadata": {},
   "outputs": [
    {
     "name": "stdout",
     "output_type": "stream",
     "text": [
      "European Call Value:   2.40116\n",
      "American Call Value:   2.65412\n"
     ]
    }
   ],
   "source": [
    "ec = europeanCallBondOption.value(settlement_date, discount_curve, modelHW)\n",
    "ac = americanCallBondOption.value(settlement_date, discount_curve, modelHW)\n",
    "print(\"European Call Value: %9.5f\" % ec)\n",
    "print(\"American Call Value: %9.5f\" % ac)"
   ]
  },
  {
   "cell_type": "markdown",
   "metadata": {},
   "source": [
    "Copyright (c) Dominic O'Kane 2020"
   ]
  }
 ],
 "metadata": {
  "kernelspec": {
   "display_name": "Python 3",
   "language": "python",
   "name": "python3"
  },
  "language_info": {
   "codemirror_mode": {
    "name": "ipython",
    "version": 3
   },
   "file_extension": ".py",
   "mimetype": "text/x-python",
   "name": "python",
   "nbconvert_exporter": "python",
   "pygments_lexer": "ipython3",
   "version": "3.8.5"
  }
 },
 "nbformat": 4,
 "nbformat_minor": 2
}
