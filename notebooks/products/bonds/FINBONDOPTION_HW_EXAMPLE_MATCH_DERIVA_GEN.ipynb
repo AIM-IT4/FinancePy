{
 "cells": [
  {
   "cell_type": "markdown",
   "metadata": {},
   "source": [
    "# Bond Option Comparison with DerivaGem Function 17"
   ]
  },
  {
   "cell_type": "markdown",
   "metadata": {},
   "source": [
    "Value an option on a coupon paying bond using the Hull-White in response to a question."
   ]
  },
  {
   "cell_type": "code",
   "execution_count": 1,
   "metadata": {},
   "outputs": [],
   "source": [
    "import numpy as np\n",
    "import matplotlib.pyplot as plt\n",
    "import time"
   ]
  },
  {
   "cell_type": "code",
   "execution_count": 2,
   "metadata": {},
   "outputs": [
    {
     "name": "stdout",
     "output_type": "stream",
     "text": [
      "####################################################################\n",
      "# FINANCEPY BETA Version 0.200 - This build:  12 Jul 2021 at 11:46 #\n",
      "# **** NEW PEP8 COMPLIANT VERSION -- PLEASE UPDATE YOUR CODE  **** #\n",
      "#      This software is distributed FREE & WITHOUT ANY WARRANTY    #\n",
      "# For info and disclaimer - https://github.com/domokane/FinancePy  #\n",
      "#      Send any bug reports or comments to quant@financepy.com     #\n",
      "####################################################################\n",
      "\n"
     ]
    }
   ],
   "source": [
    "from financepy.utils import *\n",
    "from financepy.market.curves import *\n",
    "from financepy.models.hw_tree import HWTree\n",
    "from financepy.products.bonds import *"
   ]
  },
  {
   "cell_type": "markdown",
   "metadata": {},
   "source": [
    "## Set up the Discount Curve"
   ]
  },
  {
   "cell_type": "code",
   "execution_count": 3,
   "metadata": {},
   "outputs": [],
   "source": [
    "settlement_date = Date(1, 12, 2019)"
   ]
  },
  {
   "cell_type": "markdown",
   "metadata": {},
   "source": [
    "Set up discount curve"
   ]
  },
  {
   "cell_type": "code",
   "execution_count": 4,
   "metadata": {},
   "outputs": [],
   "source": [
    "rate = 0.05\n",
    "dcType = DayCountTypes.ACT_ACT_ISDA\n",
    "fixedFreq = FrequencyTypes.SEMI_ANNUAL\n",
    "discount_curve = DiscountCurveFlat(settlement_date, rate, fixedFreq, dcType)"
   ]
  },
  {
   "cell_type": "markdown",
   "metadata": {},
   "source": [
    "## Set up the Bond Option"
   ]
  },
  {
   "cell_type": "markdown",
   "metadata": {},
   "source": [
    "First create the bond"
   ]
  },
  {
   "cell_type": "code",
   "execution_count": 5,
   "metadata": {},
   "outputs": [],
   "source": [
    "issue_date = Date(1,12,2018)\n",
    "maturity_date = issue_date.add_tenor(\"10Y\")\n",
    "coupon = 0.05\n",
    "frequencyType = FrequencyTypes.SEMI_ANNUAL\n",
    "accrual_type = DayCountTypes.THIRTY_360_BOND\n",
    "bond = Bond(issue_date, maturity_date, coupon, frequencyType, accrual_type)"
   ]
  },
  {
   "cell_type": "markdown",
   "metadata": {},
   "source": [
    "Let's first price the bond on the libor curve"
   ]
  },
  {
   "cell_type": "code",
   "execution_count": 6,
   "metadata": {},
   "outputs": [
    {
     "name": "stdout",
     "output_type": "stream",
     "text": [
      "Fixed Income Clean Price:   100.000\n",
      "Fixed Income Full  Price:   102.500\n"
     ]
    }
   ],
   "source": [
    "cp = bond.clean_price_from_discount_curve(settlement_date, discount_curve)\n",
    "fp = bond.full_price_from_discount_curve(settlement_date, discount_curve)\n",
    "print(\"Fixed Income Clean Price: %9.3f\"% cp)\n",
    "print(\"Fixed Income Full  Price: %9.3f\"% fp)"
   ]
  },
  {
   "cell_type": "code",
   "execution_count": 7,
   "metadata": {},
   "outputs": [
    {
     "data": {
      "text/plain": [
       "01-DEC-2019"
      ]
     },
     "execution_count": 7,
     "metadata": {},
     "output_type": "execute_result"
    }
   ],
   "source": [
    "settlement_date"
   ]
  },
  {
   "cell_type": "code",
   "execution_count": 8,
   "metadata": {},
   "outputs": [
    {
     "name": "stdout",
     "output_type": "stream",
     "text": [
      " 01-DEC-2019          2.50 \n",
      " 01-JUN-2020          2.50 \n",
      " 01-DEC-2020          2.50 \n",
      " 01-JUN-2021          2.50 \n",
      " 01-DEC-2021          2.50 \n",
      " 01-JUN-2022          2.50 \n",
      " 01-DEC-2022          2.50 \n",
      " 01-JUN-2023          2.50 \n",
      " 01-DEC-2023          2.50 \n",
      " 01-JUN-2024          2.50 \n",
      " 01-DEC-2024          2.50 \n",
      " 01-JUN-2025          2.50 \n",
      " 01-DEC-2025          2.50 \n",
      " 01-JUN-2026          2.50 \n",
      " 01-DEC-2026          2.50 \n",
      " 01-JUN-2027          2.50 \n",
      " 01-DEC-2027          2.50 \n",
      " 01-JUN-2028          2.50 \n",
      " 01-DEC-2028        102.50 \n"
     ]
    }
   ],
   "source": [
    "bond.print_flows(settlement_date)"
   ]
  },
  {
   "cell_type": "markdown",
   "metadata": {},
   "source": [
    "Then define and create the option"
   ]
  },
  {
   "cell_type": "code",
   "execution_count": 9,
   "metadata": {},
   "outputs": [],
   "source": [
    "expiry_date = settlement_date.add_tenor(\"18m\")\n",
    "strike_price = 100.0\n",
    "face_amount = 100.0"
   ]
  },
  {
   "cell_type": "code",
   "execution_count": 10,
   "metadata": {},
   "outputs": [],
   "source": [
    "europeanCallBondOption = BondOption(bond, expiry_date, strike_price, face_amount, FinOptionTypes.EUROPEAN_CALL)\n",
    "americanCallBondOption = BondOption(bond, expiry_date, strike_price, face_amount, FinOptionTypes.AMERICAN_CALL)"
   ]
  },
  {
   "cell_type": "code",
   "execution_count": 11,
   "metadata": {},
   "outputs": [],
   "source": [
    "europeanPutBondOption = BondOption(bond, expiry_date, strike_price, face_amount, FinOptionTypes.EUROPEAN_PUT)\n",
    "americanPutBondOption = BondOption(bond, expiry_date, strike_price, face_amount, FinOptionTypes.AMERICAN_PUT)"
   ]
  },
  {
   "cell_type": "markdown",
   "metadata": {},
   "source": [
    "Consider the forward bond price."
   ]
  },
  {
   "cell_type": "code",
   "execution_count": 12,
   "metadata": {},
   "outputs": [
    {
     "name": "stdout",
     "output_type": "stream",
     "text": [
      "Fixed Income Clean Price:    99.993\n",
      "Fixed Income Full  Price:   102.493\n"
     ]
    }
   ],
   "source": [
    "cp = bond.clean_price_from_discount_curve(expiry_date, discount_curve)\n",
    "fp = bond.full_price_from_discount_curve(expiry_date, discount_curve)\n",
    "print(\"Fixed Income Clean Price: %9.3f\"% cp)\n",
    "print(\"Fixed Income Full  Price: %9.3f\"% fp)"
   ]
  },
  {
   "cell_type": "markdown",
   "metadata": {},
   "source": [
    "Set the model parameters, start with zero vol."
   ]
  },
  {
   "cell_type": "code",
   "execution_count": 20,
   "metadata": {},
   "outputs": [],
   "source": [
    "num_steps = 100"
   ]
  },
  {
   "cell_type": "code",
   "execution_count": 21,
   "metadata": {},
   "outputs": [],
   "source": [
    "sigma = 0.0125\n",
    "a = 0.1\n",
    "modelHW = HWTree(sigma, a, num_steps)"
   ]
  },
  {
   "cell_type": "code",
   "execution_count": 22,
   "metadata": {},
   "outputs": [
    {
     "name": "stdout",
     "output_type": "stream",
     "text": [
      "European Call Value:   2.41836\n",
      "American Call Value:   2.63792\n"
     ]
    }
   ],
   "source": [
    "ec = europeanCallBondOption.value(settlement_date, discount_curve, modelHW)\n",
    "ac = americanCallBondOption.value(settlement_date, discount_curve, modelHW)\n",
    "print(\"European Call Value: %9.5f\" % ec)\n",
    "print(\"American Call Value: %9.5f\" % ac)"
   ]
  },
  {
   "cell_type": "code",
   "execution_count": 23,
   "metadata": {},
   "outputs": [
    {
     "name": "stdout",
     "output_type": "stream",
     "text": [
      "European Put Value:   2.44005\n",
      "American Put Value:   2.78186\n"
     ]
    }
   ],
   "source": [
    "ec = europeanPutBondOption.value(settlement_date, discount_curve, modelHW)\n",
    "ac = americanPutBondOption.value(settlement_date, discount_curve, modelHW)\n",
    "print(\"European Put Value: %9.5f\" % ec)\n",
    "print(\"American Put Value: %9.5f\" % ac)"
   ]
  },
  {
   "cell_type": "markdown",
   "metadata": {},
   "source": [
    "# COMPARISON"
   ]
  },
  {
   "cell_type": "code",
   "execution_count": 27,
   "metadata": {},
   "outputs": [],
   "source": [
    "if 1==1:\n",
    "    settlementDate = Date(1, 12, 2019)\n",
    "    issueDate = Date(1, 12, 2018)\n",
    "    expiryDate = settlementDate.add_tenor(\"18m\")\n",
    "    maturityDate = settlementDate.add_tenor(\"10Y\")\n",
    "    coupon = 0.05\n",
    "    freqType = FrequencyTypes.SEMI_ANNUAL\n",
    "    accrualType = DayCountTypes.ACT_ACT_ICMA\n",
    "    bond = Bond(issueDate, maturityDate, coupon, freqType, accrualType)\n",
    "\n",
    "    couponTimes = []\n",
    "    couponFlows = []\n",
    "    cpn = bond._coupon/bond._frequency\n",
    "\n",
    "    numFlows = len(bond._flow_dates)\n",
    "    for i in range(0, numFlows):\n",
    "\n",
    "        pcd = bond._flow_dates[i-1]\n",
    "        ncd = bond._flow_dates[i]\n",
    "\n",
    "        if ncd > settlementDate:\n",
    "            \n",
    "            if len(couponTimes) == 0:\n",
    "                flowTime = (pcd - settlementDate) / gDaysInYear\n",
    "                couponTimes.append(flowTime)\n",
    "                couponFlows.append(cpn)\n",
    "                \n",
    "            flowTime = (ncd - settlementDate) / gDaysInYear\n",
    "            couponTimes.append(flowTime)\n",
    "            couponFlows.append(cpn)\n",
    "\n",
    "    couponTimes = np.array(couponTimes)\n",
    "    couponFlows = np.array(couponFlows)\n",
    "\n",
    "    strikePrice = 100.0\n",
    "    face = 100.0\n",
    "    y = 0.05\n",
    "    times = np.linspace(0, 10, 21)\n",
    "    dfs = np.power(1+y/2, -times*2)\n",
    "\n",
    "    model = HWTree(sigma, a, None)\n",
    "\n",
    "    #  Test convergence\n",
    "    texp = (expiryDate - settlementDate)/gDaysInYear\n",
    "    tmat = (maturityDate - settlementDate)/gDaysInYear\n",
    "\n",
    "    # Jamshidian approach\n",
    "    vJam = model.european_bond_option_jamshidian(texp, strikePrice, face,\n",
    "                                              couponTimes, couponFlows,\n",
    "                                              times, dfs)\n",
    "\n",
    "    model._num_time_steps = 100\n",
    "    model.build_tree(tmat, times, dfs)\n",
    "    exerciseType = FinExerciseTypes.EUROPEAN\n",
    "    vHW = model.bond_option(texp, strikePrice, face,\n",
    "                            couponTimes, couponFlows, exerciseType)\n"
   ]
  },
  {
   "cell_type": "code",
   "execution_count": 28,
   "metadata": {},
   "outputs": [
    {
     "data": {
      "text/plain": [
       "{'call': 2.5571679355702432, 'put': 2.58259155047988}"
      ]
     },
     "execution_count": 28,
     "metadata": {},
     "output_type": "execute_result"
    }
   ],
   "source": [
    "vJam"
   ]
  },
  {
   "cell_type": "code",
   "execution_count": 29,
   "metadata": {},
   "outputs": [
    {
     "data": {
      "text/plain": [
       "{'call': 2.5627764182698214, 'put': 2.5835704651747804}"
      ]
     },
     "execution_count": 29,
     "metadata": {},
     "output_type": "execute_result"
    }
   ],
   "source": [
    "vHW"
   ]
  },
  {
   "cell_type": "markdown",
   "metadata": {},
   "source": [
    "Copyright (c) Dominic O'Kane 2021"
   ]
  }
 ],
 "metadata": {
  "kernelspec": {
   "display_name": "Python 3",
   "language": "python",
   "name": "python3"
  },
  "language_info": {
   "codemirror_mode": {
    "name": "ipython",
    "version": 3
   },
   "file_extension": ".py",
   "mimetype": "text/x-python",
   "name": "python",
   "nbconvert_exporter": "python",
   "pygments_lexer": "ipython3",
   "version": "3.8.5"
  }
 },
 "nbformat": 4,
 "nbformat_minor": 2
}
