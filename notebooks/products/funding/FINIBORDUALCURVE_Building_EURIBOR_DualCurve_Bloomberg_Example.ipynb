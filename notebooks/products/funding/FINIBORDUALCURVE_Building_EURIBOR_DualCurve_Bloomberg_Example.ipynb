{
 "cells": [
  {
   "cell_type": "markdown",
   "metadata": {},
   "source": [
    "# Building a Euribor Dual Curve and Valuing a Swap - Bloomberg Example"
   ]
  },
  {
   "cell_type": "markdown",
   "metadata": {},
   "source": [
    "We build an OIS curve from OIS swaps that include forward starting OIS using MM dates."
   ]
  },
  {
   "cell_type": "code",
   "execution_count": 61,
   "metadata": {},
   "outputs": [],
   "source": [
    "import numpy as np\n",
    "import matplotlib.pyplot as plt"
   ]
  },
  {
   "cell_type": "code",
   "execution_count": 62,
   "metadata": {},
   "outputs": [],
   "source": [
    "from financepy.finutils import *\n",
    "from financepy.products.funding import *"
   ]
  },
  {
   "cell_type": "code",
   "execution_count": 63,
   "metadata": {},
   "outputs": [],
   "source": [
    "valuationDate = FinDate(26, 10, 2020)"
   ]
  },
  {
   "cell_type": "code",
   "execution_count": 64,
   "metadata": {},
   "outputs": [
    {
     "data": {
      "text/plain": [
       "THU 29 OCT 2020"
      ]
     },
     "execution_count": 64,
     "metadata": {},
     "output_type": "execute_result"
    }
   ],
   "source": [
    "valuationDate.addWeekDays(2).addTenor(\"1D\")"
   ]
  },
  {
   "cell_type": "code",
   "execution_count": 83,
   "metadata": {},
   "outputs": [],
   "source": [
    "interpType = FinInterpTypes.LINEAR_ZERO_RATES"
   ]
  },
  {
   "cell_type": "markdown",
   "metadata": {},
   "source": [
    "## Building the Discounting OIS Curve"
   ]
  },
  {
   "cell_type": "markdown",
   "metadata": {},
   "source": [
    "We construct the OIS curve from a series of swaps, some forward starting. The default assumption on the floating leg is annual payments."
   ]
  },
  {
   "cell_type": "code",
   "execution_count": 84,
   "metadata": {},
   "outputs": [],
   "source": [
    "cal = FinCalendarTypes.TARGET\n",
    "\n",
    "depoDCCType = FinDayCountTypes.ACT_360\n",
    "depos = []\n",
    "\n",
    "spotDays = 2\n",
    "settlementDate = valuationDate.addWeekDays(spotDays)\n",
    "depo = FinIborDeposit(settlementDate, \"1D\", -0.46800/100.0, depoDCCType, calendarType = cal); depos.append(depo)\n",
    "\n",
    "fras = []\n",
    "\n",
    "swaps = []\n",
    "swapType = FinSwapTypes.PAYER\n",
    "spotDays = 2\n",
    "settlementDate = valuationDate.addWeekDays(spotDays)\n",
    "fixedDCCType = FinDayCountTypes.ACT_360\n",
    "fixedFreqType = FinFrequencyTypes.ANNUAL\n",
    "\n",
    "# Standard OIS with standard annual terms\n",
    "swap = FinOIS(settlementDate, \"1W\", swapType, -0.47000/100.0, fixedFreqType, fixedDCCType, calendarType = cal); swaps.append(swap)\n",
    "swap = FinOIS(settlementDate, \"2W\", swapType, -0.47150/100.0, fixedFreqType, fixedDCCType, calendarType = cal); swaps.append(swap)\n",
    "swap = FinOIS(settlementDate, \"1M\", swapType, -0.47300/100.0, fixedFreqType, fixedDCCType, calendarType = cal); swaps.append(swap)\n",
    "swap = FinOIS(settlementDate, \"2M\", swapType, -0.47700/100.0, fixedFreqType, fixedDCCType, calendarType = cal); swaps.append(swap)\n",
    "swap = FinOIS(settlementDate, \"3M\", swapType, -0.48150/100.0, fixedFreqType, fixedDCCType, calendarType = cal); swaps.append(swap)\n",
    "swap = FinOIS(settlementDate, \"4M\", swapType, -0.48500/100.0, fixedFreqType, fixedDCCType, calendarType = cal); swaps.append(swap)\n",
    "swap = FinOIS(settlementDate, \"5M\", swapType, -0.48900/100.0, fixedFreqType, fixedDCCType, calendarType = cal); swaps.append(swap)\n",
    "swap = FinOIS(settlementDate, \"6M\", swapType, -0.49300/100.0, fixedFreqType, fixedDCCType, calendarType = cal); swaps.append(swap)\n",
    "swap = FinOIS(settlementDate, \"7M\", swapType, -0.49700/100.0, fixedFreqType, fixedDCCType, calendarType = cal); swaps.append(swap)\n",
    "swap = FinOIS(settlementDate, \"8M\", swapType, -0.50065/100.0, fixedFreqType, fixedDCCType, calendarType = cal); swaps.append(swap)\n",
    "swap = FinOIS(settlementDate, \"9M\", swapType, -0.50375/100.0, fixedFreqType, fixedDCCType, calendarType = cal); swaps.append(swap)\n",
    "swap = FinOIS(settlementDate, \"10M\", swapType, -0.50790/100.0, fixedFreqType, fixedDCCType, calendarType = cal); swaps.append(swap)\n",
    "swap = FinOIS(settlementDate, \"11M\", swapType, -0.51100/100.0, fixedFreqType, fixedDCCType, calendarType = cal); swaps.append(swap)\n",
    "swap = FinOIS(settlementDate, \"12M\", swapType, -0.51400/100.0, fixedFreqType, fixedDCCType, calendarType = cal); swaps.append(swap)\n",
    "swap = FinOIS(settlementDate, \"18M\", swapType, -0.53250/100.0, fixedFreqType, fixedDCCType, calendarType = cal); swaps.append(swap)\n",
    "swap = FinOIS(settlementDate, \"2Y\", swapType, -0.54300/100.0, fixedFreqType, fixedDCCType, calendarType = cal); swaps.append(swap)\n",
    "swap = FinOIS(settlementDate, \"30M\", swapType, -0.54850/100.0, fixedFreqType, fixedDCCType, calendarType = cal); swaps.append(swap)\n",
    "swap = FinOIS(settlementDate, \"3Y\", swapType, -0.54900/100.0, fixedFreqType, fixedDCCType, calendarType = cal); swaps.append(swap)\n",
    "swap = FinOIS(settlementDate, \"4Y\", swapType, -0.53700/100.0, fixedFreqType, fixedDCCType, calendarType = cal); swaps.append(swap)\n",
    "swap = FinOIS(settlementDate, \"5Y\", swapType, -0.51350/100.0, fixedFreqType, fixedDCCType, calendarType = cal); swaps.append(swap)\n",
    "swap = FinOIS(settlementDate, \"6Y\", swapType, -0.48300/100.0, fixedFreqType, fixedDCCType, calendarType = cal); swaps.append(swap)\n",
    "swap = FinOIS(settlementDate, \"7Y\", swapType, -0.44650/100.0, fixedFreqType, fixedDCCType, calendarType = cal); swaps.append(swap)\n",
    "swap = FinOIS(settlementDate, \"8Y\", swapType, -0.40480/100.0, fixedFreqType, fixedDCCType, calendarType = cal); swaps.append(swap)\n",
    "swap = FinOIS(settlementDate, \"9Y\", swapType, -0.36220/100.0, fixedFreqType, fixedDCCType, calendarType = cal); swaps.append(swap)\n",
    "swap = FinOIS(settlementDate, \"10Y\", swapType, -0.31550/100.0, fixedFreqType, fixedDCCType, calendarType = cal); swaps.append(swap)\n",
    "swap = FinOIS(settlementDate, \"11Y\", swapType, -0.27100/100.0, fixedFreqType, fixedDCCType, calendarType = cal); swaps.append(swap)\n",
    "swap = FinOIS(settlementDate, \"12Y\", swapType, -0.22850/100.0, fixedFreqType, fixedDCCType, calendarType = cal); swaps.append(swap)\n",
    "swap = FinOIS(settlementDate, \"15Y\", swapType, -0.12300/100.0, fixedFreqType, fixedDCCType, calendarType = cal); swaps.append(swap)\n",
    "swap = FinOIS(settlementDate, \"20Y\", swapType, -0.04000/100.0, fixedFreqType, fixedDCCType, calendarType = cal); swaps.append(swap)\n",
    "swap = FinOIS(settlementDate, \"25Y\", swapType, -0.03450/100.0, fixedFreqType, fixedDCCType, calendarType = cal); swaps.append(swap)\n",
    "swap = FinOIS(settlementDate, \"30Y\", swapType, -0.05750/100.0, fixedFreqType, fixedDCCType, calendarType = cal); swaps.append(swap)\n",
    "swap = FinOIS(settlementDate, \"35Y\", swapType, -0.08160/100.0, fixedFreqType, fixedDCCType, calendarType = cal); swaps.append(swap)\n",
    "swap = FinOIS(settlementDate, \"40Y\", swapType, -0.10485/100.0, fixedFreqType, fixedDCCType, calendarType = cal); swaps.append(swap)\n",
    "swap = FinOIS(settlementDate, \"50Y\", swapType, -0.14300/100.0, fixedFreqType, fixedDCCType, calendarType = cal); swaps.append(swap)\n",
    "\n",
    "oisDepos = depos.copy()\n",
    "oisFras = fras.copy()\n",
    "oisSwaps = swaps.copy()"
   ]
  },
  {
   "cell_type": "code",
   "execution_count": 85,
   "metadata": {},
   "outputs": [
    {
     "name": "stdout",
     "output_type": "stream",
     "text": [
      "Inserting synthetic deposit\n"
     ]
    }
   ],
   "source": [
    "oisCurve = FinOISCurve(valuationDate, oisDepos, oisFras, oisSwaps, interpType)"
   ]
  },
  {
   "cell_type": "code",
   "execution_count": 86,
   "metadata": {
    "scrolled": false
   },
   "outputs": [
    {
     "name": "stdout",
     "output_type": "stream",
     "text": [
      "MON 26 OCT 2020  TUE 28 OCT 2070      0   1.000026001  -0.474506\n",
      "WED 28 OCT 2020  TUE 28 OCT 2070      1   1.000013000  -0.474505\n",
      "WED 28 OCT 2020  TUE 28 OCT 2070      7   1.000091397  -0.476095\n",
      "WED 28 OCT 2020  TUE 28 OCT 2070     14   1.000183395  -0.477644\n",
      "WED 28 OCT 2020  TUE 28 OCT 2070     33   1.000433771  -0.479378\n",
      "WED 28 OCT 2020  TUE 28 OCT 2070     61   1.000808904  -0.483525\n",
      "WED 28 OCT 2020  TUE 28 OCT 2070     92   1.001232016  -0.488191\n",
      "WED 28 OCT 2020  TUE 28 OCT 2070    124   1.001673351  -0.491867\n",
      "WED 28 OCT 2020  TUE 28 OCT 2070    152   1.002068938  -0.496021\n",
      "WED 28 OCT 2020  TUE 28 OCT 2070    182   1.002498616  -0.500189\n",
      "WED 28 OCT 2020  TUE 28 OCT 2070    212   1.002935369  -0.504360\n",
      "WED 28 OCT 2020  TUE 28 OCT 2070    243   1.003390846  -0.508186\n",
      "WED 28 OCT 2020  TUE 28 OCT 2070    273   1.003834753  -0.511454\n",
      "WED 28 OCT 2020  TUE 28 OCT 2070    306   1.004335869  -0.515799\n",
      "WED 28 OCT 2020  TUE 28 OCT 2070    335   1.004777858  -0.519067\n",
      "WED 28 OCT 2020  TUE 28 OCT 2070    365   1.005238690  -0.522240\n",
      "WED 28 OCT 2020  TUE 28 OCT 2070    547   1.008141725  -0.540836\n",
      "WED 28 OCT 2020  TUE 28 OCT 2070    730   1.011100789  -0.551770\n",
      "WED 28 OCT 2020  TUE 28 OCT 2070    912   1.014025538  -0.557248\n",
      "WED 28 OCT 2020  TUE 28 OCT 2070   1097   1.016914868  -0.557942\n",
      "WED 28 OCT 2020  TUE 28 OCT 2070   1461   1.022094778  -0.545884\n",
      "WED 28 OCT 2020  TUE 28 OCT 2070   1826   1.026472015  -0.522215\n",
      "WED 28 OCT 2020  TUE 28 OCT 2070   2191   1.029943394  -0.491491\n",
      "WED 28 OCT 2020  TUE 28 OCT 2070   2556   1.032354072  -0.454719\n",
      "WED 28 OCT 2020  TUE 28 OCT 2070   2924   1.033609457  -0.412690\n",
      "WED 28 OCT 2020  TUE 28 OCT 2070   3288   1.033858737  -0.369706\n",
      "WED 28 OCT 2020  TUE 28 OCT 2070   3652   1.032787835  -0.322524\n",
      "WED 28 OCT 2020  TUE 28 OCT 2070   4017   1.030996048  -0.277463\n",
      "WED 28 OCT 2020  TUE 28 OCT 2070   4383   1.028524392  -0.234325\n",
      "WED 28 OCT 2020  TUE 28 OCT 2070   5479   1.019184465  -0.126720\n",
      "WED 28 OCT 2020  TUE 28 OCT 2070   7306   1.008295920  -0.041393\n",
      "WED 28 OCT 2020  TUE 28 OCT 2070   9133   1.008921370  -0.035592\n",
      "WED 28 OCT 2020  TUE 28 OCT 2070  10957   1.017823266  -0.058926\n",
      "WED 28 OCT 2020  TUE 28 OCT 2070  12783   1.029534458  -0.083171\n",
      "WED 28 OCT 2020  TUE 28 OCT 2070  14610   1.043471293  -0.106360\n",
      "WED 28 OCT 2020  TUE 28 OCT 2070  18262   1.074663874  -0.143957\n"
     ]
    }
   ],
   "source": [
    "for depo in oisDepos:\n",
    "    start = depo._startDate\n",
    "    maturityDate = depo._maturityDate\n",
    "    df = oisCurve.df(maturityDate) / oisCurve.df(start)\n",
    "    days = maturityDate - settlementDate\n",
    "    ccZeroRate = oisCurve.zeroRate(maturityDate, FinFrequencyTypes.CONTINUOUS, FinDayCountTypes.ACT_365F)\n",
    "    print(\"%12s  %12s  %5.0f  %12.9f  %9.6f\"% (start, maturity, days, df, ccZeroRate*100))\n",
    "    \n",
    "for swap in oisSwaps:\n",
    "    start = swap._startDate\n",
    "    maturityDate = swap._maturityDate\n",
    "    df = oisCurve.df(maturityDate) / oisCurve.df(start)\n",
    "    days = maturityDate - settlementDate\n",
    "    ccZeroRate = oisCurve.zeroRate(maturityDate, FinFrequencyTypes.CONTINUOUS, FinDayCountTypes.ACT_365F)\n",
    "    print(\"%12s  %12s  %5.0f  %12.9f  %9.6f\"% (start, maturity, days, df, ccZeroRate*100))"
   ]
  },
  {
   "cell_type": "markdown",
   "metadata": {},
   "source": [
    "## Value an OIS Contract"
   ]
  },
  {
   "cell_type": "code",
   "execution_count": 87,
   "metadata": {},
   "outputs": [],
   "source": [
    "fixedCpn = -0.515039/100\n",
    "startDate = settlementDate\n",
    "maturityDate = FinDate(28, 10, 2025,)\n",
    "fixedDCCType = FinDayCountTypes.ACT_360\n",
    "fixedFreqType = FinFrequencyTypes.ANNUAL\n",
    "floatDCCType = FinDayCountTypes.ACT_360\n",
    "floatFreqType = FinFrequencyTypes.ANNUAL\n",
    "notional = 10 * ONE_MILLION"
   ]
  },
  {
   "cell_type": "code",
   "execution_count": 88,
   "metadata": {},
   "outputs": [],
   "source": [
    "oisSwap = FinOIS(startDate, maturityDate, FinSwapTypes.RECEIVER, \n",
    "                 fixedCpn, fixedFreqType, fixedDCCType, \n",
    "                 notional, \n",
    "                 0.0, floatFreqType, floatDCCType)"
   ]
  },
  {
   "cell_type": "code",
   "execution_count": 89,
   "metadata": {},
   "outputs": [
    {
     "data": {
      "text/plain": [
       "-793.3871828497504"
      ]
     },
     "execution_count": 89,
     "metadata": {},
     "output_type": "execute_result"
    }
   ],
   "source": [
    "oisSwap.value(settlementDate, oisCurve)"
   ]
  },
  {
   "cell_type": "code",
   "execution_count": 90,
   "metadata": {},
   "outputs": [
    {
     "name": "stdout",
     "output_type": "stream",
     "text": [
      "START DATE: WED 28 OCT 2020\n",
      "MATURITY DATE: TUE 28 OCT 2025\n",
      "COUPON (%): -0.515039\n",
      "FIXED LEG FREQUENCY: FinFrequencyTypes.ANNUAL\n",
      "FIXED LEG DAY COUNT: FinDayCountTypes.ACT_360\n",
      "VALUATION DATE WED 28 OCT 2020\n",
      "PAYMENT_DATE     YEAR_FRAC        FLOW         DF         DF*FLOW       CUM_PV\n",
      "WED 28 OCT 2020          -            -   1.00000000            -            -\n",
      "THU 28 OCT 2021  1.0138889    -52219.23   1.00523869    -52492.79    -52492.79\n",
      "FRI 28 OCT 2022  1.0138889    -52219.23   1.01110079    -52798.91   -105291.70\n",
      "MON 30 OCT 2023  1.0194444    -52505.36   1.01691487    -53393.49   -158685.18\n",
      "MON 28 OCT 2024  1.0111111    -52076.17   1.02209478    -53226.78   -211911.96\n",
      "TUE 28 OCT 2025  1.0138889    -52219.23   1.02647202    -53601.58   -265513.54\n"
     ]
    }
   ],
   "source": [
    "oisSwap.printFixedLegPV()"
   ]
  },
  {
   "cell_type": "code",
   "execution_count": 91,
   "metadata": {},
   "outputs": [
    {
     "name": "stdout",
     "output_type": "stream",
     "text": [
      "START DATE: WED 28 OCT 2020\n",
      "MATURITY DATE: TUE 28 OCT 2025\n",
      "SPREAD COUPON (%): 0.0\n",
      "FLOAT LEG FREQUENCY: FinFrequencyTypes.ANNUAL\n",
      "FLOAT LEG DAY COUNT: FinDayCountTypes.ACT_360\n",
      "VALUATION DATE WED 28 OCT 2020\n",
      "         *** FIRST FLOATING RATE PAYMENT IS IMPLIED ***\n",
      "PAYMENT_DATE     YEAR_FRAC    RATE(%)       FLOW         DF         DF*FLOW       CUM_PV\n",
      "WED 28 OCT 2020          -          -            -   1.00000000            -            -\n",
      "THU 28 OCT 2021  1.0138889   -0.51400    -52113.89   1.00523869    -52386.90    -52386.90\n",
      "FRI 28 OCT 2022  1.0138889   -0.57183    -57977.40   1.01110079    -58620.99   -111007.89\n",
      "MON 30 OCT 2023  1.0194444   -0.56083    -57173.70   1.01691487    -58140.79   -169148.68\n",
      "MON 28 OCT 2024  1.0111111   -0.50122    -50679.35   1.02209478    -51799.10   -220947.78\n",
      "TUE 28 OCT 2025  1.0138889   -0.42059    -42643.52   1.02647202    -43772.38   -264720.15\n"
     ]
    }
   ],
   "source": [
    "oisSwap.printFloatLegPV()"
   ]
  },
  {
   "cell_type": "markdown",
   "metadata": {},
   "source": [
    "## Building the Dual Curve"
   ]
  },
  {
   "cell_type": "markdown",
   "metadata": {},
   "source": [
    "Build the Ibor Curve"
   ]
  },
  {
   "cell_type": "code",
   "execution_count": 92,
   "metadata": {},
   "outputs": [],
   "source": [
    "# Need to specify a UK calendar (trade was done in London)\n",
    "cal = FinCalendarTypes.UK\n",
    "\n",
    "depoDCCType = FinDayCountTypes.ACT_360\n",
    "depos = []\n",
    "spotDays = 2\n",
    "settlementDate = valuationDate.addWeekDays(spotDays)\n",
    "depo = FinIborDeposit(settlementDate, \"6M\", -0.496/100.0, depoDCCType, calendarType=cal); depos.append(depo)\n",
    "fraDCCType = FinDayCountTypes.ACT_360\n",
    "\n",
    "fras = []\n",
    "fra = FinIborFRA(settlementDate.addTenor(\"1M\"), \"6M\", -0.493/100.0, fraDCCType, calendarType=cal); fras.append(fra)\n",
    "fra = FinIborFRA(settlementDate.addTenor(\"2M\"), \"6M\", -0.491/100.0, fraDCCType, calendarType=cal); fras.append(fra)\n",
    "fra = FinIborFRA(settlementDate.addTenor(\"3M\"), \"6M\", -0.494/100.0, fraDCCType, calendarType=cal); fras.append(fra)\n",
    "fra = FinIborFRA(settlementDate.addTenor(\"4M\"), \"6M\", -0.496/100.0, fraDCCType, calendarType=cal); fras.append(fra)\n",
    "fra = FinIborFRA(settlementDate.addTenor(\"5M\"), \"6M\", -0.499/100.0, fraDCCType, calendarType=cal); fras.append(fra)\n",
    "fra = FinIborFRA(settlementDate.addTenor(\"6M\"), \"6M\", -0.501/100.0, fraDCCType, calendarType=cal); fras.append(fra)\n",
    "fra = FinIborFRA(settlementDate.addTenor(\"7M\"), \"6M\", -0.505/100.0, fraDCCType, calendarType=cal); fras.append(fra)\n",
    "fra = FinIborFRA(settlementDate.addTenor(\"8M\"), \"6M\", -0.508/100.0, fraDCCType, calendarType=cal); fras.append(fra)\n",
    "fra = FinIborFRA(settlementDate.addTenor(\"9M\"), \"6M\", -0.518/100.0, fraDCCType, calendarType=cal); fras.append(fra)\n",
    "fra = FinIborFRA(settlementDate.addTenor(\"10M\"), \"6M\", -0.516/100.0, fraDCCType, calendarType=cal); fras.append(fra)\n",
    "fra = FinIborFRA(settlementDate.addTenor(\"11M\"), \"6M\", -0.518/100.0, fraDCCType, calendarType=cal); fras.append(fra)\n",
    "fra = FinIborFRA(settlementDate.addTenor(\"12M\"), \"6M\", -0.519/100.0, fraDCCType, calendarType=cal); fras.append(fra)\n",
    "\n",
    "swaps = []\n",
    "swapType = FinSwapTypes.PAYER\n",
    "fixedDCCType = FinDayCountTypes.THIRTY_E_360_ISDA\n",
    "fixedFreqType = FinFrequencyTypes.SEMI_ANNUAL\n",
    "\n",
    "swap = FinIborSwap(settlementDate, \"2Y\", swapType, -0.514/100.0, fixedFreqType, fixedDCCType, calendarType=cal); swaps.append(swap)\n",
    "swap = FinIborSwap(settlementDate, \"3Y\", swapType, -0.506/100.0, fixedFreqType, fixedDCCType, calendarType=cal); swaps.append(swap)\n",
    "swap = FinIborSwap(settlementDate, \"4Y\", swapType, -0.482/100.0, fixedFreqType, fixedDCCType, calendarType=cal); swaps.append(swap)\n",
    "swap = FinIborSwap(settlementDate, \"5Y\", swapType, -0.451/100.0, fixedFreqType, fixedDCCType, calendarType=cal); swaps.append(swap)\n",
    "swap = FinIborSwap(settlementDate, \"6Y\", swapType, -0.415/100.0, fixedFreqType, fixedDCCType, calendarType=cal); swaps.append(swap)\n",
    "swap = FinIborSwap(settlementDate, \"7Y\", swapType, -0.375/100.0, fixedFreqType, fixedDCCType, calendarType=cal); swaps.append(swap)\n",
    "swap = FinIborSwap(settlementDate, \"8Y\", swapType, -0.333/100.0, fixedFreqType, fixedDCCType, calendarType=cal); swaps.append(swap)\n",
    "swap = FinIborSwap(settlementDate, \"9Y\", swapType, -0.288/100.0, fixedFreqType, fixedDCCType, calendarType=cal); swaps.append(swap)\n",
    "swap = FinIborSwap(settlementDate, \"10Y\", swapType, -0.242/100.0, fixedFreqType, fixedDCCType, calendarType=cal); swaps.append(swap)\n",
    "swap = FinIborSwap(settlementDate, \"11Y\", swapType, -0.198/100.0, fixedFreqType, fixedDCCType, calendarType=cal); swaps.append(swap)\n",
    "swap = FinIborSwap(settlementDate, \"12Y\", swapType, -0.156/100.0, fixedFreqType, fixedDCCType, calendarType=cal); swaps.append(swap)\n",
    "swap = FinIborSwap(settlementDate, \"15Y\", swapType, -0.054/100.0, fixedFreqType, fixedDCCType, calendarType=cal); swaps.append(swap)\n",
    "swap = FinIborSwap(settlementDate, \"20Y\", swapType, 0.023/100.0, fixedFreqType, fixedDCCType, calendarType=cal); swaps.append(swap)\n",
    "swap = FinIborSwap(settlementDate, \"25Y\", swapType, 0.023/100.0, fixedFreqType, fixedDCCType, calendarType=cal); swaps.append(swap)\n",
    "swap = FinIborSwap(settlementDate, \"30Y\", swapType, -0.005/100.0, fixedFreqType, fixedDCCType, calendarType=cal); swaps.append(swap)\n",
    "swap = FinIborSwap(settlementDate, \"40Y\", swapType, -0.063/100.0, fixedFreqType, fixedDCCType, calendarType=cal); swaps.append(swap)\n",
    "swap = FinIborSwap(settlementDate, \"50Y\", swapType, -0.113/100.0, fixedFreqType, fixedDCCType, calendarType=cal); swaps.append(swap)\n",
    "\n",
    "iborDepos = depos.copy()\n",
    "iborFras = fras.copy()\n",
    "iborSwaps = swaps.copy()"
   ]
  },
  {
   "cell_type": "code",
   "execution_count": 93,
   "metadata": {},
   "outputs": [
    {
     "name": "stdout",
     "output_type": "stream",
     "text": [
      "Inserting synthetic deposit\n"
     ]
    }
   ],
   "source": [
    "iborDualCurve = FinIborDualCurve(valuationDate, oisCurve, iborDepos, iborFras, iborSwaps, interpType)"
   ]
  },
  {
   "cell_type": "code",
   "execution_count": 94,
   "metadata": {},
   "outputs": [
    {
     "name": "stdout",
     "output_type": "stream",
     "text": [
      "FRI 28 OCT 2022  1.010346479 -0.514634\n",
      "MON 30 OCT 2023  1.015346005 -0.506716\n",
      "MON 28 OCT 2024  1.019501788 -0.482549\n",
      "TUE 28 OCT 2025  1.022860406 -0.451869\n",
      "WED 28 OCT 2026  1.025294121 -0.416214\n",
      "THU 28 OCT 2027  1.026714429 -0.376578\n",
      "MON 30 OCT 2028  1.027174756 -0.334807\n",
      "MON 29 OCT 2029  1.026470049 -0.290151\n",
      "MON 28 OCT 2030  1.024741625 -0.244413\n",
      "TUE 28 OCT 2031  1.022300210 -0.200552\n",
      "THU 28 OCT 2032  1.019200901 -0.158539\n",
      "MON 29 OCT 2035  1.008426136 -0.056061\n",
      "MON 29 OCT 2040  0.995578058  0.021997\n",
      "MON 30 OCT 2045  0.994433183  0.022195\n",
      "FRI 28 OCT 2050  1.001710074 -0.005782\n",
      "THU 28 OCT 2060  1.025512811 -0.062999\n",
      "TUE 28 OCT 2070  1.057363972 -0.111528\n"
     ]
    }
   ],
   "source": [
    "for swap in iborSwaps:\n",
    "    dt = swap._maturityDate\n",
    "    df = iborDualCurve.df(dt) / iborDualCurve.df(settlementDate)\n",
    "    ccZeroRate = iborDualCurve.zeroRate(dt, FinFrequencyTypes.CONTINUOUS, FinDayCountTypes.ACT_365F)\n",
    "    print(\"%12s %12.9f %9.6f\"% (dt, df, ccZeroRate*100))"
   ]
  },
  {
   "cell_type": "markdown",
   "metadata": {},
   "source": [
    "## Swap Valuation"
   ]
  },
  {
   "cell_type": "code",
   "execution_count": 95,
   "metadata": {},
   "outputs": [],
   "source": [
    "fixedCpn = -0.449700/100\n",
    "startDate = settlementDate\n",
    "maturityDate = FinDate(28, 10, 2025,)\n",
    "fixedDCCType = FinDayCountTypes.THIRTY_360_BOND\n",
    "fixedFreqType = FinFrequencyTypes.ANNUAL\n",
    "floatDCCType = FinDayCountTypes.ACT_360\n",
    "floatFreqType = FinFrequencyTypes.SEMI_ANNUAL\n",
    "notional = 10 * ONE_MILLION"
   ]
  },
  {
   "cell_type": "code",
   "execution_count": 96,
   "metadata": {},
   "outputs": [],
   "source": [
    "iborSwap = FinIborSwap(startDate, maturityDate, FinSwapTypes.RECEIVER, \n",
    "                 fixedCpn, fixedFreqType, fixedDCCType, \n",
    "                 notional, \n",
    "                 0.0, floatFreqType, floatDCCType)"
   ]
  },
  {
   "cell_type": "code",
   "execution_count": 97,
   "metadata": {},
   "outputs": [
    {
     "data": {
      "text/plain": [
       "382.2547569545277"
      ]
     },
     "execution_count": 97,
     "metadata": {},
     "output_type": "execute_result"
    }
   ],
   "source": [
    "iborSwap.value(settlementDate, oisCurve, iborDualCurve, -0.496/100)"
   ]
  },
  {
   "cell_type": "code",
   "execution_count": 98,
   "metadata": {},
   "outputs": [
    {
     "name": "stdout",
     "output_type": "stream",
     "text": [
      "START DATE: WED 28 OCT 2020\n",
      "MATURITY DATE: TUE 28 OCT 2025\n",
      "COUPON (%): -0.4497\n",
      "FIXED LEG FREQUENCY: FinFrequencyTypes.ANNUAL\n",
      "FIXED LEG DAY COUNT: FinDayCountTypes.THIRTY_360_BOND\n",
      "VALUATION DATE WED 28 OCT 2020\n",
      "PAYMENT_DATE     YEAR_FRAC        FLOW         DF         DF*FLOW       CUM_PV\n",
      "WED 28 OCT 2020          -            -   1.00000000            -            -\n",
      "THU 28 OCT 2021  1.0000000    -44970.00   1.00523869    -45205.58    -45205.58\n",
      "FRI 28 OCT 2022  1.0000000    -44970.00   1.01110079    -45469.20    -90674.79\n",
      "MON 30 OCT 2023  1.0055556    -45219.83   1.01691487    -45984.72   -136659.51\n",
      "MON 28 OCT 2024  0.9944444    -44720.17   1.02209478    -45708.25   -182367.76\n",
      "TUE 28 OCT 2025  1.0000000    -44970.00   1.02647202    -46160.45   -228528.20\n"
     ]
    }
   ],
   "source": [
    "iborSwap.printFixedLegPV()"
   ]
  },
  {
   "cell_type": "code",
   "execution_count": 99,
   "metadata": {},
   "outputs": [
    {
     "name": "stdout",
     "output_type": "stream",
     "text": [
      "START DATE: WED 28 OCT 2020\n",
      "MATURITY DATE: TUE 28 OCT 2025\n",
      "SPREAD COUPON (%): 0.0\n",
      "FLOAT LEG FREQUENCY: FinFrequencyTypes.SEMI_ANNUAL\n",
      "FLOAT LEG DAY COUNT: FinDayCountTypes.ACT_360\n",
      "VALUATION DATE WED 28 OCT 2020\n",
      "PAYMENT_DATE     YEAR_FRAC    RATE(%)       FLOW         DF         DF*FLOW       CUM_PV\n",
      "WED 28 OCT 2020          -          -            -   1.00000000            -            -\n",
      "WED 28 APR 2021  0.5055556   -0.49600    -25075.56   1.00249862    -25138.21    -25138.21\n",
      "THU 28 OCT 2021  0.5083333   -0.50100    -25467.50   1.00523869    -25600.92    -50739.13\n",
      "THU 28 APR 2022  0.5055556   -0.51900    -26238.33   1.00814172    -26451.96    -77191.08\n",
      "FRI 28 OCT 2022  0.5083333   -0.51186    -26019.44   1.01110079    -26308.28   -103499.36\n",
      "FRI 28 APR 2023  0.5055556   -0.48753    -24647.48   1.01402554    -24993.18   -128492.54\n",
      "MON 30 OCT 2023  0.5138889   -0.47973    -24652.92   1.01691487    -25069.92   -153562.46\n",
      "MON 29 APR 2024  0.5055556   -0.41545    -21003.52   1.01953218    -21413.76   -174976.22\n",
      "MON 28 OCT 2024  0.5055556   -0.39167    -19800.95   1.02209478    -20238.45   -195214.67\n",
      "MON 28 APR 2025  0.5055556   -0.33927    -17152.01   1.02433567    -17569.41   -212784.08\n",
      "TUE 28 OCT 2025  0.5083333   -0.30906    -15710.49   1.02647202    -16126.38   -228910.46\n"
     ]
    }
   ],
   "source": [
    "iborSwap.printFloatLegPV()"
   ]
  },
  {
   "cell_type": "markdown",
   "metadata": {},
   "source": [
    "## Dual Curve"
   ]
  },
  {
   "cell_type": "markdown",
   "metadata": {},
   "source": [
    "Look at short end"
   ]
  },
  {
   "cell_type": "code",
   "execution_count": 109,
   "metadata": {},
   "outputs": [
    {
     "data": {
      "image/png": "[encoded data removed]",
      "text/plain": [
       "<Figure size 864x432 with 1 Axes>"
      ]
     },
     "metadata": {
      "needs_background": "light"
     },
     "output_type": "display_data"
    }
   ],
   "source": [
    "years = np.linspace(0, 2, 1000)\n",
    "dates = settlementDate.addYears(years)\n",
    "iborDualCurveFwds = iborDualCurve.fwd(dates)\n",
    "plt.figure(figsize=(12,6))\n",
    "plt.plot(years, iborDualCurveFwds*100.0, label=\"Euribor Dual Curve\")\n",
    "plt.xlabel(\"Years\")\n",
    "plt.ylabel(\"Continuously Compounded Forward Rate (%)\")\n",
    "plt.legend();"
   ]
  },
  {
   "cell_type": "markdown",
   "metadata": {},
   "source": [
    "Look at long end"
   ]
  },
  {
   "cell_type": "code",
   "execution_count": 110,
   "metadata": {},
   "outputs": [
    {
     "data": {
      "image/png": "[encoded data removed]",
      "text/plain": [
       "<Figure size 864x432 with 1 Axes>"
      ]
     },
     "metadata": {
      "needs_background": "light"
     },
     "output_type": "display_data"
    }
   ],
   "source": [
    "years = np.linspace(0, 50, 1000)\n",
    "dates = settlementDate.addYears(years)\n",
    "iborDualCurveFwds = iborDualCurve.fwd(dates)\n",
    "plt.figure(figsize=(12,6))\n",
    "plt.plot(years, iborDualCurveFwds*100.0, label=\"Euribor Dual Curve\")\n",
    "plt.xlabel(\"Years\")\n",
    "plt.ylabel(\"Continuously Compounded Forward Rate (%)\")\n",
    "plt.legend();"
   ]
  },
  {
   "cell_type": "markdown",
   "metadata": {},
   "source": [
    "Copyright (c) Dominic O'Kane 2020"
   ]
  }
 ],
 "metadata": {
  "kernelspec": {
   "display_name": "Python 3",
   "language": "python",
   "name": "python3"
  },
  "language_info": {
   "codemirror_mode": {
    "name": "ipython",
    "version": 3
   },
   "file_extension": ".py",
   "mimetype": "text/x-python",
   "name": "python",
   "nbconvert_exporter": "python",
   "pygments_lexer": "ipython3",
   "version": "3.7.6"
  }
 },
 "nbformat": 4,
 "nbformat_minor": 4
}
