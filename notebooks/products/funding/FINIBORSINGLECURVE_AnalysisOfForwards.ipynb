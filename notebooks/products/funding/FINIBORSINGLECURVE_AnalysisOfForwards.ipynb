{
 "cells": [
  {
   "cell_type": "markdown",
   "metadata": {},
   "source": [
    "# Bootstrapping a Ibor Curve"
   ]
  },
  {
   "cell_type": "markdown",
   "metadata": {},
   "source": [
    "Constructing a Ibor curve from a combination of deposits and swaps"
   ]
  },
  {
   "cell_type": "code",
   "execution_count": 2,
   "metadata": {},
   "outputs": [],
   "source": [
    "import numpy as np\n",
    "import matplotlib.pyplot as plt"
   ]
  },
  {
   "cell_type": "code",
   "execution_count": 3,
   "metadata": {},
   "outputs": [
    {
     "name": "stdout",
     "output_type": "stream",
     "text": [
      "####################################################################\n",
      "# FINANCEPY BETA Version 0.185 - This build:  24 Oct 2020 at 20:12 #\n",
      "#      This software is distributed FREE & WITHOUT ANY WARRANTY    #\n",
      "# For info and disclaimer - https://github.com/domokane/FinancePy  #\n",
      "#      Send any bug reports or comments to quant@financepy.com     #\n",
      "####################################################################\n",
      "\n"
     ]
    }
   ],
   "source": [
    "from financepy.finutils import *\n",
    "from financepy.products.funding import *"
   ]
  },
  {
   "cell_type": "code",
   "execution_count": 5,
   "metadata": {},
   "outputs": [],
   "source": [
    "valuationDate = FinDate(2019, 8, 9)\n",
    "spotDays = 2\n",
    "settlementDate = valuationDate.addDays(spotDays)"
   ]
  },
  {
   "cell_type": "markdown",
   "metadata": {},
   "source": [
    "## Ibor Deposits"
   ]
  },
  {
   "cell_type": "code",
   "execution_count": 6,
   "metadata": {},
   "outputs": [],
   "source": [
    "dcType = FinDayCountTypes.ACT_360"
   ]
  },
  {
   "cell_type": "code",
   "execution_count": 7,
   "metadata": {},
   "outputs": [],
   "source": [
    "depo1 = FinIborDeposit(settlementDate, \"1M\", 0.022009, dcType)\n",
    "depo2 = FinIborDeposit(settlementDate, \"2M\", 0.022138, dcType)\n",
    "depo3 = FinIborDeposit(settlementDate, \"3M\", 0.021810, dcType)\n",
    "depo4 = FinIborDeposit(settlementDate, \"6M\", 0.020503, dcType)\n",
    "depo5 = FinIborDeposit(settlementDate, \"12M\", 0.019930, dcType)"
   ]
  },
  {
   "cell_type": "code",
   "execution_count": 8,
   "metadata": {},
   "outputs": [],
   "source": [
    "depos = [depo1,depo2,depo3,depo4,depo5]"
   ]
  },
  {
   "cell_type": "code",
   "execution_count": 9,
   "metadata": {},
   "outputs": [],
   "source": [
    "dcType = FinDayCountTypes.THIRTY_E_360_ISDA\n",
    "fixedFreq = FinFrequencyTypes.SEMI_ANNUAL"
   ]
  },
  {
   "cell_type": "markdown",
   "metadata": {},
   "source": [
    "## Interest Rate Swaps"
   ]
  },
  {
   "cell_type": "code",
   "execution_count": 10,
   "metadata": {},
   "outputs": [],
   "source": [
    "dcType = FinDayCountTypes.THIRTY_E_360_ISDA\n",
    "fixedFreq = FinFrequencyTypes.SEMI_ANNUAL\n",
    "swapType = FinSwapTypes.PAY"
   ]
  },
  {
   "cell_type": "code",
   "execution_count": 11,
   "metadata": {},
   "outputs": [],
   "source": [
    "swap1 = FinIborSwap(settlementDate,\"2Y\",swapType,0.015910,fixedFreq,dcType)\n",
    "swap2 = FinIborSwap(settlementDate,\"3Y\",swapType,0.014990,fixedFreq,dcType)\n",
    "swap3 = FinIborSwap(settlementDate,\"4Y\",swapType,0.014725,fixedFreq,dcType)\n",
    "swap4 = FinIborSwap(settlementDate,\"5Y\",swapType,0.014640,fixedFreq,dcType)\n",
    "swap5 = FinIborSwap(settlementDate,\"6Y\",swapType,0.014800,fixedFreq,dcType)\n",
    "swap6 = FinIborSwap(settlementDate,\"7Y\",swapType,0.014995,fixedFreq,dcType)\n",
    "swap7 = FinIborSwap(settlementDate,\"8Y\",swapType,0.015180,fixedFreq,dcType)\n",
    "swap8 = FinIborSwap(settlementDate,\"9Y\",swapType,0.015610,fixedFreq,dcType)\n",
    "swap9 = FinIborSwap(settlementDate,\"10Y\",swapType,0.0159880,fixedFreq,dcType)\n",
    "swap10 = FinIborSwap(settlementDate,\"12Y\",swapType,0.016430,fixedFreq,dcType)"
   ]
  },
  {
   "cell_type": "code",
   "execution_count": 12,
   "metadata": {},
   "outputs": [],
   "source": [
    "swaps = [swap1,swap2,swap3,swap4,swap5,swap6,swap7,swap8,swap9,swap10]"
   ]
  },
  {
   "cell_type": "code",
   "execution_count": 13,
   "metadata": {},
   "outputs": [],
   "source": [
    "fras = []"
   ]
  },
  {
   "cell_type": "markdown",
   "metadata": {},
   "source": [
    "# Bootstrapping The Curve"
   ]
  },
  {
   "cell_type": "code",
   "execution_count": 14,
   "metadata": {},
   "outputs": [
    {
     "name": "stdout",
     "output_type": "stream",
     "text": [
      "Inserting synthetic deposit\n"
     ]
    }
   ],
   "source": [
    "liborCurve = FinIborSingleCurve(valuationDate, depos, fras, swaps)"
   ]
  },
  {
   "cell_type": "markdown",
   "metadata": {},
   "source": [
    "Can we show that the Ibor deposits have been repriced at par"
   ]
  },
  {
   "cell_type": "code",
   "execution_count": 15,
   "metadata": {},
   "outputs": [
    {
     "name": "stdout",
     "output_type": "stream",
     "text": [
      "100.0 SUN 11 AUG 2019 100.0\n",
      "100.0 WED 11 SEP 2019 100.0\n",
      "100.0 FRI 11 OCT 2019 100.0\n",
      "100.0 MON 11 NOV 2019 99.99999999999999\n",
      "100.0 TUE 11 FEB 2020 99.99999999999999\n",
      "100.0 TUE 11 AUG 2020 100.0\n"
     ]
    }
   ],
   "source": [
    "for depo in depos:\n",
    "    v = depo.value(settlementDate, liborCurve)\n",
    "    print(depo._notional, depo._maturityDate, v)"
   ]
  },
  {
   "cell_type": "code",
   "execution_count": 16,
   "metadata": {},
   "outputs": [
    {
     "name": "stdout",
     "output_type": "stream",
     "text": [
      "1000000 WED 11 AUG 2021 -2.510205376893282e-10\n",
      "1000000 THU 11 AUG 2022 -3.41970007866621e-10\n",
      "1000000 FRI 11 AUG 2023 -4.5838532969355583e-10\n",
      "1000000 MON 12 AUG 2024 -2.3283064365386963e-10\n",
      "1000000 MON 11 AUG 2025 -3.2014213502407074e-10\n",
      "1000000 TUE 11 AUG 2026 -5.529727786779404e-10\n",
      "1000000 WED 11 AUG 2027 -5.384208634495735e-10\n",
      "1000000 FRI 11 AUG 2028 -6.402842700481415e-10\n",
      "1000000 MON 13 AUG 2029 -7.8580342233181e-10\n",
      "1000000 MON 11 AUG 2031 -9.89530235528946e-10\n"
     ]
    }
   ],
   "source": [
    "for swap in swaps:\n",
    "    v = swap.value(settlementDate, liborCurve, liborCurve, None)\n",
    "    print(swap._notional, swap._maturityDate, v)"
   ]
  },
  {
   "cell_type": "markdown",
   "metadata": {},
   "source": [
    "Looks good!"
   ]
  },
  {
   "cell_type": "markdown",
   "metadata": {},
   "source": [
    "## The Forward Curve"
   ]
  },
  {
   "cell_type": "code",
   "execution_count": 20,
   "metadata": {},
   "outputs": [],
   "source": [
    "years = np.linspace(0, 15.0, 200)\n",
    "dates = settlementDate.addYears(years)\n",
    "fwds = liborCurve.fwd(dates)"
   ]
  },
  {
   "cell_type": "code",
   "execution_count": 21,
   "metadata": {
    "scrolled": true
   },
   "outputs": [
    {
     "data": {
      "image/png": "[encoded data removed]",
      "text/plain": [
       "<Figure size 576x360 with 1 Axes>"
      ]
     },
     "metadata": {
      "needs_background": "light"
     },
     "output_type": "display_data"
    }
   ],
   "source": [
    "plt.figure(figsize=(8,5))\n",
    "plt.plot(years,fwds*100, label=\"Instantaneous Forwards\")\n",
    "plt.xlabel(\"Time\")\n",
    "plt.ylabel(\"Forwards (%)\")\n",
    "plt.legend()\n",
    "plt.grid()"
   ]
  },
  {
   "cell_type": "markdown",
   "metadata": {},
   "source": [
    "Zoom in one the short end"
   ]
  },
  {
   "cell_type": "code",
   "execution_count": 22,
   "metadata": {},
   "outputs": [],
   "source": [
    "years = np.linspace(0,1.0,1000)\n",
    "dates = settlementDate.addYears(years)\n",
    "fwds = liborCurve.fwd(dates)"
   ]
  },
  {
   "cell_type": "code",
   "execution_count": 23,
   "metadata": {},
   "outputs": [
    {
     "data": {
      "image/png": "[encoded data removed]",
      "text/plain": [
       "<Figure size 576x360 with 1 Axes>"
      ]
     },
     "metadata": {
      "needs_background": "light"
     },
     "output_type": "display_data"
    }
   ],
   "source": [
    "plt.figure(figsize=(8,5))\n",
    "plt.plot(years,fwds*100, label=\"Instantaneous Forwards\")\n",
    "plt.xlabel(\"Time\")\n",
    "plt.ylabel(\"Forwards (%)\")\n",
    "plt.legend()\n",
    "plt.grid()"
   ]
  },
  {
   "cell_type": "markdown",
   "metadata": {},
   "source": [
    "## Extracting the Zero Rate Curves"
   ]
  },
  {
   "cell_type": "markdown",
   "metadata": {},
   "source": [
    "We choose a range of zero rate frequencies."
   ]
  },
  {
   "cell_type": "code",
   "execution_count": 24,
   "metadata": {},
   "outputs": [],
   "source": [
    "years = np.linspace(1/365,5,100)\n",
    "dates = settlementDate.addYears(years)\n",
    "zerosC = liborCurve.zeroRate(dates, FinFrequencyTypes.CONTINUOUS)\n",
    "zeros1 = liborCurve.zeroRate(dates, FinFrequencyTypes.ANNUAL)\n",
    "zeros2 = liborCurve.zeroRate(dates, FinFrequencyTypes.SEMI_ANNUAL)\n",
    "zeros4 = liborCurve.zeroRate(dates, FinFrequencyTypes.QUARTERLY)"
   ]
  },
  {
   "cell_type": "code",
   "execution_count": 25,
   "metadata": {},
   "outputs": [
    {
     "data": {
      "image/png": "[encoded data removed]",
      "text/plain": [
       "<Figure size 576x360 with 1 Axes>"
      ]
     },
     "metadata": {
      "needs_background": "light"
     },
     "output_type": "display_data"
    }
   ],
   "source": [
    "plt.figure(figsize=(8,5))\n",
    "plt.plot(years,zerosC*100, label=\"Zero Rates (C)\")\n",
    "plt.plot(years,zeros1*100, label=\"Zero Rates (Ann)\")\n",
    "plt.plot(years,zeros2*100, label=\"Zero Rates (SA)\")\n",
    "plt.plot(years,zeros4*100, label=\"Zero Rates (Q)\")\n",
    "plt.xlabel(\"Time\")\n",
    "plt.ylabel(\"Zero (%)\")\n",
    "plt.legend()\n",
    "plt.grid()"
   ]
  },
  {
   "cell_type": "markdown",
   "metadata": {},
   "source": [
    "Copyright (c) 2020 Dominic O'Kane"
   ]
  }
 ],
 "metadata": {
  "kernelspec": {
   "display_name": "Python 3",
   "language": "python",
   "name": "python3"
  },
  "language_info": {
   "codemirror_mode": {
    "name": "ipython",
    "version": 3
   },
   "file_extension": ".py",
   "mimetype": "text/x-python",
   "name": "python",
   "nbconvert_exporter": "python",
   "pygments_lexer": "ipython3",
   "version": "3.7.6"
  }
 },
 "nbformat": 4,
 "nbformat_minor": 2
}
