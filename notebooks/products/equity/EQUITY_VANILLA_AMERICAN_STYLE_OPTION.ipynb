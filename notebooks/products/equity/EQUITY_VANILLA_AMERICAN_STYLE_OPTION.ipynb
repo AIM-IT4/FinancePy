{
 "cells": [
  {
   "cell_type": "markdown",
   "metadata": {},
   "source": [
    "# EQUITY AMERICAN OPTIONS"
   ]
  },
  {
   "cell_type": "markdown",
   "metadata": {},
   "source": [
    "Valuation and Risk of American-style options on equity"
   ]
  },
  {
   "cell_type": "code",
   "execution_count": 1,
   "metadata": {
    "execution": {
     "iopub.execute_input": "2021-01-17T21:44:57.306524Z",
     "iopub.status.busy": "2021-01-17T21:44:57.305528Z",
     "iopub.status.idle": "2021-01-17T21:44:57.559867Z",
     "shell.execute_reply": "2021-01-17T21:44:57.559867Z"
    }
   },
   "outputs": [],
   "source": [
    "import numpy as np\n",
    "import matplotlib.pyplot as plt"
   ]
  },
  {
   "cell_type": "code",
   "execution_count": null,
   "metadata": {
    "execution": {
     "iopub.execute_input": "2021-01-17T21:44:57.562888Z",
     "iopub.status.busy": "2021-01-17T21:44:57.561891Z",
     "iopub.status.idle": "2021-01-17T21:44:58.719813Z",
     "shell.execute_reply": "2021-01-17T21:44:58.719813Z"
    }
   },
   "outputs": [
    {
     "name": "stdout",
     "output_type": "stream",
     "text": [
      "####################################################################\n",
      "# FINANCEPY BETA Version 0.270 - This build:  26 Feb 2023 at 19:12 #\n",
      "#      This software is distributed FREE & WITHOUT ANY WARRANTY    #\n",
      "#  Report bugs as issues at https://github.com/domokane/FinancePy  #\n",
      "####################################################################\n",
      "\n"
     ]
    }
   ],
   "source": [
    "from financepy.utils import *\n",
    "from financepy.market.curves import *\n",
    "from financepy.products.equity import *\n",
    "from financepy.models.black_scholes import *"
   ]
  },
  {
   "cell_type": "markdown",
   "metadata": {},
   "source": [
    "# Define the Call and Put Options"
   ]
  },
  {
   "cell_type": "code",
   "execution_count": null,
   "metadata": {
    "execution": {
     "iopub.execute_input": "2021-01-17T21:44:58.733804Z",
     "iopub.status.busy": "2021-01-17T21:44:58.733804Z",
     "iopub.status.idle": "2021-01-17T21:44:58.739760Z",
     "shell.execute_reply": "2021-01-17T21:44:58.739760Z"
    }
   },
   "outputs": [],
   "source": [
    "valuation_date = Date(1, 1, 2015)"
   ]
  },
  {
   "cell_type": "code",
   "execution_count": null,
   "metadata": {
    "execution": {
     "iopub.execute_input": "2021-01-17T21:44:58.741755Z",
     "iopub.status.busy": "2021-01-17T21:44:58.741755Z",
     "iopub.status.idle": "2021-01-17T21:44:58.745744Z",
     "shell.execute_reply": "2021-01-17T21:44:58.745744Z"
    }
   },
   "outputs": [],
   "source": [
    "expiry_date = valuation_date.add_years(0.5)"
   ]
  },
  {
   "cell_type": "code",
   "execution_count": null,
   "metadata": {
    "execution": {
     "iopub.execute_input": "2021-01-17T21:44:58.748736Z",
     "iopub.status.busy": "2021-01-17T21:44:58.748736Z",
     "iopub.status.idle": "2021-01-17T21:44:58.751728Z",
     "shell.execute_reply": "2021-01-17T21:44:58.751728Z"
    }
   },
   "outputs": [],
   "source": [
    "expiry_date"
   ]
  },
  {
   "cell_type": "code",
   "execution_count": null,
   "metadata": {
    "execution": {
     "iopub.execute_input": "2021-01-17T21:44:58.753750Z",
     "iopub.status.busy": "2021-01-17T21:44:58.752755Z",
     "iopub.status.idle": "2021-01-17T21:44:58.755909Z",
     "shell.execute_reply": "2021-01-17T21:44:58.754881Z"
    }
   },
   "outputs": [],
   "source": [
    "strike_price = 50.0"
   ]
  },
  {
   "cell_type": "code",
   "execution_count": null,
   "metadata": {
    "execution": {
     "iopub.execute_input": "2021-01-17T21:44:58.757904Z",
     "iopub.status.busy": "2021-01-17T21:44:58.756921Z",
     "iopub.status.idle": "2021-01-17T21:44:58.759870Z",
     "shell.execute_reply": "2021-01-17T21:44:58.759870Z"
    }
   },
   "outputs": [],
   "source": [
    "EU_CALL = OptionTypes.EUROPEAN_CALL\n",
    "EU_PUT = OptionTypes.EUROPEAN_PUT"
   ]
  },
  {
   "cell_type": "markdown",
   "metadata": {},
   "source": [
    "Let's create a put and a call using the Vanilla class"
   ]
  },
  {
   "cell_type": "code",
   "execution_count": null,
   "metadata": {
    "execution": {
     "iopub.execute_input": "2021-01-17T21:44:58.761865Z",
     "iopub.status.busy": "2021-01-17T21:44:58.761865Z",
     "iopub.status.idle": "2021-01-17T21:44:58.764053Z",
     "shell.execute_reply": "2021-01-17T21:44:58.763021Z"
    }
   },
   "outputs": [],
   "source": [
    "europeanCallOption = EquityVanillaOption(expiry_date, strike_price, EU_CALL)"
   ]
  },
  {
   "cell_type": "code",
   "execution_count": null,
   "metadata": {
    "execution": {
     "iopub.execute_input": "2021-01-17T21:44:58.766045Z",
     "iopub.status.busy": "2021-01-17T21:44:58.765046Z",
     "iopub.status.idle": "2021-01-17T21:44:58.768010Z",
     "shell.execute_reply": "2021-01-17T21:44:58.768010Z"
    }
   },
   "outputs": [],
   "source": [
    "europeanPutOption = EquityVanillaOption(expiry_date, strike_price, EU_PUT)"
   ]
  },
  {
   "cell_type": "markdown",
   "metadata": {},
   "source": [
    "Now let's create a put and a call American and European option types using the American class"
   ]
  },
  {
   "cell_type": "code",
   "execution_count": null,
   "metadata": {
    "execution": {
     "iopub.execute_input": "2021-01-17T21:44:58.770033Z",
     "iopub.status.busy": "2021-01-17T21:44:58.770033Z",
     "iopub.status.idle": "2021-01-17T21:44:58.775990Z",
     "shell.execute_reply": "2021-01-17T21:44:58.773996Z"
    }
   },
   "outputs": [],
   "source": [
    "europeanAmericanCallOption = EquityAmericanOption(expiry_date, strike_price, EU_CALL)"
   ]
  },
  {
   "cell_type": "code",
   "execution_count": null,
   "metadata": {
    "execution": {
     "iopub.execute_input": "2021-01-17T21:44:58.780976Z",
     "iopub.status.busy": "2021-01-17T21:44:58.779979Z",
     "iopub.status.idle": "2021-01-17T21:44:58.782970Z",
     "shell.execute_reply": "2021-01-17T21:44:58.782970Z"
    }
   },
   "outputs": [],
   "source": [
    "europeanAmericanPutOption = EquityAmericanOption(expiry_date, strike_price, EU_PUT)"
   ]
  },
  {
   "cell_type": "code",
   "execution_count": null,
   "metadata": {
    "execution": {
     "iopub.execute_input": "2021-01-17T21:44:58.786959Z",
     "iopub.status.busy": "2021-01-17T21:44:58.786959Z",
     "iopub.status.idle": "2021-01-17T21:44:58.789951Z",
     "shell.execute_reply": "2021-01-17T21:44:58.788992Z"
    }
   },
   "outputs": [],
   "source": [
    "americanCallOption = EquityAmericanOption(expiry_date, strike_price, OptionTypes.AMERICAN_CALL)"
   ]
  },
  {
   "cell_type": "code",
   "execution_count": null,
   "metadata": {
    "execution": {
     "iopub.execute_input": "2021-01-17T21:44:58.793940Z",
     "iopub.status.busy": "2021-01-17T21:44:58.792943Z",
     "iopub.status.idle": "2021-01-17T21:44:58.795935Z",
     "shell.execute_reply": "2021-01-17T21:44:58.794972Z"
    }
   },
   "outputs": [],
   "source": [
    "americanPutOption = EquityAmericanOption(expiry_date, strike_price, OptionTypes.AMERICAN_PUT)"
   ]
  },
  {
   "cell_type": "code",
   "execution_count": null,
   "metadata": {
    "execution": {
     "iopub.execute_input": "2021-01-17T21:44:58.799956Z",
     "iopub.status.busy": "2021-01-17T21:44:58.798960Z",
     "iopub.status.idle": "2021-01-17T21:44:58.802916Z",
     "shell.execute_reply": "2021-01-17T21:44:58.801965Z"
    }
   },
   "outputs": [],
   "source": [
    "print(americanCallOption)"
   ]
  },
  {
   "cell_type": "code",
   "execution_count": null,
   "metadata": {
    "execution": {
     "iopub.execute_input": "2021-01-17T21:44:58.805909Z",
     "iopub.status.busy": "2021-01-17T21:44:58.804915Z",
     "iopub.status.idle": "2021-01-17T21:44:58.807968Z",
     "shell.execute_reply": "2021-01-17T21:44:58.807968Z"
    }
   },
   "outputs": [],
   "source": [
    "print(americanPutOption)"
   ]
  },
  {
   "cell_type": "markdown",
   "metadata": {},
   "source": [
    "## Valuation"
   ]
  },
  {
   "cell_type": "code",
   "execution_count": null,
   "metadata": {
    "execution": {
     "iopub.execute_input": "2021-01-17T21:44:58.810931Z",
     "iopub.status.busy": "2021-01-17T21:44:58.810931Z",
     "iopub.status.idle": "2021-01-17T21:44:58.813963Z",
     "shell.execute_reply": "2021-01-17T21:44:58.813963Z"
    }
   },
   "outputs": [],
   "source": [
    "stock_price = 50.0\n",
    "volatility = 0.20\n",
    "interest_rate = 0.05\n",
    "dividend_yield = 0.0"
   ]
  },
  {
   "cell_type": "code",
   "execution_count": null,
   "metadata": {
    "execution": {
     "iopub.execute_input": "2021-01-17T21:44:58.817911Z",
     "iopub.status.busy": "2021-01-17T21:44:58.816942Z",
     "iopub.status.idle": "2021-01-17T21:44:58.819937Z",
     "shell.execute_reply": "2021-01-17T21:44:58.819937Z"
    }
   },
   "outputs": [],
   "source": [
    "discount_curve = DiscountCurveFlat(valuation_date, interest_rate)"
   ]
  },
  {
   "cell_type": "code",
   "execution_count": null,
   "metadata": {
    "execution": {
     "iopub.execute_input": "2021-01-17T21:44:58.822898Z",
     "iopub.status.busy": "2021-01-17T21:44:58.822898Z",
     "iopub.status.idle": "2021-01-17T21:44:58.825927Z",
     "shell.execute_reply": "2021-01-17T21:44:58.825927Z"
    }
   },
   "outputs": [],
   "source": [
    "dividend_curve = DiscountCurveFlat(valuation_date, dividend_yield)"
   ]
  },
  {
   "cell_type": "markdown",
   "metadata": {},
   "source": [
    "#### Analytic Model"
   ]
  },
  {
   "cell_type": "code",
   "execution_count": null,
   "metadata": {
    "execution": {
     "iopub.execute_input": "2021-01-17T21:44:58.827915Z",
     "iopub.status.busy": "2021-01-17T21:44:58.827915Z",
     "iopub.status.idle": "2021-01-17T21:44:58.829915Z",
     "shell.execute_reply": "2021-01-17T21:44:58.829915Z"
    }
   },
   "outputs": [],
   "source": [
    "model = BlackScholes(volatility)"
   ]
  },
  {
   "cell_type": "code",
   "execution_count": null,
   "metadata": {
    "execution": {
     "iopub.execute_input": "2021-01-17T21:44:58.831874Z",
     "iopub.status.busy": "2021-01-17T21:44:58.831874Z",
     "iopub.status.idle": "2021-01-17T21:44:58.833897Z",
     "shell.execute_reply": "2021-01-17T21:44:58.833897Z"
    }
   },
   "outputs": [],
   "source": [
    "europeanCallOption.value(valuation_date, stock_price, discount_curve, dividend_curve, model)"
   ]
  },
  {
   "cell_type": "code",
   "execution_count": null,
   "metadata": {
    "execution": {
     "iopub.execute_input": "2021-01-17T21:44:58.835863Z",
     "iopub.status.busy": "2021-01-17T21:44:58.835863Z",
     "iopub.status.idle": "2021-01-17T21:44:58.837886Z",
     "shell.execute_reply": "2021-01-17T21:44:58.837886Z"
    }
   },
   "outputs": [],
   "source": [
    "europeanAmericanCallOption.value(valuation_date, stock_price, discount_curve, dividend_curve, model)"
   ]
  },
  {
   "cell_type": "markdown",
   "metadata": {},
   "source": [
    "#### Finite Difference Model"
   ]
  },
  {
   "cell_type": "code",
   "execution_count": null,
   "metadata": {},
   "outputs": [],
   "source": [
    "params = {\n",
    "    'num_samples': 2000,\n",
    "    'theta': 0.5\n",
    "}\n",
    "model = BlackScholes(volatility,\n",
    "                     implementationType=BlackScholesTypes.FINITE_DIFFERENCE,\n",
    "                     params=params)"
   ]
  },
  {
   "cell_type": "code",
   "execution_count": null,
   "metadata": {},
   "outputs": [],
   "source": [
    "europeanCallOption.value(valuation_date, stock_price, discount_curve, dividend_curve, model)"
   ]
  },
  {
   "cell_type": "code",
   "execution_count": null,
   "metadata": {},
   "outputs": [],
   "source": [
    "europeanAmericanCallOption.value(valuation_date, stock_price, discount_curve, dividend_curve, model)"
   ]
  },
  {
   "cell_type": "code",
   "execution_count": null,
   "metadata": {},
   "outputs": [],
   "source": [
    "americanCallOption.value(valuation_date, stock_price, discount_curve, dividend_curve, model)"
   ]
  },
  {
   "cell_type": "code",
   "execution_count": null,
   "metadata": {},
   "outputs": [],
   "source": [
    "europeanPutOption.value(valuation_date, stock_price, discount_curve, dividend_curve, model)"
   ]
  },
  {
   "cell_type": "code",
   "execution_count": null,
   "metadata": {},
   "outputs": [],
   "source": [
    "europeanAmericanPutOption.value(valuation_date, stock_price, discount_curve, dividend_curve, model)"
   ]
  },
  {
   "cell_type": "code",
   "execution_count": null,
   "metadata": {
    "scrolled": false
   },
   "outputs": [],
   "source": [
    "americanPutOption.value(valuation_date, stock_price, discount_curve, dividend_curve, model)"
   ]
  },
  {
   "cell_type": "markdown",
   "metadata": {},
   "source": [
    "#### PSOR Model"
   ]
  },
  {
   "cell_type": "code",
   "execution_count": null,
   "metadata": {},
   "outputs": [],
   "source": [
    "params = {\n",
    "    'theta': 0.5,\n",
    "    'num_samples': 2000,\n",
    "}\n",
    "model = BlackScholes(volatility,\n",
    "                     implementationType=BlackScholesTypes.PSOR,\n",
    "                     params=params)"
   ]
  },
  {
   "cell_type": "code",
   "execution_count": null,
   "metadata": {},
   "outputs": [],
   "source": [
    "europeanCallOption.value(valuation_date, stock_price, discount_curve, dividend_curve, model)"
   ]
  },
  {
   "cell_type": "code",
   "execution_count": null,
   "metadata": {},
   "outputs": [],
   "source": [
    "europeanAmericanCallOption.value(valuation_date, stock_price, discount_curve, dividend_curve, model)"
   ]
  },
  {
   "cell_type": "code",
   "execution_count": null,
   "metadata": {},
   "outputs": [],
   "source": [
    "americanCallOption.value(valuation_date, stock_price, discount_curve, dividend_curve, model)"
   ]
  },
  {
   "cell_type": "code",
   "execution_count": null,
   "metadata": {},
   "outputs": [],
   "source": [
    "europeanPutOption.value(valuation_date, stock_price, discount_curve, dividend_curve, model)"
   ]
  },
  {
   "cell_type": "code",
   "execution_count": null,
   "metadata": {},
   "outputs": [],
   "source": [
    "europeanAmericanPutOption.value(valuation_date, stock_price, discount_curve, dividend_curve, model)"
   ]
  },
  {
   "cell_type": "code",
   "execution_count": null,
   "metadata": {
    "scrolled": false
   },
   "outputs": [],
   "source": [
    "americanPutOption.value(valuation_date, stock_price, discount_curve, dividend_curve, model)"
   ]
  },
  {
   "cell_type": "markdown",
   "metadata": {},
   "source": [
    "#### CRR Tree Model\n",
    "These prices should be the same. If we insist on using the Tree the price changes a bit"
   ]
  },
  {
   "cell_type": "code",
   "execution_count": null,
   "metadata": {},
   "outputs": [],
   "source": [
    "model = BlackScholes(volatility, BlackScholesTypes.CRR_TREE)"
   ]
  },
  {
   "cell_type": "code",
   "execution_count": null,
   "metadata": {},
   "outputs": [],
   "source": [
    "europeanCallOption.value(valuation_date, stock_price, discount_curve, dividend_curve, model)"
   ]
  },
  {
   "cell_type": "code",
   "execution_count": null,
   "metadata": {},
   "outputs": [],
   "source": [
    "europeanAmericanCallOption.value(valuation_date, stock_price, discount_curve, dividend_curve, model)"
   ]
  },
  {
   "cell_type": "code",
   "execution_count": null,
   "metadata": {
    "execution": {
     "iopub.execute_input": "2021-01-17T21:44:58.839882Z",
     "iopub.status.busy": "2021-01-17T21:44:58.839882Z",
     "iopub.status.idle": "2021-01-17T21:44:59.030346Z",
     "shell.execute_reply": "2021-01-17T21:44:59.029389Z"
    }
   },
   "outputs": [],
   "source": [
    "americanCallOption.value(valuation_date, stock_price, discount_curve, dividend_curve, model)"
   ]
  },
  {
   "cell_type": "code",
   "execution_count": null,
   "metadata": {},
   "outputs": [],
   "source": [
    "europeanPutOption.value(valuation_date, stock_price, discount_curve, dividend_curve, model)"
   ]
  },
  {
   "cell_type": "code",
   "execution_count": null,
   "metadata": {},
   "outputs": [],
   "source": [
    "europeanAmericanPutOption.value(valuation_date, stock_price, discount_curve, dividend_curve, model)"
   ]
  },
  {
   "cell_type": "markdown",
   "metadata": {},
   "source": [
    "These prices should be the same even though one is using the BS formula and the other uses the CRR tree"
   ]
  },
  {
   "cell_type": "code",
   "execution_count": null,
   "metadata": {},
   "outputs": [],
   "source": [
    "americanPutOption.value(valuation_date, stock_price, discount_curve, dividend_curve, model)"
   ]
  },
  {
   "cell_type": "markdown",
   "metadata": {},
   "source": [
    "This price is higher as there is an advantage to exercising early when holding an American put"
   ]
  },
  {
   "cell_type": "markdown",
   "metadata": {},
   "source": [
    "## Risk Measures"
   ]
  },
  {
   "cell_type": "markdown",
   "metadata": {},
   "source": [
    "You can calculate the risk measures using using perturbatory analysis"
   ]
  },
  {
   "cell_type": "code",
   "execution_count": null,
   "metadata": {},
   "outputs": [],
   "source": [
    "americanCallOption.delta(valuation_date, stock_price, discount_curve, dividend_curve, model)"
   ]
  },
  {
   "cell_type": "code",
   "execution_count": null,
   "metadata": {},
   "outputs": [],
   "source": [
    "americanCallOption.gamma(valuation_date, stock_price, discount_curve, dividend_curve, model)"
   ]
  },
  {
   "cell_type": "code",
   "execution_count": null,
   "metadata": {},
   "outputs": [],
   "source": [
    "americanCallOption.theta(valuation_date, stock_price, discount_curve, dividend_curve, model)"
   ]
  },
  {
   "cell_type": "code",
   "execution_count": null,
   "metadata": {},
   "outputs": [],
   "source": [
    "americanCallOption.rho(valuation_date, stock_price, discount_curve, dividend_curve, model)"
   ]
  },
  {
   "cell_type": "markdown",
   "metadata": {},
   "source": [
    "Copyright (c) 2020 Dominic O'Kane"
   ]
  }
 ],
 "metadata": {
  "kernelspec": {
   "display_name": "Python 3 (ipykernel)",
   "language": "python",
   "name": "python3"
  },
  "language_info": {
   "codemirror_mode": {
    "name": "ipython",
    "version": 3
   },
   "file_extension": ".py",
   "mimetype": "text/x-python",
   "name": "python",
   "nbconvert_exporter": "python",
   "pygments_lexer": "ipython3",
   "version": "3.10.4"
  }
 },
 "nbformat": 4,
 "nbformat_minor": 2
}
