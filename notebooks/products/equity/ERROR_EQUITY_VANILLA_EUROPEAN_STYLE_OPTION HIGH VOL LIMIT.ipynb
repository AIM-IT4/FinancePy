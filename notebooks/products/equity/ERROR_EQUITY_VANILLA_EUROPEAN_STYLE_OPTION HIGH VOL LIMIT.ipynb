{
 "cells": [
  {
   "cell_type": "markdown",
   "metadata": {},
   "source": [
    "# EQUITY VANILLA EUROPEAN-STYLE OPTIONS"
   ]
  },
  {
   "cell_type": "markdown",
   "metadata": {},
   "source": [
    "Valuation and Risk of a simple Vanilla Equity Option"
   ]
  },
  {
   "cell_type": "code",
   "execution_count": 1,
   "metadata": {
    "execution": {
     "iopub.execute_input": "2021-01-18T11:09:25.841884Z",
     "iopub.status.busy": "2021-01-18T11:09:25.841884Z",
     "iopub.status.idle": "2021-01-18T11:09:26.094268Z",
     "shell.execute_reply": "2021-01-18T11:09:26.094268Z"
    }
   },
   "outputs": [],
   "source": [
    "import numpy as np\n",
    "import matplotlib.pyplot as plt"
   ]
  },
  {
   "cell_type": "code",
   "execution_count": 2,
   "metadata": {
    "execution": {
     "iopub.execute_input": "2021-01-18T11:09:26.096265Z",
     "iopub.status.busy": "2021-01-18T11:09:26.096265Z",
     "iopub.status.idle": "2021-01-18T11:09:27.263268Z",
     "shell.execute_reply": "2021-01-18T11:09:27.263268Z"
    }
   },
   "outputs": [
    {
     "name": "stdout",
     "output_type": "stream",
     "text": [
      "####################################################################\n",
      "# FINANCEPY BETA Version 0.191 - This build:  18 Jan 2021 at 12:02 #\n",
      "#      This software is distributed FREE & WITHOUT ANY WARRANTY    #\n",
      "# For info and disclaimer - https://github.com/domokane/FinancePy  #\n",
      "#      Send any bug reports or comments to quant@financepy.com     #\n",
      "####################################################################\n",
      "\n"
     ]
    }
   ],
   "source": [
    "from financepy.finutils import *\n",
    "from financepy.products.equity import *"
   ]
  },
  {
   "cell_type": "markdown",
   "metadata": {},
   "source": [
    "# Define the Call and Put Options"
   ]
  },
  {
   "cell_type": "code",
   "execution_count": 3,
   "metadata": {
    "execution": {
     "iopub.execute_input": "2021-01-18T11:09:27.277260Z",
     "iopub.status.busy": "2021-01-18T11:09:27.277260Z",
     "iopub.status.idle": "2021-01-18T11:09:27.283215Z",
     "shell.execute_reply": "2021-01-18T11:09:27.283215Z"
    }
   },
   "outputs": [],
   "source": [
    "valueDate = FinDate(1, 1, 2015)"
   ]
  },
  {
   "cell_type": "code",
   "execution_count": 4,
   "metadata": {
    "execution": {
     "iopub.execute_input": "2021-01-18T11:09:27.285238Z",
     "iopub.status.busy": "2021-01-18T11:09:27.285238Z",
     "iopub.status.idle": "2021-01-18T11:09:27.289199Z",
     "shell.execute_reply": "2021-01-18T11:09:27.289199Z"
    }
   },
   "outputs": [],
   "source": [
    "expiryDate = valueDate.addYears(0.5)"
   ]
  },
  {
   "cell_type": "code",
   "execution_count": 5,
   "metadata": {
    "execution": {
     "iopub.execute_input": "2021-01-18T11:09:27.292220Z",
     "iopub.status.busy": "2021-01-18T11:09:27.292220Z",
     "iopub.status.idle": "2021-01-18T11:09:27.295183Z",
     "shell.execute_reply": "2021-01-18T11:09:27.295183Z"
    }
   },
   "outputs": [
    {
     "data": {
      "text/plain": [
       "01-JUL-2015"
      ]
     },
     "execution_count": 1,
     "metadata": {},
     "output_type": "execute_result"
    }
   ],
   "source": [
    "expiryDate"
   ]
  },
  {
   "cell_type": "code",
   "execution_count": 6,
   "metadata": {
    "execution": {
     "iopub.execute_input": "2021-01-18T11:09:27.297206Z",
     "iopub.status.busy": "2021-01-18T11:09:27.296210Z",
     "iopub.status.idle": "2021-01-18T11:09:27.299251Z",
     "shell.execute_reply": "2021-01-18T11:09:27.299251Z"
    }
   },
   "outputs": [],
   "source": [
    "strikePrice = 50.0"
   ]
  },
  {
   "cell_type": "code",
   "execution_count": 7,
   "metadata": {
    "execution": {
     "iopub.execute_input": "2021-01-18T11:09:27.301248Z",
     "iopub.status.busy": "2021-01-18T11:09:27.301248Z",
     "iopub.status.idle": "2021-01-18T11:09:27.303242Z",
     "shell.execute_reply": "2021-01-18T11:09:27.304251Z"
    }
   },
   "outputs": [],
   "source": [
    "callOption = FinEquityVanillaOption(expiryDate, strikePrice, FinOptionTypes.EUROPEAN_CALL)"
   ]
  },
  {
   "cell_type": "code",
   "execution_count": 8,
   "metadata": {
    "execution": {
     "iopub.execute_input": "2021-01-18T11:09:27.307262Z",
     "iopub.status.busy": "2021-01-18T11:09:27.306263Z",
     "iopub.status.idle": "2021-01-18T11:09:27.310257Z",
     "shell.execute_reply": "2021-01-18T11:09:27.309229Z"
    }
   },
   "outputs": [],
   "source": [
    "putOption = FinEquityVanillaOption(expiryDate, strikePrice, FinOptionTypes.EUROPEAN_PUT)"
   ]
  },
  {
   "cell_type": "code",
   "execution_count": 9,
   "metadata": {
    "execution": {
     "iopub.execute_input": "2021-01-18T11:09:27.313219Z",
     "iopub.status.busy": "2021-01-18T11:09:27.312219Z",
     "iopub.status.idle": "2021-01-18T11:09:27.315210Z",
     "shell.execute_reply": "2021-01-18T11:09:27.315210Z"
    }
   },
   "outputs": [
    {
     "data": {
      "text/plain": [
       "45.241870901797974"
      ]
     },
     "execution_count": 1,
     "metadata": {},
     "output_type": "execute_result"
    }
   ],
   "source": [
    "50.0*exp(-0.20*0.5)"
   ]
  },
  {
   "cell_type": "code",
   "execution_count": 10,
   "metadata": {
    "execution": {
     "iopub.execute_input": "2021-01-18T11:09:27.317205Z",
     "iopub.status.busy": "2021-01-18T11:09:27.317205Z",
     "iopub.status.idle": "2021-01-18T11:09:27.320197Z",
     "shell.execute_reply": "2021-01-18T11:09:27.320197Z"
    }
   },
   "outputs": [],
   "source": [
    "stockPrice = 50\n",
    "volatility = 0.20\n",
    "interestRate = 0.05\n",
    "dividendYield = 0.05"
   ]
  },
  {
   "cell_type": "code",
   "execution_count": 11,
   "metadata": {
    "execution": {
     "iopub.execute_input": "2021-01-18T11:09:27.323189Z",
     "iopub.status.busy": "2021-01-18T11:09:27.323189Z",
     "iopub.status.idle": "2021-01-18T11:09:27.326209Z",
     "shell.execute_reply": "2021-01-18T11:09:27.326209Z"
    }
   },
   "outputs": [],
   "source": [
    "discountCurve = FinDiscountCurveFlat(valueDate, interestRate, FinFrequencyTypes.CONTINUOUS)"
   ]
  },
  {
   "cell_type": "code",
   "execution_count": 12,
   "metadata": {
    "execution": {
     "iopub.execute_input": "2021-01-18T11:09:27.329173Z",
     "iopub.status.busy": "2021-01-18T11:09:27.329173Z",
     "iopub.status.idle": "2021-01-18T11:09:27.332165Z",
     "shell.execute_reply": "2021-01-18T11:09:27.332165Z"
    }
   },
   "outputs": [],
   "source": [
    "dividendCurve = FinDiscountCurveFlat(valueDate, dividendYield)"
   ]
  },
  {
   "cell_type": "code",
   "execution_count": 13,
   "metadata": {
    "execution": {
     "iopub.execute_input": "2021-01-18T11:09:27.334160Z",
     "iopub.status.busy": "2021-01-18T11:09:27.334160Z",
     "iopub.status.idle": "2021-01-18T11:09:27.336181Z",
     "shell.execute_reply": "2021-01-18T11:09:27.336181Z"
    }
   },
   "outputs": [],
   "source": [
    "volatility = np.linspace(0,100.0,100)"
   ]
  },
  {
   "cell_type": "code",
   "execution_count": 1,
   "metadata": {
    "execution": {
     "iopub.execute_input": "2021-01-18T11:09:27.339146Z",
     "iopub.status.busy": "2021-01-18T11:09:27.339146Z",
     "iopub.status.idle": "2021-01-18T11:09:27.531632Z",
     "shell.execute_reply": "2021-01-18T11:09:27.530665Z"
    }
   },
   "outputs": [
    {
     "name": "stdout",
     "output_type": "stream",
     "text": [
      "==> [  0.           1.01010101   2.02020202   3.03030303   4.04040404\n",
      "   5.05050505   6.06060606   7.07070707   8.08080808   9.09090909\n",
      "  10.1010101   11.11111111  12.12121212  13.13131313  14.14141414\n",
      "  15.15151515  16.16161616  17.17171717  18.18181818  19.19191919\n",
      "  20.2020202   21.21212121  22.22222222  23.23232323  24.24242424\n",
      "  25.25252525  26.26262626  27.27272727  28.28282828  29.29292929\n",
      "  30.3030303   31.31313131  32.32323232  33.33333333  34.34343434\n",
      "  35.35353535  36.36363636  37.37373737  38.38383838  39.39393939\n",
      "  40.4040404   41.41414141  42.42424242  43.43434343  44.44444444\n",
      "  45.45454545  46.46464646  47.47474747  48.48484848  49.49494949\n",
      "  50.50505051  51.51515152  52.52525253  53.53535354  54.54545455\n",
      "  55.55555556  56.56565657  57.57575758  58.58585859  59.5959596\n",
      "  60.60606061  61.61616162  62.62626263  63.63636364  64.64646465\n",
      "  65.65656566  66.66666667  67.67676768  68.68686869  69.6969697\n",
      "  70.70707071  71.71717172  72.72727273  73.73737374  74.74747475\n",
      "  75.75757576  76.76767677  77.77777778  78.78787879  79.7979798\n",
      "  80.80808081  81.81818182  82.82828283  83.83838384  84.84848485\n",
      "  85.85858586  86.86868687  87.87878788  88.88888889  89.8989899\n",
      "  90.90909091  91.91919192  92.92929293  93.93939394  94.94949495\n",
      "  95.95959596  96.96969697  97.97979798  98.98989899 100.        ] <class 'numpy.ndarray'> (<class 'int'>, <class 'float'>, <class 'numpy.float64'>) False\n"
     ]
    },
    {
     "ename": "AttributeError",
     "evalue": "'tuple' object has no attribute '__name__'",
     "output_type": "error",
     "traceback": [
      "\u001b[1;31m---------------------------------------------------------------------------\u001b[0m",
      "\u001b[1;31mAttributeError\u001b[0m                            Traceback (most recent call last)",
      "\u001b[1;32m<ipython-input-1-cb0d3a7ba8bd>\u001b[0m in \u001b[0;36m<module>\u001b[1;34m\u001b[0m\n\u001b[1;32m----> 1\u001b[1;33m \u001b[0mmodel\u001b[0m \u001b[1;33m=\u001b[0m \u001b[0mFinModelBlackScholes\u001b[0m\u001b[1;33m(\u001b[0m\u001b[0mvolatility\u001b[0m\u001b[1;33m)\u001b[0m\u001b[1;33m\u001b[0m\u001b[1;33m\u001b[0m\u001b[0m\n\u001b[0m",
      "\u001b[1;32m~\\AppData\\Roaming\\Python\\Python38\\site-packages\\financepy\\models\\FinModelBlackScholes.py\u001b[0m in \u001b[0;36m__init__\u001b[1;34m(self, volatility, implementationType, numStepsPerYear)\u001b[0m\n\u001b[0;32m     33\u001b[0m                  numStepsPerYear: int = 100):\n\u001b[0;32m     34\u001b[0m \u001b[1;33m\u001b[0m\u001b[0m\n\u001b[1;32m---> 35\u001b[1;33m         \u001b[0mcheckArgumentTypes\u001b[0m\u001b[1;33m(\u001b[0m\u001b[0mself\u001b[0m\u001b[1;33m.\u001b[0m\u001b[0m__init__\u001b[0m\u001b[1;33m,\u001b[0m \u001b[0mlocals\u001b[0m\u001b[1;33m(\u001b[0m\u001b[1;33m)\u001b[0m\u001b[1;33m)\u001b[0m\u001b[1;33m\u001b[0m\u001b[1;33m\u001b[0m\u001b[0m\n\u001b[0m\u001b[0;32m     36\u001b[0m \u001b[1;33m\u001b[0m\u001b[0m\n\u001b[0;32m     37\u001b[0m         \u001b[0mself\u001b[0m\u001b[1;33m.\u001b[0m\u001b[0m_volatility\u001b[0m \u001b[1;33m=\u001b[0m \u001b[0mvolatility\u001b[0m\u001b[1;33m\u001b[0m\u001b[1;33m\u001b[0m\u001b[0m\n",
      "\u001b[1;32m~\\AppData\\Roaming\\Python\\Python38\\site-packages\\financepy\\finutils\\FinHelperFunctions.py\u001b[0m in \u001b[0;36mcheckArgumentTypes\u001b[1;34m(func, values)\u001b[0m\n\u001b[0;32m    466\u001b[0m             \u001b[0ms\u001b[0m \u001b[1;33m=\u001b[0m \u001b[1;34mf\"In {func.__module__}.{func.__name__}:\\n\"\u001b[0m\u001b[1;33m\u001b[0m\u001b[1;33m\u001b[0m\u001b[0m\n\u001b[0;32m    467\u001b[0m             \u001b[0ms\u001b[0m \u001b[1;33m+=\u001b[0m \u001b[1;34mf\"Mismatched Types: expected a \"\u001b[0m\u001b[1;33m\u001b[0m\u001b[1;33m\u001b[0m\u001b[0m\n\u001b[1;32m--> 468\u001b[1;33m             \u001b[0ms\u001b[0m \u001b[1;33m+=\u001b[0m \u001b[1;34mf\"{valueName} of type '{usableType.__name__}', however\"\u001b[0m\u001b[1;33m\u001b[0m\u001b[1;33m\u001b[0m\u001b[0m\n\u001b[0m\u001b[0;32m    469\u001b[0m             \u001b[0ms\u001b[0m \u001b[1;33m+=\u001b[0m \u001b[1;34mf\" a value of type '{type(value).__name__}' was given.\"\u001b[0m\u001b[1;33m\u001b[0m\u001b[1;33m\u001b[0m\u001b[0m\n\u001b[0;32m    470\u001b[0m             \u001b[1;32mraise\u001b[0m \u001b[0mFinError\u001b[0m\u001b[1;33m(\u001b[0m\u001b[0ms\u001b[0m\u001b[1;33m)\u001b[0m\u001b[1;33m\u001b[0m\u001b[1;33m\u001b[0m\u001b[0m\n",
      "\u001b[1;31mAttributeError\u001b[0m: 'tuple' object has no attribute '__name__'"
     ]
    }
   ],
   "source": [
    "model = FinModelBlackScholes(volatility)"
   ]
  },
  {
   "cell_type": "code",
   "execution_count": 79,
   "metadata": {},
   "outputs": [],
   "source": [
    "callValues = callOption.value(valueDate, stockPrice, discountCurve, dividendCurve, model)"
   ]
  },
  {
   "cell_type": "code",
   "execution_count": 80,
   "metadata": {},
   "outputs": [],
   "source": [
    "putValues = putOption.value(valueDate, stockPrice, discountCurve, dividendCurve, model)"
   ]
  },
  {
   "cell_type": "code",
   "execution_count": 81,
   "metadata": {},
   "outputs": [
    {
     "data": {
      "text/plain": [
       "array([1.36992639e-11, 1.35547299e+01, 2.55147934e+01, 3.48262541e+01,\n",
       "       4.12227484e+01, 4.50998163e+01, 4.71732892e+01, 4.81517029e+01,\n",
       "       4.85590555e+01, 4.87086916e+01, 4.87571885e+01, 4.87710559e+01,\n",
       "       4.87745543e+01, 4.87753329e+01, 4.87754858e+01, 4.87755123e+01,\n",
       "       4.87755163e+01, 4.87755169e+01, 4.87755169e+01, 4.87755169e+01,\n",
       "       4.87755169e+01, 4.87755169e+01, 4.87755169e+01, 4.87755169e+01,\n",
       "       4.87755169e+01, 4.87755169e+01, 4.87755169e+01, 4.87755169e+01,\n",
       "       4.87755169e+01, 4.87755169e+01, 4.87755169e+01, 4.87755169e+01,\n",
       "       4.87755169e+01, 4.87755169e+01, 4.87755169e+01, 4.87755169e+01,\n",
       "       4.87755169e+01, 4.87755169e+01, 4.87755169e+01, 4.87755169e+01,\n",
       "       4.87755169e+01, 4.87755169e+01, 4.87755169e+01, 4.87755169e+01,\n",
       "       4.87755169e+01, 4.87755169e+01, 4.87755169e+01, 4.87755169e+01,\n",
       "       4.87755169e+01, 4.87755169e+01, 4.87755169e+01, 4.87755169e+01,\n",
       "       4.87755169e+01, 4.87755169e+01, 4.87755169e+01, 4.87755169e+01,\n",
       "       4.87755169e+01, 4.87755169e+01, 4.87755169e+01, 4.87755169e+01,\n",
       "       4.87755169e+01, 4.87755169e+01, 4.87755169e+01, 4.87755169e+01,\n",
       "       4.87755169e+01, 4.87755169e+01, 4.87755169e+01, 4.87755169e+01,\n",
       "       4.87755169e+01, 4.87755169e+01, 4.87755169e+01, 4.87755169e+01,\n",
       "       4.87755169e+01, 4.87755169e+01, 4.87755169e+01, 4.87755169e+01,\n",
       "       4.87755169e+01, 4.87755169e+01, 4.87755169e+01, 4.87755169e+01,\n",
       "       4.87755169e+01, 4.87755169e+01, 4.87755169e+01, 4.87755169e+01,\n",
       "       4.87755169e+01, 4.87755169e+01, 4.87755169e+01, 4.87755169e+01,\n",
       "       4.87755169e+01, 4.87755169e+01, 4.87755169e+01, 4.87755169e+01,\n",
       "       4.87755169e+01, 4.87755169e+01, 4.87755169e+01, 4.87755169e+01,\n",
       "       4.87755169e+01, 4.87755169e+01, 4.87755169e+01, 4.87755169e+01])"
      ]
     },
     "execution_count": 81,
     "metadata": {},
     "output_type": "execute_result"
    }
   ],
   "source": [
    "callValues"
   ]
  },
  {
   "cell_type": "code",
   "execution_count": 82,
   "metadata": {},
   "outputs": [
    {
     "data": {
      "text/plain": [
       "array([1.36992639e-11, 1.35547299e+01, 2.55147934e+01, 3.48262541e+01,\n",
       "       4.12227484e+01, 4.50998163e+01, 4.71732892e+01, 4.81517029e+01,\n",
       "       4.85590555e+01, 4.87086916e+01, 4.87571885e+01, 4.87710559e+01,\n",
       "       4.87745543e+01, 4.87753329e+01, 4.87754858e+01, 4.87755123e+01,\n",
       "       4.87755163e+01, 4.87755169e+01, 4.87755169e+01, 4.87755169e+01,\n",
       "       4.87755169e+01, 4.87755169e+01, 4.87755169e+01, 4.87755169e+01,\n",
       "       4.87755169e+01, 4.87755169e+01, 4.87755169e+01, 4.87755169e+01,\n",
       "       4.87755169e+01, 4.87755169e+01, 4.87755169e+01, 4.87755169e+01,\n",
       "       4.87755169e+01, 4.87755169e+01, 4.87755169e+01, 4.87755169e+01,\n",
       "       4.87755169e+01, 4.87755169e+01, 4.87755169e+01, 4.87755169e+01,\n",
       "       4.87755169e+01, 4.87755169e+01, 4.87755169e+01, 4.87755169e+01,\n",
       "       4.87755169e+01, 4.87755169e+01, 4.87755169e+01, 4.87755169e+01,\n",
       "       4.87755169e+01, 4.87755169e+01, 4.87755169e+01, 4.87755169e+01,\n",
       "       4.87755169e+01, 4.87755169e+01, 4.87755169e+01, 4.87755169e+01,\n",
       "       4.87755169e+01, 4.87755169e+01, 4.87755169e+01, 4.87755169e+01,\n",
       "       4.87755169e+01, 4.87755169e+01, 4.87755169e+01, 4.87755169e+01,\n",
       "       4.87755169e+01, 4.87755169e+01, 4.87755169e+01, 4.87755169e+01,\n",
       "       4.87755169e+01, 4.87755169e+01, 4.87755169e+01, 4.87755169e+01,\n",
       "       4.87755169e+01, 4.87755169e+01, 4.87755169e+01, 4.87755169e+01,\n",
       "       4.87755169e+01, 4.87755169e+01, 4.87755169e+01, 4.87755169e+01,\n",
       "       4.87755169e+01, 4.87755169e+01, 4.87755169e+01, 4.87755169e+01,\n",
       "       4.87755169e+01, 4.87755169e+01, 4.87755169e+01, 4.87755169e+01,\n",
       "       4.87755169e+01, 4.87755169e+01, 4.87755169e+01, 4.87755169e+01,\n",
       "       4.87755169e+01, 4.87755169e+01, 4.87755169e+01, 4.87755169e+01,\n",
       "       4.87755169e+01, 4.87755169e+01, 4.87755169e+01, 4.87755169e+01])"
      ]
     },
     "execution_count": 82,
     "metadata": {},
     "output_type": "execute_result"
    }
   ],
   "source": [
    "putValues"
   ]
  },
  {
   "cell_type": "code",
   "execution_count": 83,
   "metadata": {},
   "outputs": [
    {
     "data": {
      "text/plain": [
       "<matplotlib.legend.Legend at 0x1e45840e148>"
      ]
     },
     "execution_count": 83,
     "metadata": {},
     "output_type": "execute_result"
    },
    {
     "data": {
      "image/png": "[encoded data removed]",
      "text/plain": [
       "<Figure size 432x288 with 1 Axes>"
      ]
     },
     "metadata": {
      "needs_background": "light"
     },
     "output_type": "display_data"
    }
   ],
   "source": [
    "plt.plot(volatility, callValues, label=\"Call Value\")\n",
    "plt.plot(volatility, putValues, label=\"Put Value\")\n",
    "plt.legend()"
   ]
  },
  {
   "cell_type": "code",
   "execution_count": null,
   "metadata": {},
   "outputs": [],
   "source": []
  }
 ],
 "metadata": {
  "kernelspec": {
   "display_name": "Python 3",
   "language": "python",
   "name": "python3"
  },
  "language_info": {
   "codemirror_mode": {
    "name": "ipython",
    "version": 3
   },
   "file_extension": ".py",
   "mimetype": "text/x-python",
   "name": "python",
   "nbconvert_exporter": "python",
   "pygments_lexer": "ipython3",
   "version": "3.8.5"
  }
 },
 "nbformat": 4,
 "nbformat_minor": 2
}
