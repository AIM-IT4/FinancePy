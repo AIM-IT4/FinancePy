{
 "cells": [
  {
   "cell_type": "markdown",
   "metadata": {},
   "source": [
    "# Bermudan Swaption Pricing"
   ]
  },
  {
   "cell_type": "markdown",
   "metadata": {},
   "source": [
    "Value a European Swaption using the Hull-White, Black-Derman-Toy and Black-Karasinski models. I analyse relationships to test the model pricing."
   ]
  },
  {
   "cell_type": "markdown",
   "metadata": {},
   "source": [
    "WARNING - PROBLEM WITH OPTION VALUES - NEED TO CHECK"
   ]
  },
  {
   "cell_type": "code",
   "execution_count": 1,
   "metadata": {},
   "outputs": [],
   "source": [
    "import numpy as np\n",
    "import matplotlib.pyplot as plt"
   ]
  },
  {
   "cell_type": "code",
   "execution_count": 2,
   "metadata": {
    "tags": []
   },
   "outputs": [
    {
     "name": "stdout",
     "output_type": "stream",
     "text": [
      "####################################################################\n",
      "# FINANCEPY BETA Version 0.191 - This build:  17 Jan 2021 at 18:30 #\n",
      "#      This software is distributed FREE & WITHOUT ANY WARRANTY    #\n",
      "# For info and disclaimer - https://github.com/domokane/FinancePy  #\n",
      "#      Send any bug reports or comments to quant@financepy.com     #\n",
      "####################################################################\n",
      "\n"
     ]
    }
   ],
   "source": [
    "from financepy.finutils import *\n",
    "from financepy.products.rates import *\n",
    "from financepy.market.curves import *\n",
    "from financepy.models.FinModelRatesHW import FinModelRatesHW\n",
    "from financepy.models.FinModelRatesBK import FinModelRatesBK\n",
    "from financepy.models.FinModelRatesBDT import FinModelRatesBDT"
   ]
  },
  {
   "cell_type": "markdown",
   "metadata": {},
   "source": [
    "## Discount Curve"
   ]
  },
  {
   "cell_type": "code",
   "execution_count": 64,
   "metadata": {},
   "outputs": [],
   "source": [
    "valuationDate = FinDate(1, 1, 2011)\n",
    "settlementDate = valuationDate"
   ]
  },
  {
   "cell_type": "markdown",
   "metadata": {},
   "source": [
    "Set up flat discount curve"
   ]
  },
  {
   "cell_type": "code",
   "execution_count": 65,
   "metadata": {},
   "outputs": [],
   "source": [
    "rate = 0.0625\n",
    "liborCurve = FinDiscountCurveFlat(valuationDate, rate, FinFrequencyTypes.SEMI_ANNUAL)"
   ]
  },
  {
   "cell_type": "markdown",
   "metadata": {},
   "source": [
    "# The Underlying Swap"
   ]
  },
  {
   "cell_type": "markdown",
   "metadata": {},
   "source": [
    "We begin with the underlying swap."
   ]
  },
  {
   "cell_type": "code",
   "execution_count": 66,
   "metadata": {},
   "outputs": [],
   "source": [
    "exerciseDate = settlementDate.addTenor(\"1Y\")\n",
    "swapMaturityDate = settlementDate.addTenor(\"4Y\")\n",
    "swapFixedCoupon = 0.060\n",
    "swapFixedFrequencyType = FinFrequencyTypes.SEMI_ANNUAL\n",
    "swapFixedDayCountType = FinDayCountTypes.ACT_365F\n",
    "swapType = FinSwapTypes.PAY "
   ]
  },
  {
   "cell_type": "markdown",
   "metadata": {},
   "source": [
    "We can value the forward starting swap."
   ]
  },
  {
   "cell_type": "code",
   "execution_count": 67,
   "metadata": {},
   "outputs": [],
   "source": [
    "swap = FinIborSwap(exerciseDate,\n",
    "                    swapMaturityDate,\n",
    "                    swapType,\n",
    "                    swapFixedCoupon,\n",
    "                    swapFixedFrequencyType,\n",
    "                    swapFixedDayCountType)"
   ]
  },
  {
   "cell_type": "code",
   "execution_count": 68,
   "metadata": {},
   "outputs": [
    {
     "name": "stdout",
     "output_type": "stream",
     "text": [
      "Swap Value: 6193.31147\n"
     ]
    }
   ],
   "source": [
    "swapValue = swap.value(valuationDate, liborCurve, liborCurve)\n",
    "print(\"Swap Value: %9.5f\"% swapValue)"
   ]
  },
  {
   "cell_type": "code",
   "execution_count": 69,
   "metadata": {},
   "outputs": [
    {
     "data": {
      "text/plain": [
       "OBJECT TYPE: FinIborSwap\n",
       "OBJECT TYPE: FinFixedLeg\n",
       "START DATE: 01-JAN-2012\n",
       "TERMINATION DATE: 01-JAN-2015\n",
       "MATURITY DATE: 01-JAN-2015\n",
       "NOTIONAL: 1000000\n",
       "PRINCIPAL: 0.0\n",
       "LEG TYPE: FinSwapTypes.PAY\n",
       "COUPON: 0.06\n",
       "FREQUENCY: FinFrequencyTypes.SEMI_ANNUAL\n",
       "DAY COUNT: FinDayCountTypes.ACT_365F\n",
       "CALENDAR: FinCalendarTypes.WEEKEND\n",
       "BUS DAY ADJUST: FinBusDayAdjustTypes.FOLLOWING\n",
       "DATE GEN TYPE: FinDateGenRuleTypes.BACKWARD\n",
       "\n",
       "OBJECT TYPE: FinFloatLeg\n",
       "START DATE: 01-JAN-2012\n",
       "TERMINATION DATE: 01-JAN-2015\n",
       "MATURITY DATE: 01-JAN-2015\n",
       "NOTIONAL: 1000000\n",
       "SWAP TYPE: FinSwapTypes.RECEIVE\n",
       "SPREAD (BPS): 0.0\n",
       "FREQUENCY: FinFrequencyTypes.QUARTERLY\n",
       "DAY COUNT: FinDayCountTypes.THIRTY_E_360\n",
       "CALENDAR: FinCalendarTypes.WEEKEND\n",
       "BUS DAY ADJUST: FinBusDayAdjustTypes.FOLLOWING\n",
       "DATE GEN TYPE: FinDateGenRuleTypes.BACKWARD"
      ]
     },
     "execution_count": 69,
     "metadata": {},
     "output_type": "execute_result"
    }
   ],
   "source": [
    "swap"
   ]
  },
  {
   "cell_type": "markdown",
   "metadata": {},
   "source": [
    "# Bermudan Swaption Framework"
   ]
  },
  {
   "cell_type": "markdown",
   "metadata": {},
   "source": [
    "I now examine FinBermudanSwaption and use the tree models to value it. But first let me price it on the tree models as a European option."
   ]
  },
  {
   "cell_type": "markdown",
   "metadata": {},
   "source": [
    "### Start By Only Allowing European Exercise"
   ]
  },
  {
   "cell_type": "code",
   "execution_count": 70,
   "metadata": {},
   "outputs": [],
   "source": [
    "europeanSwaptionPay = FinIborBermudanSwaption(settlementDate,\n",
    "                                               exerciseDate,\n",
    "                                               swapMaturityDate,\n",
    "                                               FinSwapTypes.PAY,\n",
    "                                               FinExerciseTypes.EUROPEAN,\n",
    "                                               swapFixedCoupon,\n",
    "                                               swapFixedFrequencyType,\n",
    "                                               swapFixedDayCountType)"
   ]
  },
  {
   "cell_type": "code",
   "execution_count": 71,
   "metadata": {},
   "outputs": [],
   "source": [
    "europeanSwaptionRec = FinIborBermudanSwaption(settlementDate,\n",
    "                                               exerciseDate,\n",
    "                                               swapMaturityDate,\n",
    "                                               FinSwapTypes.RECEIVE,\n",
    "                                               FinExerciseTypes.EUROPEAN,\n",
    "                                               swapFixedCoupon,\n",
    "                                               swapFixedFrequencyType,\n",
    "                                               swapFixedDayCountType)"
   ]
  },
  {
   "cell_type": "markdown",
   "metadata": {},
   "source": [
    "### Black Karasinski Model"
   ]
  },
  {
   "cell_type": "code",
   "execution_count": 72,
   "metadata": {},
   "outputs": [],
   "source": [
    "blackVol = 0.0000020"
   ]
  },
  {
   "cell_type": "code",
   "execution_count": 73,
   "metadata": {},
   "outputs": [],
   "source": [
    "sigma = blackVol\n",
    "a = 0.01\n",
    "numTimeSteps = 101\n",
    "model = FinModelRatesBK(sigma, a, numTimeSteps)"
   ]
  },
  {
   "cell_type": "code",
   "execution_count": 74,
   "metadata": {},
   "outputs": [
    {
     "name": "stdout",
     "output_type": "stream",
     "text": [
      "PAY Value: 33891.54723\n",
      "REC Value:   0.00000\n",
      "PAY - REC: 33891.54723\n"
     ]
    }
   ],
   "source": [
    "valuePay = europeanSwaptionPay.value(valuationDate, liborCurve, model)\n",
    "valueRec = europeanSwaptionRec.value(valuationDate, liborCurve, model)\n",
    "valuePayRec = valuePay - valueRec\n",
    "print(\"PAY Value: %9.5f\"% valuePay)\n",
    "print(\"REC Value: %9.5f\"% valueRec)\n",
    "print(\"PAY - REC: %9.5f\"% valuePayRec)"
   ]
  },
  {
   "cell_type": "markdown",
   "metadata": {},
   "source": [
    "### Black Derman Toy Model"
   ]
  },
  {
   "cell_type": "code",
   "execution_count": 75,
   "metadata": {},
   "outputs": [],
   "source": [
    "sigma = blackVol\n",
    "numTimeSteps = 101\n",
    "model = FinModelRatesBDT(sigma, numTimeSteps)"
   ]
  },
  {
   "cell_type": "code",
   "execution_count": 76,
   "metadata": {},
   "outputs": [
    {
     "name": "stdout",
     "output_type": "stream",
     "text": [
      "PAY Value: 33889.10343\n",
      "REC Value:   0.00000\n",
      "PAY - REC: 33889.10343\n"
     ]
    }
   ],
   "source": [
    "valuePay = europeanSwaptionPay.value(valuationDate, liborCurve, model)\n",
    "valueRec = europeanSwaptionRec.value(valuationDate, liborCurve, model)\n",
    "valuePayRec = valuePay - valueRec\n",
    "print(\"PAY Value: %9.5f\"% valuePay)\n",
    "print(\"REC Value: %9.5f\"% valueRec)\n",
    "print(\"PAY - REC: %9.5f\"% valuePayRec)"
   ]
  },
  {
   "cell_type": "markdown",
   "metadata": {},
   "source": [
    "### Hull White Model"
   ]
  },
  {
   "cell_type": "code",
   "execution_count": 77,
   "metadata": {},
   "outputs": [],
   "source": [
    "sigma = blackVol * rate\n",
    "a = 0.01\n",
    "numTimeSteps = 101\n",
    "model = FinModelRatesHW(sigma, a, numTimeSteps)"
   ]
  },
  {
   "cell_type": "code",
   "execution_count": 78,
   "metadata": {},
   "outputs": [
    {
     "name": "stdout",
     "output_type": "stream",
     "text": [
      "PAY Value: 33891.54723\n",
      "REC Value:   0.00000\n",
      "PAY - REC: 33891.54723\n"
     ]
    }
   ],
   "source": [
    "valuePay = europeanSwaptionPay.value(valuationDate, liborCurve, model)\n",
    "valueRec = europeanSwaptionRec.value(valuationDate, liborCurve, model)\n",
    "valuePayRec = valuePay - valueRec\n",
    "print(\"PAY Value: %9.5f\"% valuePay)\n",
    "print(\"REC Value: %9.5f\"% valueRec)\n",
    "print(\"PAY - REC: %9.5f\"% valuePayRec)"
   ]
  },
  {
   "cell_type": "markdown",
   "metadata": {},
   "source": [
    "# Now allow Multiple Exercise Dates - Bermudan"
   ]
  },
  {
   "cell_type": "markdown",
   "metadata": {},
   "source": [
    "Now allow exercise on coupon dates after expiry."
   ]
  },
  {
   "cell_type": "code",
   "execution_count": 79,
   "metadata": {},
   "outputs": [],
   "source": [
    "bermudanSwaptionPay = FinIborBermudanSwaption(settlementDate,\n",
    "                                               exerciseDate,\n",
    "                                               swapMaturityDate,\n",
    "                                               FinSwapTypes.PAY,\n",
    "                                               FinExerciseTypes.BERMUDAN,\n",
    "                                               swapFixedCoupon,\n",
    "                                               swapFixedFrequencyType,\n",
    "                                               swapFixedDayCountType)"
   ]
  },
  {
   "cell_type": "code",
   "execution_count": 80,
   "metadata": {},
   "outputs": [],
   "source": [
    "bermudanSwaptionRec = FinIborBermudanSwaption(settlementDate,\n",
    "                                               exerciseDate,\n",
    "                                               swapMaturityDate,\n",
    "                                               FinSwapTypes.RECEIVE,\n",
    "                                               FinExerciseTypes.BERMUDAN,\n",
    "                                               swapFixedCoupon,\n",
    "                                               swapFixedFrequencyType,\n",
    "                                               swapFixedDayCountType)"
   ]
  },
  {
   "cell_type": "markdown",
   "metadata": {},
   "source": [
    "### Black Karasinski Model"
   ]
  },
  {
   "cell_type": "code",
   "execution_count": 81,
   "metadata": {},
   "outputs": [],
   "source": [
    "sigma = 0.20\n",
    "a = 0.01\n",
    "numTimeSteps = 201\n",
    "model = FinModelRatesBK(sigma, a, numTimeSteps)"
   ]
  },
  {
   "cell_type": "code",
   "execution_count": 82,
   "metadata": {},
   "outputs": [
    {
     "name": "stdout",
     "output_type": "stream",
     "text": [
      "PAY Value: 35716.19440\n",
      "REC Value: 10240.81073\n",
      "PAY - REC: 25475.38367\n"
     ]
    }
   ],
   "source": [
    "valuePay = bermudanSwaptionPay.value(valuationDate, liborCurve, model)\n",
    "valueRec = bermudanSwaptionRec.value(valuationDate, liborCurve, model)\n",
    "valuePayRec = valuePay - valueRec\n",
    "print(\"PAY Value: %9.5f\"% valuePay)\n",
    "print(\"REC Value: %9.5f\"% valueRec)\n",
    "print(\"PAY - REC: %9.5f\"% valuePayRec)"
   ]
  },
  {
   "cell_type": "markdown",
   "metadata": {},
   "source": [
    "### Black-Derman-Toy Model"
   ]
  },
  {
   "cell_type": "code",
   "execution_count": 83,
   "metadata": {},
   "outputs": [],
   "source": [
    "sigma = 0.20\n",
    "numTimeSteps = 201\n",
    "model = FinModelRatesBDT(sigma, numTimeSteps)"
   ]
  },
  {
   "cell_type": "code",
   "execution_count": 84,
   "metadata": {},
   "outputs": [
    {
     "name": "stdout",
     "output_type": "stream",
     "text": [
      "PAY Value: 35879.78862\n",
      "REC Value: 10463.07468\n",
      "PAY - REC: 25416.71394\n"
     ]
    }
   ],
   "source": [
    "valuePay = bermudanSwaptionPay.value(settlementDate, liborCurve, model)\n",
    "valueRec = bermudanSwaptionRec.value(settlementDate, liborCurve, model)\n",
    "valuePayRec = valuePay - valueRec\n",
    "print(\"PAY Value: %9.5f\"% valuePay)\n",
    "print(\"REC Value: %9.5f\"% valueRec)\n",
    "print(\"PAY - REC: %9.5f\"% valuePayRec)"
   ]
  },
  {
   "cell_type": "markdown",
   "metadata": {},
   "source": [
    "### Hull-White Model"
   ]
  },
  {
   "cell_type": "code",
   "execution_count": 85,
   "metadata": {},
   "outputs": [],
   "source": [
    "sigma = 0.01\n",
    "a = 0.01\n",
    "numTimeSteps = 201\n",
    "model = FinModelRatesHW(sigma, a)"
   ]
  },
  {
   "cell_type": "code",
   "execution_count": 86,
   "metadata": {},
   "outputs": [
    {
     "name": "stdout",
     "output_type": "stream",
     "text": [
      "PAY Value: 35253.56980\n",
      "REC Value: 8298.90257\n",
      "PAY - REC: 26954.66724\n"
     ]
    }
   ],
   "source": [
    "valuePay = bermudanSwaptionPay.value(settlementDate, liborCurve, model)\n",
    "valueRec = bermudanSwaptionRec.value(settlementDate, liborCurve, model)\n",
    "valuePayRec = valuePay - valueRec\n",
    "print(\"PAY Value: %9.5f\"% valuePay)\n",
    "print(\"REC Value: %9.5f\"% valueRec)\n",
    "print(\"PAY - REC: %9.5f\"% valuePayRec)"
   ]
  },
  {
   "cell_type": "markdown",
   "metadata": {},
   "source": [
    "The swaption is Bermudan so it can only be exercised on coupon payment dates"
   ]
  },
  {
   "cell_type": "markdown",
   "metadata": {},
   "source": [
    "Copyright (c) 2020 Dominic O'Kane"
   ]
  }
 ],
 "metadata": {
  "kernelspec": {
   "display_name": "Python 3",
   "language": "python",
   "name": "python3"
  },
  "language_info": {
   "codemirror_mode": {
    "name": "ipython",
    "version": 3
   },
   "file_extension": ".py",
   "mimetype": "text/x-python",
   "name": "python",
   "nbconvert_exporter": "python",
   "pygments_lexer": "ipython3",
   "version": "3.8.5"
  }
 },
 "nbformat": 4,
 "nbformat_minor": 2
}
