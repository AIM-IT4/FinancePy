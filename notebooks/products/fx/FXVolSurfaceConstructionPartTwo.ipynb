{
 "cells": [
  {
   "cell_type": "markdown",
   "metadata": {},
   "source": [
    "# CONSTRUCTION OF FX VOL SURFACE - PART II"
   ]
  },
  {
   "cell_type": "markdown",
   "metadata": {},
   "source": [
    "In this notebook I show how you can calibrate to the FX Vol Surface to ATM, 25D and 10D at one expiry date and analyse different volatility interpolation methods."
   ]
  },
  {
   "cell_type": "code",
   "execution_count": 1,
   "metadata": {},
   "outputs": [],
   "source": [
    "import numpy as np\n",
    "import matplotlib.pyplot as plt"
   ]
  },
  {
   "cell_type": "code",
   "execution_count": 2,
   "metadata": {},
   "outputs": [
    {
     "name": "stdout",
     "output_type": "stream",
     "text": [
      "####################################################################\n",
      "# FINANCEPY BETA Version 0.190 - This build:  28 Dec 2020 at 12:40 #\n",
      "#      This software is distributed FREE & WITHOUT ANY WARRANTY    #\n",
      "# For info and disclaimer - https://github.com/domokane/FinancePy  #\n",
      "#      Send any bug reports or comments to quant@financepy.com     #\n",
      "####################################################################\n",
      "\n"
     ]
    }
   ],
   "source": [
    "from financepy.finutils import *\n",
    "from financepy.models.FinModelBlackScholes import *\n",
    "from financepy.products.fx import *\n",
    "from financepy.market.curves import FinDiscountCurveFlat\n",
    "from financepy.market.volatility import *"
   ]
  },
  {
   "cell_type": "markdown",
   "metadata": {},
   "source": [
    "## Load the Volatility Market Quotes"
   ]
  },
  {
   "cell_type": "code",
   "execution_count": 3,
   "metadata": {},
   "outputs": [],
   "source": [
    "valueDate = FinDate(10, 4, 2020)"
   ]
  },
  {
   "cell_type": "code",
   "execution_count": 4,
   "metadata": {},
   "outputs": [],
   "source": [
    "forName = \"EUR\"\n",
    "domName = \"USD\"\n",
    "forCCRate = 0.03460  # EUR\n",
    "domCCRate = 0.02940  # USD"
   ]
  },
  {
   "cell_type": "markdown",
   "metadata": {},
   "source": [
    "We need to set up the option details - what you would find in the Term Sheet."
   ]
  },
  {
   "cell_type": "code",
   "execution_count": 5,
   "metadata": {},
   "outputs": [],
   "source": [
    "domDiscountCurve = FinDiscountCurveFlat(valueDate, domCCRate)\n",
    "forDiscountCurve = FinDiscountCurveFlat(valueDate, forCCRate)"
   ]
  },
  {
   "cell_type": "code",
   "execution_count": 6,
   "metadata": {},
   "outputs": [],
   "source": [
    "currencyPair = forName + domName\n",
    "spotFXRate = 1.3465        "
   ]
  },
  {
   "cell_type": "markdown",
   "metadata": {},
   "source": [
    "I now load the option tenor, the ATM vol and the market strangle and risk-reversal quotes."
   ]
  },
  {
   "cell_type": "code",
   "execution_count": 7,
   "metadata": {},
   "outputs": [],
   "source": [
    "tenors = ['1Y']\n",
    "atmVols = [18.250]\n",
    "ms25DeltaVols = [0.95]\n",
    "rr25DeltaVols = [-0.60]\n",
    "ms10DeltaVols = [3.806]\n",
    "rr10DeltaVols = [-1.359]"
   ]
  },
  {
   "cell_type": "markdown",
   "metadata": {},
   "source": [
    "We need to set some parameters for the vol surface."
   ]
  },
  {
   "cell_type": "code",
   "execution_count": 8,
   "metadata": {},
   "outputs": [],
   "source": [
    "notionalCurrency = forName\n",
    "atmMethod = FinFXATMMethod.FWD_DELTA_NEUTRAL\n",
    "deltaMethod = FinFXDeltaMethod.SPOT_DELTA"
   ]
  },
  {
   "cell_type": "code",
   "execution_count": 9,
   "metadata": {},
   "outputs": [
    {
     "name": "stdout",
     "output_type": "stream",
     "text": [
      "INIT PARAMS [-1.701005105959591, 0.03400644980842172, 1.1832942590973907]\n",
      "PARAMS [-1.70015829  0.0596941   1.00169347]\n"
     ]
    }
   ],
   "source": [
    "fxVolSurfaceClark = FinFXVolSurfacePlus(valueDate, spotFXRate, currencyPair, notionalCurrency,\n",
    "                               domDiscountCurve, forDiscountCurve,\n",
    "                               tenors, atmVols, ms25DeltaVols, rr25DeltaVols, ms10DeltaVols, rr25DeltaVols,\n",
    "                               atmMethod, deltaMethod, FinVolFunctionTypes.CLARK)"
   ]
  },
  {
   "cell_type": "code",
   "execution_count": 10,
   "metadata": {},
   "outputs": [
    {
     "name": "stdout",
     "output_type": "stream",
     "text": [
      "INIT PARAMS [0.174, 0.817, -0.112]\n",
      "PARAMS [ 0.17394806  0.81860583 -0.09171378]\n"
     ]
    }
   ],
   "source": [
    "fxVolSurfaceSABR = FinFXVolSurfacePlus(valueDate, spotFXRate, currencyPair, notionalCurrency,\n",
    "                               domDiscountCurve, forDiscountCurve,\n",
    "                               tenors, atmVols, ms25DeltaVols, rr25DeltaVols, ms10DeltaVols, rr25DeltaVols,\n",
    "                               atmMethod, deltaMethod, FinVolFunctionTypes.SABR)"
   ]
  },
  {
   "cell_type": "code",
   "execution_count": 11,
   "metadata": {},
   "outputs": [
    {
     "name": "stdout",
     "output_type": "stream",
     "text": [
      "INIT PARAMS [0.23787500000000006, -0.2303750000000001, 0.23821875]\n",
      "PARAMS [ 0.20010378 -0.19215384  0.22855096]\n"
     ]
    }
   ],
   "source": [
    "fxVolSurfaceBBG = FinFXVolSurfacePlus(valueDate, spotFXRate, currencyPair, notionalCurrency,\n",
    "                               domDiscountCurve, forDiscountCurve,\n",
    "                               tenors, atmVols, ms25DeltaVols, rr25DeltaVols, ms10DeltaVols, rr25DeltaVols,\n",
    "                               atmMethod, deltaMethod, FinVolFunctionTypes.BBG)"
   ]
  },
  {
   "cell_type": "markdown",
   "metadata": {},
   "source": [
    "We can examine the calibration"
   ]
  },
  {
   "cell_type": "code",
   "execution_count": 12,
   "metadata": {},
   "outputs": [
    {
     "name": "stdout",
     "output_type": "stream",
     "text": [
      "==========================================================\n",
      "VALUE DATE: 10-APR-2020\n",
      "SPOT FX RATE: 1.3465\n",
      "ATM METHOD: FinFXATMMethod.FWD_DELTA_NEUTRAL\n",
      "DELTA METHOD: FinFXDeltaMethod.SPOT_DELTA\n",
      "==========================================================\n",
      "TENOR: 1Y\n",
      "EXPIRY DATE: 10-APR-2021\n",
      "IN ATM VOL: 18.250000 %\n",
      "IN MKT STRANGLE 25D VOL:  0.950000 %\n",
      "IN RSK REVERSAL 25D VOL: -0.600000 %\n",
      "IN MKT STRANGLE 10D VOL:  3.806000 %\n",
      "IN RSK REVERSAL 10D VOL: -0.600000 %\n",
      "==========================================================\n",
      "T_(YEARS):  1.0\n",
      "CNT_CPD_RD: 2.934146 %\n",
      "CNT_CPD_RF: 3.453111 %\n",
      "FWD_RATE:   1.339530\n",
      "==========================================================\n",
      "VOL FUNCTION FinVolFunctionTypes.CLARK\n",
      "VOL_PARAMETERS: [-1.70015829  0.0596941   1.00169347]\n",
      "==========================================================\n",
      "OUT_K_ATM:   1.362024\n",
      "OUT_ATM_VOL: 18.250002 %\n",
      "CALL_DELTA:  0.483029  PUT_DELTA: -0.483029  NET_DELTA:  0.000000\n",
      "==========================================================\n",
      "MKT STRANGLE 25D VOL IN:  0.950000 %\n",
      "K_25D_C_MS:  1.544954  ATM + MSVOL: 19.200000 %   DELTA:  0.250000\n",
      "K_25D_P_MS:  1.205034  ATM + MSVOL: 19.200000 %   DELTA: -0.250000\n",
      "CALL_VALUE:  0.035509  PUT_VALUE:  0.043124  MS_VALUE:  0.078632\n",
      "K_25D_C_MS:  1.544954  SURFACE_VOL: 19.456042 %   DELTA:  0.253469\n",
      "K_25D_P_MS:  1.205034  SURFACE_VOL: 19.414695 %   DELTA: -0.251572\n",
      "CALL_VALUE:  0.036590  PUT_VALUE:  0.044029  MS_SKEW_VALUE:  0.080619\n",
      "FAILED FIT TO 25D MS VAL:  0.078632  OUT:  0.080619  DIFF: -0.001987\n",
      "K_25D_C: 1.5487977  VOL: 19.495602  DELTA:  0.250000\n",
      "K_25D_P: 1.2037564  VOL: 19.433689  DELTA: -0.250000\n",
      "==========================================================\n",
      "RR = VOL_K_25_C - VOL_K_25_P => RR_IN: -0.600000 % RR_OUT:  0.061913 %\n",
      "==========================================================\n",
      "FAILED FIT TO 25D RRV IN: -0.600000  OUT:  0.061913  DIFF:  0.661913\n",
      "==========================================================\n",
      "MKT STRANGLE 10D VOL IN:  3.806000 %\n",
      "K_10D_C_MS:  1.812924  ATM + MSVOL: 22.056000 %   DELTA:  0.100000\n",
      "K_10D_P_MS:  1.039088  ATM + MSVOL: 22.056000 %   DELTA: -0.100000\n",
      "CALL_VALUE:  0.012956  PUT_VALUE:  0.015582  MS_VALUE:  0.028538\n",
      "K_10D_C_MS:  1.812924  SURFACE_VOL: 21.802423 %   DELTA:  0.097038\n",
      "K_10D_P_MS:  1.039088  SURFACE_VOL: 22.304992 %   DELTA: -0.102033\n",
      "CALL_VALUE:  0.012369  PUT_VALUE:  0.016169  MS_SKEW_VALUE:  0.028538\n",
      "K_10D_C: 1.8049016  VOL: 21.756494  DELTA:  0.100000\n",
      "K_10D_P: 1.0358466  VOL: 22.356496  DELTA: -0.100000\n",
      "==========================================================\n",
      "RR = VOL_K_10D_C - VOL_K_10D_P => RR_IN: -0.600000 % RR_OUT: -0.600002 %\n",
      "==========================================================\n"
     ]
    }
   ],
   "source": [
    "fxVolSurfaceClark.checkCalibration(True)"
   ]
  },
  {
   "cell_type": "code",
   "execution_count": 13,
   "metadata": {},
   "outputs": [
    {
     "name": "stdout",
     "output_type": "stream",
     "text": [
      "==========================================================\n",
      "VALUE DATE: 10-APR-2020\n",
      "SPOT FX RATE: 1.3465\n",
      "ATM METHOD: FinFXATMMethod.FWD_DELTA_NEUTRAL\n",
      "DELTA METHOD: FinFXDeltaMethod.SPOT_DELTA\n",
      "==========================================================\n",
      "TENOR: 1Y\n",
      "EXPIRY DATE: 10-APR-2021\n",
      "IN ATM VOL: 18.250000 %\n",
      "IN MKT STRANGLE 25D VOL:  0.950000 %\n",
      "IN RSK REVERSAL 25D VOL: -0.600000 %\n",
      "IN MKT STRANGLE 10D VOL:  3.806000 %\n",
      "IN RSK REVERSAL 10D VOL: -0.600000 %\n",
      "==========================================================\n",
      "T_(YEARS):  1.0\n",
      "CNT_CPD_RD: 2.934146 %\n",
      "CNT_CPD_RF: 3.453111 %\n",
      "FWD_RATE:   1.339530\n",
      "==========================================================\n",
      "VOL FUNCTION FinVolFunctionTypes.SABR\n",
      "VOL_PARAMETERS: [ 0.17394806  0.81860583 -0.09171378]\n",
      "==========================================================\n",
      "OUT_K_ATM:   1.362024\n",
      "OUT_ATM_VOL: 18.250008 %\n",
      "CALL_DELTA:  0.483029  PUT_DELTA: -0.483029  NET_DELTA:  0.000000\n",
      "==========================================================\n",
      "MKT STRANGLE 25D VOL IN:  0.950000 %\n",
      "K_25D_C_MS:  1.544954  ATM + MSVOL: 19.200000 %   DELTA:  0.250000\n",
      "K_25D_P_MS:  1.205034  ATM + MSVOL: 19.200000 %   DELTA: -0.250000\n",
      "CALL_VALUE:  0.035509  PUT_VALUE:  0.043124  MS_VALUE:  0.078632\n",
      "K_25D_C_MS:  1.544954  SURFACE_VOL: 19.033689 %   DELTA:  0.247716\n",
      "K_25D_P_MS:  1.205034  SURFACE_VOL: 19.380376 %   DELTA: -0.251323\n",
      "CALL_VALUE:  0.034810  PUT_VALUE:  0.043884  MS_SKEW_VALUE:  0.078694\n",
      "FAILED FIT TO 25D MS VAL:  0.078632  OUT:  0.078694  DIFF: -0.000062\n",
      "K_25D_C: 1.5425412  VOL: 19.013525  DELTA:  0.250000\n",
      "K_25D_P: 1.2039724  VOL: 19.394087  DELTA: -0.250000\n",
      "==========================================================\n",
      "RR = VOL_K_25_C - VOL_K_25_P => RR_IN: -0.600000 % RR_OUT: -0.380562 %\n",
      "==========================================================\n",
      "FAILED FIT TO 25D RRV IN: -0.600000  OUT: -0.380562  DIFF:  0.219438\n",
      "==========================================================\n",
      "MKT STRANGLE 10D VOL IN:  3.806000 %\n",
      "K_10D_C_MS:  1.812924  ATM + MSVOL: 22.056000 %   DELTA:  0.100000\n",
      "K_10D_P_MS:  1.039088  ATM + MSVOL: 22.056000 %   DELTA: -0.100000\n",
      "CALL_VALUE:  0.012956  PUT_VALUE:  0.015582  MS_VALUE:  0.028538\n",
      "K_10D_C_MS:  1.812924  SURFACE_VOL: 21.834497 %   DELTA:  0.097412\n",
      "K_10D_P_MS:  1.039088  SURFACE_VOL: 22.273929 %   DELTA: -0.101781\n",
      "CALL_VALUE:  0.012442  PUT_VALUE:  0.016096  MS_SKEW_VALUE:  0.028538\n",
      "K_10D_C: 1.8044352  VOL: 21.739024  DELTA:  0.100000\n",
      "K_10D_P: 1.0360345  VOL: 22.339025  DELTA: -0.100000\n",
      "==========================================================\n",
      "RR = VOL_K_10D_C - VOL_K_10D_P => RR_IN: -0.600000 % RR_OUT: -0.600001 %\n",
      "==========================================================\n"
     ]
    }
   ],
   "source": [
    "fxVolSurfaceSABR.checkCalibration(True)"
   ]
  },
  {
   "cell_type": "code",
   "execution_count": 14,
   "metadata": {},
   "outputs": [
    {
     "name": "stdout",
     "output_type": "stream",
     "text": [
      "==========================================================\n",
      "VALUE DATE: 10-APR-2020\n",
      "SPOT FX RATE: 1.3465\n",
      "ATM METHOD: FinFXATMMethod.FWD_DELTA_NEUTRAL\n",
      "DELTA METHOD: FinFXDeltaMethod.SPOT_DELTA\n",
      "==========================================================\n",
      "TENOR: 1Y\n",
      "EXPIRY DATE: 10-APR-2021\n",
      "IN ATM VOL: 18.250000 %\n",
      "IN MKT STRANGLE 25D VOL:  0.950000 %\n",
      "IN RSK REVERSAL 25D VOL: -0.600000 %\n",
      "IN MKT STRANGLE 10D VOL:  3.806000 %\n",
      "IN RSK REVERSAL 10D VOL: -0.600000 %\n",
      "==========================================================\n",
      "T_(YEARS):  1.0\n",
      "CNT_CPD_RD: 2.934146 %\n",
      "CNT_CPD_RF: 3.453111 %\n",
      "FWD_RATE:   1.339530\n",
      "==========================================================\n",
      "VOL FUNCTION FinVolFunctionTypes.BBG\n",
      "VOL_PARAMETERS: [ 0.20010378 -0.19215384  0.22855096]\n",
      "==========================================================\n",
      "OUT_K_ATM:   1.362024\n",
      "OUT_ATM_VOL: 18.249999 %\n",
      "CALL_DELTA:  0.483029  PUT_DELTA: -0.483029  NET_DELTA: -0.000000\n",
      "==========================================================\n",
      "MKT STRANGLE 25D VOL IN:  0.950000 %\n",
      "K_25D_C_MS:  1.544954  ATM + MSVOL: 19.200000 %   DELTA:  0.250000\n",
      "K_25D_P_MS:  1.205034  ATM + MSVOL: 19.200000 %   DELTA: -0.250000\n",
      "CALL_VALUE:  0.035509  PUT_VALUE:  0.043124  MS_VALUE:  0.078632\n",
      "K_25D_C_MS:  1.544954  SURFACE_VOL: 19.349111 %   DELTA:  0.252027\n",
      "K_25D_P_MS:  1.205034  SURFACE_VOL: 19.687559 %   DELTA: -0.253517\n",
      "CALL_VALUE:  0.036138  PUT_VALUE:  0.045183  MS_SKEW_VALUE:  0.081321\n",
      "FAILED FIT TO 25D MS VAL:  0.078632  OUT:  0.081321  DIFF: -0.002689\n",
      "K_25D_C: 1.5471966  VOL: 19.372686  DELTA:  0.250000\n",
      "K_25D_P: 1.2021317  VOL: 19.732976  DELTA: -0.250000\n",
      "==========================================================\n",
      "RR = VOL_K_25_C - VOL_K_25_P => RR_IN: -0.600000 % RR_OUT: -0.360291 %\n",
      "==========================================================\n",
      "FAILED FIT TO 25D RRV IN: -0.600000  OUT: -0.360291  DIFF:  0.239709\n",
      "==========================================================\n",
      "MKT STRANGLE 10D VOL IN:  3.806000 %\n",
      "K_10D_C_MS:  1.812924  ATM + MSVOL: 22.056000 %   DELTA:  0.100000\n",
      "K_10D_P_MS:  1.039088  ATM + MSVOL: 22.056000 %   DELTA: -0.100000\n",
      "CALL_VALUE:  0.012956  PUT_VALUE:  0.015582  MS_VALUE:  0.028538\n",
      "K_10D_C_MS:  1.812924  SURFACE_VOL: 21.798418 %   DELTA:  0.096991\n",
      "K_10D_P_MS:  1.039088  SURFACE_VOL: 22.308870 %   DELTA: -0.102065\n",
      "CALL_VALUE:  0.012360  PUT_VALUE:  0.016179  MS_SKEW_VALUE:  0.028538\n",
      "K_10D_C: 1.8046858  VOL: 21.748411  DELTA:  0.100000\n",
      "K_10D_P: 1.0359336  VOL: 22.348411  DELTA: -0.100000\n",
      "==========================================================\n",
      "RR = VOL_K_10D_C - VOL_K_10D_P => RR_IN: -0.600000 % RR_OUT: -0.600000 %\n",
      "==========================================================\n"
     ]
    }
   ],
   "source": [
    "fxVolSurfaceBBG.checkCalibration(True)"
   ]
  },
  {
   "cell_type": "markdown",
   "metadata": {},
   "source": [
    "## Volatility Smile Analysis - Different Volatility Function Types"
   ]
  },
  {
   "cell_type": "code",
   "execution_count": 15,
   "metadata": {},
   "outputs": [],
   "source": [
    "strikes = np.linspace(0.5, 2.5, 1000)"
   ]
  },
  {
   "cell_type": "code",
   "execution_count": 16,
   "metadata": {},
   "outputs": [],
   "source": [
    "expiryDate = valueDate.addTenor(\"1Y\")"
   ]
  },
  {
   "cell_type": "code",
   "execution_count": 17,
   "metadata": {},
   "outputs": [],
   "source": [
    "volsClark = []\n",
    "volsSABR = []\n",
    "volsBBG = []\n",
    "\n",
    "for k in strikes:\n",
    "    volClark = fxVolSurfaceClark.volatility(k, expiryDate)\n",
    "    volSABR = fxVolSurfaceSABR.volatility(k, expiryDate)\n",
    "    volBBG = fxVolSurfaceBBG.volatility(k, expiryDate)\n",
    "    volsClark.append(volClark*100.0)    \n",
    "    volsSABR.append(volSABR*100.0)    \n",
    "    volsBBG.append(volBBG*100.0)    "
   ]
  },
  {
   "cell_type": "code",
   "execution_count": 18,
   "metadata": {},
   "outputs": [
    {
     "data": {
      "image/png": "[encoded data removed]",
      "text/plain": [
       "<Figure size 720x432 with 1 Axes>"
      ]
     },
     "metadata": {
      "needs_background": "light"
     },
     "output_type": "display_data"
    }
   ],
   "source": [
    "plt.figure(figsize=(10,6))\n",
    "plt.plot(strikes, volsClark, label=\"Clark\")\n",
    "plt.plot(strikes, volsSABR, label=\"SABR\")\n",
    "plt.plot(strikes, volsBBG, label=\"BBG\")\n",
    "plt.xlabel(\"Strike\")\n",
    "plt.ylabel(\"Black Scholes Volatility (%)\")\n",
    "plt.title(\"Comparison of Volatility Smiles\")\n",
    "plt.legend();"
   ]
  },
  {
   "cell_type": "markdown",
   "metadata": {},
   "source": [
    "## Implied FX Rate Probability Density Functions"
   ]
  },
  {
   "cell_type": "code",
   "execution_count": 19,
   "metadata": {},
   "outputs": [],
   "source": [
    "lower = 0.50\n",
    "upper = 2.25\n",
    "dbnClark = fxVolSurfaceClark.impliedDbns(lower, upper, 1000)\n",
    "dbnSABR = fxVolSurfaceSABR.impliedDbns(lower, upper, 1000)\n",
    "dbnBBG = fxVolSurfaceBBG.impliedDbns(lower, upper, 1000)"
   ]
  },
  {
   "cell_type": "code",
   "execution_count": 20,
   "metadata": {},
   "outputs": [
    {
     "data": {
      "image/png": "[encoded data removed]",
      "text/plain": [
       "<Figure size 720x432 with 1 Axes>"
      ]
     },
     "metadata": {
      "needs_background": "light"
     },
     "output_type": "display_data"
    }
   ],
   "source": [
    "plt.figure(figsize=(10,6))\n",
    "plt.plot(dbnClark[0]._x, dbnClark[0]._densitydx, label=\"Clark\")\n",
    "plt.plot(dbnSABR[0]._x, dbnSABR[0]._densitydx, label=\"SABR\")\n",
    "plt.plot(dbnBBG[0]._x, dbnBBG[0]._densitydx, label=\"BBG\")\n",
    "plt.title(\"Implied Probability Density Function\")\n",
    "plt.legend();"
   ]
  },
  {
   "cell_type": "markdown",
   "metadata": {},
   "source": [
    "## Expiry Date Interpolation"
   ]
  },
  {
   "cell_type": "markdown",
   "metadata": {},
   "source": [
    "We only have one expiry date. The volatility is therefore assumed to be flat at the level of this expiry date."
   ]
  },
  {
   "cell_type": "code",
   "execution_count": 21,
   "metadata": {},
   "outputs": [],
   "source": [
    "k = 1.30"
   ]
  },
  {
   "cell_type": "code",
   "execution_count": 22,
   "metadata": {},
   "outputs": [],
   "source": [
    "years = np.linspace(0.0, 2.0, 100)"
   ]
  },
  {
   "cell_type": "code",
   "execution_count": 23,
   "metadata": {},
   "outputs": [],
   "source": [
    "expiryDates = valueDate.addYears(years)"
   ]
  },
  {
   "cell_type": "code",
   "execution_count": 24,
   "metadata": {},
   "outputs": [],
   "source": [
    "volsClark = []\n",
    "volsSABR = []\n",
    "volsBBG = []\n",
    "\n",
    "for expiryDate in expiryDates:\n",
    "    \n",
    "    volClark = fxVolSurfaceClark.volatility(k, expiryDate)\n",
    "    volSABR = fxVolSurfaceSABR.volatility(k, expiryDate)\n",
    "    volBBG = fxVolSurfaceBBG.volatility(k, expiryDate)\n",
    "\n",
    "    volsClark.append(volClark*100.0)    \n",
    "    volsSABR.append(volSABR*100.0)    \n",
    "    volsBBG.append(volBBG*100.0)    "
   ]
  },
  {
   "cell_type": "code",
   "execution_count": 25,
   "metadata": {},
   "outputs": [
    {
     "data": {
      "image/png": "[encoded data removed]",
      "text/plain": [
       "<Figure size 720x432 with 1 Axes>"
      ]
     },
     "metadata": {
      "needs_background": "light"
     },
     "output_type": "display_data"
    }
   ],
   "source": [
    "plt.figure(figsize=(10,6))\n",
    "plt.plot(years, volsClark, label=\"Clark\")\n",
    "plt.plot(years, volsSABR, label=\"SABR\")\n",
    "plt.plot(years, volsBBG, label=\"BBG\")\n",
    "plt.xlabel(\"Years\")\n",
    "plt.ylabel(\"Black Scholes Volatility (%)\")\n",
    "plt.title(\"Comparison of Volatility Time Interpolation\")\n",
    "plt.legend();"
   ]
  },
  {
   "cell_type": "markdown",
   "metadata": {},
   "source": [
    "Copyright (c) 2020, Dominic O'Kane "
   ]
  }
 ],
 "metadata": {
  "kernelspec": {
   "display_name": "Python 3",
   "language": "python",
   "name": "python3"
  },
  "language_info": {
   "codemirror_mode": {
    "name": "ipython",
    "version": 3
   },
   "file_extension": ".py",
   "mimetype": "text/x-python",
   "name": "python",
   "nbconvert_exporter": "python",
   "pygments_lexer": "ipython3",
   "version": "3.8.7"
  }
 },
 "nbformat": 4,
 "nbformat_minor": 2
}
