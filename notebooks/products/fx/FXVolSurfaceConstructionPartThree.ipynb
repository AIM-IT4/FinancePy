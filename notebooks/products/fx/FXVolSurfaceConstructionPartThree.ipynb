{
 "cells": [
  {
   "cell_type": "markdown",
   "metadata": {},
   "source": [
    "# CONSTRUCTION OF FX VOL SURFACE - PART III"
   ]
  },
  {
   "cell_type": "markdown",
   "metadata": {},
   "source": [
    "In this notebook I show how you can calibrate to the FX Vol Surface to ATM, 25D and 10D at multiple expiry dates and analyse different volatility interpolation methods."
   ]
  },
  {
   "cell_type": "code",
   "execution_count": 1,
   "metadata": {},
   "outputs": [],
   "source": [
    "import numpy as np\n",
    "import matplotlib.pyplot as plt"
   ]
  },
  {
   "cell_type": "code",
   "execution_count": 2,
   "metadata": {
    "scrolled": true
   },
   "outputs": [
    {
     "name": "stdout",
     "output_type": "stream",
     "text": [
      "####################################################################\n",
      "# FINANCEPY BETA Version 0.191 - This build:  31 Dec 2020 at 11:49 #\n",
      "#      This software is distributed FREE & WITHOUT ANY WARRANTY    #\n",
      "# For info and disclaimer - https://github.com/domokane/FinancePy  #\n",
      "#      Send any bug reports or comments to quant@financepy.com     #\n",
      "####################################################################\n",
      "\n"
     ]
    }
   ],
   "source": [
    "from financepy.finutils import *\n",
    "from financepy.models.FinModelBlackScholes import *\n",
    "from financepy.products.fx.FinFXOption import *\n",
    "from financepy.market.curves.FinDiscountCurveFlat import FinDiscountCurveFlat\n",
    "from financepy.market.volatility.FinFXVolSurfacePlus import *"
   ]
  },
  {
   "cell_type": "markdown",
   "metadata": {},
   "source": [
    "## Load the Volatility Market Quotes"
   ]
  },
  {
   "cell_type": "code",
   "execution_count": 3,
   "metadata": {},
   "outputs": [],
   "source": [
    "valueDate = FinDate(10, 4, 2020)"
   ]
  },
  {
   "cell_type": "code",
   "execution_count": 5,
   "metadata": {},
   "outputs": [],
   "source": [
    "forName = \"EUR\"\n",
    "domName = \"USD\"\n",
    "forCCRate = 0.03460  # EUR\n",
    "domCCRate = 0.02940  # USD"
   ]
  },
  {
   "cell_type": "markdown",
   "metadata": {},
   "source": [
    "We need to set up the option details - what you would find in the Term Sheet."
   ]
  },
  {
   "cell_type": "code",
   "execution_count": 6,
   "metadata": {},
   "outputs": [],
   "source": [
    "domDiscountCurve = FinDiscountCurveFlat(valueDate, domCCRate)\n",
    "forDiscountCurve = FinDiscountCurveFlat(valueDate, forCCRate)"
   ]
  },
  {
   "cell_type": "code",
   "execution_count": 7,
   "metadata": {},
   "outputs": [],
   "source": [
    "currencyPair = forName + domName\n",
    "spotFXRate = 1.3465        "
   ]
  },
  {
   "cell_type": "markdown",
   "metadata": {},
   "source": [
    "I now load the option tenor, the ATM vol and the market strangle and risk-reversal quotes."
   ]
  },
  {
   "cell_type": "code",
   "execution_count": 9,
   "metadata": {},
   "outputs": [],
   "source": [
    "tenors = ['1M', '2M', '3M', '6M', '1Y', '2Y']\n",
    "atmVols = [21.00, 21.00, 20.750, 19.400, 18.250, 17.677]\n",
    "ms25DeltaVols = [0.65, 0.75, 0.85, 0.90, 0.95, 0.85]\n",
    "rr25DeltaVols = [-0.20, -0.25, -0.30, -0.50, -0.60, -0.562]\n",
    "ms10DeltaVols = [2.433, 2.83, 3.228, 3.485, 3.806, 3.208]\n",
    "rr10DeltaVols = [-1.258, -1.297, -1.332, -1.408, -1.359, -1.208]"
   ]
  },
  {
   "cell_type": "markdown",
   "metadata": {},
   "source": [
    "We need to set some parameters for the vol surface."
   ]
  },
  {
   "cell_type": "code",
   "execution_count": 10,
   "metadata": {},
   "outputs": [],
   "source": [
    "notionalCurrency = forName\n",
    "atmMethod = FinFXATMMethod.FWD_DELTA_NEUTRAL\n",
    "deltaMethod = FinFXDeltaMethod.SPOT_DELTA"
   ]
  },
  {
   "cell_type": "code",
   "execution_count": 11,
   "metadata": {},
   "outputs": [
    {
     "name": "stdout",
     "output_type": "stream",
     "text": [
      "==> FinFXATMMethod.FWD_DELTA_NEUTRAL <enum 'FinFXATMMethod'> (<class 'int'>, <class 'float'>, <class 'numpy.float64'>) False\n"
     ]
    },
    {
     "ename": "AttributeError",
     "evalue": "'tuple' object has no attribute '__name__'",
     "output_type": "error",
     "traceback": [
      "\u001b[1;31m---------------------------------------------------------------------------\u001b[0m",
      "\u001b[1;31mAttributeError\u001b[0m                            Traceback (most recent call last)",
      "\u001b[1;32m<ipython-input-11-2082788c0069>\u001b[0m in \u001b[0;36m<module>\u001b[1;34m\u001b[0m\n\u001b[1;32m----> 1\u001b[1;33m fxVolSurfaceClark = FinFXVolSurfacePlus(valueDate, spotFXRate, currencyPair, notionalCurrency,\n\u001b[0m\u001b[0;32m      2\u001b[0m                                \u001b[0mdomDiscountCurve\u001b[0m\u001b[1;33m,\u001b[0m \u001b[0mforDiscountCurve\u001b[0m\u001b[1;33m,\u001b[0m\u001b[1;33m\u001b[0m\u001b[1;33m\u001b[0m\u001b[0m\n\u001b[0;32m      3\u001b[0m                                \u001b[0mtenors\u001b[0m\u001b[1;33m,\u001b[0m \u001b[0matmVols\u001b[0m\u001b[1;33m,\u001b[0m \u001b[0mms25DeltaVols\u001b[0m\u001b[1;33m,\u001b[0m \u001b[0mrr25DeltaVols\u001b[0m\u001b[1;33m,\u001b[0m\u001b[1;33m\u001b[0m\u001b[1;33m\u001b[0m\u001b[0m\n\u001b[0;32m      4\u001b[0m                                         \u001b[0mms10DeltaVols\u001b[0m\u001b[1;33m,\u001b[0m \u001b[0mrr25DeltaVols\u001b[0m\u001b[1;33m,\u001b[0m\u001b[1;33m\u001b[0m\u001b[1;33m\u001b[0m\u001b[0m\n\u001b[0;32m      5\u001b[0m                                atmMethod, deltaMethod, FinVolFunctionTypes.CLARK)\n",
      "\u001b[1;32m~\\AppData\\Local\\Packages\\PythonSoftwareFoundation.Python.3.8_qbz5n2kfra8p0\\LocalCache\\local-packages\\Python38\\site-packages\\financepy\\market\\volatility\\FinFXVolSurfacePlus.py\u001b[0m in \u001b[0;36m__init__\u001b[1;34m(self, valueDate, spotFXRate, currencyPair, notionalCurrency, domDiscountCurve, forDiscountCurve, tenors, atmVols, mktStrangle25DeltaVols, riskReversal25DeltaVols, mktStrangle10DeltaVols, riskReversal10DeltaVols, alpha, atmMethod, deltaMethod, volatilityFunctionType)\u001b[0m\n\u001b[0;32m    765\u001b[0m         is 100% 10D. An alpha of 0.50 is equally weighted. '''\n\u001b[0;32m    766\u001b[0m \u001b[1;33m\u001b[0m\u001b[0m\n\u001b[1;32m--> 767\u001b[1;33m         \u001b[0mcheckArgumentTypes\u001b[0m\u001b[1;33m(\u001b[0m\u001b[0mself\u001b[0m\u001b[1;33m.\u001b[0m\u001b[0m__init__\u001b[0m\u001b[1;33m,\u001b[0m \u001b[0mlocals\u001b[0m\u001b[1;33m(\u001b[0m\u001b[1;33m)\u001b[0m\u001b[1;33m)\u001b[0m\u001b[1;33m\u001b[0m\u001b[1;33m\u001b[0m\u001b[0m\n\u001b[0m\u001b[0;32m    768\u001b[0m \u001b[1;33m\u001b[0m\u001b[0m\n\u001b[0;32m    769\u001b[0m         \u001b[0mself\u001b[0m\u001b[1;33m.\u001b[0m\u001b[0m_valueDate\u001b[0m \u001b[1;33m=\u001b[0m \u001b[0mvalueDate\u001b[0m\u001b[1;33m\u001b[0m\u001b[1;33m\u001b[0m\u001b[0m\n",
      "\u001b[1;32m~\\AppData\\Local\\Packages\\PythonSoftwareFoundation.Python.3.8_qbz5n2kfra8p0\\LocalCache\\local-packages\\Python38\\site-packages\\financepy\\finutils\\FinHelperFunctions.py\u001b[0m in \u001b[0;36mcheckArgumentTypes\u001b[1;34m(func, values)\u001b[0m\n\u001b[0;32m    466\u001b[0m             \u001b[0ms\u001b[0m \u001b[1;33m=\u001b[0m \u001b[1;34mf\"In {func.__module__}.{func.__name__}:\\n\"\u001b[0m\u001b[1;33m\u001b[0m\u001b[1;33m\u001b[0m\u001b[0m\n\u001b[0;32m    467\u001b[0m             \u001b[0ms\u001b[0m \u001b[1;33m+=\u001b[0m \u001b[1;34mf\"Mismatched Types: expected a \"\u001b[0m\u001b[1;33m\u001b[0m\u001b[1;33m\u001b[0m\u001b[0m\n\u001b[1;32m--> 468\u001b[1;33m             \u001b[0ms\u001b[0m \u001b[1;33m+=\u001b[0m \u001b[1;34mf\"{valueName} of type '{usableType.__name__}', however\"\u001b[0m\u001b[1;33m\u001b[0m\u001b[1;33m\u001b[0m\u001b[0m\n\u001b[0m\u001b[0;32m    469\u001b[0m             \u001b[0ms\u001b[0m \u001b[1;33m+=\u001b[0m \u001b[1;34mf\" a value of type '{type(value).__name__}' was given.\"\u001b[0m\u001b[1;33m\u001b[0m\u001b[1;33m\u001b[0m\u001b[0m\n\u001b[0;32m    470\u001b[0m             \u001b[1;32mraise\u001b[0m \u001b[0mFinError\u001b[0m\u001b[1;33m(\u001b[0m\u001b[0ms\u001b[0m\u001b[1;33m)\u001b[0m\u001b[1;33m\u001b[0m\u001b[1;33m\u001b[0m\u001b[0m\n",
      "\u001b[1;31mAttributeError\u001b[0m: 'tuple' object has no attribute '__name__'"
     ]
    }
   ],
   "source": [
    "fxVolSurfaceClark = FinFXVolSurfacePlus(valueDate, spotFXRate, currencyPair, notionalCurrency,\n",
    "                               domDiscountCurve, forDiscountCurve,\n",
    "                               tenors, atmVols, ms25DeltaVols, rr25DeltaVols, \n",
    "                                        ms10DeltaVols, rr25DeltaVols,\n",
    "                               atmMethod, deltaMethod, FinVolFunctionTypes.CLARK)"
   ]
  },
  {
   "cell_type": "code",
   "execution_count": 10,
   "metadata": {},
   "outputs": [],
   "source": [
    "fxVolSurfaceSABR = FinFXVolSurfacePlus(valueDate, spotFXRate, currencyPair, notionalCurrency,\n",
    "                               domDiscountCurve, forDiscountCurve,\n",
    "                               tenors, atmVols, ms25DeltaVols, rr25DeltaVols, \n",
    "                                       ms10DeltaVols, rr25DeltaVols,\n",
    "                               atmMethod, deltaMethod, FinVolFunctionTypes.SABR)"
   ]
  },
  {
   "cell_type": "code",
   "execution_count": 11,
   "metadata": {},
   "outputs": [],
   "source": [
    "fxVolSurfaceBBG = FinFXVolSurfacePlus(valueDate, spotFXRate, currencyPair, notionalCurrency,\n",
    "                               domDiscountCurve, forDiscountCurve,\n",
    "                               tenors, atmVols, ms25DeltaVols, rr25DeltaVols, \n",
    "                                      ms10DeltaVols, rr25DeltaVols,\n",
    "                               atmMethod, deltaMethod, FinVolFunctionTypes.BBG)"
   ]
  },
  {
   "cell_type": "markdown",
   "metadata": {},
   "source": [
    "We can examine the calibration"
   ]
  },
  {
   "cell_type": "markdown",
   "metadata": {},
   "source": [
    "## Checking the Basics - Does it Recovery ATM Volatility"
   ]
  },
  {
   "cell_type": "code",
   "execution_count": 12,
   "metadata": {},
   "outputs": [],
   "source": [
    "expiryDates = valueDate.addTenor(tenors)"
   ]
  },
  {
   "cell_type": "code",
   "execution_count": 20,
   "metadata": {},
   "outputs": [
    {
     "data": {
      "text/plain": [
       "array([1.3459262 , 1.34533354, 1.34476024, 1.34300365, 1.33953024,\n",
       "       1.33258276])"
      ]
     },
     "execution_count": 20,
     "metadata": {},
     "output_type": "execute_result"
    }
   ],
   "source": [
    "fxVolSurfaceClark._F0T"
   ]
  },
  {
   "cell_type": "code",
   "execution_count": 21,
   "metadata": {},
   "outputs": [
    {
     "name": "stdout",
     "output_type": "stream",
     "text": [
      "fwd 1.3459262042602333 KATM 1.3483676767457906 volATM 21.0 volInterp 20.999819282424205\n",
      "fwd 1.3453335388728314 KATM 1.350300330973612 volATM 21.0 volInterp 20.999495318512214\n",
      "fwd 1.344760240207283 KATM 1.3519973574277078 volATM 20.75 volInterp 20.749207592425385\n",
      "fwd 1.3430036472282152 KATM 1.3557345507916598 volATM 19.4 volInterp 19.39877717937968\n",
      "fwd 1.339530242682178 KATM 1.3620243862979695 volATM 18.25 volInterp 18.247018302734748\n",
      "fwd 1.3325827645184334 KATM 1.3748802277559837 volATM 17.677 volInterp 17.676733017406406\n"
     ]
    }
   ],
   "source": [
    "for i in range(0, len(expiryDates)):\n",
    "    fwd = fxVolSurfaceClark._F0T[i]\n",
    "    kATM = fxVolSurfaceClark._K_ATM[i]\n",
    "    vATM = fxVolSurfaceClark._atmVols[i]\n",
    "    volClark = fxVolSurfaceClark.volatility(kATM, expiryDates[i])\n",
    "    print(\"fwd\", fwd, \"KATM\", kATM, \"volATM\", vATM*100, \"volInterp\", volClark*100)"
   ]
  },
  {
   "cell_type": "markdown",
   "metadata": {},
   "source": [
    "Fit is good but not perfect."
   ]
  },
  {
   "cell_type": "markdown",
   "metadata": {},
   "source": [
    "## Volatility Smile Analysis - Different Volatility Function Types"
   ]
  },
  {
   "cell_type": "code",
   "execution_count": 23,
   "metadata": {},
   "outputs": [],
   "source": [
    "strikes = np.linspace(0.5, 2.5, 1000)"
   ]
  },
  {
   "cell_type": "code",
   "execution_count": 24,
   "metadata": {},
   "outputs": [],
   "source": [
    "expiryDate = valueDate.addTenor(\"1Y\")"
   ]
  },
  {
   "cell_type": "code",
   "execution_count": 25,
   "metadata": {},
   "outputs": [],
   "source": [
    "volsClark = []\n",
    "volsSABR = []\n",
    "volsBBG = []\n",
    "\n",
    "for k in strikes:\n",
    "    volClark = fxVolSurfaceClark.volatility(k, expiryDate)\n",
    "    volSABR = fxVolSurfaceSABR.volatility(k, expiryDate)\n",
    "    volBBG = fxVolSurfaceBBG.volatility(k, expiryDate)\n",
    "    volsClark.append(volClark*100.0)    \n",
    "    volsSABR.append(volSABR*100.0)    \n",
    "    volsBBG.append(volBBG*100.0)    "
   ]
  },
  {
   "cell_type": "code",
   "execution_count": 26,
   "metadata": {},
   "outputs": [
    {
     "data": {
      "image/png": "[encoded data removed]",
      "text/plain": [
       "<Figure size 720x432 with 1 Axes>"
      ]
     },
     "metadata": {
      "needs_background": "light"
     },
     "output_type": "display_data"
    }
   ],
   "source": [
    "plt.figure(figsize=(10,6))\n",
    "plt.plot(strikes, volsClark, label=\"Clark\")\n",
    "plt.plot(strikes, volsSABR, label=\"SABR\")\n",
    "plt.plot(strikes, volsBBG, label=\"BBG\")\n",
    "plt.xlabel(\"Strike\")\n",
    "plt.ylabel(\"Black Scholes Volatility (%)\")\n",
    "plt.title(\"Comparison of Volatility Smiles\")\n",
    "plt.legend();"
   ]
  },
  {
   "cell_type": "markdown",
   "metadata": {},
   "source": [
    "## Implied FX Rate Probability Density Functions"
   ]
  },
  {
   "cell_type": "code",
   "execution_count": 27,
   "metadata": {},
   "outputs": [],
   "source": [
    "lower = 0.50\n",
    "upper = 2.25\n",
    "dbnClark = fxVolSurfaceClark.impliedDbns(lower, upper, 1000)\n",
    "dbnSABR = fxVolSurfaceSABR.impliedDbns(lower, upper, 1000)\n",
    "dbnBBG = fxVolSurfaceBBG.impliedDbns(lower, upper, 1000)"
   ]
  },
  {
   "cell_type": "code",
   "execution_count": 28,
   "metadata": {},
   "outputs": [
    {
     "data": {
      "image/png": "[encoded data removed]",
      "text/plain": [
       "<Figure size 720x432 with 1 Axes>"
      ]
     },
     "metadata": {
      "needs_background": "light"
     },
     "output_type": "display_data"
    }
   ],
   "source": [
    "plt.figure(figsize=(10,6))\n",
    "plt.plot(dbnClark[0]._x, dbnClark[0]._densitydx, label=\"Clark\")\n",
    "plt.plot(dbnSABR[0]._x, dbnSABR[0]._densitydx, label=\"SABR\")\n",
    "plt.plot(dbnBBG[0]._x, dbnBBG[0]._densitydx, label=\"BBG\")\n",
    "plt.title(\"Implied Probability Density Function\")\n",
    "plt.legend();"
   ]
  },
  {
   "cell_type": "markdown",
   "metadata": {},
   "source": [
    "## Expiry Date Interpolation"
   ]
  },
  {
   "cell_type": "markdown",
   "metadata": {},
   "source": [
    "We only have one expiry date. The volatility is therefore assumed to be flat at the level of this expiry date."
   ]
  },
  {
   "cell_type": "code",
   "execution_count": 59,
   "metadata": {},
   "outputs": [],
   "source": [
    "k = 1.35"
   ]
  },
  {
   "cell_type": "code",
   "execution_count": 60,
   "metadata": {},
   "outputs": [],
   "source": [
    "years = np.linspace(0.0, 3.0, 301)"
   ]
  },
  {
   "cell_type": "code",
   "execution_count": 61,
   "metadata": {},
   "outputs": [],
   "source": [
    "expiryDates = valueDate.addYears(years)"
   ]
  },
  {
   "cell_type": "code",
   "execution_count": 62,
   "metadata": {},
   "outputs": [],
   "source": [
    "volsClark = []\n",
    "\n",
    "for expiryDate in expiryDates:\n",
    "    volClark = fxVolSurfaceClark.volatility(k, expiryDate)\n",
    "    volsClark.append(volClark*100.0)    "
   ]
  },
  {
   "cell_type": "code",
   "execution_count": 63,
   "metadata": {},
   "outputs": [
    {
     "data": {
      "image/png": "[encoded data removed]",
      "text/plain": [
       "<Figure size 720x432 with 1 Axes>"
      ]
     },
     "metadata": {
      "needs_background": "light"
     },
     "output_type": "display_data"
    }
   ],
   "source": [
    "plt.figure(figsize=(10,6))\n",
    "plt.plot(years, volsClark, label=\"Clark\")\n",
    "plt.xlabel(\"Years\")\n",
    "plt.ylabel(\"Black Scholes Volatility (%)\")\n",
    "plt.title(\"Comparison of Volatility Time Interpolation\")\n",
    "plt.legend();"
   ]
  },
  {
   "cell_type": "markdown",
   "metadata": {},
   "source": [
    "Copyright (c) 2020, Dominic O'Kane "
   ]
  }
 ],
 "metadata": {
  "kernelspec": {
   "display_name": "Python 3",
   "language": "python",
   "name": "python3"
  },
  "language_info": {
   "codemirror_mode": {
    "name": "ipython",
    "version": 3
   },
   "file_extension": ".py",
   "mimetype": "text/x-python",
   "name": "python",
   "nbconvert_exporter": "python",
   "pygments_lexer": "ipython3",
   "version": "3.8.7"
  }
 },
 "nbformat": 4,
 "nbformat_minor": 2
}
