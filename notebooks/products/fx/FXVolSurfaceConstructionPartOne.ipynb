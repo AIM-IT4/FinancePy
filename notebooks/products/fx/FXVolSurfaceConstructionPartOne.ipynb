{
 "cells": [
  {
   "cell_type": "markdown",
   "metadata": {},
   "source": [
    "# CONSTRUCTION OF FX VOL SURFACE - PART I"
   ]
  },
  {
   "cell_type": "markdown",
   "metadata": {},
   "source": [
    "In this notebook I show how you can calibrate to the FX Vol Surface to ATM, 25D MS and 25D RR at one expiry date and analyse different volatility interpolation methods."
   ]
  },
  {
   "cell_type": "code",
   "execution_count": 1,
   "metadata": {},
   "outputs": [],
   "source": [
    "import numpy as np\n",
    "import matplotlib.pyplot as plt"
   ]
  },
  {
   "cell_type": "code",
   "execution_count": 2,
   "metadata": {},
   "outputs": [
    {
     "name": "stdout",
     "output_type": "stream",
     "text": [
      "####################################################################\n",
      "# FINANCEPY BETA Version 0.190 - This build:  28 Dec 2020 at 10:06 #\n",
      "#      This software is distributed FREE & WITHOUT ANY WARRANTY    #\n",
      "# For info and disclaimer - https://github.com/domokane/FinancePy  #\n",
      "#      Send any bug reports or comments to quant@financepy.com     #\n",
      "####################################################################\n",
      "\n"
     ]
    }
   ],
   "source": [
    "from financepy.finutils import *\n",
    "from financepy.models.FinModelBlackScholes import *\n",
    "from financepy.products.fx import *\n",
    "from financepy.market.curves import FinDiscountCurveFlat\n",
    "from financepy.market.volatility import * "
   ]
  },
  {
   "cell_type": "markdown",
   "metadata": {},
   "source": [
    "## Load the Volatility Market Quotes"
   ]
  },
  {
   "cell_type": "code",
   "execution_count": 3,
   "metadata": {},
   "outputs": [],
   "source": [
    "valueDate = FinDate(10, 4, 2020)"
   ]
  },
  {
   "cell_type": "code",
   "execution_count": 4,
   "metadata": {},
   "outputs": [],
   "source": [
    "forName = \"EUR\"\n",
    "domName = \"USD\"\n",
    "forCCRate = 0.03460  # EUR\n",
    "domCCRate = 0.02940  # USD"
   ]
  },
  {
   "cell_type": "markdown",
   "metadata": {},
   "source": [
    "We need to set up the option details - what you would find in the Term Sheet."
   ]
  },
  {
   "cell_type": "code",
   "execution_count": 5,
   "metadata": {},
   "outputs": [],
   "source": [
    "domDiscountCurve = FinDiscountCurveFlat(valueDate, domCCRate)\n",
    "forDiscountCurve = FinDiscountCurveFlat(valueDate, forCCRate)"
   ]
  },
  {
   "cell_type": "code",
   "execution_count": 6,
   "metadata": {},
   "outputs": [],
   "source": [
    "currencyPair = forName + domName\n",
    "spotFXRate = 1.3465        "
   ]
  },
  {
   "cell_type": "markdown",
   "metadata": {},
   "source": [
    "I now load the option tenor, the ATM vol and the market strangle and risk-reversal quotes."
   ]
  },
  {
   "cell_type": "code",
   "execution_count": 7,
   "metadata": {},
   "outputs": [],
   "source": [
    "tenors = ['1Y']\n",
    "atmVols = [18.250]\n",
    "ms25DeltaVols = [0.95]\n",
    "rr25DeltaVols = [-0.60]"
   ]
  },
  {
   "cell_type": "markdown",
   "metadata": {},
   "source": [
    "We need to set some parameters for the vol surface."
   ]
  },
  {
   "cell_type": "code",
   "execution_count": 8,
   "metadata": {},
   "outputs": [],
   "source": [
    "notionalCurrency = forName\n",
    "atmMethod = FinFXATMMethod.FWD_DELTA_NEUTRAL\n",
    "deltaMethod = FinFXDeltaMethod.SPOT_DELTA"
   ]
  },
  {
   "cell_type": "code",
   "execution_count": 9,
   "metadata": {},
   "outputs": [],
   "source": [
    "fxVolSurfaceClark = FinFXVolSurface(valueDate, spotFXRate, currencyPair, notionalCurrency,\n",
    "                               domDiscountCurve, forDiscountCurve,\n",
    "                               tenors, atmVols, ms25DeltaVols, rr25DeltaVols,\n",
    "                               atmMethod, deltaMethod, FinVolFunctionTypes.CLARK)"
   ]
  },
  {
   "cell_type": "code",
   "execution_count": 10,
   "metadata": {},
   "outputs": [],
   "source": [
    "fxVolSurfaceSABR = FinFXVolSurface(valueDate, spotFXRate, currencyPair, notionalCurrency,\n",
    "                               domDiscountCurve, forDiscountCurve,\n",
    "                               tenors, atmVols, ms25DeltaVols, rr25DeltaVols,\n",
    "                               atmMethod, deltaMethod, FinVolFunctionTypes.SABR)"
   ]
  },
  {
   "cell_type": "code",
   "execution_count": 11,
   "metadata": {},
   "outputs": [],
   "source": [
    "fxVolSurfaceBBG = FinFXVolSurface(valueDate, spotFXRate, currencyPair, notionalCurrency,\n",
    "                               domDiscountCurve, forDiscountCurve,\n",
    "                               tenors, atmVols, ms25DeltaVols, rr25DeltaVols,\n",
    "                               atmMethod, deltaMethod, FinVolFunctionTypes.BBG)"
   ]
  },
  {
   "cell_type": "markdown",
   "metadata": {},
   "source": [
    "We can examine the calibration"
   ]
  },
  {
   "cell_type": "code",
   "execution_count": 12,
   "metadata": {},
   "outputs": [
    {
     "name": "stdout",
     "output_type": "stream",
     "text": [
      "==========================================================\n",
      "VALUE DATE: 10-APR-2020\n",
      "SPOT FX RATE: 1.3465\n",
      "ATM METHOD: FinFXATMMethod.FWD_DELTA_NEUTRAL\n",
      "DELTA METHOD: FinFXDeltaMethod.SPOT_DELTA\n",
      "==========================================================\n",
      "TENOR: 1Y\n",
      "EXPIRY DATE: 10-APR-2021\n",
      "IN ATM VOL: 18.250000 %\n",
      "IN MKT STRANGLE 25D VOL:  0.950000 %\n",
      "IN RSK REVERSAL 25D VOL: -0.600000 %\n",
      "==========================================================\n",
      "T_(YEARS):  1.0\n",
      "CNT_CPD_RD: 2.934146 %\n",
      "CNT_CPD_RF: 3.453111 %\n",
      "FWD_RATE:   1.339530\n",
      "==========================================================\n",
      "VOL FUNCTION FinVolFunctionTypes.CLARK\n",
      "VOL_PARAMETERS: [-1.69812496  0.10861461  0.80398938]\n",
      "==========================================================\n",
      "OUT_K_ATM:   1.362024\n",
      "OUT_ATM_VOL: 18.249989 %\n",
      "CALL_DELTA:  0.483029  PUT_DELTA: -0.483029  NET_DELTA: -0.000000\n",
      "==========================================================\n",
      "MKT STRANGLE VOL IN:  0.950000 %\n",
      "K_25D_C_MS:  1.544954  ATM + MSVOL: 19.200000 %   DELTA:  0.250000\n",
      "K_25D_P_MS:  1.205034  ATM + MSVOL: 19.200000 %   DELTA: -0.250000\n",
      "CALL_VALUE:  0.035509  PUT_VALUE:  0.043124  MS_VALUE:  0.078632\n",
      "K_25D_C_MS:  1.544954  SURFACE_VOL: 18.923605 %   DELTA:  0.246190\n",
      "K_25D_P_MS:  1.205034  SURFACE_VOL: 19.474769 %   DELTA: -0.252005\n",
      "CALL_VALUE:  0.034350  PUT_VALUE:  0.044283  MS_SKEW_VALUE:  0.078632\n",
      "K_25D_C: 1.5410392  VOL: 18.897083  DELTA:  0.250000\n",
      "K_25D_P: 1.2034112  VOL: 19.497085  DELTA: -0.250000\n",
      "==========================================================\n",
      "RR = VOL_K_25_C - VOL_K_25_P => RR_IN: -0.600000 % RR_OUT: -0.600003 %\n",
      "==========================================================\n"
     ]
    }
   ],
   "source": [
    "fxVolSurfaceClark.checkCalibration(True)"
   ]
  },
  {
   "cell_type": "code",
   "execution_count": 13,
   "metadata": {},
   "outputs": [
    {
     "name": "stdout",
     "output_type": "stream",
     "text": [
      "==========================================================\n",
      "VALUE DATE: 10-APR-2020\n",
      "SPOT FX RATE: 1.3465\n",
      "ATM METHOD: FinFXATMMethod.FWD_DELTA_NEUTRAL\n",
      "DELTA METHOD: FinFXDeltaMethod.SPOT_DELTA\n",
      "==========================================================\n",
      "TENOR: 1Y\n",
      "EXPIRY DATE: 10-APR-2021\n",
      "IN ATM VOL: 18.250000 %\n",
      "IN MKT STRANGLE 25D VOL:  0.950000 %\n",
      "IN RSK REVERSAL 25D VOL: -0.600000 %\n",
      "==========================================================\n",
      "T_(YEARS):  1.0\n",
      "CNT_CPD_RD: 2.934146 %\n",
      "CNT_CPD_RF: 3.453111 %\n",
      "FWD_RATE:   1.339530\n",
      "==========================================================\n",
      "VOL FUNCTION FinVolFunctionTypes.SABR\n",
      "VOL_PARAMETERS: [ 0.1743113   0.81689871 -0.11267912]\n",
      "==========================================================\n",
      "OUT_K_ATM:   1.362024\n",
      "OUT_ATM_VOL: 18.249988 %\n",
      "CALL_DELTA:  0.483029  PUT_DELTA: -0.483029  NET_DELTA: -0.000000\n",
      "==========================================================\n",
      "MKT STRANGLE VOL IN:  0.950000 %\n",
      "K_25D_C_MS:  1.544954  ATM + MSVOL: 19.200000 %   DELTA:  0.250000\n",
      "K_25D_P_MS:  1.205034  ATM + MSVOL: 19.200000 %   DELTA: -0.250000\n",
      "CALL_VALUE:  0.035509  PUT_VALUE:  0.043124  MS_VALUE:  0.078632\n",
      "K_25D_C_MS:  1.544954  SURFACE_VOL: 18.925492 %   DELTA:  0.246217\n",
      "K_25D_P_MS:  1.205034  SURFACE_VOL: 19.472899 %   DELTA: -0.251992\n",
      "CALL_VALUE:  0.034358  PUT_VALUE:  0.044275  MS_SKEW_VALUE:  0.078632\n",
      "K_25D_C: 1.5410051  VOL: 18.894440  DELTA:  0.250000\n",
      "K_25D_P: 1.2034256  VOL: 19.494440  DELTA: -0.250000\n",
      "==========================================================\n",
      "RR = VOL_K_25_C - VOL_K_25_P => RR_IN: -0.600000 % RR_OUT: -0.600000 %\n",
      "==========================================================\n"
     ]
    }
   ],
   "source": [
    "fxVolSurfaceSABR.checkCalibration(True)"
   ]
  },
  {
   "cell_type": "code",
   "execution_count": 14,
   "metadata": {},
   "outputs": [
    {
     "name": "stdout",
     "output_type": "stream",
     "text": [
      "==========================================================\n",
      "VALUE DATE: 10-APR-2020\n",
      "SPOT FX RATE: 1.3465\n",
      "ATM METHOD: FinFXATMMethod.FWD_DELTA_NEUTRAL\n",
      "DELTA METHOD: FinFXDeltaMethod.SPOT_DELTA\n",
      "==========================================================\n",
      "TENOR: 1Y\n",
      "EXPIRY DATE: 10-APR-2021\n",
      "IN ATM VOL: 18.250000 %\n",
      "IN MKT STRANGLE 25D VOL:  0.950000 %\n",
      "IN RSK REVERSAL 25D VOL: -0.600000 %\n",
      "==========================================================\n",
      "T_(YEARS):  1.0\n",
      "CNT_CPD_RD: 2.934146 %\n",
      "CNT_CPD_RF: 3.453111 %\n",
      "FWD_RATE:   1.339530\n",
      "==========================================================\n",
      "VOL FUNCTION FinVolFunctionTypes.BBG\n",
      "VOL_PARAMETERS: [ 0.15003617 -0.13816841  0.21407517]\n",
      "==========================================================\n",
      "OUT_K_ATM:   1.362024\n",
      "OUT_ATM_VOL: 18.250000 %\n",
      "CALL_DELTA:  0.483029  PUT_DELTA: -0.483029  NET_DELTA:  0.000000\n",
      "==========================================================\n",
      "MKT STRANGLE VOL IN:  0.950000 %\n",
      "K_25D_C_MS:  1.544954  ATM + MSVOL: 19.200000 %   DELTA:  0.250000\n",
      "K_25D_P_MS:  1.205034  ATM + MSVOL: 19.200000 %   DELTA: -0.250000\n",
      "CALL_VALUE:  0.035509  PUT_VALUE:  0.043124  MS_VALUE:  0.078632\n",
      "K_25D_C_MS:  1.544954  SURFACE_VOL: 18.923437 %   DELTA:  0.246188\n",
      "K_25D_P_MS:  1.205034  SURFACE_VOL: 19.474896 %   DELTA: -0.252006\n",
      "CALL_VALUE:  0.034349  PUT_VALUE:  0.044283  MS_SKEW_VALUE:  0.078632\n",
      "K_25D_C: 1.5410143  VOL: 18.895153  DELTA:  0.250000\n",
      "K_25D_P: 1.2034217  VOL: 19.495153  DELTA: -0.250000\n",
      "==========================================================\n",
      "RR = VOL_K_25_C - VOL_K_25_P => RR_IN: -0.600000 % RR_OUT: -0.600000 %\n",
      "==========================================================\n"
     ]
    }
   ],
   "source": [
    "fxVolSurfaceBBG.checkCalibration(True)"
   ]
  },
  {
   "cell_type": "markdown",
   "metadata": {},
   "source": [
    "## Volatility Smile Analysis - Different Volatility Function Types"
   ]
  },
  {
   "cell_type": "code",
   "execution_count": 15,
   "metadata": {},
   "outputs": [],
   "source": [
    "strikes = np.linspace(0.5, 2.5, 1000)"
   ]
  },
  {
   "cell_type": "code",
   "execution_count": 16,
   "metadata": {},
   "outputs": [],
   "source": [
    "expiryDate = valueDate.addTenor(\"1Y\")"
   ]
  },
  {
   "cell_type": "code",
   "execution_count": 17,
   "metadata": {},
   "outputs": [],
   "source": [
    "volsClark = []\n",
    "volsSABR = []\n",
    "volsBBG = []\n",
    "\n",
    "for k in strikes:\n",
    "    volClark = fxVolSurfaceClark.volatility(k, expiryDate)\n",
    "    volSABR = fxVolSurfaceSABR.volatility(k, expiryDate)\n",
    "    volBBG = fxVolSurfaceBBG.volatility(k, expiryDate)\n",
    "    volsClark.append(volClark*100.0)    \n",
    "    volsSABR.append(volSABR*100.0)    \n",
    "    volsBBG.append(volBBG*100.0)    "
   ]
  },
  {
   "cell_type": "code",
   "execution_count": 18,
   "metadata": {},
   "outputs": [
    {
     "data": {
      "image/png": "[encoded data removed]",
      "text/plain": [
       "<Figure size 720x432 with 1 Axes>"
      ]
     },
     "metadata": {
      "needs_background": "light"
     },
     "output_type": "display_data"
    }
   ],
   "source": [
    "plt.figure(figsize=(10,6))\n",
    "plt.plot(strikes, volsClark, label=\"Clark\")\n",
    "plt.plot(strikes, volsSABR, label=\"SABR\")\n",
    "plt.plot(strikes, volsBBG, label=\"BBG\")\n",
    "plt.xlabel(\"Strike\")\n",
    "plt.ylabel(\"Black Scholes Volatility (%)\")\n",
    "plt.title(\"Comparison of Volatility Smiles\")\n",
    "plt.legend();"
   ]
  },
  {
   "cell_type": "markdown",
   "metadata": {},
   "source": [
    "## Implied FX Rate Probability Density Functions"
   ]
  },
  {
   "cell_type": "code",
   "execution_count": 19,
   "metadata": {},
   "outputs": [],
   "source": [
    "lower = 0.50\n",
    "upper = 2.25\n",
    "dbnClark = fxVolSurfaceClark.impliedDbns(lower, upper, 1000)\n",
    "dbnSABR = fxVolSurfaceSABR.impliedDbns(lower, upper, 1000)\n",
    "dbnBBG = fxVolSurfaceBBG.impliedDbns(lower, upper, 1000)"
   ]
  },
  {
   "cell_type": "code",
   "execution_count": 20,
   "metadata": {},
   "outputs": [
    {
     "data": {
      "image/png": "[encoded data removed]",
      "text/plain": [
       "<Figure size 720x432 with 1 Axes>"
      ]
     },
     "metadata": {
      "needs_background": "light"
     },
     "output_type": "display_data"
    }
   ],
   "source": [
    "plt.figure(figsize=(10,6))\n",
    "plt.plot(dbnClark[0]._x, dbnClark[0]._densitydx, label=\"Clark\")\n",
    "plt.plot(dbnSABR[0]._x, dbnSABR[0]._densitydx, label=\"SABR\")\n",
    "plt.plot(dbnBBG[0]._x, dbnBBG[0]._densitydx, label=\"BBG\")\n",
    "plt.title(\"Implied Probability Density Function\")\n",
    "plt.legend();"
   ]
  },
  {
   "cell_type": "markdown",
   "metadata": {},
   "source": [
    "## Expiry Date Interpolation"
   ]
  },
  {
   "cell_type": "markdown",
   "metadata": {},
   "source": [
    "We only have one expiry date. The volatility is therefore assumed to be flat at the level of this expiry date."
   ]
  },
  {
   "cell_type": "code",
   "execution_count": 21,
   "metadata": {},
   "outputs": [],
   "source": [
    "k = 1.30"
   ]
  },
  {
   "cell_type": "code",
   "execution_count": 22,
   "metadata": {},
   "outputs": [],
   "source": [
    "years = np.linspace(0.0, 2.0, 100)"
   ]
  },
  {
   "cell_type": "code",
   "execution_count": 23,
   "metadata": {},
   "outputs": [],
   "source": [
    "expiryDates = valueDate.addYears(years)"
   ]
  },
  {
   "cell_type": "code",
   "execution_count": 24,
   "metadata": {},
   "outputs": [],
   "source": [
    "volsClark = []\n",
    "volsSABR = []\n",
    "volsBBG = []\n",
    "\n",
    "for expiryDate in expiryDates:\n",
    "    \n",
    "    volClark = fxVolSurfaceClark.volatility(k, expiryDate)\n",
    "    volSABR = fxVolSurfaceSABR.volatility(k, expiryDate)\n",
    "    volBBG = fxVolSurfaceBBG.volatility(k, expiryDate)\n",
    "\n",
    "    volsClark.append(volClark*100.0)    \n",
    "    volsSABR.append(volSABR*100.0)    \n",
    "    volsBBG.append(volBBG*100.0)    "
   ]
  },
  {
   "cell_type": "code",
   "execution_count": 25,
   "metadata": {},
   "outputs": [
    {
     "data": {
      "image/png": "[encoded data removed]",
      "text/plain": [
       "<Figure size 720x432 with 1 Axes>"
      ]
     },
     "metadata": {
      "needs_background": "light"
     },
     "output_type": "display_data"
    }
   ],
   "source": [
    "plt.figure(figsize=(10,6))\n",
    "plt.plot(years, volsClark, label=\"Clark\")\n",
    "plt.plot(years, volsSABR, label=\"SABR\")\n",
    "plt.plot(years, volsBBG, label=\"BBG\")\n",
    "plt.xlabel(\"Years\")\n",
    "plt.ylabel(\"Black Scholes Volatility (%)\")\n",
    "plt.title(\"Comparison of Volatility Time Interpolation\")\n",
    "plt.legend();"
   ]
  },
  {
   "cell_type": "markdown",
   "metadata": {},
   "source": [
    "Copyright (c) 2020, Dominic O'Kane "
   ]
  }
 ],
 "metadata": {
  "kernelspec": {
   "display_name": "Python 3",
   "language": "python",
   "name": "python3"
  },
  "language_info": {
   "codemirror_mode": {
    "name": "ipython",
    "version": 3
   },
   "file_extension": ".py",
   "mimetype": "text/x-python",
   "name": "python",
   "nbconvert_exporter": "python",
   "pygments_lexer": "ipython3",
   "version": "3.8.7"
  }
 },
 "nbformat": 4,
 "nbformat_minor": 2
}
