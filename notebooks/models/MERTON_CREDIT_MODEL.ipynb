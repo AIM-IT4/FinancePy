{
 "cells": [
  {
   "cell_type": "markdown",
   "metadata": {},
   "source": [
    "# MERTON CREDIT MODEL"
   ]
  },
  {
   "cell_type": "markdown",
   "metadata": {},
   "source": [
    "Check the method for generating correlation Gaussian random numbers"
   ]
  },
  {
   "cell_type": "code",
   "execution_count": 1,
   "metadata": {},
   "outputs": [],
   "source": [
    "import numpy as np\n",
    "import matplotlib.pyplot as plt"
   ]
  },
  {
   "cell_type": "code",
   "execution_count": 2,
   "metadata": {},
   "outputs": [
    {
     "name": "stdout",
     "output_type": "stream",
     "text": [
      "####################################################################\n",
      "# FINANCEPY BETA Version 0.185 - This build:  19 Nov 2020 at 13:09 #\n",
      "#      This software is distributed FREE & WITHOUT ANY WARRANTY    #\n",
      "# For info and disclaimer - https://github.com/domokane/FinancePy  #\n",
      "#      Send any bug reports or comments to quant@financepy.com     #\n",
      "####################################################################\n",
      "\n"
     ]
    }
   ],
   "source": [
    "from financepy.models.FinModelMertonCredit import *\n",
    "from financepy.models.FinModelMertonCreditMkt import *"
   ]
  },
  {
   "cell_type": "markdown",
   "metadata": {},
   "source": [
    "## Merton Credit Model Market"
   ]
  },
  {
   "cell_type": "markdown",
   "metadata": {},
   "source": [
    "This is a version of the Merton Credit Model that takes as input the equity value and volatility."
   ]
  },
  {
   "cell_type": "markdown",
   "metadata": {},
   "source": [
    "Agrees with results at https://fr.mathworks.com/help/risk/mertonmodel.html"
   ]
  },
  {
   "cell_type": "code",
   "execution_count": 40,
   "metadata": {},
   "outputs": [],
   "source": [
    "equityValue = [2.6406, 2.6817, 3.977, 2.947, 2.528]\n",
    "equityVol = [0.7103, 0.3929, 0.3121, 0.4595, 0.6181]\n",
    "bondFace = [4.0, 3.5, 3.5, 3.2, 4.0]\n",
    "riskFreeRate = [0.05, 0.05, 0.05, 0.05, 0.05]\n",
    "assetGrowthRate = [0.0306, 0.03, 0.031, 0.0302, 0.0305]\n",
    "timeToMaturity = 1.0 #np.linspace(0.1, 10, 100)"
   ]
  },
  {
   "cell_type": "code",
   "execution_count": 41,
   "metadata": {},
   "outputs": [],
   "source": [
    "model = FinModelMertonCreditMkt(equityValue, bondFace, timeToMaturity, riskFreeRate, assetGrowthRate, equityVol)"
   ]
  },
  {
   "cell_type": "code",
   "execution_count": 42,
   "metadata": {},
   "outputs": [
    {
     "data": {
      "text/plain": [
       "OBJECT TYPE: FinModelMertonCreditMkt\n",
       "EQUITY VALUE: [2.6406 2.6817 3.977  2.947  2.528 ]\n",
       "BOND FACE: [4.  3.5 3.5 3.2 4. ]\n",
       "YEARS TO MATURITY: [1.]\n",
       "ASSET GROWTH: [0.0306 0.03   0.031  0.0302 0.0305]\n",
       "EQUITY VOLATILITY: [0.7103 0.3929 0.3121 0.4595 0.6181]"
      ]
     },
     "execution_count": 42,
     "metadata": {},
     "output_type": "execute_result"
    }
   ],
   "source": [
    "model"
   ]
  },
  {
   "cell_type": "code",
   "execution_count": 43,
   "metadata": {},
   "outputs": [
    {
     "data": {
      "text/plain": [
       "array([6.46892331e-03, 2.28875517e-05, 9.30381956e-08, 1.23981022e-04,\n",
       "       2.57202907e-03])"
      ]
     },
     "execution_count": 43,
     "metadata": {},
     "output_type": "execute_result"
    }
   ],
   "source": [
    "model.creditSpread()"
   ]
  },
  {
   "cell_type": "code",
   "execution_count": 44,
   "metadata": {},
   "outputs": [
    {
     "data": {
      "text/plain": [
       "array([1.60524585, 1.71740765, 2.08751505, 1.872049  , 1.58078598])"
      ]
     },
     "execution_count": 44,
     "metadata": {},
     "output_type": "execute_result"
    }
   ],
   "source": [
    "model.leverage()"
   ]
  },
  {
   "cell_type": "code",
   "execution_count": 45,
   "metadata": {},
   "outputs": [
    {
     "data": {
      "text/plain": [
       "OBJECT TYPE: FinModelMertonCreditMkt\n",
       "EQUITY VALUE: [2.6406 2.6817 3.977  2.947  2.528 ]\n",
       "BOND FACE: [4.  3.5 3.5 3.2 4. ]\n",
       "YEARS TO MATURITY: [1.]\n",
       "ASSET GROWTH: [0.0306 0.03   0.031  0.0302 0.0305]\n",
       "EQUITY VOLATILITY: [0.7103 0.3929 0.3121 0.4595 0.6181]"
      ]
     },
     "execution_count": 45,
     "metadata": {},
     "output_type": "execute_result"
    }
   ],
   "source": [
    "model"
   ]
  },
  {
   "cell_type": "code",
   "execution_count": 46,
   "metadata": {},
   "outputs": [
    {
     "data": {
      "text/plain": [
       "array([6.37907256e-02, 7.67718883e-04, 4.71700036e-06, 2.62227028e-03,\n",
       "       3.44082712e-02])"
      ]
     },
     "execution_count": 46,
     "metadata": {},
     "output_type": "execute_result"
    }
   ],
   "source": [
    "model.probDefault()"
   ]
  },
  {
   "cell_type": "code",
   "execution_count": 47,
   "metadata": {},
   "outputs": [
    {
     "data": {
      "text/plain": [
       "array([3.78038342, 3.32922679, 3.32930268, 3.04355679, 3.79514391])"
      ]
     },
     "execution_count": 47,
     "metadata": {},
     "output_type": "execute_result"
    }
   ],
   "source": [
    "model.debtValue()"
   ]
  },
  {
   "cell_type": "code",
   "execution_count": 48,
   "metadata": {},
   "outputs": [
    {
     "data": {
      "text/plain": [
       "array([1.52370888, 3.16790104, 4.42975545, 2.79161692, 1.81962231])"
      ]
     },
     "execution_count": 48,
     "metadata": {},
     "output_type": "execute_result"
    }
   ],
   "source": [
    "model.distDefault()"
   ]
  },
  {
   "cell_type": "markdown",
   "metadata": {},
   "source": [
    "## Merton's Basic Model - Credit Spread Term Structure"
   ]
  },
  {
   "cell_type": "code",
   "execution_count": 55,
   "metadata": {},
   "outputs": [],
   "source": [
    "assetVol = 0.20\n",
    "bondFace = 100.0\n",
    "riskFreeRate = 0.05\n",
    "assetGrowthRate = 0.05\n",
    "timeToMaturity = np.linspace(0.01,10.,1000)"
   ]
  },
  {
   "cell_type": "code",
   "execution_count": 56,
   "metadata": {},
   "outputs": [],
   "source": [
    "model1 = FinModelMertonCredit(140.0, bondFace, timeToMaturity, riskFreeRate, assetGrowthRate, assetVol)\n",
    "model2 = FinModelMertonCredit(115.0, bondFace, timeToMaturity, riskFreeRate, assetGrowthRate, assetVol)\n",
    "model3 = FinModelMertonCredit(105.0, bondFace, timeToMaturity, riskFreeRate, assetGrowthRate, assetVol)"
   ]
  },
  {
   "cell_type": "code",
   "execution_count": 57,
   "metadata": {},
   "outputs": [],
   "source": [
    "spd1 = model1.creditSpread() * 10000\n",
    "spd2 = model2.creditSpread() * 10000\n",
    "spd3 = model3.creditSpread() * 10000"
   ]
  },
  {
   "cell_type": "code",
   "execution_count": 58,
   "metadata": {},
   "outputs": [],
   "source": [
    "lvg1 = model1.leverage()\n",
    "lvg2 = model2.leverage()\n",
    "lvg3 = model3.leverage()"
   ]
  },
  {
   "cell_type": "code",
   "execution_count": 59,
   "metadata": {},
   "outputs": [
    {
     "data": {
      "text/plain": [
       "(1.4, 1.15, 1.05)"
      ]
     },
     "execution_count": 59,
     "metadata": {},
     "output_type": "execute_result"
    }
   ],
   "source": [
    "lvg1, lvg2, lvg3"
   ]
  },
  {
   "cell_type": "code",
   "execution_count": 60,
   "metadata": {},
   "outputs": [
    {
     "data": {
      "image/png": "[encoded data removed]",
      "text/plain": [
       "<Figure size 432x288 with 1 Axes>"
      ]
     },
     "metadata": {
      "needs_background": "light"
     },
     "output_type": "display_data"
    }
   ],
   "source": [
    "plt.plot(timeToMaturity, spd1, label=\"Low Leverage\")\n",
    "plt.plot(timeToMaturity, spd2, label=\"Medium\")\n",
    "plt.plot(timeToMaturity, spd3, label=\"Highly Leverage\")\n",
    "plt.xlabel(\"Maturity (yrs)\")\n",
    "plt.ylabel(\"Credit Spread\")\n",
    "plt.legend();"
   ]
  },
  {
   "cell_type": "markdown",
   "metadata": {},
   "source": [
    "Copyright (c) 2020 Dominic O'Kane"
   ]
  }
 ],
 "metadata": {
  "kernelspec": {
   "display_name": "Python 3",
   "language": "python",
   "name": "python3"
  },
  "language_info": {
   "codemirror_mode": {
    "name": "ipython",
    "version": 3
   },
   "file_extension": ".py",
   "mimetype": "text/x-python",
   "name": "python",
   "nbconvert_exporter": "python",
   "pygments_lexer": "ipython3",
   "version": "3.8.5"
  }
 },
 "nbformat": 4,
 "nbformat_minor": 2
}
