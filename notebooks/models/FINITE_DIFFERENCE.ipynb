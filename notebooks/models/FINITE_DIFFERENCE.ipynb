{
 "cells": [
  {
   "cell_type": "markdown",
   "id": "f8e495bf",
   "metadata": {},
   "source": [
    "# Finite Difference Model"
   ]
  },
  {
   "cell_type": "markdown",
   "id": "54906ae9",
   "metadata": {},
   "source": [
    "Use Finite Difference method to value an option.\n",
    "\n",
    "The underlying code used is based on the fd_runner method [here](https://github.com/domokane/CompFin/blob/main/Week%204/xladdin/Utility/kBlack.cpp)"
   ]
  },
  {
   "cell_type": "code",
   "execution_count": 1,
   "id": "97541141",
   "metadata": {},
   "outputs": [
    {
     "name": "stdout",
     "output_type": "stream",
     "text": [
      "####################################################################\n",
      "# FINANCEPY BETA Version 0.270 - This build:  26 Feb 2023 at 19:12 #\n",
      "#      This software is distributed FREE & WITHOUT ANY WARRANTY    #\n",
      "#  Report bugs as issues at https://github.com/domokane/FinancePy  #\n",
      "####################################################################\n",
      "\n"
     ]
    },
    {
     "ename": "ModuleNotFoundError",
     "evalue": "No module named 'prettytable'",
     "output_type": "error",
     "traceback": [
      "\u001b[0;31m---------------------------------------------------------------------------\u001b[0m",
      "\u001b[0;31mModuleNotFoundError\u001b[0m                       Traceback (most recent call last)",
      "Cell \u001b[0;32mIn [1], line 6\u001b[0m\n\u001b[1;32m      3\u001b[0m \u001b[38;5;28;01mimport\u001b[39;00m \u001b[38;5;21;01mnumpy\u001b[39;00m \u001b[38;5;28;01mas\u001b[39;00m \u001b[38;5;21;01mnp\u001b[39;00m\n\u001b[1;32m      4\u001b[0m \u001b[38;5;28;01mimport\u001b[39;00m \u001b[38;5;21;01mmatplotlib\u001b[39;00m\u001b[38;5;21;01m.\u001b[39;00m\u001b[38;5;21;01mpyplot\u001b[39;00m \u001b[38;5;28;01mas\u001b[39;00m \u001b[38;5;21;01mplt\u001b[39;00m\n\u001b[0;32m----> 6\u001b[0m \u001b[38;5;28;01mfrom\u001b[39;00m \u001b[38;5;21;01mfinancepy\u001b[39;00m\u001b[38;5;21;01m.\u001b[39;00m\u001b[38;5;21;01mmodels\u001b[39;00m\u001b[38;5;21;01m.\u001b[39;00m\u001b[38;5;21;01mfinite_difference\u001b[39;00m \u001b[38;5;28;01mimport\u001b[39;00m (\n\u001b[1;32m      7\u001b[0m     dx, dxx, fd_roll_backwards, fd_roll_forwards, black_scholes_finite_difference)\n\u001b[1;32m      8\u001b[0m \u001b[38;5;28;01mfrom\u001b[39;00m \u001b[38;5;21;01mfinancepy\u001b[39;00m\u001b[38;5;21;01m.\u001b[39;00m\u001b[38;5;21;01mutils\u001b[39;00m\u001b[38;5;21;01m.\u001b[39;00m\u001b[38;5;21;01mmath\u001b[39;00m \u001b[38;5;28;01mimport\u001b[39;00m band_matrix_multiplication, solve_tridiagonal_matrix\n\u001b[1;32m      9\u001b[0m \u001b[38;5;28;01mfrom\u001b[39;00m \u001b[38;5;21;01mfinancepy\u001b[39;00m\u001b[38;5;21;01m.\u001b[39;00m\u001b[38;5;21;01mutils\u001b[39;00m\u001b[38;5;21;01m.\u001b[39;00m\u001b[38;5;21;01mdate\u001b[39;00m \u001b[38;5;28;01mimport\u001b[39;00m Date\n",
      "File \u001b[0;32m~/open_source/FinancePy/financepy/models/finite_difference.py:9\u001b[0m\n\u001b[1;32m      6\u001b[0m \u001b[38;5;28;01mimport\u001b[39;00m \u001b[38;5;21;01mnumpy\u001b[39;00m \u001b[38;5;28;01mas\u001b[39;00m \u001b[38;5;21;01mnp\u001b[39;00m\n\u001b[1;32m      7\u001b[0m \u001b[38;5;28;01mfrom\u001b[39;00m \u001b[38;5;21;01mnumba\u001b[39;00m \u001b[38;5;28;01mimport\u001b[39;00m njit\n\u001b[0;32m----> 9\u001b[0m \u001b[38;5;28;01mfrom\u001b[39;00m \u001b[38;5;21;01m.\u001b[39;00m\u001b[38;5;21;01m.\u001b[39;00m\u001b[38;5;21;01mutils\u001b[39;00m\u001b[38;5;21;01m.\u001b[39;00m\u001b[38;5;21;01mmath\u001b[39;00m \u001b[38;5;28;01mimport\u001b[39;00m band_matrix_multiplication, solve_tridiagonal_matrix, transpose_tridiagonal_matrix\n\u001b[1;32m     10\u001b[0m \u001b[38;5;28;01mfrom\u001b[39;00m \u001b[38;5;21;01m.\u001b[39;00m\u001b[38;5;21;01m.\u001b[39;00m\u001b[38;5;21;01mutils\u001b[39;00m\u001b[38;5;21;01m.\u001b[39;00m\u001b[38;5;21;01mglobal_vars\u001b[39;00m \u001b[38;5;28;01mimport\u001b[39;00m gDaysInYear\n\u001b[1;32m     11\u001b[0m \u001b[38;5;28;01mfrom\u001b[39;00m \u001b[38;5;21;01mfinancepy\u001b[39;00m\u001b[38;5;21;01m.\u001b[39;00m\u001b[38;5;21;01mutils\u001b[39;00m\u001b[38;5;21;01m.\u001b[39;00m\u001b[38;5;21;01mglobal_types\u001b[39;00m \u001b[38;5;28;01mimport\u001b[39;00m OptionTypes\n",
      "File \u001b[0;32m~/open_source/FinancePy/financepy/utils/__init__.py:8\u001b[0m\n\u001b[1;32m      6\u001b[0m \u001b[38;5;28;01mfrom\u001b[39;00m \u001b[38;5;21;01m.\u001b[39;00m\u001b[38;5;21;01mglobal_vars\u001b[39;00m \u001b[38;5;28;01mimport\u001b[39;00m \u001b[38;5;241m*\u001b[39m\n\u001b[1;32m      7\u001b[0m \u001b[38;5;28;01mfrom\u001b[39;00m \u001b[38;5;21;01m.\u001b[39;00m\u001b[38;5;21;01mglobal_types\u001b[39;00m \u001b[38;5;28;01mimport\u001b[39;00m \u001b[38;5;241m*\u001b[39m\n\u001b[0;32m----> 8\u001b[0m \u001b[38;5;28;01mfrom\u001b[39;00m \u001b[38;5;21;01m.\u001b[39;00m\u001b[38;5;21;01mhelpers\u001b[39;00m \u001b[38;5;28;01mimport\u001b[39;00m \u001b[38;5;241m*\u001b[39m\n\u001b[1;32m      9\u001b[0m \u001b[38;5;28;01mfrom\u001b[39;00m \u001b[38;5;21;01m.\u001b[39;00m\u001b[38;5;21;01mmath\u001b[39;00m \u001b[38;5;28;01mimport\u001b[39;00m \u001b[38;5;241m*\u001b[39m\n\u001b[1;32m     10\u001b[0m \u001b[38;5;28;01mfrom\u001b[39;00m \u001b[38;5;21;01m.\u001b[39;00m\u001b[38;5;21;01mstats\u001b[39;00m \u001b[38;5;28;01mimport\u001b[39;00m \u001b[38;5;241m*\u001b[39m\n",
      "File \u001b[0;32m~/open_source/FinancePy/financepy/utils/helpers.py:9\u001b[0m\n\u001b[1;32m      7\u001b[0m \u001b[38;5;28;01mfrom\u001b[39;00m \u001b[38;5;21;01mnumba\u001b[39;00m \u001b[38;5;28;01mimport\u001b[39;00m njit, float64\n\u001b[1;32m      8\u001b[0m \u001b[38;5;28;01mfrom\u001b[39;00m \u001b[38;5;21;01mtyping\u001b[39;00m \u001b[38;5;28;01mimport\u001b[39;00m Union\n\u001b[0;32m----> 9\u001b[0m \u001b[38;5;28;01mfrom\u001b[39;00m \u001b[38;5;21;01mprettytable\u001b[39;00m \u001b[38;5;28;01mimport\u001b[39;00m PrettyTable\n\u001b[1;32m     11\u001b[0m \u001b[38;5;28;01mfrom\u001b[39;00m \u001b[38;5;21;01m.\u001b[39;00m\u001b[38;5;21;01mdate\u001b[39;00m \u001b[38;5;28;01mimport\u001b[39;00m Date\n\u001b[1;32m     12\u001b[0m \u001b[38;5;28;01mfrom\u001b[39;00m \u001b[38;5;21;01m.\u001b[39;00m\u001b[38;5;21;01mglobal_vars\u001b[39;00m \u001b[38;5;28;01mimport\u001b[39;00m gDaysInYear, gSmall\n",
      "\u001b[0;31mModuleNotFoundError\u001b[0m: No module named 'prettytable'"
     ]
    }
   ],
   "source": [
    "from copy import copy\n",
    "\n",
    "import numpy as np\n",
    "import matplotlib.pyplot as plt\n",
    "\n",
    "from financepy.models.finite_difference import (\n",
    "    dx, dxx, fd_roll_backwards, fd_roll_forwards, black_scholes_finite_difference)\n",
    "from financepy.utils.math import band_matrix_multiplication, solve_tridiagonal_matrix\n",
    "from financepy.utils.date import Date\n",
    "from financepy.utils.global_types import OptionTypes\n",
    "from financepy.products.equity.equity_vanilla_option import EquityVanillaOption\n",
    "from financepy.market.curves.discount_curve_flat import DiscountCurveFlat"
   ]
  },
  {
   "cell_type": "code",
   "execution_count": null,
   "id": "e3b3231a",
   "metadata": {},
   "outputs": [],
   "source": [
    "expiry_date = Date(1, 7, 2015)\n",
    "strike_price = 100.0\n",
    "option_type = OptionTypes.EUROPEAN_CALL\n",
    "\n",
    "valuation_date = Date(1, 1, 2015)\n",
    "stock_price = 100\n",
    "volatility = 0.30\n",
    "interest_rate = 0.05\n",
    "dividend_yield = 0.01\n",
    "discount_curve = DiscountCurveFlat(valuation_date, interest_rate)\n",
    "dividend_curve = DiscountCurveFlat(valuation_date, dividend_yield)\n",
    "\n",
    "num_std = 5\n",
    "num_samples = 200\n",
    "num_steps = 50"
   ]
  },
  {
   "cell_type": "code",
   "execution_count": null,
   "id": "aa1c317e",
   "metadata": {},
   "outputs": [],
   "source": [
    "res, v = black_scholes_finite_difference(stock_price=stock_price, sigma=volatility,\n",
    "                                         expiry_date=expiry_date, valuation_date=valuation_date,\n",
    "                                         strike_price=100.0, discount_curve=discount_curve,\n",
    "                                         dividend_curve=dividend_curve, digital=0,\n",
    "                                         option_type=option_type, smooth=0, theta=0.5, wind=0,\n",
    "                                         num_std=num_std, num_steps=num_steps, num_samples=num_samples,\n",
    "                                         update=False)"
   ]
  },
  {
   "cell_type": "code",
   "execution_count": null,
   "id": "f38c2c20",
   "metadata": {},
   "outputs": [],
   "source": [
    "# Create samples (this is done in black_scholes_finite_difference\n",
    "# but we do it here for plotting)\n",
    "time_to_expiry = (expiry_date - valuation_date) / 365\n",
    "std = volatility * (time_to_expiry ** 0.5)\n",
    "xl = -num_std * std\n",
    "xu = num_std * std\n",
    "d_x = (xu - xl) / max(1, num_samples)\n",
    "num_samples = 1 if num_samples <= 0 or xl == xu else num_samples + 1\n",
    "s = np.zeros(num_samples)\n",
    "s[0] = stock_price * np.exp(xl)\n",
    "ds = np.exp(d_x)\n",
    "for i in range(1, num_samples):\n",
    "    s[i] = s[i - 1] * ds"
   ]
  },
  {
   "cell_type": "code",
   "execution_count": null,
   "id": "fef7463a",
   "metadata": {},
   "outputs": [],
   "source": [
    "plt.plot(s, res)\n",
    "plt.plot(s[len(s)//2], v, \"*\")\n",
    "plt.hlines(v, 0, s[-1],\"g\", \"dashed\")\n",
    "plt.xlabel(\"X\")\n",
    "plt.ylabel(\"Price\")\n",
    "plt.xlim((s[0], s[-1]))\n",
    "plt.grid()"
   ]
  },
  {
   "cell_type": "code",
   "execution_count": null,
   "id": "58875619",
   "metadata": {},
   "outputs": [],
   "source": [
    "print(f\"Option value is ${v:.2f}\")"
   ]
  },
  {
   "cell_type": "code",
   "execution_count": null,
   "id": "8e12327e",
   "metadata": {},
   "outputs": [],
   "source": []
  }
 ],
 "metadata": {
  "kernelspec": {
   "display_name": "Python 3 (ipykernel)",
   "language": "python",
   "name": "python3"
  },
  "language_info": {
   "codemirror_mode": {
    "name": "ipython",
    "version": 3
   },
   "file_extension": ".py",
   "mimetype": "text/x-python",
   "name": "python",
   "nbconvert_exporter": "python",
   "pygments_lexer": "ipython3",
   "version": "3.10.4"
  }
 },
 "nbformat": 4,
 "nbformat_minor": 5
}
