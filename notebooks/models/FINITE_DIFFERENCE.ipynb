{
 "cells": [
  {
   "cell_type": "markdown",
   "id": "f8e495bf",
   "metadata": {},
   "source": [
    "# Finite Difference Model"
   ]
  },
  {
   "cell_type": "markdown",
   "id": "54906ae9",
   "metadata": {},
   "source": [
    "Use Finite Difference method to value an option.\n",
    "\n",
    "The underlying code used is based on the fd_runner method [here](https://github.com/domokane/CompFin/blob/main/Week%204/xladdin/Utility/kBlack.cpp)"
   ]
  },
  {
   "cell_type": "code",
   "execution_count": 1,
   "id": "97541141",
   "metadata": {},
   "outputs": [
    {
     "name": "stdout",
     "output_type": "stream",
     "text": [
      "####################################################################\n",
      "# FINANCEPY BETA Version 0.270 - This build:  26 Feb 2023 at 19:12 #\n",
      "#      This software is distributed FREE & WITHOUT ANY WARRANTY    #\n",
      "#  Report bugs as issues at https://github.com/domokane/FinancePy  #\n",
      "####################################################################\n",
      "\n"
     ]
    }
   ],
   "source": [
    "from copy import copy\n",
    "\n",
    "import numpy as np\n",
    "import matplotlib.pyplot as plt\n",
    "\n",
    "from financepy.models.finite_difference import (\n",
    "    dx, dxx, fd_roll_backwards, fd_roll_forwards, black_scholes_finite_difference)\n",
    "from financepy.utils.math import band_matrix_multiplication, solve_tridiagonal_matrix\n",
    "from financepy.utils.date import Date\n",
    "from financepy.utils.global_types import OptionTypes\n",
    "from financepy.utils.global_vars import gDaysInYear\n",
    "from financepy.market.curves.discount_curve_flat import DiscountCurveFlat"
   ]
  },
  {
   "cell_type": "code",
   "execution_count": 2,
   "id": "e3b3231a",
   "metadata": {},
   "outputs": [],
   "source": [
    "expiry_date = Date(1, 7, 2015)\n",
    "strike_price = 100.0\n",
    "option_type = OptionTypes.EUROPEAN_CALL\n",
    "\n",
    "valuation_date = Date(1, 1, 2015)\n",
    "stock_price = 100\n",
    "volatility = 0.30\n",
    "risk_free_rate = 0.05\n",
    "dividend_yield = 0.01\n",
    "num_std = 5\n",
    "num_samples = 20000\n",
    "\n",
    "# Time to contract expiry in years\n",
    "time_to_expiry = (expiry_date - valuation_date) / gDaysInYear\n"
   ]
  },
  {
   "cell_type": "code",
   "execution_count": 3,
   "id": "aa1c317e",
   "metadata": {},
   "outputs": [],
   "source": [
    "v = black_scholes_finite_difference(spot_price=stock_price, volatility=volatility,\n",
    "                                    time_to_expiry=time_to_expiry,\n",
    "                                    strike_price=100.0, risk_free_rate=risk_free_rate,\n",
    "                                    dividend_yield=dividend_yield, digital=0,\n",
    "                                    option_type=option_type, smooth=0, theta=0.5, wind=0,\n",
    "                                    num_std=num_std, num_time_steps=None, num_samples=num_samples,\n",
    "                                    update=False)"
   ]
  },
  {
   "cell_type": "code",
   "execution_count": 4,
   "id": "509584e9",
   "metadata": {},
   "outputs": [
    {
     "name": "stdout",
     "output_type": "stream",
     "text": [
      "Option value is $9.30\n"
     ]
    }
   ],
   "source": [
    "print(f\"Option value is ${v:.2f}\")"
   ]
  },
  {
   "cell_type": "code",
   "execution_count": null,
   "id": "8e12327e",
   "metadata": {},
   "outputs": [],
   "source": []
  }
 ],
 "metadata": {
  "kernelspec": {
   "display_name": "Python 3 (ipykernel)",
   "language": "python",
   "name": "python3"
  },
  "language_info": {
   "codemirror_mode": {
    "name": "ipython",
    "version": 3
   },
   "file_extension": ".py",
   "mimetype": "text/x-python",
   "name": "python",
   "nbconvert_exporter": "python",
   "pygments_lexer": "ipython3",
   "version": "3.10.4"
  }
 },
 "nbformat": 4,
 "nbformat_minor": 5
}
