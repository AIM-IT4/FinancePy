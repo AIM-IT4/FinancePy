{
 "cells": [
  {
   "cell_type": "markdown",
   "id": "f8e495bf",
   "metadata": {},
   "source": [
    "# Finite Difference Model"
   ]
  },
  {
   "cell_type": "markdown",
   "id": "54906ae9",
   "metadata": {},
   "source": [
    "Use Finite Difference method to value an option.\n",
    "\n",
    "The underlying code used is based on the fd_runner method [here](https://github.com/domokane/CompFin/blob/main/Week%204/xladdin/Utility/kBlack.cpp)"
   ]
  },
  {
   "cell_type": "code",
   "execution_count": 1,
   "id": "97541141",
   "metadata": {},
   "outputs": [
    {
     "name": "stdout",
     "output_type": "stream",
     "text": [
      "['c:\\\\Users\\\\Dominic\\\\Dropbox\\\\Desktop\\\\RESEARCH_DB\\\\FinancePy\\\\Code\\\\financepy-git\\\\notebooks\\\\models', 'c:\\\\Users\\\\Dominic\\\\anaconda3\\\\python39.zip', 'c:\\\\Users\\\\Dominic\\\\anaconda3\\\\DLLs', 'c:\\\\Users\\\\Dominic\\\\anaconda3\\\\lib', 'c:\\\\Users\\\\Dominic\\\\anaconda3', '', 'C:\\\\Users\\\\Dominic\\\\AppData\\\\Roaming\\\\Python\\\\Python39\\\\site-packages', 'c:\\\\Users\\\\Dominic\\\\anaconda3\\\\lib\\\\site-packages', 'c:\\\\Users\\\\Dominic\\\\anaconda3\\\\lib\\\\site-packages\\\\chardet-3.0.4-py3.9.egg', 'c:\\\\Users\\\\Dominic\\\\anaconda3\\\\lib\\\\site-packages\\\\enum34-1.1.6-py3.9.egg', 'c:\\\\Users\\\\Dominic\\\\anaconda3\\\\lib\\\\site-packages\\\\docloud-1.0.375-py3.9.egg', 'c:\\\\Users\\\\Dominic\\\\anaconda3\\\\lib\\\\site-packages\\\\cplex-22.1.0.0-py3.9.egg', 'c:\\\\Users\\\\Dominic\\\\anaconda3\\\\lib\\\\site-packages\\\\certifi-2019.9.11-py3.9.egg', 'c:\\\\Users\\\\Dominic\\\\anaconda3\\\\lib\\\\site-packages\\\\idna-2.8-py3.9.egg', 'c:\\\\Users\\\\Dominic\\\\anaconda3\\\\lib\\\\site-packages\\\\docplex-2.23.221-py3.9.egg', 'c:\\\\Users\\\\Dominic\\\\anaconda3\\\\lib\\\\site-packages\\\\win32', 'c:\\\\Users\\\\Dominic\\\\anaconda3\\\\lib\\\\site-packages\\\\win32\\\\lib', 'c:\\\\Users\\\\Dominic\\\\anaconda3\\\\lib\\\\site-packages\\\\Pythonwin', './../../']\n",
      "####################################################################\n",
      "# FINANCEPY BETA Version 0.270 - This build:  26 Feb 2023 at 19:12 #\n",
      "#      This software is distributed FREE & WITHOUT ANY WARRANTY    #\n",
      "#  Report bugs as issues at https://github.com/domokane/FinancePy  #\n",
      "####################################################################\n",
      "\n"
     ]
    }
   ],
   "source": [
    "from copy import copy\n",
    "\n",
    "import sys\n",
    "sys.path.append(\"./../../\")\n",
    "\n",
    "print(sys.path)\n",
    "\n",
    "import numpy as np\n",
    "import matplotlib.pyplot as plt\n",
    "\n",
    "from financepy.utils.global_types import OptionTypes\n",
    "from financepy.utils.date import Date\n",
    "from financepy.utils.math import band_matrix_multiplication, solve_tridiagonal_matrix\n",
    "\n",
    "from financepy.models.finite_difference import (\n",
    "    dx, dxx, fd_roll_backwards, fd_roll_forwards, black_scholes_finite_difference)\n",
    "from financepy.products.equity.equity_vanilla_option import EquityVanillaOption\n",
    "from financepy.market.curves.discount_curve_flat import DiscountCurveFlat"
   ]
  },
  {
   "cell_type": "code",
   "execution_count": 13,
   "id": "e3b3231a",
   "metadata": {},
   "outputs": [],
   "source": [
    "expiry_date = Date(1, 7, 2015)\n",
    "strike_price = 100.0\n",
    "option_type = OptionTypes.EUROPEAN_CALL\n",
    "call_option = EquityVanillaOption(expiry_date, \n",
    "                                  strike_price, \n",
    "                                  option_type)\n",
    "\n",
    "valuation_date = Date(1, 1, 2015)\n",
    "stock_price = 100\n",
    "volatility = 0.30\n",
    "interest_rate = 0.05\n",
    "dividend_yield = 0.01\n",
    "discount_curve = DiscountCurveFlat(valuation_date, interest_rate)\n",
    "dividend_curve = DiscountCurveFlat(valuation_date, dividend_yield)\n",
    "\n",
    "num_std = 5\n",
    "num_samples = 200\n",
    "num_steps = 50"
   ]
  },
  {
   "cell_type": "code",
   "execution_count": 14,
   "id": "aa1c317e",
   "metadata": {},
   "outputs": [],
   "source": [
    "res, v = black_scholes_finite_difference(stock_price=stock_price, \n",
    "                                         sigma=volatility,\n",
    "                                         expiry_date=expiry_date, \n",
    "                                         valuation_date=valuation_date,\n",
    "                                         strike_price=100.0, \n",
    "                                         discount_curve=discount_curve,\n",
    "                                         dividend_curve=dividend_curve, \n",
    "                                         digital=0,\n",
    "                                         option_type=option_type, \n",
    "                                         smooth=0, \n",
    "                                         theta=0.5, \n",
    "                                         wind=0,\n",
    "                                         num_std=num_std, \n",
    "                                         num_steps=num_steps, \n",
    "                                         num_samples=num_samples,\n",
    "                                         update=False)"
   ]
  },
  {
   "cell_type": "code",
   "execution_count": 15,
   "id": "f38c2c20",
   "metadata": {},
   "outputs": [],
   "source": [
    "# Create samples (this is done in black_scholes_finite_difference\n",
    "# but we do it here for plotting)\n",
    "time_to_expiry = (expiry_date - valuation_date) / 365\n",
    "std = volatility * (time_to_expiry ** 0.5)\n",
    "xl = -num_std * std\n",
    "xu = num_std * std\n",
    "d_x = (xu - xl) / max(1, num_samples)\n",
    "num_samples = 1 if num_samples <= 0 or xl == xu else num_samples + 1\n",
    "s = np.zeros(num_samples)\n",
    "s[0] = stock_price * np.exp(xl)\n",
    "ds = np.exp(d_x)\n",
    "for i in range(1, num_samples):\n",
    "    s[i] = s[i - 1] * ds"
   ]
  },
  {
   "cell_type": "code",
   "execution_count": 16,
   "id": "fef7463a",
   "metadata": {},
   "outputs": [
    {
     "data": {
      "image/png": "[encoded data removed]",
      "text/plain": [
       "<Figure size 640x480 with 1 Axes>"
      ]
     },
     "metadata": {},
     "output_type": "display_data"
    }
   ],
   "source": [
    "plt.plot(s, res)\n",
    "plt.plot(s[len(s)//2], v, \"*\")\n",
    "plt.hlines(v, 0, s[-1],\"g\", \"dashed\")\n",
    "plt.xlabel(\"X\")\n",
    "plt.ylabel(\"Price\")\n",
    "plt.xlim((s[0], s[-1]))\n",
    "plt.grid()"
   ]
  },
  {
   "cell_type": "code",
   "execution_count": 7,
   "id": "58875619",
   "metadata": {},
   "outputs": [
    {
     "name": "stdout",
     "output_type": "stream",
     "text": [
      "Option value is $9.30\n"
     ]
    }
   ],
   "source": [
    "print(f\"Option value is ${v:.2f}\")"
   ]
  },
  {
   "cell_type": "code",
   "execution_count": null,
   "id": "8e12327e",
   "metadata": {},
   "outputs": [],
   "source": []
  }
 ],
 "metadata": {
  "kernelspec": {
   "display_name": "Python 3 (ipykernel)",
   "language": "python",
   "name": "python3"
  },
  "language_info": {
   "codemirror_mode": {
    "name": "ipython",
    "version": 3
   },
   "file_extension": ".py",
   "mimetype": "text/x-python",
   "name": "python",
   "nbconvert_exporter": "python",
   "pygments_lexer": "ipython3",
   "version": "3.9.12"
  }
 },
 "nbformat": 4,
 "nbformat_minor": 5
}
