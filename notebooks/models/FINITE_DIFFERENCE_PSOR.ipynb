{
 "cells": [
  {
   "cell_type": "code",
   "execution_count": null,
   "id": "904cf030",
   "metadata": {},
   "outputs": [],
   "source": [
    "from financepy.models.finite_difference import option_payoff, calculate_fd_matrix, fd_roll_backwards\n",
    "from financepy.utils import *\n",
    "from financepy.market.curves import *\n",
    "from financepy.products.equity import *\n",
    "from financepy.models.black_scholes import *\n",
    "\n",
    "from copy import deepcopy\n",
    "\n",
    "import numpy as np\n",
    "import matplotlib.pyplot as plt"
   ]
  },
  {
   "cell_type": "code",
   "execution_count": null,
   "id": "459b301c",
   "metadata": {},
   "outputs": [],
   "source": [
    "option_type = OptionTypes.AMERICAN_CALL\n",
    "valuation_date = Date(1, 1, 2015)\n",
    "expiry_date = valuation_date.add_years(0.5)\n",
    "time_to_expiry = (expiry_date - valuation_date) / 365.0\n",
    "risk_free_rate = 0.05\n",
    "spot_price = 50.0\n",
    "smooth = digital = False\n",
    "volatility = 0.20\n",
    "dividend_yield = 0.05\n",
    "strike_price = 50.0\n",
    "\n",
    "s_max = strike_price * 4\n",
    "dx = 0.2\n",
    "num_samples = s_max / dx\n",
    "\n",
    "theta = 0.5"
   ]
  },
  {
   "cell_type": "code",
   "execution_count": null,
   "id": "f287d959",
   "metadata": {},
   "outputs": [],
   "source": [
    "mu = risk_free_rate - dividend_yield"
   ]
  },
  {
   "cell_type": "code",
   "execution_count": null,
   "id": "54872329",
   "metadata": {},
   "outputs": [],
   "source": [
    "# time steps\n",
    "num_steps = int(num_samples // 2)\n",
    "dt = time_to_expiry / max(1, num_steps)"
   ]
  },
  {
   "cell_type": "markdown",
   "id": "372947e8",
   "metadata": {},
   "source": [
    "TODO: Add dividends (i.e. use drift parameter)"
   ]
  },
  {
   "cell_type": "code",
   "execution_count": null,
   "id": "6176621f",
   "metadata": {},
   "outputs": [],
   "source": []
  },
  {
   "cell_type": "raw",
   "id": "55b1da9f",
   "metadata": {},
   "source": [
    "res = deepcopy(payoff)\n",
    "for i in range(num_steps):\n",
    "    # Rannacher time stepping\n",
    "    if i == -1:\n",
    "        theta = 1\n",
    "        m = calculate_fd_matrix(s_max, dx, theta, dt, risk_free_rate, volatility)\n",
    "    elif i==int(0):\n",
    "        theta = 0.5\n",
    "        m = calculate_fd_matrix(s_max, dx, theta, dt, risk_free_rate, volatility)\n",
    "    z = calc_z(m, res)\n",
    "\n",
    "    #res[0, 1:-1] = solve_tridiagonal_matrix(m.T, res[0, 1:-1]) + f"
   ]
  },
  {
   "cell_type": "markdown",
   "id": "59551b9e",
   "metadata": {},
   "source": [
    "Jacobi"
   ]
  },
  {
   "cell_type": "code",
   "execution_count": null,
   "id": "2d58f076",
   "metadata": {},
   "outputs": [],
   "source": [
    "def calculate_fd_matrix(s, theta, dt, risk_free_rate, volatility):\n",
    "    j = np.arange(len(s))\n",
    "    theta_ = 1 - theta\n",
    "    alpha = 0.5 * dt * theta_ * (volatility**2 * j**2 - mu * j)\n",
    "    beta = 1 - dt * theta_ * (volatility**2 * j**2 + risk_free_rate)\n",
    "    kappa = 0.5 * dt * theta_ * (volatility**2 * j**2 + mu * j)\n",
    "    return np.array([alpha, beta, kappa])\n"
   ]
  },
  {
   "cell_type": "code",
   "execution_count": null,
   "id": "bb821ecb",
   "metadata": {},
   "outputs": [],
   "source": [
    "s = np.arange(s_max, step=dx)\n",
    "payoff = option_payoff(s, strike_price, smooth, digital, option_type)"
   ]
  },
  {
   "cell_type": "raw",
   "id": "250629b6",
   "metadata": {},
   "source": [
    "res_i = deepcopy(payoff) # iterates backwards through timesteps\n",
    "res_ip1 = deepcopy(res_i) # previous timestep (i.e. one step in the future)\n",
    "res_k = deepcopy(res_i) # iterates to improve accuracy \n",
    "res_kp1 = deepcopy(res_i) # iterates to improve accuracy \n",
    "\n",
    "m = calculate_fd_matrix(s, theta, dt, risk_free_rate, volatility)\n",
    "A = calculate_update_matrix(s, theta, dt, risk_free_rate, volatility).T\n",
    "\n",
    "omega = 0.5\n",
    "\n",
    "for step in range(num_steps//10):\n",
    "    print(\"-------- New step ------------\")\n",
    "    # i+1 time index is previous best approximation\n",
    "    res_ip1 = deepcopy(res_kp1)\n",
    "    # move back one timestep\n",
    "    #z = calc_z(m, res_ip1[0])\n",
    "    rhs = deepcopy(res_ip1)[0]\n",
    "    #rhs[0] += a[1] * res_i[0, 0]\n",
    "    #rhs[-1] += c[-1] * res_i[0, -1]\n",
    "    res_i = solve_tridiagonal_matrix(A, rhs)\n",
    "    print(res_i - res_ip1)\n",
    "    \n",
    "    # Iterate for until solution is stable\n",
    "    delta=2\n",
    "    res_k = deepcopy(res_i)\n",
    "    while False: #delta >= 2:\n",
    "        # Store old res\n",
    "        res_k = deepcopy(res_kp1)\n",
    "        \n",
    "        res_kp1[0] = (z - a * np.roll(res_k, -1) - c * np.roll(res_kp1, 1)) / b\n",
    "        res_kp1[0] = omega * res_k + (1 - omega) * res_kp1\n",
    "        \n",
    "        # Caluclate change compared to previous iteration\n",
    "        delta = np.sum((res_kp1 - res_k)**2)**0.5"
   ]
  },
  {
   "cell_type": "code",
   "execution_count": null,
   "id": "326f48f6",
   "metadata": {
    "scrolled": true
   },
   "outputs": [],
   "source": [
    "res_ = deepcopy(payoff)[0]\n",
    "y = [res_]\n",
    "\n",
    "if option_type in {OptionTypes.EUROPEAN_CALL, OptionTypes.AMERICAN_CALL}:\n",
    "    f0_old = 0\n",
    "    fM_old = s_max - strike_price\n",
    "elif option_type in {OptionTypes.EUROPEAN_PUT, OptionTypes.AMERICAN_PUT}:\n",
    "    f0_old = strike_price\n",
    "    fM_old = 0\n",
    "\n",
    "A = calculate_fd_matrix(s, 1-theta, -dt, risk_free_rate, volatility).T\n",
    "m = calculate_fd_matrix(s, theta, dt, risk_free_rate, volatility).T\n",
    "\n",
    "a, b, c = A.T\n",
    "alpha, beta, kappa = m.T\n",
    "\n",
    "for i in range(num_steps, -1, -1):\n",
    "    res_ = deepcopy(y[-1])\n",
    "    res_ = band_matrix_multiplication(m, 1, 1, res_)\n",
    "    \n",
    "    if option_type in {OptionTypes.EUROPEAN_CALL, OptionTypes.AMERICAN_CALL}:\n",
    "        fM_new = s_max - strike_price * np.exp(-risk_free_rate * (time_to_expiry - i * dt))\n",
    "        f0_new = f0_old\n",
    "    elif option_type in {OptionTypes.EUROPEAN_PUT, OptionTypes.AMERICAN_PUT}:\n",
    "        f0_new = strike_price * np.exp(-risk_free_rate * (time_to_expiry - i * dt)) - s_max\n",
    "        fM_new = fM_old\n",
    "    \n",
    "    # Boundary conditions\n",
    "    res_[0] += alpha[0] * f0_new - a[0] * f0_old\n",
    "    res_[-1] += kappa[-1] * fM_new - c[-1] * fM_old\n",
    "    res = solve_tridiagonal_matrix(A, res_)\n",
    "\n",
    "    # Early exit for American options\n",
    "    if option_type in {OptionTypes.AMERICAN_CALL, OptionTypes.AMERICAN_PUT}:\n",
    "        idx = res < payoff[0]\n",
    "        res[idx] = payoff[0][idx]\n",
    "    \n",
    "    fM_old = fM_new\n",
    "    y.append(res)\n",
    "    if not i%10:\n",
    "        print(f\"{i} / {num_steps}\")"
   ]
  },
  {
   "cell_type": "code",
   "execution_count": null,
   "id": "1a3b47a8",
   "metadata": {},
   "outputs": [],
   "source": [
    "import matplotlib.animation as animation\n",
    "from IPython import display\n",
    "\n",
    "%matplotlib notebook\n"
   ]
  },
  {
   "cell_type": "code",
   "execution_count": null,
   "id": "34bbe3e6",
   "metadata": {},
   "outputs": [],
   "source": [
    "fig, ax = plt.subplots()\n",
    "line, = ax.plot([], [])\n",
    "#ax.set_xlim([0, strike_price * 2])\n",
    "#ax.set_ylim([0, strike_price * 2])\n",
    "\n",
    "ps = s\n",
    "\n",
    "def animate(j):\n",
    "    line.set_data((ps, y[j]))\n",
    "    return line\n",
    "\n",
    "animation_1 = animation.FuncAnimation(fig, animate, frames=len(y), interval=1)\n",
    "\n",
    "plt.plot(ps, y[0])\n",
    "plt.plot(ps, y[-1])\n",
    "plt.show()"
   ]
  },
  {
   "cell_type": "code",
   "execution_count": null,
   "id": "a82d9c11",
   "metadata": {
    "scrolled": true
   },
   "outputs": [],
   "source": [
    "sample = np.argmin(np.abs(s-spot_price))\n",
    "y[-1][sample]"
   ]
  },
  {
   "cell_type": "code",
   "execution_count": null,
   "id": "0d126944",
   "metadata": {},
   "outputs": [],
   "source": []
  }
 ],
 "metadata": {
  "kernelspec": {
   "display_name": "Python 3 (ipykernel)",
   "language": "python",
   "name": "python3"
  },
  "language_info": {
   "codemirror_mode": {
    "name": "ipython",
    "version": 3
   },
   "file_extension": ".py",
   "mimetype": "text/x-python",
   "name": "python",
   "nbconvert_exporter": "python",
   "pygments_lexer": "ipython3",
   "version": "3.10.4"
  }
 },
 "nbformat": 4,
 "nbformat_minor": 5
}
