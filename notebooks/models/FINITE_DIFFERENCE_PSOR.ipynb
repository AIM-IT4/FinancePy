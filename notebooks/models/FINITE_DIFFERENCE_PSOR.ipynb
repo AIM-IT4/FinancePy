{
 "cells": [
  {
   "cell_type": "code",
   "execution_count": 1,
   "id": "904cf030",
   "metadata": {},
   "outputs": [
    {
     "name": "stdout",
     "output_type": "stream",
     "text": [
      "####################################################################\n",
      "# FINANCEPY BETA Version 0.270 - This build:  26 Feb 2023 at 19:12 #\n",
      "#      This software is distributed FREE & WITHOUT ANY WARRANTY    #\n",
      "#  Report bugs as issues at https://github.com/domokane/FinancePy  #\n",
      "####################################################################\n",
      "\n"
     ]
    }
   ],
   "source": [
    "from financepy.models.finite_difference_PSOR import black_scholes_fd_PSOR\n",
    "from financepy.models.finite_difference import option_payoff\n",
    "from financepy.products.equity import OptionTypes, Date\n",
    "\n",
    "from copy import deepcopy\n",
    "\n",
    "import numpy as np\n",
    "import matplotlib.pyplot as plt"
   ]
  },
  {
   "cell_type": "code",
   "execution_count": 2,
   "id": "459b301c",
   "metadata": {},
   "outputs": [],
   "source": [
    "option_type = OptionTypes.EUROPEAN_CALL\n",
    "valuation_date = Date(1, 1, 2015)\n",
    "expiry_date = valuation_date.add_years(0.5)\n",
    "time_to_expiry = (expiry_date - valuation_date) / 365.0\n",
    "risk_free_rate = 0.05\n",
    "spot_price = 50.0\n",
    "smooth = digital = False\n",
    "volatility = 0.20\n",
    "dividend_yield = 0.0\n",
    "strike_price = 50.0\n",
    "\n",
    "s_max = strike_price * 4\n",
    "dx = 0.1\n",
    "num_samples = s_max / dx\n",
    "\n",
    "theta = 0.5"
   ]
  },
  {
   "cell_type": "code",
   "execution_count": 3,
   "id": "326f48f6",
   "metadata": {
    "scrolled": true
   },
   "outputs": [],
   "source": [
    "res = black_scholes_fd_PSOR(spot_price, volatility, time_to_expiry,\n",
    "                            strike_price, risk_free_rate, dividend_yield, option_type,\n",
    "                            num_steps=None, num_samples=None, s_max=None, theta=0.5, digital=False,\n",
    "                            smooth=False, delta_bound=1e-5, omega=0.5)"
   ]
  },
  {
   "cell_type": "code",
   "execution_count": 4,
   "id": "9e70fee6",
   "metadata": {},
   "outputs": [],
   "source": [
    "dx = s_max / num_samples\n",
    "s = np.arange(s_max, step=dx)\n",
    "payoff = option_payoff(s, strike_price, smooth, digital, option_type)"
   ]
  },
  {
   "cell_type": "code",
   "execution_count": 5,
   "id": "a82d9c11",
   "metadata": {
    "scrolled": true
   },
   "outputs": [
    {
     "name": "stdout",
     "output_type": "stream",
     "text": [
      "Value of option is $3.4275929231736493\n"
     ]
    }
   ],
   "source": [
    "sample = np.argmin(np.abs(s-spot_price))\n",
    "print(f\"Value of option is ${res}\")"
   ]
  },
  {
   "cell_type": "code",
   "execution_count": null,
   "id": "c7382c23",
   "metadata": {},
   "outputs": [],
   "source": []
  }
 ],
 "metadata": {
  "kernelspec": {
   "display_name": "Python 3 (ipykernel)",
   "language": "python",
   "name": "python3"
  },
  "language_info": {
   "codemirror_mode": {
    "name": "ipython",
    "version": 3
   },
   "file_extension": ".py",
   "mimetype": "text/x-python",
   "name": "python",
   "nbconvert_exporter": "python",
   "pygments_lexer": "ipython3",
   "version": "3.10.4"
  }
 },
 "nbformat": 4,
 "nbformat_minor": 5
}
