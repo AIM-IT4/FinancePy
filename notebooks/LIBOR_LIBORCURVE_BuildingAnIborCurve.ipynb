{
 "cells": [
  {
   "cell_type": "markdown",
   "metadata": {},
   "source": [
    "# Building an Ibor Single Curve"
   ]
  },
  {
   "cell_type": "markdown",
   "metadata": {},
   "source": [
    "Constructing an Ibor Single Curve"
   ]
  },
  {
   "cell_type": "code",
   "execution_count": 1,
   "metadata": {},
   "outputs": [],
   "source": [
    "import numpy as np\n",
    "import matplotlib.pyplot as plt"
   ]
  },
  {
   "cell_type": "code",
   "execution_count": 2,
   "metadata": {},
   "outputs": [
    {
     "name": "stdout",
     "output_type": "stream",
     "text": [
      "####################################################################\n",
      "# FINANCEPY BETA Version 0.184 - This build:  19 Oct 2020 at 09:55 #\n",
      "#      This software is distributed FREE & WITHOUT ANY WARRANTY    #\n",
      "# For info and disclaimer - https://github.com/domokane/FinancePy  #\n",
      "#      Send any bug reports or comments to quant@financepy.com     #\n",
      "####################################################################\n",
      "\n"
     ]
    }
   ],
   "source": [
    "from financepy.finutils import *\n",
    "from financepy.products.funding import *"
   ]
  },
  {
   "cell_type": "markdown",
   "metadata": {},
   "source": [
    "## Creating the Libor Instruments"
   ]
  },
  {
   "cell_type": "code",
   "execution_count": 3,
   "metadata": {},
   "outputs": [],
   "source": [
    "valuationDate = FinDate(18, 9, 2019)"
   ]
  },
  {
   "cell_type": "markdown",
   "metadata": {},
   "source": [
    "### Load up the deposits first"
   ]
  },
  {
   "cell_type": "code",
   "execution_count": 4,
   "metadata": {},
   "outputs": [],
   "source": [
    "depoDCCType = FinDayCountTypes.THIRTY_E_360_ISDA\n",
    "depos = []\n",
    "\n",
    "spotDays = 2\n",
    "settlementDate = valuationDate.addWeekDays(spotDays)\n",
    "\n",
    "depositRate = 0.050\n",
    "maturityDate = settlementDate.addMonths(1)\n",
    "depo = FinIborDeposit(settlementDate, maturityDate, depositRate, depoDCCType)\n",
    "depos.append(depo)\n",
    "\n",
    "maturityDate = settlementDate.addMonths(3)\n",
    "depo = FinIborDeposit(settlementDate, maturityDate, depositRate, depoDCCType)\n",
    "depos.append(depo)\n",
    "\n",
    "maturityDate = settlementDate.addMonths(6)\n",
    "depo = FinIborDeposit(settlementDate, maturityDate, depositRate, depoDCCType)\n",
    "depos.append(depo)\n",
    "\n",
    "maturityDate = settlementDate.addMonths(9)\n",
    "depo = FinIborDeposit(settlementDate, maturityDate, depositRate, depoDCCType)\n",
    "depos.append(depo)\n",
    "\n",
    "maturityDate = settlementDate.addMonths(12)\n",
    "depo = FinIborDeposit(settlementDate, maturityDate, depositRate, depoDCCType)\n",
    "depos.append(depo)"
   ]
  },
  {
   "cell_type": "markdown",
   "metadata": {},
   "source": [
    "### Then we load up the FRAs"
   ]
  },
  {
   "cell_type": "code",
   "execution_count": 5,
   "metadata": {},
   "outputs": [],
   "source": [
    "# 1 x 4 FRA\n",
    "payFixed = True\n",
    "notional = 1000\n",
    "fras = []\n",
    "\n",
    "fraRate = 0.05\n",
    "fraSettlementDate = settlementDate.addMonths(12)\n",
    "fraMaturityDate = settlementDate.addMonths(16)\n",
    "fra = FinIborFRA(fraSettlementDate, fraMaturityDate, fraRate, depoDCCType)\n",
    "fras.append(fra)\n",
    "\n",
    "# 4 x 7 FRA\n",
    "fraRate = 0.08\n",
    "fraSettlementDate = settlementDate.addMonths(16)\n",
    "fraMaturityDate = settlementDate.addMonths(20)\n",
    "fra = FinIborFRA(fraSettlementDate, fraMaturityDate, fraRate, depoDCCType)\n",
    "fras.append(fra)"
   ]
  },
  {
   "cell_type": "markdown",
   "metadata": {},
   "source": [
    "### Then we load up swap rates"
   ]
  },
  {
   "cell_type": "code",
   "execution_count": 6,
   "metadata": {},
   "outputs": [],
   "source": [
    "swaps = []\n",
    "fixedDCCType = FinDayCountTypes.ACT_365F\n",
    "fixedFreqType = FinFrequencyTypes.SEMI_ANNUAL\n",
    "swapType = FinSwapTypes.PAYER\n",
    "\n",
    "swapRate = 0.050\n",
    "maturityDate = settlementDate.addMonths(24)\n",
    "swap = FinIborSwap(settlementDate, maturityDate, swapType, swapRate, fixedFreqType, fixedDCCType)\n",
    "swaps.append(swap)\n",
    "\n",
    "swapRate = 0.052\n",
    "maturityDate = settlementDate.addMonths(36)\n",
    "swap = FinIborSwap(settlementDate, maturityDate, swapType, swapRate, fixedFreqType, fixedDCCType)\n",
    "swaps.append(swap)\n",
    "\n",
    "swapRate = 0.0535\n",
    "maturityDate = settlementDate.addMonths(48)\n",
    "swap = FinIborSwap(settlementDate, maturityDate, swapType, swapRate, fixedFreqType, fixedDCCType)\n",
    "swaps.append(swap)\n",
    "\n",
    "swapRate = 0.055\n",
    "maturityDate = settlementDate.addMonths(60)\n",
    "swap = FinIborSwap(settlementDate, maturityDate, swapType, swapRate, fixedFreqType, fixedDCCType)\n",
    "swaps.append(swap)\n",
    "\n",
    "swapRate = 0.0565\n",
    "maturityDate = settlementDate.addMonths(84)\n",
    "swap = FinIborSwap(settlementDate, maturityDate, swapType, swapRate, fixedFreqType, fixedDCCType)\n",
    "swaps.append(swap)\n",
    "\n",
    "swapRate = 0.057\n",
    "maturityDate = settlementDate.addMonths(120)\n",
    "swap = FinIborSwap(settlementDate, maturityDate, swapType, swapRate, fixedFreqType, fixedDCCType)\n",
    "swaps.append(swap)"
   ]
  },
  {
   "cell_type": "code",
   "execution_count": 7,
   "metadata": {},
   "outputs": [],
   "source": [
    "liborCurve = FinIborSingleCurve(settlementDate, depos, fras, swaps)"
   ]
  },
  {
   "cell_type": "markdown",
   "metadata": {},
   "source": [
    "## Check Repricing"
   ]
  },
  {
   "cell_type": "code",
   "execution_count": 8,
   "metadata": {},
   "outputs": [
    {
     "name": "stdout",
     "output_type": "stream",
     "text": [
      "Depo Value: 100.000000\n",
      "Depo Value: 100.000000\n",
      "Depo Value: 100.000000\n",
      "Depo Value: 100.000000\n",
      "Depo Value: 100.000000\n"
     ]
    }
   ],
   "source": [
    "for depo in depos:\n",
    "    v = depo.value(settlementDate, liborCurve)\n",
    "    print(\"Depo Value: %10.6f\"% v)"
   ]
  },
  {
   "cell_type": "code",
   "execution_count": 9,
   "metadata": {},
   "outputs": [
    {
     "name": "stdout",
     "output_type": "stream",
     "text": [
      "FRA Value:   0.000000\n",
      "FRA Value:  -0.000000\n"
     ]
    }
   ],
   "source": [
    "for fra in fras:\n",
    "    v = fra.value(settlementDate, liborCurve)\n",
    "    print(\"FRA Value: %10.6f\"% v)"
   ]
  },
  {
   "cell_type": "code",
   "execution_count": 13,
   "metadata": {},
   "outputs": [
    {
     "name": "stdout",
     "output_type": "stream",
     "text": [
      "Swap Value:  -0.00000000\n",
      "Swap Value:   0.00000000\n",
      "Swap Value:  -0.00000000\n",
      "Swap Value:  -0.00000000\n",
      "Swap Value:   0.00000000\n",
      "Swap Value:  -0.00000000\n"
     ]
    }
   ],
   "source": [
    "for swap in swaps:\n",
    "    v = swap.value(settlementDate, liborCurve)\n",
    "    print(\"Swap Value: %12.8f\" % v)"
   ]
  },
  {
   "cell_type": "markdown",
   "metadata": {},
   "source": [
    "## Curve Examination"
   ]
  },
  {
   "cell_type": "markdown",
   "metadata": {},
   "source": [
    "Generate a vector of time points and then generate zero rates and forward rates"
   ]
  },
  {
   "cell_type": "code",
   "execution_count": 11,
   "metadata": {},
   "outputs": [],
   "source": [
    "years = np.linspace(0.01,10,500)\n",
    "dates = settlementDate.addYears(years)\n",
    "zeroRates = liborCurve.zeroRate(dates)\n",
    "fwdRates = liborCurve.fwd(dates)"
   ]
  },
  {
   "cell_type": "code",
   "execution_count": 12,
   "metadata": {},
   "outputs": [
    {
     "data": {
      "image/png": "[encoded data removed]",
      "text/plain": [
       "<Figure size 576x432 with 1 Axes>"
      ]
     },
     "metadata": {
      "needs_background": "light"
     },
     "output_type": "display_data"
    }
   ],
   "source": [
    "plt.figure(figsize=(8,6))\n",
    "plt.plot(years, zeroRates*100, label=\"zero rates\")\n",
    "plt.plot(years, fwdRates*100, label = \"fwd rates\")\n",
    "plt.xlabel(\"Times\")\n",
    "plt.ylabel(\"CC forward rates\")\n",
    "plt.legend();"
   ]
  },
  {
   "cell_type": "markdown",
   "metadata": {},
   "source": [
    "We see that the forward rates are piecewise flat"
   ]
  }
 ],
 "metadata": {
  "kernelspec": {
   "display_name": "Python 3",
   "language": "python",
   "name": "python3"
  },
  "language_info": {
   "codemirror_mode": {
    "name": "ipython",
    "version": 3
   },
   "file_extension": ".py",
   "mimetype": "text/x-python",
   "name": "python",
   "nbconvert_exporter": "python",
   "pygments_lexer": "ipython3",
   "version": "3.7.6"
  }
 },
 "nbformat": 4,
 "nbformat_minor": 4
}
