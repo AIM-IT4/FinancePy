{
 "cells": [
  {
   "cell_type": "markdown",
   "metadata": {},
   "source": [
    "# TESTING DATE INTERNALS"
   ]
  },
  {
   "cell_type": "markdown",
   "metadata": {},
   "source": [
    "## Example of how to use FinancePy"
   ]
  },
  {
   "cell_type": "markdown",
   "metadata": {},
   "source": [
    "To get date functionality you import FinDate"
   ]
  },
  {
   "cell_type": "code",
   "execution_count": 1,
   "metadata": {},
   "outputs": [
    {
     "name": "stdout",
     "output_type": "stream",
     "text": [
      "####################################################################\n",
      "# FINANCEPY BETA Version 0.185 - This build:  19 Nov 2020 at 22:37 #\n",
      "#      This software is distributed FREE & WITHOUT ANY WARRANTY    #\n",
      "# For info and disclaimer - https://github.com/domokane/FinancePy  #\n",
      "#      Send any bug reports or comments to quant@financepy.com     #\n",
      "####################################################################\n",
      "\n"
     ]
    }
   ],
   "source": [
    "from financepy.finutils import *"
   ]
  },
  {
   "cell_type": "markdown",
   "metadata": {},
   "source": [
    "### We can create a FinDate as follows"
   ]
  },
  {
   "cell_type": "code",
   "execution_count": 2,
   "metadata": {},
   "outputs": [],
   "source": [
    "dt = FinDate(1, 1, 2000)"
   ]
  },
  {
   "cell_type": "code",
   "execution_count": 3,
   "metadata": {},
   "outputs": [
    {
     "name": "stdout",
     "output_type": "stream",
     "text": [
      "02-JAN-2000 36527\n",
      "03-JAN-2000 36528\n",
      "04-JAN-2000 36529\n",
      "05-JAN-2000 36530\n",
      "06-JAN-2000 36531\n",
      "07-JAN-2000 36532\n",
      "08-JAN-2000 36533\n",
      "09-JAN-2000 36534\n",
      "10-JAN-2000 36535\n",
      "11-JAN-2000 36536\n",
      "12-JAN-2000 36537\n",
      "13-JAN-2000 36538\n",
      "14-JAN-2000 36539\n",
      "15-JAN-2000 36540\n",
      "16-JAN-2000 36541\n",
      "17-JAN-2000 36542\n",
      "18-JAN-2000 36543\n",
      "19-JAN-2000 36544\n",
      "20-JAN-2000 36545\n",
      "21-JAN-2000 36546\n",
      "22-JAN-2000 36547\n",
      "23-JAN-2000 36548\n",
      "24-JAN-2000 36549\n",
      "25-JAN-2000 36550\n",
      "26-JAN-2000 36551\n",
      "27-JAN-2000 36552\n",
      "28-JAN-2000 36553\n",
      "29-JAN-2000 36554\n",
      "30-JAN-2000 36555\n",
      "31-JAN-2000 36556\n",
      "01-FEB-2000 36557\n",
      "02-FEB-2000 36558\n",
      "03-FEB-2000 36559\n",
      "04-FEB-2000 36560\n",
      "05-FEB-2000 36561\n",
      "06-FEB-2000 36562\n",
      "07-FEB-2000 36563\n",
      "08-FEB-2000 36564\n",
      "09-FEB-2000 36565\n",
      "10-FEB-2000 36566\n",
      "11-FEB-2000 36567\n",
      "12-FEB-2000 36568\n",
      "13-FEB-2000 36569\n",
      "14-FEB-2000 36570\n",
      "15-FEB-2000 36571\n",
      "16-FEB-2000 36572\n",
      "17-FEB-2000 36573\n",
      "18-FEB-2000 36574\n",
      "19-FEB-2000 36575\n",
      "20-FEB-2000 36576\n",
      "21-FEB-2000 36577\n",
      "22-FEB-2000 36578\n",
      "23-FEB-2000 36579\n",
      "24-FEB-2000 36580\n",
      "25-FEB-2000 36581\n",
      "26-FEB-2000 36582\n",
      "27-FEB-2000 36583\n",
      "28-FEB-2000 36584\n",
      "29-FEB-2000 36585\n",
      "01-MAR-2000 36586\n",
      "02-MAR-2000 36587\n",
      "03-MAR-2000 36588\n",
      "04-MAR-2000 36589\n",
      "05-MAR-2000 36590\n",
      "06-MAR-2000 36591\n",
      "07-MAR-2000 36592\n",
      "08-MAR-2000 36593\n",
      "09-MAR-2000 36594\n",
      "10-MAR-2000 36595\n",
      "11-MAR-2000 36596\n",
      "12-MAR-2000 36597\n",
      "13-MAR-2000 36598\n",
      "14-MAR-2000 36599\n",
      "15-MAR-2000 36600\n",
      "16-MAR-2000 36601\n",
      "17-MAR-2000 36602\n",
      "18-MAR-2000 36603\n",
      "19-MAR-2000 36604\n",
      "20-MAR-2000 36605\n",
      "21-MAR-2000 36606\n",
      "22-MAR-2000 36607\n",
      "23-MAR-2000 36608\n",
      "24-MAR-2000 36609\n",
      "25-MAR-2000 36610\n",
      "26-MAR-2000 36611\n",
      "27-MAR-2000 36612\n",
      "28-MAR-2000 36613\n",
      "29-MAR-2000 36614\n",
      "30-MAR-2000 36615\n",
      "31-MAR-2000 36616\n",
      "01-APR-2000 36617\n",
      "02-APR-2000 36618\n",
      "03-APR-2000 36619\n",
      "04-APR-2000 36620\n",
      "05-APR-2000 36621\n",
      "06-APR-2000 36622\n",
      "07-APR-2000 36623\n",
      "08-APR-2000 36624\n",
      "09-APR-2000 36625\n",
      "10-APR-2000 36626\n"
     ]
    }
   ],
   "source": [
    "for i in range(0, 100):\n",
    "    dt = dt.addDays(1)\n",
    "    print(dt, dt._excelDate)"
   ]
  },
  {
   "cell_type": "markdown",
   "metadata": {},
   "source": [
    "Copyright (c) Dominic O'Kane 2020"
   ]
  }
 ],
 "metadata": {
  "kernelspec": {
   "display_name": "Python 3",
   "language": "python",
   "name": "python3"
  },
  "language_info": {
   "codemirror_mode": {
    "name": "ipython",
    "version": 3
   },
   "file_extension": ".py",
   "mimetype": "text/x-python",
   "name": "python",
   "nbconvert_exporter": "python",
   "pygments_lexer": "ipython3",
   "version": "3.8.5"
  }
 },
 "nbformat": 4,
 "nbformat_minor": 2
}
