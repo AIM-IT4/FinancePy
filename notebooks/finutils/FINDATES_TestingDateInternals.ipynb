{
 "cells": [
  {
   "cell_type": "markdown",
   "metadata": {},
   "source": [
    "# TESTING DATE INTERNALS"
   ]
  },
  {
   "cell_type": "markdown",
   "metadata": {},
   "source": [
    "## Example of how to use FinancePy"
   ]
  },
  {
   "cell_type": "markdown",
   "metadata": {},
   "source": [
    "To get date functionality you import FinDate"
   ]
  },
  {
   "cell_type": "code",
   "execution_count": 2,
   "metadata": {},
   "outputs": [
    {
     "name": "stdout",
     "output_type": "stream",
     "text": [
      "####################################################################\n",
      "# FINANCEPY BETA Version 0.182 - This build:  04 Oct 2020 at 22:56 #\n",
      "#      This software is distributed FREE & WITHOUT ANY WARRANTY    #\n",
      "# For info and disclaimer - https://github.com/domokane/FinancePy  #\n",
      "#      Send any bug reports or comments to quant@financepy.com     #\n",
      "####################################################################\n",
      "\n"
     ]
    }
   ],
   "source": [
    "from financepy.finutils import *"
   ]
  },
  {
   "cell_type": "markdown",
   "metadata": {},
   "source": [
    "### We can create a FinDate as follows"
   ]
  },
  {
   "cell_type": "code",
   "execution_count": 16,
   "metadata": {},
   "outputs": [],
   "source": [
    "dt = FinDate(1, 1, 2000)"
   ]
  },
  {
   "cell_type": "code",
   "execution_count": 17,
   "metadata": {},
   "outputs": [
    {
     "name": "stdout",
     "output_type": "stream",
     "text": [
      "SUN 02 JAN 2000 36527\n",
      "MON 03 JAN 2000 36528\n",
      "TUE 04 JAN 2000 36529\n",
      "WED 05 JAN 2000 36530\n",
      "THU 06 JAN 2000 36531\n",
      "FRI 07 JAN 2000 36532\n",
      "SAT 08 JAN 2000 36533\n",
      "SUN 09 JAN 2000 36534\n",
      "MON 10 JAN 2000 36535\n",
      "TUE 11 JAN 2000 36536\n",
      "WED 12 JAN 2000 36537\n",
      "THU 13 JAN 2000 36538\n",
      "FRI 14 JAN 2000 36539\n",
      "SAT 15 JAN 2000 36540\n",
      "SUN 16 JAN 2000 36541\n",
      "MON 17 JAN 2000 36542\n",
      "TUE 18 JAN 2000 36543\n",
      "WED 19 JAN 2000 36544\n",
      "THU 20 JAN 2000 36545\n",
      "FRI 21 JAN 2000 36546\n",
      "SAT 22 JAN 2000 36547\n",
      "SUN 23 JAN 2000 36548\n",
      "MON 24 JAN 2000 36549\n",
      "TUE 25 JAN 2000 36550\n",
      "WED 26 JAN 2000 36551\n",
      "THU 27 JAN 2000 36552\n",
      "FRI 28 JAN 2000 36553\n",
      "SAT 29 JAN 2000 36554\n",
      "SUN 30 JAN 2000 36555\n",
      "MON 31 JAN 2000 36556\n",
      "TUE 01 FEB 2000 36557\n",
      "WED 02 FEB 2000 36558\n",
      "THU 03 FEB 2000 36559\n",
      "FRI 04 FEB 2000 36560\n",
      "SAT 05 FEB 2000 36561\n",
      "SUN 06 FEB 2000 36562\n",
      "MON 07 FEB 2000 36563\n",
      "TUE 08 FEB 2000 36564\n",
      "WED 09 FEB 2000 36565\n",
      "THU 10 FEB 2000 36566\n",
      "FRI 11 FEB 2000 36567\n",
      "SAT 12 FEB 2000 36568\n",
      "SUN 13 FEB 2000 36569\n",
      "MON 14 FEB 2000 36570\n",
      "TUE 15 FEB 2000 36571\n",
      "WED 16 FEB 2000 36572\n",
      "THU 17 FEB 2000 36573\n",
      "FRI 18 FEB 2000 36574\n",
      "SAT 19 FEB 2000 36575\n",
      "SUN 20 FEB 2000 36576\n",
      "MON 21 FEB 2000 36577\n",
      "TUE 22 FEB 2000 36578\n",
      "WED 23 FEB 2000 36579\n",
      "THU 24 FEB 2000 36580\n",
      "FRI 25 FEB 2000 36581\n",
      "SAT 26 FEB 2000 36582\n",
      "SUN 27 FEB 2000 36583\n",
      "MON 28 FEB 2000 36584\n",
      "TUE 29 FEB 2000 36585\n",
      "WED 01 MAR 2000 36586\n",
      "THU 02 MAR 2000 36587\n",
      "FRI 03 MAR 2000 36588\n",
      "SAT 04 MAR 2000 36589\n",
      "SUN 05 MAR 2000 36590\n",
      "MON 06 MAR 2000 36591\n",
      "TUE 07 MAR 2000 36592\n",
      "WED 08 MAR 2000 36593\n",
      "THU 09 MAR 2000 36594\n",
      "FRI 10 MAR 2000 36595\n",
      "SAT 11 MAR 2000 36596\n",
      "SUN 12 MAR 2000 36597\n",
      "MON 13 MAR 2000 36598\n",
      "TUE 14 MAR 2000 36599\n",
      "WED 15 MAR 2000 36600\n",
      "THU 16 MAR 2000 36601\n",
      "FRI 17 MAR 2000 36602\n",
      "SAT 18 MAR 2000 36603\n",
      "SUN 19 MAR 2000 36604\n",
      "MON 20 MAR 2000 36605\n",
      "TUE 21 MAR 2000 36606\n",
      "WED 22 MAR 2000 36607\n",
      "THU 23 MAR 2000 36608\n",
      "FRI 24 MAR 2000 36609\n",
      "SAT 25 MAR 2000 36610\n",
      "SUN 26 MAR 2000 36611\n",
      "MON 27 MAR 2000 36612\n",
      "TUE 28 MAR 2000 36613\n",
      "WED 29 MAR 2000 36614\n",
      "THU 30 MAR 2000 36615\n",
      "FRI 31 MAR 2000 36616\n",
      "SAT 01 APR 2000 36617\n",
      "SUN 02 APR 2000 36618\n",
      "MON 03 APR 2000 36619\n",
      "TUE 04 APR 2000 36620\n",
      "WED 05 APR 2000 36621\n",
      "THU 06 APR 2000 36622\n",
      "FRI 07 APR 2000 36623\n",
      "SAT 08 APR 2000 36624\n",
      "SUN 09 APR 2000 36625\n",
      "MON 10 APR 2000 36626\n"
     ]
    }
   ],
   "source": [
    "for i in range(0, 100):\n",
    "    dt = dt.addDays(1)\n",
    "    print(dt, dt._excelDate)"
   ]
  },
  {
   "cell_type": "markdown",
   "metadata": {},
   "source": [
    "Copyright (c) Dominic O'Kane 2020"
   ]
  }
 ],
 "metadata": {
  "kernelspec": {
   "display_name": "Python 3",
   "language": "python",
   "name": "python3"
  },
  "language_info": {
   "codemirror_mode": {
    "name": "ipython",
    "version": 3
   },
   "file_extension": ".py",
   "mimetype": "text/x-python",
   "name": "python",
   "nbconvert_exporter": "python",
   "pygments_lexer": "ipython3",
   "version": "3.7.6"
  }
 },
 "nbformat": 4,
 "nbformat_minor": 2
}
