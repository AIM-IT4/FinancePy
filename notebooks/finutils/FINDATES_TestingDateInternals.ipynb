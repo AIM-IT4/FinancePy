{
 "cells": [
  {
   "cell_type": "markdown",
   "metadata": {},
   "source": [
    "# TESTING DATE INTERNALS"
   ]
  },
  {
   "cell_type": "markdown",
   "metadata": {},
   "source": [
    "## Example of how to use FinancePy"
   ]
  },
  {
   "cell_type": "markdown",
   "metadata": {},
   "source": [
    "To get date functionality you import FinDate"
   ]
  },
  {
   "cell_type": "code",
   "execution_count": 1,
   "metadata": {},
   "outputs": [
    {
     "output_type": "stream",
     "name": "stdout",
     "text": [
      "####################################################################\n# FINANCEPY BETA Version 0.185 - This build:  13 Nov 2020 at 20:39 #\n#      This software is distributed FREE & WITHOUT ANY WARRANTY    #\n# For info and disclaimer - https://github.com/domokane/FinancePy  #\n#      Send any bug reports or comments to quant@financepy.com     #\n####################################################################\n\n"
     ]
    }
   ],
   "source": [
    "from financepy.finutils import *"
   ]
  },
  {
   "cell_type": "markdown",
   "metadata": {},
   "source": [
    "### We can create a FinDate as follows"
   ]
  },
  {
   "cell_type": "code",
   "execution_count": 2,
   "metadata": {},
   "outputs": [],
   "source": [
    "dt = FinDate(1, 1, 2000)"
   ]
  },
  {
   "cell_type": "code",
   "execution_count": 3,
   "metadata": {},
   "outputs": [
    {
     "output_type": "stream",
     "name": "stdout",
     "text": [
      "02-JAN-2000 36527\n03-JAN-2000 36528\n04-JAN-2000 36529\n05-JAN-2000 36530\n06-JAN-2000 36531\n07-JAN-2000 36532\n08-JAN-2000 36533\n09-JAN-2000 36534\n10-JAN-2000 36535\n11-JAN-2000 36536\n12-JAN-2000 36537\n13-JAN-2000 36538\n14-JAN-2000 36539\n15-JAN-2000 36540\n16-JAN-2000 36541\n17-JAN-2000 36542\n18-JAN-2000 36543\n19-JAN-2000 36544\n20-JAN-2000 36545\n21-JAN-2000 36546\n22-JAN-2000 36547\n23-JAN-2000 36548\n24-JAN-2000 36549\n25-JAN-2000 36550\n26-JAN-2000 36551\n27-JAN-2000 36552\n28-JAN-2000 36553\n29-JAN-2000 36554\n30-JAN-2000 36555\n31-JAN-2000 36556\n01-FEB-2000 36557\n02-FEB-2000 36558\n03-FEB-2000 36559\n04-FEB-2000 36560\n05-FEB-2000 36561\n06-FEB-2000 36562\n07-FEB-2000 36563\n08-FEB-2000 36564\n09-FEB-2000 36565\n10-FEB-2000 36566\n11-FEB-2000 36567\n12-FEB-2000 36568\n13-FEB-2000 36569\n14-FEB-2000 36570\n15-FEB-2000 36571\n16-FEB-2000 36572\n17-FEB-2000 36573\n18-FEB-2000 36574\n19-FEB-2000 36575\n20-FEB-2000 36576\n21-FEB-2000 36577\n22-FEB-2000 36578\n23-FEB-2000 36579\n24-FEB-2000 36580\n25-FEB-2000 36581\n26-FEB-2000 36582\n27-FEB-2000 36583\n28-FEB-2000 36584\n29-FEB-2000 36585\n01-MAR-2000 36586\n02-MAR-2000 36587\n03-MAR-2000 36588\n04-MAR-2000 36589\n05-MAR-2000 36590\n06-MAR-2000 36591\n07-MAR-2000 36592\n08-MAR-2000 36593\n09-MAR-2000 36594\n10-MAR-2000 36595\n11-MAR-2000 36596\n12-MAR-2000 36597\n13-MAR-2000 36598\n14-MAR-2000 36599\n15-MAR-2000 36600\n16-MAR-2000 36601\n17-MAR-2000 36602\n18-MAR-2000 36603\n19-MAR-2000 36604\n20-MAR-2000 36605\n21-MAR-2000 36606\n22-MAR-2000 36607\n23-MAR-2000 36608\n24-MAR-2000 36609\n25-MAR-2000 36610\n26-MAR-2000 36611\n27-MAR-2000 36612\n28-MAR-2000 36613\n29-MAR-2000 36614\n30-MAR-2000 36615\n31-MAR-2000 36616\n01-APR-2000 36617\n02-APR-2000 36618\n03-APR-2000 36619\n04-APR-2000 36620\n05-APR-2000 36621\n06-APR-2000 36622\n07-APR-2000 36623\n08-APR-2000 36624\n09-APR-2000 36625\n10-APR-2000 36626\n"
     ]
    }
   ],
   "source": [
    "for i in range(0, 100):\n",
    "    dt = dt.addDays(1)\n",
    "    print(dt, dt._excelDate)"
   ]
  },
  {
   "cell_type": "markdown",
   "metadata": {},
   "source": [
    "Copyright (c) Dominic O'Kane 2020"
   ]
  },
  {
   "cell_type": "code",
   "execution_count": null,
   "metadata": {},
   "outputs": [],
   "source": []
  },
  {
   "cell_type": "code",
   "execution_count": null,
   "metadata": {},
   "outputs": [],
   "source": []
  },
  {
   "cell_type": "code",
   "execution_count": null,
   "metadata": {},
   "outputs": [],
   "source": []
  }
 ],
 "metadata": {
  "kernelspec": {
   "display_name": "Python 3",
   "language": "python",
   "name": "python3"
  },
  "language_info": {
   "codemirror_mode": {
    "name": "ipython",
    "version": 3
   },
   "file_extension": ".py",
   "mimetype": "text/x-python",
   "name": "python",
   "nbconvert_exporter": "python",
   "pygments_lexer": "ipython3",
   "version": "3.7.6-final"
  }
 },
 "nbformat": 4,
 "nbformat_minor": 2
}