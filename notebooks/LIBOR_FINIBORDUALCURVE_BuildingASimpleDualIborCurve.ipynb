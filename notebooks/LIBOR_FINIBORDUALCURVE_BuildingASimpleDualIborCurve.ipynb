{
 "cells": [
  {
   "cell_type": "markdown",
   "metadata": {},
   "source": [
    "# Building a Dual Ibor Curve"
   ]
  },
  {
   "cell_type": "markdown",
   "metadata": {},
   "source": [
    "The aim is to construct an IBOR curve that uses OIS discounting"
   ]
  },
  {
   "cell_type": "code",
   "execution_count": 1,
   "metadata": {},
   "outputs": [],
   "source": [
    "import numpy as np\n",
    "import matplotlib.pyplot as plt"
   ]
  },
  {
   "cell_type": "code",
   "execution_count": 2,
   "metadata": {},
   "outputs": [
    {
     "name": "stdout",
     "output_type": "stream",
     "text": [
      "####################################################################\n",
      "# FINANCEPY BETA Version 0.184 - This build:  19 Oct 2020 at 14:52 #\n",
      "#      This software is distributed FREE & WITHOUT ANY WARRANTY    #\n",
      "# For info and disclaimer - https://github.com/domokane/FinancePy  #\n",
      "#      Send any bug reports or comments to quant@financepy.com     #\n",
      "####################################################################\n",
      "\n"
     ]
    }
   ],
   "source": [
    "from financepy.finutils import *\n",
    "from financepy.products.funding import *"
   ]
  },
  {
   "cell_type": "code",
   "execution_count": 3,
   "metadata": {},
   "outputs": [],
   "source": [
    "valuationDate = FinDate(18, 9, 2019)"
   ]
  },
  {
   "cell_type": "markdown",
   "metadata": {},
   "source": [
    "## Building the Discount Curve"
   ]
  },
  {
   "cell_type": "markdown",
   "metadata": {},
   "source": [
    "This is based on OIS rates. We anchor the short end using the overnight rate."
   ]
  },
  {
   "cell_type": "code",
   "execution_count": 103,
   "metadata": {},
   "outputs": [],
   "source": [
    "onRate = 0.045\n",
    "spotDays = 0\n",
    "settlementDate = valuationDate.addWeekDays(spotDays)\n",
    "\n",
    "depoDCCType = FinDayCountTypes.THIRTY_E_360_ISDA\n",
    "depos = []\n",
    "spotDays = 2\n",
    "settlementDate = valuationDate.addWeekDays(spotDays)\n",
    "depo = FinIborDeposit(settlementDate, \"1D\", onRate, depoDCCType); depos.append(depo)"
   ]
  },
  {
   "cell_type": "markdown",
   "metadata": {},
   "source": [
    "We use swaps with a regular term"
   ]
  },
  {
   "cell_type": "code",
   "execution_count": 105,
   "metadata": {},
   "outputs": [],
   "source": [
    "oiss = []\n",
    "swapType = FinSwapTypes.PAYER\n",
    "fixedDCCType = FinDayCountTypes.ACT_365F\n",
    "fixedFreqType = FinFrequencyTypes.SEMI_ANNUAL\n",
    "\n",
    "swap = FinOIS(settlementDate, \"1Y\", swapType, onRate + 0.0001, fixedFreqType, fixedDCCType); oiss.append(swap)\n",
    "swap = FinOIS(settlementDate, \"2Y\", swapType, onRate + 0.0003, fixedFreqType, fixedDCCType); oiss.append(swap)\n",
    "swap = FinOIS(settlementDate, \"3Y\", swapType, onRate + 0.0010, fixedFreqType, fixedDCCType); oiss.append(swap)\n",
    "swap = FinOIS(settlementDate, \"4Y\", swapType, onRate + 0.0015, fixedFreqType, fixedDCCType); oiss.append(swap)\n",
    "swap = FinOIS(settlementDate, \"5Y\", swapType, onRate + 0.0020, fixedFreqType, fixedDCCType); oiss.append(swap)\n",
    "swap = FinOIS(settlementDate, \"7Y\", swapType, onRate + 0.0030, fixedFreqType, fixedDCCType); oiss.append(swap)\n",
    "swap = FinOIS(settlementDate, \"10Y\", swapType, onRate + 0.0035, fixedFreqType, fixedDCCType); oiss.append(swap)"
   ]
  },
  {
   "cell_type": "code",
   "execution_count": 106,
   "metadata": {},
   "outputs": [],
   "source": [
    "oisCurve = FinOISCurve(settlementDate, depos, [], oiss, FinInterpTypes.FLAT_FORWARDS)"
   ]
  },
  {
   "cell_type": "markdown",
   "metadata": {},
   "source": [
    "Let's just check a repricing by looking at the value of the longest OIS."
   ]
  },
  {
   "cell_type": "code",
   "execution_count": 107,
   "metadata": {},
   "outputs": [
    {
     "name": "stdout",
     "output_type": "stream",
     "text": [
      "MON 21 SEP 2020 -6.951032046345062e-10\n",
      "MON 20 SEP 2021 -6.724293052684516e-10\n",
      "TUE 20 SEP 2022 -7.583215628983453e-10\n",
      "WED 20 SEP 2023 -7.610002357978374e-10\n",
      "FRI 20 SEP 2024 -8.076569065451622e-10\n",
      "MON 21 SEP 2026 -2.4330802261829378e-14\n",
      "THU 20 SEP 2029 -8.981442078948021e-13\n"
     ]
    }
   ],
   "source": [
    "for swap in oiss:\n",
    "    v_single = swap.value(valuationDate, oisCurve) / swap._notional\n",
    "    print(swap._maturityDate, v_single)"
   ]
  },
  {
   "cell_type": "markdown",
   "metadata": {},
   "source": [
    "This is effectively zero. So they are all repriced."
   ]
  },
  {
   "cell_type": "markdown",
   "metadata": {},
   "source": [
    "## Building the 3M IBOR Curve"
   ]
  },
  {
   "cell_type": "markdown",
   "metadata": {},
   "source": [
    "We use ON rate, 3M Ibor FRAs and IBOR swaps with a 3M floating Leg (this is the default for FinIborSwap)"
   ]
  },
  {
   "cell_type": "code",
   "execution_count": 225,
   "metadata": {},
   "outputs": [],
   "source": [
    "depoDCCType = FinDayCountTypes.THIRTY_E_360_ISDA\n",
    "depos = []\n",
    "depo = FinIborDeposit(settlementDate, \"1D\", onRate, depoDCCType); depos.append(depo)\n",
    "\n",
    "payFixed = True\n",
    "fras = []\n",
    "\n",
    "# 1 x 4 FRA\n",
    "fraRate = onRate + 0.0003\n",
    "fraSettlementDate = settlementDate.addMonths(1)\n",
    "fraMaturityDate = settlementDate.addMonths(4)\n",
    "fra = FinIborFRA(fraSettlementDate, fraMaturityDate, fraRate, depoDCCType)\n",
    "fras.append(fra)\n",
    "\n",
    "# 2 x 5 FRA\n",
    "fraRate = onRate + 0.0005\n",
    "fraSettlementDate = settlementDate.addMonths(2)\n",
    "fraMaturityDate = settlementDate.addMonths(5)\n",
    "fra = FinIborFRA(fraSettlementDate, fraMaturityDate, fraRate, depoDCCType)\n",
    "fras.append(fra)\n",
    "\n",
    "# 3 x 6 FRA\n",
    "fraRate = onRate + 0.0007\n",
    "fraSettlementDate = settlementDate.addMonths(3)\n",
    "fraMaturityDate = settlementDate.addMonths(6)\n",
    "fra = FinIborFRA(fraSettlementDate, fraMaturityDate, fraRate, depoDCCType)\n",
    "fras.append(fra)\n",
    "\n",
    "# 4 x 7 FRA\n",
    "fraRate = onRate + 0.0007\n",
    "fraSettlementDate = settlementDate.addMonths(4)\n",
    "fraMaturityDate = settlementDate.addMonths(7)\n",
    "fra = FinIborFRA(fraSettlementDate, fraMaturityDate, fraRate, depoDCCType)\n",
    "fras.append(fra)\n",
    "\n",
    "# 5 x 8 FRA\n",
    "fraRate = onRate + 0.0008\n",
    "fraSettlementDate = settlementDate.addMonths(5)\n",
    "fraMaturityDate = settlementDate.addMonths(8)\n",
    "fra = FinIborFRA(fraSettlementDate, fraMaturityDate, fraRate, depoDCCType)\n",
    "fras.append(fra)\n",
    "\n",
    "swaps = []\n",
    "swapType = FinSwapTypes.PAYER\n",
    "fixedDCCType = FinDayCountTypes.ACT_365F\n",
    "fixedFreqType = FinFrequencyTypes.SEMI_ANNUAL\n",
    "\n",
    "swap = FinIborSwap(settlementDate, \"1Y\", swapType, 0.0470, fixedFreqType, fixedDCCType); swaps.append(swap)\n",
    "swap = FinIborSwap(settlementDate, \"3Y\", swapType, 0.0475, fixedFreqType, fixedDCCType); swaps.append(swap)\n",
    "swap = FinIborSwap(settlementDate, \"5Y\", swapType, 0.0490, fixedFreqType, fixedDCCType); swaps.append(swap)\n",
    "swap = FinIborSwap(settlementDate, \"7Y\", swapType, 0.0510, fixedFreqType, fixedDCCType); swaps.append(swap)\n",
    "swap = FinIborSwap(settlementDate, \"10Y\", swapType, 0.0520, fixedFreqType, fixedDCCType); swaps.append(swap)"
   ]
  },
  {
   "cell_type": "markdown",
   "metadata": {},
   "source": [
    "Let's first build a single curve that assumes index and funding rates are same"
   ]
  },
  {
   "cell_type": "markdown",
   "metadata": {},
   "source": [
    "Note that for ease of comparison I use flat forward interpolation"
   ]
  },
  {
   "cell_type": "code",
   "execution_count": 226,
   "metadata": {},
   "outputs": [],
   "source": [
    "iborSingleCurve = FinIborSingleCurve(settlementDate, depos, fras, swaps, FinInterpTypes.FLAT_FORWARDS)"
   ]
  },
  {
   "cell_type": "markdown",
   "metadata": {},
   "source": [
    "Let's check repricing of FRAs and Swaps"
   ]
  },
  {
   "cell_type": "code",
   "execution_count": 227,
   "metadata": {},
   "outputs": [
    {
     "name": "stdout",
     "output_type": "stream",
     "text": [
      "MON 20 JAN 2020 8.569726199008502e-14\n",
      "THU 20 FEB 2020 3.570706235902959e-15\n",
      "FRI 20 MAR 2020 1.5006369344473434e-15\n",
      "MON 20 APR 2020 -8.834583537919759e-16\n",
      "WED 20 MAY 2020 -1.7668249297206217e-16\n"
     ]
    }
   ],
   "source": [
    "for fra in fras:\n",
    "    v = fra.value(valuationDate, iborSingleCurve)/ fra._notional\n",
    "    print(fra._maturityDate, v)"
   ]
  },
  {
   "cell_type": "code",
   "execution_count": 228,
   "metadata": {},
   "outputs": [
    {
     "name": "stdout",
     "output_type": "stream",
     "text": [
      "MON 21 SEP 2020 4.009052645415067e-15\n",
      "TUE 20 SEP 2022 -1.9936123862862586e-14\n",
      "FRI 20 SEP 2024 -3.0355295166373255e-14\n",
      "MON 21 SEP 2026 -5.349284037947655e-14\n",
      "THU 20 SEP 2029 -1.865497324615717e-12\n"
     ]
    }
   ],
   "source": [
    "for swap in swaps:\n",
    "    v = swap.value(valuationDate, iborSingleCurve)/ swap._notional\n",
    "    print(swap._maturityDate, v)"
   ]
  },
  {
   "cell_type": "markdown",
   "metadata": {},
   "source": [
    "The fit looks perfect"
   ]
  },
  {
   "cell_type": "markdown",
   "metadata": {},
   "source": [
    "## Building the Dual Curve"
   ]
  },
  {
   "cell_type": "markdown",
   "metadata": {},
   "source": [
    "Let's build a dual curve that incorporates funding and index curve differential."
   ]
  },
  {
   "cell_type": "code",
   "execution_count": 229,
   "metadata": {},
   "outputs": [],
   "source": [
    "iborDualCurve = FinIborDualCurve(settlementDate, oisCurve, depos, fras, swaps, FinInterpTypes.FLAT_FORWARDS)"
   ]
  },
  {
   "cell_type": "code",
   "execution_count": 230,
   "metadata": {},
   "outputs": [
    {
     "name": "stdout",
     "output_type": "stream",
     "text": [
      "MON 20 JAN 2020 -9.038526993379982e-16\n",
      "THU 20 FEB 2020 9.80521724237145e-13\n",
      "FRI 20 MAR 2020 8.351811257144023e-13\n",
      "MON 20 APR 2020 9.146440178967443e-13\n",
      "WED 20 MAY 2020 1.0014305096571636e-12\n"
     ]
    }
   ],
   "source": [
    "for fra in fras:\n",
    "    v_dual = fra.value(valuationDate, oisCurve, iborDualCurve) / fra._notional\n",
    "    print(fra._maturityDate, v_dual)"
   ]
  },
  {
   "cell_type": "code",
   "execution_count": 231,
   "metadata": {},
   "outputs": [
    {
     "name": "stdout",
     "output_type": "stream",
     "text": [
      "MON 21 SEP 2020 1.5425030142068863e-15\n",
      "TUE 20 SEP 2022 -1.4551915228366853e-16\n",
      "FRI 20 SEP 2024 1.4551915228366853e-16\n",
      "MON 21 SEP 2026 -5.238689482212067e-16\n",
      "THU 20 SEP 2029 -5.256151780486107e-14\n"
     ]
    }
   ],
   "source": [
    "for swap in swaps:\n",
    "    v_dual = swap.value(valuationDate, oisCurve, iborDualCurve) / swap._notional\n",
    "    print(swap._maturityDate, v_dual)"
   ]
  },
  {
   "cell_type": "markdown",
   "metadata": {},
   "source": [
    "This is within the allowed tolerance."
   ]
  },
  {
   "cell_type": "markdown",
   "metadata": {},
   "source": [
    "## Comparison of Curves"
   ]
  },
  {
   "cell_type": "markdown",
   "metadata": {},
   "source": [
    "We examine the forward rates of the three curves"
   ]
  },
  {
   "cell_type": "code",
   "execution_count": 232,
   "metadata": {},
   "outputs": [
    {
     "data": {
      "image/png": "[encoded data removed]",
      "text/plain": [
       "<Figure size 432x288 with 1 Axes>"
      ]
     },
     "metadata": {
      "needs_background": "light"
     },
     "output_type": "display_data"
    }
   ],
   "source": [
    "years = np.linspace(0, 10, 1201)\n",
    "dates = settlementDate.addYears(years)\n",
    "    \n",
    "singleCurveFwds = iborSingleCurve.fwd(dates)   \n",
    "plt.plot(years, singleCurveFwds*100, label=\"Single Libor Curve\")\n",
    " \n",
    "oisCurveFwds = oisCurve.fwd(dates)    \n",
    "plt.plot(years, oisCurveFwds*100.0, label=\"OIS Curve\")\n",
    "\n",
    "indexCurveFwds = iborDualCurve.fwd(dates)    \n",
    "plt.plot(years, indexCurveFwds*100.0, label=\"Libor Index Curve\")\n",
    "        \n",
    "plt.legend();"
   ]
  },
  {
   "cell_type": "code",
   "execution_count": 233,
   "metadata": {},
   "outputs": [
    {
     "data": {
      "text/plain": [
       "<matplotlib.legend.Legend at 0x27b8e0bf088>"
      ]
     },
     "execution_count": 233,
     "metadata": {},
     "output_type": "execute_result"
    },
    {
     "data": {
      "image/png": "[encoded data removed]",
      "text/plain": [
       "<Figure size 432x288 with 1 Axes>"
      ]
     },
     "metadata": {
      "needs_background": "light"
     },
     "output_type": "display_data"
    }
   ],
   "source": [
    "diff = (indexCurveFwds - singleCurveFwds)*10000\n",
    "plt.plot(years, diff, label=\"Libor funding FWD vs OIS Funding FWD (bps)\")\n",
    "plt.legend()"
   ]
  },
  {
   "cell_type": "markdown",
   "metadata": {},
   "source": [
    "The difference is small but not negligible."
   ]
  },
  {
   "cell_type": "markdown",
   "metadata": {},
   "source": [
    "Copyright (c) Dominic O'Kane 2020"
   ]
  }
 ],
 "metadata": {
  "kernelspec": {
   "display_name": "Python 3",
   "language": "python",
   "name": "python3"
  },
  "language_info": {
   "codemirror_mode": {
    "name": "ipython",
    "version": 3
   },
   "file_extension": ".py",
   "mimetype": "text/x-python",
   "name": "python",
   "nbconvert_exporter": "python",
   "pygments_lexer": "ipython3",
   "version": "3.7.6"
  }
 },
 "nbformat": 4,
 "nbformat_minor": 4
}
