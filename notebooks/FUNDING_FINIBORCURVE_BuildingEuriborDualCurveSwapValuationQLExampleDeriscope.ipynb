{
 "cells": [
  {
   "cell_type": "markdown",
   "metadata": {},
   "source": [
    "# Building a USD Libor Dual Curve and Valuing a Swap"
   ]
  },
  {
   "cell_type": "markdown",
   "metadata": {},
   "source": [
    "We build an OIS curve from OIS swaps that include forward starting OIS using MM dates.\n",
    "\n",
    "This follows example mentioned in the blogpost at https://blog.deriscope.com/index.php/en/excel-interest-rate-swap-price-dual-bootstrapping-curve"
   ]
  },
  {
   "cell_type": "code",
   "execution_count": 1,
   "metadata": {},
   "outputs": [],
   "source": [
    "import numpy as np\n",
    "import matplotlib.pyplot as plt"
   ]
  },
  {
   "cell_type": "code",
   "execution_count": 2,
   "metadata": {},
   "outputs": [
    {
     "name": "stdout",
     "output_type": "stream",
     "text": [
      "####################################################################\n",
      "# FINANCEPY BETA Version 0.185 - This build:  22 Oct 2020 at 22:57 #\n",
      "#      This software is distributed FREE & WITHOUT ANY WARRANTY    #\n",
      "# For info and disclaimer - https://github.com/domokane/FinancePy  #\n",
      "#      Send any bug reports or comments to quant@financepy.com     #\n",
      "####################################################################\n",
      "\n"
     ]
    }
   ],
   "source": [
    "from financepy.finutils import *\n",
    "from financepy.products.funding import *"
   ]
  },
  {
   "cell_type": "code",
   "execution_count": 3,
   "metadata": {},
   "outputs": [],
   "source": [
    "valuationDate = FinDate(30, 11, 2018)"
   ]
  },
  {
   "cell_type": "markdown",
   "metadata": {},
   "source": [
    "## Define IR Swap"
   ]
  },
  {
   "cell_type": "markdown",
   "metadata": {},
   "source": [
    "Define the swap characteristics"
   ]
  },
  {
   "cell_type": "code",
   "execution_count": 4,
   "metadata": {},
   "outputs": [],
   "source": [
    "startDate = FinDate(27, 12, 2017)\n",
    "maturityDate = FinDate(27, 12, 2067)\n",
    "notional = 10 * ONE_MILLION\n",
    "swapType = FinSwapTypes.RECEIVER"
   ]
  },
  {
   "cell_type": "markdown",
   "metadata": {},
   "source": [
    "Set up the fixed leg"
   ]
  },
  {
   "cell_type": "code",
   "execution_count": 5,
   "metadata": {},
   "outputs": [],
   "source": [
    "fixedRate = 0.0150\n",
    "fixedDCCType = FinDayCountTypes.THIRTY_360_BOND\n",
    "fixedFreqType = FinFrequencyTypes.ANNUAL"
   ]
  },
  {
   "cell_type": "markdown",
   "metadata": {},
   "source": [
    "Set up the floating leg"
   ]
  },
  {
   "cell_type": "code",
   "execution_count": 6,
   "metadata": {},
   "outputs": [],
   "source": [
    "floatSpread = 0.0\n",
    "floatDCCType = FinDayCountTypes.ACT_360\n",
    "floatFreqType = FinFrequencyTypes.SEMI_ANNUAL"
   ]
  },
  {
   "cell_type": "code",
   "execution_count": 7,
   "metadata": {},
   "outputs": [],
   "source": [
    "offMarketSwap = FinIborSwap(startDate, maturityDate, swapType, \n",
    "                            fixedRate, fixedFreqType, fixedDCCType,\n",
    "                            notional,\n",
    "                            floatSpread, floatFreqType, floatDCCType)"
   ]
  },
  {
   "cell_type": "code",
   "execution_count": 8,
   "metadata": {},
   "outputs": [],
   "source": [
    "interpType = FinInterpTypes.LINEAR_ZERO_RATES"
   ]
  },
  {
   "cell_type": "markdown",
   "metadata": {},
   "source": [
    "## Build a USD Libor Single Curve"
   ]
  },
  {
   "cell_type": "code",
   "execution_count": 9,
   "metadata": {},
   "outputs": [],
   "source": [
    "depoDCCType = FinDayCountTypes.ACT_360\n",
    "depos = []\n",
    "\n",
    "spotDays = 0\n",
    "settlementDate = valuationDate.addWeekDays(spotDays)\n",
    "depo = FinIborDeposit(settlementDate, \"6M\", -0.2510/100.0, depoDCCType); depos.append(depo)\n",
    "\n",
    "fras = []\n",
    "fraDCCType = FinDayCountTypes.ACT_360\n",
    "\n",
    "fra = FinIborFRA(settlementDate.addTenor(\"1M\"), \"6M\", -0.2450/100.0, fraDCCType); fras.append(fra)\n",
    "fra = FinIborFRA(settlementDate.addTenor(\"2M\"), \"6M\", -0.2435/100.0, fraDCCType); fras.append(fra)\n",
    "fra = FinIborFRA(settlementDate.addTenor(\"3M\"), \"6M\", -0.2400/100.0, fraDCCType); fras.append(fra)\n",
    "fra = FinIborFRA(settlementDate.addTenor(\"4M\"), \"6M\", -0.2360/100.0, fraDCCType); fras.append(fra)\n",
    "fra = FinIborFRA(settlementDate.addTenor(\"5M\"), \"6M\", -0.2285/100.0, fraDCCType); fras.append(fra)\n",
    "fra = FinIborFRA(settlementDate.addTenor(\"6M\"), \"6M\", -0.2230/100.0, fraDCCType); fras.append(fra)\n",
    "fra = FinIborFRA(settlementDate.addTenor(\"7M\"), \"6M\", -0.2110/100.0, fraDCCType); fras.append(fra)\n",
    "fra = FinIborFRA(settlementDate.addTenor(\"8M\"), \"6M\", -0.1990/100.0, fraDCCType); fras.append(fra)\n",
    "fra = FinIborFRA(settlementDate.addTenor(\"9M\"), \"6M\", -0.1850/100.0, fraDCCType); fras.append(fra)\n",
    "fra = FinIborFRA(settlementDate.addTenor(\"10M\"), \"6M\", -0.1680/100.0, fraDCCType); fras.append(fra)\n",
    "fra = FinIborFRA(settlementDate.addTenor(\"11M\"), \"6M\", -0.1510/100.0, fraDCCType); fras.append(fra)\n",
    "fra = FinIborFRA(settlementDate.addTenor(\"12M\"), \"6M\", -0.1360/100.0, fraDCCType); fras.append(fra)\n",
    "\n",
    "swaps = []\n",
    "swapType = FinSwapTypes.PAYER\n",
    "fixedDCCType = FinDayCountTypes.THIRTY_360_BOND\n",
    "fixedFreqType = FinFrequencyTypes.ANNUAL\n",
    "\n",
    "swap = FinIborSwap(settlementDate, \"2Y\", swapType, -0.1525/100.0, fixedFreqType, fixedDCCType); swaps.append(swap)\n",
    "swap = FinIborSwap(settlementDate, \"3Y\", swapType, -0.0185/100.0, fixedFreqType, fixedDCCType); swaps.append(swap)\n",
    "swap = FinIborSwap(settlementDate, \"4Y\", swapType, 0.1315/100.0, fixedFreqType, fixedDCCType); swaps.append(swap)\n",
    "swap = FinIborSwap(settlementDate, \"5Y\", swapType, 0.2745/100.0, fixedFreqType, fixedDCCType); swaps.append(swap)\n",
    "swap = FinIborSwap(settlementDate, \"6Y\", swapType, 0.4135/100.0, fixedFreqType, fixedDCCType); swaps.append(swap)\n",
    "swap = FinIborSwap(settlementDate, \"7Y\", swapType, 0.5439/100.0, fixedFreqType, fixedDCCType); swaps.append(swap)\n",
    "swap = FinIborSwap(settlementDate, \"8Y\", swapType, 0.6652/100.0, fixedFreqType, fixedDCCType); swaps.append(swap)\n",
    "swap = FinIborSwap(settlementDate, \"9Y\", swapType, 0.7784/100.0, fixedFreqType, fixedDCCType); swaps.append(swap)\n",
    "swap = FinIborSwap(settlementDate, \"10Y\", swapType, 0.8799/100.0, fixedFreqType, fixedDCCType); swaps.append(swap)\n",
    "swap = FinIborSwap(settlementDate, \"11Y\", swapType, 0.9715/100.0, fixedFreqType, fixedDCCType); swaps.append(swap)\n",
    "swap = FinIborSwap(settlementDate, \"12Y\", swapType, 1.0517/100.0, fixedFreqType, fixedDCCType); swaps.append(swap)\n",
    "swap = FinIborSwap(settlementDate, \"15Y\", swapType, 1.2369/100.0, fixedFreqType, fixedDCCType); swaps.append(swap)\n",
    "swap = FinIborSwap(settlementDate, \"20Y\", swapType, 1.3965/100.0, fixedFreqType, fixedDCCType); swaps.append(swap)\n",
    "swap = FinIborSwap(settlementDate, \"25Y\", swapType, 1.4472/100.0, fixedFreqType, fixedDCCType); swaps.append(swap)\n",
    "swap = FinIborSwap(settlementDate, \"30Y\", swapType, 1.4585/100.0, fixedFreqType, fixedDCCType); swaps.append(swap)\n",
    "swap = FinIborSwap(settlementDate, \"35Y\", swapType, 1.4595/100.0, fixedFreqType, fixedDCCType); swaps.append(swap)\n",
    "swap = FinIborSwap(settlementDate, \"40Y\", swapType, 1.4535/100.0, fixedFreqType, fixedDCCType); swaps.append(swap)\n",
    "swap = FinIborSwap(settlementDate, \"45Y\", swapType, 1.4410/100.0, fixedFreqType, fixedDCCType); swaps.append(swap)\n",
    "swap = FinIborSwap(settlementDate, \"50Y\", swapType, 1.4335/100.0, fixedFreqType, fixedDCCType); swaps.append(swap)\n",
    "\n",
    "iborDepos = depos.copy()\n",
    "iborFras = fras.copy()\n",
    "iborSwaps = swaps.copy()"
   ]
  },
  {
   "cell_type": "code",
   "execution_count": 10,
   "metadata": {},
   "outputs": [],
   "source": [
    "iborCurve = FinIborSingleCurve(settlementDate, iborDepos, iborFras, iborSwaps, interpType)"
   ]
  },
  {
   "cell_type": "markdown",
   "metadata": {},
   "source": [
    "## Swap Valuation"
   ]
  },
  {
   "cell_type": "code",
   "execution_count": 11,
   "metadata": {},
   "outputs": [],
   "source": [
    "vBloomberg = 388147"
   ]
  },
  {
   "cell_type": "code",
   "execution_count": 12,
   "metadata": {},
   "outputs": [],
   "source": [
    "v1 = offMarketSwap.value(valuationDate, iborCurve, iborCurve, -0.268/100.0)"
   ]
  },
  {
   "cell_type": "code",
   "execution_count": 13,
   "metadata": {},
   "outputs": [
    {
     "name": "stdout",
     "output_type": "stream",
     "text": [
      "Single Curve Value: 381271.41  BBG Value:388147.00\n"
     ]
    }
   ],
   "source": [
    "print(\"Single Curve Value: %9.2f  BBG Value:%9.2f\"% (v1, vBloomberg))"
   ]
  },
  {
   "cell_type": "code",
   "execution_count": 14,
   "metadata": {},
   "outputs": [
    {
     "name": "stdout",
     "output_type": "stream",
     "text": [
      "Error in bps: -6.875594\n"
     ]
    }
   ],
   "source": [
    "print(\"Error in bps: %9.6f\"% ((v1-vBloomberg)/notional*10000))"
   ]
  },
  {
   "cell_type": "markdown",
   "metadata": {},
   "source": [
    "In Bloomberg, this swap has a value of 388,147.49 - why the difference - BBG uses a Dual Curve."
   ]
  },
  {
   "cell_type": "markdown",
   "metadata": {},
   "source": [
    "## Building the Discounting OIS Curve"
   ]
  },
  {
   "cell_type": "markdown",
   "metadata": {},
   "source": [
    "We construct the OIS curve from a series of swaps, some forward starting. The default assumption on the floating leg is annual payments."
   ]
  },
  {
   "cell_type": "code",
   "execution_count": 15,
   "metadata": {},
   "outputs": [],
   "source": [
    "depoDCCType = FinDayCountTypes.ACT_360\n",
    "depos = []\n",
    "\n",
    "spotDays = 0\n",
    "settlementDate = valuationDate.addWeekDays(spotDays)\n",
    "depo = FinIborDeposit(settlementDate, \"1D\", -0.3490/100.0, depoDCCType); depos.append(depo)\n",
    "\n",
    "fras = []\n",
    "\n",
    "swaps = []\n",
    "swapType = FinSwapTypes.PAYER\n",
    "fixedDCCType = FinDayCountTypes.ACT_365F\n",
    "fixedFreqType = FinFrequencyTypes.ANNUAL\n",
    "\n",
    "# Standard OIS with standard annual terms\n",
    "swap = FinOIS(settlementDate, \"2W\", swapType, -0.3600/100.0, fixedFreqType, fixedDCCType); swaps.append(swap)\n",
    "swap = FinOIS(settlementDate, \"1M\", swapType, -0.3560/100.0, fixedFreqType, fixedDCCType); swaps.append(swap)\n",
    "swap = FinOIS(settlementDate, \"2M\", swapType, -0.3570/100.0, fixedFreqType, fixedDCCType); swaps.append(swap)\n",
    "swap = FinOIS(settlementDate, \"3M\", swapType, -0.3580/100.0, fixedFreqType, fixedDCCType); swaps.append(swap)\n",
    "swap = FinOIS(settlementDate, \"4M\", swapType, -0.3575/100.0, fixedFreqType, fixedDCCType); swaps.append(swap)\n",
    "swap = FinOIS(settlementDate, \"5M\", swapType, -0.3578/100.0, fixedFreqType, fixedDCCType); swaps.append(swap)\n",
    "swap = FinOIS(settlementDate, \"6M\", swapType, -0.3580/100.0, fixedFreqType, fixedDCCType); swaps.append(swap)\n",
    "swap = FinOIS(settlementDate, \"7M\", swapType, -0.3600/100.0, fixedFreqType, fixedDCCType); swaps.append(swap)\n",
    "swap = FinOIS(settlementDate, \"8M\", swapType, -0.3575/100.0, fixedFreqType, fixedDCCType); swaps.append(swap)\n",
    "swap = FinOIS(settlementDate, \"9M\", swapType, -0.3569/100.0, fixedFreqType, fixedDCCType); swaps.append(swap)\n",
    "swap = FinOIS(settlementDate, \"10M\", swapType, -0.3553/100.0, fixedFreqType, fixedDCCType); swaps.append(swap)\n",
    "swap = FinOIS(settlementDate, \"11M\", swapType, -0.3534/100.0, fixedFreqType, fixedDCCType); swaps.append(swap)\n",
    "swap = FinOIS(settlementDate, \"12M\", swapType, -0.3496/100.0, fixedFreqType, fixedDCCType); swaps.append(swap)\n",
    "swap = FinOIS(settlementDate, \"18M\", swapType, -0.3173/100.0, fixedFreqType, fixedDCCType); swaps.append(swap)\n",
    "\n",
    "swap = FinOIS(settlementDate, \"2Y\", swapType, -0.2671/100.0, fixedFreqType, fixedDCCType); swaps.append(swap)\n",
    "swap = FinOIS(settlementDate, \"30M\", swapType, -0.2070/100.0, fixedFreqType, fixedDCCType); swaps.append(swap)\n",
    "swap = FinOIS(settlementDate, \"3Y\", swapType, -0.1410/100.0, fixedFreqType, fixedDCCType); swaps.append(swap)\n",
    "swap = FinOIS(settlementDate, \"4Y\", swapType, -0.0060/100.0, fixedFreqType, fixedDCCType); swaps.append(swap)\n",
    "swap = FinOIS(settlementDate, \"5Y\", swapType, 0.1285/100.0, fixedFreqType, fixedDCCType); swaps.append(swap)\n",
    "swap = FinOIS(settlementDate, \"6Y\", swapType, 0.2590/100.0, fixedFreqType, fixedDCCType); swaps.append(swap)\n",
    "swap = FinOIS(settlementDate, \"7Y\", swapType, 0.3830/100.0, fixedFreqType, fixedDCCType); swaps.append(swap)\n",
    "swap = FinOIS(settlementDate, \"8Y\", swapType, 0.5020/100.0, fixedFreqType, fixedDCCType); swaps.append(swap)\n",
    "swap = FinOIS(settlementDate, \"9Y\", swapType, 0.6140/100.0, fixedFreqType, fixedDCCType); swaps.append(swap)\n",
    "swap = FinOIS(settlementDate, \"10Y\", swapType, 0.7160/100.0, fixedFreqType, fixedDCCType); swaps.append(swap)\n",
    "swap = FinOIS(settlementDate, \"11Y\", swapType, 0.8070/100.0, fixedFreqType, fixedDCCType); swaps.append(swap)\n",
    "swap = FinOIS(settlementDate, \"12Y\", swapType, 0.8890/100.0, fixedFreqType, fixedDCCType); swaps.append(swap)\n",
    "swap = FinOIS(settlementDate, \"15Y\", swapType, 1.0790/100.0, fixedFreqType, fixedDCCType); swaps.append(swap)\n",
    "swap = FinOIS(settlementDate, \"20Y\", swapType, 1.2460/100.0, fixedFreqType, fixedDCCType); swaps.append(swap)\n",
    "swap = FinOIS(settlementDate, \"25Y\", swapType, 1.3055/100.0, fixedFreqType, fixedDCCType); swaps.append(swap)\n",
    "swap = FinOIS(settlementDate, \"30Y\", swapType, 1.3270/100.0, fixedFreqType, fixedDCCType); swaps.append(swap)\n",
    "swap = FinOIS(settlementDate, \"35Y\", swapType, 1.3315/100.0, fixedFreqType, fixedDCCType); swaps.append(swap)\n",
    "swap = FinOIS(settlementDate, \"40Y\", swapType, 1.3300/100.0, fixedFreqType, fixedDCCType); swaps.append(swap)\n",
    "swap = FinOIS(settlementDate, \"50Y\", swapType, 1.3270/100.0, fixedFreqType, fixedDCCType); swaps.append(swap)\n",
    "\n",
    "oisDepos = depos.copy()\n",
    "oisFras = fras.copy()\n",
    "oisSwaps = swaps.copy()"
   ]
  },
  {
   "cell_type": "code",
   "execution_count": 16,
   "metadata": {},
   "outputs": [],
   "source": [
    "oisCurve = FinOISCurve(valuationDate, oisDepos, oisFras, oisSwaps, interpType)"
   ]
  },
  {
   "cell_type": "markdown",
   "metadata": {},
   "source": [
    "## Building the Dual Curve"
   ]
  },
  {
   "cell_type": "code",
   "execution_count": 17,
   "metadata": {},
   "outputs": [],
   "source": [
    "iborSingleCurve = FinIborSingleCurve(settlementDate, iborDepos, iborFras, iborSwaps, interpType)"
   ]
  },
  {
   "cell_type": "code",
   "execution_count": 19,
   "metadata": {},
   "outputs": [],
   "source": [
    "iborDualCurve = FinIborDualCurve(settlementDate, oisCurve, iborDepos, iborFras, iborSwaps, interpType)"
   ]
  },
  {
   "cell_type": "markdown",
   "metadata": {},
   "source": [
    "Let's look at the short end"
   ]
  },
  {
   "cell_type": "code",
   "execution_count": 20,
   "metadata": {},
   "outputs": [],
   "source": [
    "v2 = offMarketSwap.value(valuationDate, oisCurve, iborDualCurve, -0.268/100.0)"
   ]
  },
  {
   "cell_type": "code",
   "execution_count": 21,
   "metadata": {},
   "outputs": [
    {
     "name": "stdout",
     "output_type": "stream",
     "text": [
      "Two Curve Value: 387290.77  BBG Value:388147.00\n"
     ]
    }
   ],
   "source": [
    "print(\"Two Curve Value: %9.2f  BBG Value:%9.2f\"% (v2, vBloomberg))"
   ]
  },
  {
   "cell_type": "code",
   "execution_count": 22,
   "metadata": {},
   "outputs": [
    {
     "name": "stdout",
     "output_type": "stream",
     "text": [
      "Error in bps: -0.856229\n"
     ]
    }
   ],
   "source": [
    "print(\"Error in bps: %9.6f\"% ((v2-vBloomberg)/notional*10000))"
   ]
  },
  {
   "cell_type": "markdown",
   "metadata": {},
   "source": [
    "## Single vs Dual Curve"
   ]
  },
  {
   "cell_type": "code",
   "execution_count": 23,
   "metadata": {},
   "outputs": [
    {
     "data": {
      "image/png": "[encoded data removed]",
      "text/plain": [
       "<Figure size 864x432 with 1 Axes>"
      ]
     },
     "metadata": {
      "needs_background": "light"
     },
     "output_type": "display_data"
    }
   ],
   "source": [
    "years = np.linspace(9, 24, 100)\n",
    "dates = valuationDate.addYears(years)\n",
    "\n",
    "iborSingleCurveFwds = iborSingleCurve.fwdRate(dates, \"6M\")    \n",
    "iborDualCurveFwds = iborDualCurve.fwdRate(dates, \"6M\")\n",
    "\n",
    "plt.figure(figsize=(12,6))\n",
    "plt.plot(years, iborSingleCurveFwds*100.0, label=\"Euribor Single Curve\")\n",
    "plt.plot(years, iborDualCurveFwds*100.0, label=\"Euribor Dual Curve\")\n",
    "plt.xlabel(\"Years\")\n",
    "plt.ylabel(\"Forward Rate (%)\")\n",
    "plt.legend();"
   ]
  },
  {
   "cell_type": "markdown",
   "metadata": {},
   "source": [
    "I calculate the difference between the two curves."
   ]
  },
  {
   "cell_type": "code",
   "execution_count": 24,
   "metadata": {},
   "outputs": [
    {
     "data": {
      "image/png": "[encoded data removed]",
      "text/plain": [
       "<Figure size 864x432 with 1 Axes>"
      ]
     },
     "metadata": {
      "needs_background": "light"
     },
     "output_type": "display_data"
    }
   ],
   "source": [
    "dayMax = 50*360\n",
    "years = np.linspace(0, dayMax/365, dayMax)\n",
    "dates = valuationDate.addYears(years)\n",
    "\n",
    "liborSingleCurveFwds = iborSingleCurve.fwd(dates)    \n",
    "liborDualCurveFwds = iborDualCurve.fwd(dates)\n",
    "\n",
    "diff = liborSingleCurveFwds - liborDualCurveFwds\n",
    "\n",
    "plt.figure(figsize=(12,6))\n",
    "plt.plot(years, diff*10000.0, label=\"EONIA Dual - Single Curve Fwds\")\n",
    "plt.xlabel(\"Years\")\n",
    "plt.ylabel(\"Forward Rate Difference (bp)\")\n",
    "plt.legend();"
   ]
  },
  {
   "cell_type": "markdown",
   "metadata": {},
   "source": [
    "Copyright (c) Dominic O'Kane 2020"
   ]
  }
 ],
 "metadata": {
  "kernelspec": {
   "display_name": "Python 3",
   "language": "python",
   "name": "python3"
  },
  "language_info": {
   "codemirror_mode": {
    "name": "ipython",
    "version": 3
   },
   "file_extension": ".py",
   "mimetype": "text/x-python",
   "name": "python",
   "nbconvert_exporter": "python",
   "pygments_lexer": "ipython3",
   "version": "3.7.6"
  }
 },
 "nbformat": 4,
 "nbformat_minor": 4
}
